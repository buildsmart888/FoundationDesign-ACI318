{
 "cells": [
  {
   "attachments": {},
   "cell_type": "markdown",
   "metadata": {},
   "source": [
    "## Combined footing analysis and design in accordance to Eurocode 2"
   ]
  },
  {
   "attachments": {},
   "cell_type": "markdown",
   "metadata": {},
   "source": [
    "### This example is contained in Reinforced concrete design to eurocodes 2 BY Bill Mosley,John Bungey,Ray Hulse page 304"
   ]
  },
  {
   "attachments": {},
   "cell_type": "markdown",
   "metadata": {},
   "source": [
    "### Problem Statement"
   ]
  },
  {
   "attachments": {},
   "cell_type": "markdown",
   "metadata": {},
   "source": [
    "![title](https://github.com/kunle009/FoundationDesign/blob/main/assets/Mosley%20bungey%20example%20combined%20footing.png?raw=true)"
   ]
  },
  {
   "attachments": {},
   "cell_type": "markdown",
   "metadata": {},
   "source": [
    "We start by importing the CombinedFootingAnalysis class from the FoundationDesign module"
   ]
  },
  {
   "cell_type": "code",
   "execution_count": 1,
   "metadata": {},
   "outputs": [],
   "source": [
    "from FoundationDesign import CombinedFootingAnalysis, CombinedFootingDesign"
   ]
  },
  {
   "cell_type": "code",
   "execution_count": 2,
   "metadata": {},
   "outputs": [],
   "source": [
    "# Create the combined footing foundation object\n",
    "# For now we create a combined footing analysis object using a default foundation length and foundation width\n",
    "# which will be updated when we are sure about the minimum area required for the foundation.\n",
    "comb_footing = CombinedFootingAnalysis(\n",
    "    foundation_length=4600,\n",
    "    foundation_width=2300,\n",
    "    soil_bearing_capacity=300,\n",
    "    spacing_btwn_columns=3000,\n",
    ")"
   ]
  },
  {
   "attachments": {},
   "cell_type": "markdown",
   "metadata": {},
   "source": [
    "#### Update the column geometry including the column dimensions and positions"
   ]
  },
  {
   "cell_type": "code",
   "execution_count": 3,
   "metadata": {},
   "outputs": [],
   "source": [
    "# Column 1 dimension is 300mm by 300mmm\n",
    "# Column 1 is 300m from the edge of the base along x direction\n",
    "# Column 1 is 725mm from the edge of the base along y direction\n",
    "comb_footing.update_column_1_geometry(\n",
    "    column_length=300, column_width=300, col_pos_xdir=540, col_pos_ydir=1145\n",
    ")"
   ]
  },
  {
   "cell_type": "code",
   "execution_count": 4,
   "metadata": {},
   "outputs": [],
   "source": [
    "# Column 2 dimension is 300mm by 300mmm\n",
    "# Column 2 is 3300m from the edge of the base along x direction\n",
    "# Column 2 is 725mm from the edge of the base along y direction\n",
    "comb_footing.update_column_2_geometry(\n",
    "    column_length=400, column_width=400, col_pos_xdir=3540, col_pos_ydir=1145\n",
    ")"
   ]
  },
  {
   "attachments": {},
   "cell_type": "markdown",
   "metadata": {},
   "source": [
    "#### Assign column loads"
   ]
  },
  {
   "cell_type": "code",
   "execution_count": 5,
   "metadata": {},
   "outputs": [
    {
     "data": {
      "text/plain": [
       "[0.0, 0.0]"
      ]
     },
     "execution_count": 5,
     "metadata": {},
     "output_type": "execute_result"
    }
   ],
   "source": [
    "# Updating column 1 loads\n",
    "comb_footing.update_column_1_axial_loads(\n",
    "    permanent_axial_load=1000, imposed_axial_load=200\n",
    ")\n",
    "# Updating column 2 loads\n",
    "comb_footing.update_column_2_axial_loads(\n",
    "    permanent_axial_load=1400, imposed_axial_load=300\n",
    ")\n",
    "# Update foundation loads\n",
    "comb_footing.foundation_loads(\n",
    "    foundation_thickness=850,\n",
    "    soil_depth_abv_foundation=0,\n",
    "    soil_unit_weight=18,\n",
    "    concrete_unit_weight=24,\n",
    "    consider_self_weight=False\n",
    ")"
   ]
  },
  {
   "attachments": {},
   "cell_type": "markdown",
   "metadata": {},
   "source": [
    "#### Check Minimum area required"
   ]
  },
  {
   "cell_type": "code",
   "execution_count": 6,
   "metadata": {},
   "outputs": [
    {
     "name": "stdout",
     "output_type": "stream",
     "text": [
      "The minimum area of foundation required is 9.667m²\n"
     ]
    }
   ],
   "source": [
    "min_area = comb_footing.minimum_area_required()\n",
    "print(f\"The minimum area of foundation required is {min_area}m\\u00b2\")"
   ]
  },
  {
   "cell_type": "code",
   "execution_count": 7,
   "metadata": {},
   "outputs": [
    {
     "name": "stdout",
     "output_type": "stream",
     "text": [
      "Column 1 should be placed at 0.54m and column 2 should be placed at 3.54m along x direction\n",
      "    while the two columns should be placed at 1.145m along y axis\n"
     ]
    }
   ],
   "source": [
    "# Since the minimum area is 9.667m2 the\n",
    "# The length of the foundation can be updated to fulfill this area\n",
    "# with a new length of 4.6m and width of 2.3m\n",
    "# Check optimized foundation layout this shows us the best position for the combined footing\n",
    "# in order to achieve reduced based pressure\n",
    "# at this locations the centre of the foundation will coincide with the centre of the loads\n",
    "z = comb_footing.foundation_geometry_optimizer()\n",
    "# This would tell us the best position for the columns along the foundation geometry\n",
    "print(\n",
    "    f\"Column 1 should be placed at {z[0]}m and column 2 should be placed at {z[1]}m along x direction\\n\\\n",
    "    while the two columns should be placed at {z[2]}m along y axis\"\n",
    ")\n",
    "# After this suggestions the position of the columns should be updated in the column_1_geometry method"
   ]
  },
  {
   "cell_type": "code",
   "execution_count": 8,
   "metadata": {},
   "outputs": [
    {
     "data": {
      "application/vnd.plotly.v1+json": {
       "config": {
        "plotlyServerURL": "https://plot.ly"
       },
       "data": [
        {
         "line": {
          "color": "red",
          "width": 3
         },
         "mode": "lines",
         "name": "FOOTING",
         "type": "scatter",
         "x": [
          0,
          4.6,
          4.6,
          0,
          0
         ],
         "y": [
          0,
          0,
          2.3,
          2.3,
          0
         ]
        },
        {
         "line": {
          "color": "purple",
          "width": 2
         },
         "mode": "lines",
         "name": "COLUMN 1",
         "type": "scatter",
         "x": [
          0.39,
          0.6900000000000001,
          0.6900000000000001,
          0.39,
          0.39
         ],
         "y": [
          0.995,
          0.995,
          1.295,
          1.295,
          0.995
         ]
        },
        {
         "line": {
          "color": "black",
          "width": 2
         },
         "mode": "lines",
         "name": "COLUMN 2",
         "type": "scatter",
         "x": [
          3.34,
          3.74,
          3.74,
          3.34,
          3.34
         ],
         "y": [
          0.9450000000000001,
          0.9450000000000001,
          1.345,
          1.345,
          0.9450000000000001
         ]
        }
       ],
       "layout": {
        "height": 500,
        "showlegend": true,
        "template": {
         "data": {
          "bar": [
           {
            "error_x": {
             "color": "#2a3f5f"
            },
            "error_y": {
             "color": "#2a3f5f"
            },
            "marker": {
             "line": {
              "color": "#E5ECF6",
              "width": 0.5
             },
             "pattern": {
              "fillmode": "overlay",
              "size": 10,
              "solidity": 0.2
             }
            },
            "type": "bar"
           }
          ],
          "barpolar": [
           {
            "marker": {
             "line": {
              "color": "#E5ECF6",
              "width": 0.5
             },
             "pattern": {
              "fillmode": "overlay",
              "size": 10,
              "solidity": 0.2
             }
            },
            "type": "barpolar"
           }
          ],
          "carpet": [
           {
            "aaxis": {
             "endlinecolor": "#2a3f5f",
             "gridcolor": "white",
             "linecolor": "white",
             "minorgridcolor": "white",
             "startlinecolor": "#2a3f5f"
            },
            "baxis": {
             "endlinecolor": "#2a3f5f",
             "gridcolor": "white",
             "linecolor": "white",
             "minorgridcolor": "white",
             "startlinecolor": "#2a3f5f"
            },
            "type": "carpet"
           }
          ],
          "choropleth": [
           {
            "colorbar": {
             "outlinewidth": 0,
             "ticks": ""
            },
            "type": "choropleth"
           }
          ],
          "contour": [
           {
            "colorbar": {
             "outlinewidth": 0,
             "ticks": ""
            },
            "colorscale": [
             [
              0,
              "#0d0887"
             ],
             [
              0.1111111111111111,
              "#46039f"
             ],
             [
              0.2222222222222222,
              "#7201a8"
             ],
             [
              0.3333333333333333,
              "#9c179e"
             ],
             [
              0.4444444444444444,
              "#bd3786"
             ],
             [
              0.5555555555555556,
              "#d8576b"
             ],
             [
              0.6666666666666666,
              "#ed7953"
             ],
             [
              0.7777777777777778,
              "#fb9f3a"
             ],
             [
              0.8888888888888888,
              "#fdca26"
             ],
             [
              1,
              "#f0f921"
             ]
            ],
            "type": "contour"
           }
          ],
          "contourcarpet": [
           {
            "colorbar": {
             "outlinewidth": 0,
             "ticks": ""
            },
            "type": "contourcarpet"
           }
          ],
          "heatmap": [
           {
            "colorbar": {
             "outlinewidth": 0,
             "ticks": ""
            },
            "colorscale": [
             [
              0,
              "#0d0887"
             ],
             [
              0.1111111111111111,
              "#46039f"
             ],
             [
              0.2222222222222222,
              "#7201a8"
             ],
             [
              0.3333333333333333,
              "#9c179e"
             ],
             [
              0.4444444444444444,
              "#bd3786"
             ],
             [
              0.5555555555555556,
              "#d8576b"
             ],
             [
              0.6666666666666666,
              "#ed7953"
             ],
             [
              0.7777777777777778,
              "#fb9f3a"
             ],
             [
              0.8888888888888888,
              "#fdca26"
             ],
             [
              1,
              "#f0f921"
             ]
            ],
            "type": "heatmap"
           }
          ],
          "heatmapgl": [
           {
            "colorbar": {
             "outlinewidth": 0,
             "ticks": ""
            },
            "colorscale": [
             [
              0,
              "#0d0887"
             ],
             [
              0.1111111111111111,
              "#46039f"
             ],
             [
              0.2222222222222222,
              "#7201a8"
             ],
             [
              0.3333333333333333,
              "#9c179e"
             ],
             [
              0.4444444444444444,
              "#bd3786"
             ],
             [
              0.5555555555555556,
              "#d8576b"
             ],
             [
              0.6666666666666666,
              "#ed7953"
             ],
             [
              0.7777777777777778,
              "#fb9f3a"
             ],
             [
              0.8888888888888888,
              "#fdca26"
             ],
             [
              1,
              "#f0f921"
             ]
            ],
            "type": "heatmapgl"
           }
          ],
          "histogram": [
           {
            "marker": {
             "pattern": {
              "fillmode": "overlay",
              "size": 10,
              "solidity": 0.2
             }
            },
            "type": "histogram"
           }
          ],
          "histogram2d": [
           {
            "colorbar": {
             "outlinewidth": 0,
             "ticks": ""
            },
            "colorscale": [
             [
              0,
              "#0d0887"
             ],
             [
              0.1111111111111111,
              "#46039f"
             ],
             [
              0.2222222222222222,
              "#7201a8"
             ],
             [
              0.3333333333333333,
              "#9c179e"
             ],
             [
              0.4444444444444444,
              "#bd3786"
             ],
             [
              0.5555555555555556,
              "#d8576b"
             ],
             [
              0.6666666666666666,
              "#ed7953"
             ],
             [
              0.7777777777777778,
              "#fb9f3a"
             ],
             [
              0.8888888888888888,
              "#fdca26"
             ],
             [
              1,
              "#f0f921"
             ]
            ],
            "type": "histogram2d"
           }
          ],
          "histogram2dcontour": [
           {
            "colorbar": {
             "outlinewidth": 0,
             "ticks": ""
            },
            "colorscale": [
             [
              0,
              "#0d0887"
             ],
             [
              0.1111111111111111,
              "#46039f"
             ],
             [
              0.2222222222222222,
              "#7201a8"
             ],
             [
              0.3333333333333333,
              "#9c179e"
             ],
             [
              0.4444444444444444,
              "#bd3786"
             ],
             [
              0.5555555555555556,
              "#d8576b"
             ],
             [
              0.6666666666666666,
              "#ed7953"
             ],
             [
              0.7777777777777778,
              "#fb9f3a"
             ],
             [
              0.8888888888888888,
              "#fdca26"
             ],
             [
              1,
              "#f0f921"
             ]
            ],
            "type": "histogram2dcontour"
           }
          ],
          "mesh3d": [
           {
            "colorbar": {
             "outlinewidth": 0,
             "ticks": ""
            },
            "type": "mesh3d"
           }
          ],
          "parcoords": [
           {
            "line": {
             "colorbar": {
              "outlinewidth": 0,
              "ticks": ""
             }
            },
            "type": "parcoords"
           }
          ],
          "pie": [
           {
            "automargin": true,
            "type": "pie"
           }
          ],
          "scatter": [
           {
            "fillpattern": {
             "fillmode": "overlay",
             "size": 10,
             "solidity": 0.2
            },
            "type": "scatter"
           }
          ],
          "scatter3d": [
           {
            "line": {
             "colorbar": {
              "outlinewidth": 0,
              "ticks": ""
             }
            },
            "marker": {
             "colorbar": {
              "outlinewidth": 0,
              "ticks": ""
             }
            },
            "type": "scatter3d"
           }
          ],
          "scattercarpet": [
           {
            "marker": {
             "colorbar": {
              "outlinewidth": 0,
              "ticks": ""
             }
            },
            "type": "scattercarpet"
           }
          ],
          "scattergeo": [
           {
            "marker": {
             "colorbar": {
              "outlinewidth": 0,
              "ticks": ""
             }
            },
            "type": "scattergeo"
           }
          ],
          "scattergl": [
           {
            "marker": {
             "colorbar": {
              "outlinewidth": 0,
              "ticks": ""
             }
            },
            "type": "scattergl"
           }
          ],
          "scattermapbox": [
           {
            "marker": {
             "colorbar": {
              "outlinewidth": 0,
              "ticks": ""
             }
            },
            "type": "scattermapbox"
           }
          ],
          "scatterpolar": [
           {
            "marker": {
             "colorbar": {
              "outlinewidth": 0,
              "ticks": ""
             }
            },
            "type": "scatterpolar"
           }
          ],
          "scatterpolargl": [
           {
            "marker": {
             "colorbar": {
              "outlinewidth": 0,
              "ticks": ""
             }
            },
            "type": "scatterpolargl"
           }
          ],
          "scatterternary": [
           {
            "marker": {
             "colorbar": {
              "outlinewidth": 0,
              "ticks": ""
             }
            },
            "type": "scatterternary"
           }
          ],
          "surface": [
           {
            "colorbar": {
             "outlinewidth": 0,
             "ticks": ""
            },
            "colorscale": [
             [
              0,
              "#0d0887"
             ],
             [
              0.1111111111111111,
              "#46039f"
             ],
             [
              0.2222222222222222,
              "#7201a8"
             ],
             [
              0.3333333333333333,
              "#9c179e"
             ],
             [
              0.4444444444444444,
              "#bd3786"
             ],
             [
              0.5555555555555556,
              "#d8576b"
             ],
             [
              0.6666666666666666,
              "#ed7953"
             ],
             [
              0.7777777777777778,
              "#fb9f3a"
             ],
             [
              0.8888888888888888,
              "#fdca26"
             ],
             [
              1,
              "#f0f921"
             ]
            ],
            "type": "surface"
           }
          ],
          "table": [
           {
            "cells": {
             "fill": {
              "color": "#EBF0F8"
             },
             "line": {
              "color": "white"
             }
            },
            "header": {
             "fill": {
              "color": "#C8D4E3"
             },
             "line": {
              "color": "white"
             }
            },
            "type": "table"
           }
          ]
         },
         "layout": {
          "annotationdefaults": {
           "arrowcolor": "#2a3f5f",
           "arrowhead": 0,
           "arrowwidth": 1
          },
          "autotypenumbers": "strict",
          "coloraxis": {
           "colorbar": {
            "outlinewidth": 0,
            "ticks": ""
           }
          },
          "colorscale": {
           "diverging": [
            [
             0,
             "#8e0152"
            ],
            [
             0.1,
             "#c51b7d"
            ],
            [
             0.2,
             "#de77ae"
            ],
            [
             0.3,
             "#f1b6da"
            ],
            [
             0.4,
             "#fde0ef"
            ],
            [
             0.5,
             "#f7f7f7"
            ],
            [
             0.6,
             "#e6f5d0"
            ],
            [
             0.7,
             "#b8e186"
            ],
            [
             0.8,
             "#7fbc41"
            ],
            [
             0.9,
             "#4d9221"
            ],
            [
             1,
             "#276419"
            ]
           ],
           "sequential": [
            [
             0,
             "#0d0887"
            ],
            [
             0.1111111111111111,
             "#46039f"
            ],
            [
             0.2222222222222222,
             "#7201a8"
            ],
            [
             0.3333333333333333,
             "#9c179e"
            ],
            [
             0.4444444444444444,
             "#bd3786"
            ],
            [
             0.5555555555555556,
             "#d8576b"
            ],
            [
             0.6666666666666666,
             "#ed7953"
            ],
            [
             0.7777777777777778,
             "#fb9f3a"
            ],
            [
             0.8888888888888888,
             "#fdca26"
            ],
            [
             1,
             "#f0f921"
            ]
           ],
           "sequentialminus": [
            [
             0,
             "#0d0887"
            ],
            [
             0.1111111111111111,
             "#46039f"
            ],
            [
             0.2222222222222222,
             "#7201a8"
            ],
            [
             0.3333333333333333,
             "#9c179e"
            ],
            [
             0.4444444444444444,
             "#bd3786"
            ],
            [
             0.5555555555555556,
             "#d8576b"
            ],
            [
             0.6666666666666666,
             "#ed7953"
            ],
            [
             0.7777777777777778,
             "#fb9f3a"
            ],
            [
             0.8888888888888888,
             "#fdca26"
            ],
            [
             1,
             "#f0f921"
            ]
           ]
          },
          "colorway": [
           "#636efa",
           "#EF553B",
           "#00cc96",
           "#ab63fa",
           "#FFA15A",
           "#19d3f3",
           "#FF6692",
           "#B6E880",
           "#FF97FF",
           "#FECB52"
          ],
          "font": {
           "color": "#2a3f5f"
          },
          "geo": {
           "bgcolor": "white",
           "lakecolor": "white",
           "landcolor": "#E5ECF6",
           "showlakes": true,
           "showland": true,
           "subunitcolor": "white"
          },
          "hoverlabel": {
           "align": "left"
          },
          "hovermode": "closest",
          "mapbox": {
           "style": "light"
          },
          "paper_bgcolor": "white",
          "plot_bgcolor": "#E5ECF6",
          "polar": {
           "angularaxis": {
            "gridcolor": "white",
            "linecolor": "white",
            "ticks": ""
           },
           "bgcolor": "#E5ECF6",
           "radialaxis": {
            "gridcolor": "white",
            "linecolor": "white",
            "ticks": ""
           }
          },
          "scene": {
           "xaxis": {
            "backgroundcolor": "#E5ECF6",
            "gridcolor": "white",
            "gridwidth": 2,
            "linecolor": "white",
            "showbackground": true,
            "ticks": "",
            "zerolinecolor": "white"
           },
           "yaxis": {
            "backgroundcolor": "#E5ECF6",
            "gridcolor": "white",
            "gridwidth": 2,
            "linecolor": "white",
            "showbackground": true,
            "ticks": "",
            "zerolinecolor": "white"
           },
           "zaxis": {
            "backgroundcolor": "#E5ECF6",
            "gridcolor": "white",
            "gridwidth": 2,
            "linecolor": "white",
            "showbackground": true,
            "ticks": "",
            "zerolinecolor": "white"
           }
          },
          "shapedefaults": {
           "line": {
            "color": "#2a3f5f"
           }
          },
          "ternary": {
           "aaxis": {
            "gridcolor": "white",
            "linecolor": "white",
            "ticks": ""
           },
           "baxis": {
            "gridcolor": "white",
            "linecolor": "white",
            "ticks": ""
           },
           "bgcolor": "#E5ECF6",
           "caxis": {
            "gridcolor": "white",
            "linecolor": "white",
            "ticks": ""
           }
          },
          "title": {
           "x": 0.05
          },
          "xaxis": {
           "automargin": true,
           "gridcolor": "white",
           "linecolor": "white",
           "ticks": "",
           "title": {
            "standoff": 15
           },
           "zerolinecolor": "white",
           "zerolinewidth": 2
          },
          "yaxis": {
           "automargin": true,
           "gridcolor": "white",
           "linecolor": "white",
           "ticks": "",
           "title": {
            "standoff": 15
           },
           "zerolinecolor": "white",
           "zerolinewidth": 2
          }
         }
        },
        "title": {
         "text": "FOOTING PLAN"
        },
        "width": 500
       }
      }
     },
     "metadata": {},
     "output_type": "display_data"
    }
   ],
   "source": [
    "# show plots\n",
    "comb_footing.plot_geometry()"
   ]
  },
  {
   "attachments": {},
   "cell_type": "markdown",
   "metadata": {},
   "source": [
    "#### Check the base pressure at the foundation four corners"
   ]
  },
  {
   "cell_type": "code",
   "execution_count": 9,
   "metadata": {},
   "outputs": [
    {
     "name": "stdout",
     "output_type": "stream",
     "text": [
      "(278.035, 270.884, 277.32, 270.169)\n"
     ]
    }
   ],
   "source": [
    "# Check the base pressure at all corners\n",
    "pres = comb_footing.pad_base_pressures_sls()\n",
    "print(pres)"
   ]
  },
  {
   "cell_type": "code",
   "execution_count": 10,
   "metadata": {},
   "outputs": [
    {
     "name": "stdout",
     "output_type": "stream",
     "text": [
      "(382.342, 372.504, 381.75, 371.911)\n"
     ]
    }
   ],
   "source": [
    "# Check the base pressure at all corners\n",
    "pres = comb_footing.pad_base_pressures_uls()\n",
    "print(pres)"
   ]
  },
  {
   "attachments": {},
   "cell_type": "markdown",
   "metadata": {},
   "source": [
    "#### Check the foundation soil pressure at serviceability limit state to ensure the foundation sizing is adequate\n"
   ]
  },
  {
   "cell_type": "code",
   "execution_count": 11,
   "metadata": {},
   "outputs": [
    {
     "name": "stdout",
     "output_type": "stream",
     "text": [
      "PASS - Presumed bearing capacity exceeds design base pressure\n"
     ]
    }
   ],
   "source": [
    "comb_footing.bearing_pressure_check_sls()\n",
    "# This shows the combined footing is okay"
   ]
  },
  {
   "attachments": {},
   "cell_type": "markdown",
   "metadata": {},
   "source": [
    "#### Show the base pressures"
   ]
  },
  {
   "cell_type": "code",
   "execution_count": 12,
   "metadata": {},
   "outputs": [
    {
     "data": {
      "text/plain": [
       "[1650.0, 2340.0]"
      ]
     },
     "execution_count": 12,
     "metadata": {},
     "output_type": "execute_result"
    }
   ],
   "source": [
    "# comb_footing.plot_\n",
    "# Method to be added\n",
    "comb_footing.total_axial_force_uls()"
   ]
  },
  {
   "attachments": {},
   "cell_type": "markdown",
   "metadata": {},
   "source": [
    "#### Since analysis of the pad foundation is satisfactory design can be done by calling the CombinedFootingDesign class"
   ]
  },
  {
   "attachments": {},
   "cell_type": "markdown",
   "metadata": {},
   "source": [
    "#### Design the combined footing"
   ]
  },
  {
   "cell_type": "code",
   "execution_count": 13,
   "metadata": {},
   "outputs": [],
   "source": [
    "comb_footing_design = CombinedFootingDesign(\n",
    "    comb_footing, fck=30, fyk=500, concrete_cover=30, bar_diameterX=16, bar_diameterY=16\n",
    ")"
   ]
  },
  {
   "attachments": {},
   "cell_type": "markdown",
   "metadata": {},
   "source": [
    "#### Plot the foundation loading diagram in x direction"
   ]
  },
  {
   "cell_type": "code",
   "execution_count": 14,
   "metadata": {},
   "outputs": [
    {
     "data": {
      "application/vnd.plotly.v1+json": {
       "config": {
        "plotlyServerURL": "https://plot.ly"
       },
       "data": [
        {
         "hoverinfo": "skip",
         "hovertemplate": "%{x} %{meta[0]}",
         "line": {
          "color": "purple",
          "width": 2
         },
         "meta": [
          "m"
         ],
         "mode": "lines",
         "name": "Beam_",
         "type": "scatter",
         "x": [
          0,
          4.6
         ],
         "y": [
          0,
          0
         ]
        },
        {
         "hoverinfo": "skip",
         "hovertemplate": "x: %{x:.3f} %{meta[1]}<br>Fixed: %{meta[0]}",
         "marker": {
          "color": "blue",
          "size": 10,
          "symbol": "triangle-up"
         },
         "meta": [
          "[1, 1, 0]",
          "m"
         ],
         "mode": "markers",
         "name": "Support",
         "opacity": 0,
         "showlegend": false,
         "type": "scatter",
         "x": [
          0.54
         ],
         "y": [
          0
         ]
        },
        {
         "fill": "toself",
         "hoverinfo": "skip",
         "marker": {
          "color": "blue",
          "size": 10,
          "symbol": "arrow-up"
         },
         "mode": "markers",
         "name": "Support",
         "showlegend": false,
         "type": "scatter",
         "x": [
          0.54
         ],
         "y": [
          0
         ]
        },
        {
         "hoverinfo": "skip",
         "hovertemplate": "x: %{x:.3f} %{meta[1]}<br>Fixed: %{meta[0]}",
         "marker": {
          "color": "blue",
          "size": 10,
          "symbol": "triangle-up"
         },
         "meta": [
          "[1, 1, 0]",
          "m"
         ],
         "mode": "markers",
         "name": "Support",
         "opacity": 0,
         "showlegend": false,
         "type": "scatter",
         "x": [
          3.54
         ],
         "y": [
          0
         ]
        },
        {
         "fill": "toself",
         "hoverinfo": "skip",
         "marker": {
          "color": "blue",
          "size": 10,
          "symbol": "arrow-up"
         },
         "mode": "markers",
         "name": "Support",
         "showlegend": false,
         "type": "scatter",
         "x": [
          3.54
         ],
         "y": [
          0
         ]
        },
        {
         "fill": "tozeroy",
         "hoverinfo": "skip",
         "hovertemplate": "",
         "line": {
          "color": "mediumpurple",
          "width": 1
         },
         "mode": "lines",
         "name": "Trapezoidal<br>Load",
         "type": "scatter",
         "x": [
          0,
          4.6
         ],
         "y": [
          -1,
          -0.9984298555536228
         ]
        },
        {
         "hoverinfo": "skip",
         "hovertemplate": "x: %{meta[0]:.3f} %{meta[3]}<br>Force: %{meta[1]:.3f} %{meta[4]}        <br>Angle: %{meta[2]:.3f} deg",
         "marker": {
          "color": "mediumpurple",
          "size": 10,
          "symbol": "triangle-up"
         },
         "meta": [
          0,
          868073,
          90,
          "m",
          "N/m"
         ],
         "mode": "markers",
         "name": "Distributed<br>Load",
         "opacity": 0,
         "showlegend": false,
         "type": "scatter",
         "x": [
          0
         ],
         "y": [
          0
         ]
        },
        {
         "hoverinfo": "skip",
         "hovertemplate": "x: %{meta[0]:.3f} %{meta[3]}<br>Force: %{meta[1]:.3f} %{meta[4]}        <br>Angle: %{meta[2]:.3f} deg",
         "marker": {
          "color": "mediumpurple",
          "size": 10,
          "symbol": "triangle-up"
         },
         "meta": [
          4.6,
          866710,
          90,
          "m",
          "N/m"
         ],
         "mode": "markers",
         "name": "Distributed<br>Load",
         "opacity": 0,
         "showlegend": false,
         "type": "scatter",
         "x": [
          4.6
         ],
         "y": [
          0
         ]
        },
        {
         "hoverinfo": "skip",
         "hovertemplate": "x: %{meta[1]:.3f} %{meta[2]}<br>Force: %{meta[0]:.3f} %{meta[3]}            <br>Angle: %{meta[5]:.3f} deg",
         "marker": {
          "color": "red",
          "size": 10,
          "symbol": "triangle-up"
         },
         "meta": [
          1650000,
          0.54,
          "m",
          "N",
          "N.m",
          -90
         ],
         "mode": "markers",
         "name": "Point<br>Load",
         "opacity": 0,
         "showlegend": false,
         "type": "scatter",
         "x": [
          0.54
         ],
         "y": [
          0
         ]
        },
        {
         "hoverinfo": "skip",
         "hovertemplate": "x: %{meta[1]:.3f} %{meta[2]}<br>Force: %{meta[0]:.3f} %{meta[3]}            <br>Angle: %{meta[5]:.3f} deg",
         "marker": {
          "color": "red",
          "size": 10,
          "symbol": "triangle-up"
         },
         "meta": [
          2340000,
          3.54,
          "m",
          "N",
          "N.m",
          -90
         ],
         "mode": "markers",
         "name": "Point<br>Load",
         "opacity": 0,
         "showlegend": false,
         "type": "scatter",
         "x": [
          3.54
         ],
         "y": [
          0
         ]
        }
       ],
       "layout": {
        "annotations": [
         {
          "font": {
           "color": "mediumpurple"
          },
          "showarrow": false,
          "text": "868073.000 N/m",
          "x": 0,
          "xref": "x",
          "xshift": 0,
          "y": 0,
          "yref": "y",
          "yshift": -39
         },
         {
          "font": {
           "color": "mediumpurple"
          },
          "showarrow": false,
          "text": "866710.000 N/m",
          "x": 4.6,
          "xref": "x",
          "xshift": 0,
          "y": 0,
          "yref": "y",
          "yshift": -37.7
         },
         {
          "font": {
           "color": "red"
          },
          "showarrow": false,
          "text": "1650000.000 N",
          "x": 0.54,
          "xref": "x",
          "xshift": 0,
          "y": 0,
          "yref": "y",
          "yshift": 52
         },
         {
          "font": {
           "color": "red"
          },
          "showarrow": false,
          "text": "2340000.000 N",
          "x": 3.54,
          "xref": "x",
          "xshift": 0,
          "y": 0,
          "yref": "y",
          "yshift": 52
         }
        ],
        "height": 350,
        "hovermode": "x",
        "shapes": [
         {
          "line": {
           "color": "mediumpurple",
           "width": 2
          },
          "type": "line",
          "x0": 0,
          "x1": 3,
          "xanchor": 0,
          "xref": "x",
          "xsizemode": "pixel",
          "y0": 0,
          "y1": -3,
          "yanchor": 0,
          "yref": "y",
          "ysizemode": "pixel"
         },
         {
          "line": {
           "color": "mediumpurple",
           "width": 2
          },
          "type": "line",
          "x0": 0,
          "x1": -3,
          "xanchor": 0,
          "xref": "x",
          "xsizemode": "pixel",
          "y0": 0,
          "y1": -3,
          "yanchor": 0,
          "yref": "y",
          "ysizemode": "pixel"
         },
         {
          "line": {
           "color": "mediumpurple",
           "width": 2
          },
          "type": "line",
          "x0": 0,
          "x1": 0,
          "xanchor": 0,
          "xref": "x",
          "xsizemode": "pixel",
          "y0": 0,
          "y1": -30,
          "yanchor": 0,
          "yref": "y",
          "ysizemode": "pixel"
         },
         {
          "line": {
           "color": "mediumpurple",
           "width": 2
          },
          "type": "line",
          "x0": 0,
          "x1": 3,
          "xanchor": 4.6,
          "xref": "x",
          "xsizemode": "pixel",
          "y0": 0,
          "y1": -3,
          "yanchor": 0,
          "yref": "y",
          "ysizemode": "pixel"
         },
         {
          "line": {
           "color": "mediumpurple",
           "width": 2
          },
          "type": "line",
          "x0": 0,
          "x1": -3,
          "xanchor": 4.6,
          "xref": "x",
          "xsizemode": "pixel",
          "y0": 0,
          "y1": -3,
          "yanchor": 0,
          "yref": "y",
          "ysizemode": "pixel"
         },
         {
          "line": {
           "color": "mediumpurple",
           "width": 2
          },
          "type": "line",
          "x0": 0,
          "x1": 0,
          "xanchor": 4.6,
          "xref": "x",
          "xsizemode": "pixel",
          "y0": 0,
          "y1": -29,
          "yanchor": 0,
          "yref": "y",
          "ysizemode": "pixel"
         },
         {
          "line": {
           "color": "red",
           "width": 2
          },
          "type": "line",
          "x0": 0,
          "x1": -3,
          "xanchor": 0.54,
          "xref": "x",
          "xsizemode": "pixel",
          "y0": 0,
          "y1": 3,
          "yanchor": 0,
          "yref": "y",
          "ysizemode": "pixel"
         },
         {
          "line": {
           "color": "red",
           "width": 2
          },
          "type": "line",
          "x0": 0,
          "x1": 3,
          "xanchor": 0.54,
          "xref": "x",
          "xsizemode": "pixel",
          "y0": 0,
          "y1": 3,
          "yanchor": 0,
          "yref": "y",
          "ysizemode": "pixel"
         },
         {
          "line": {
           "color": "red",
           "width": 2
          },
          "type": "line",
          "x0": 0,
          "x1": 0,
          "xanchor": 0.54,
          "xref": "x",
          "xsizemode": "pixel",
          "y0": 0,
          "y1": 40,
          "yanchor": 0,
          "yref": "y",
          "ysizemode": "pixel"
         },
         {
          "line": {
           "color": "red",
           "width": 2
          },
          "type": "line",
          "x0": 0,
          "x1": -3,
          "xanchor": 3.54,
          "xref": "x",
          "xsizemode": "pixel",
          "y0": 0,
          "y1": 3,
          "yanchor": 0,
          "yref": "y",
          "ysizemode": "pixel"
         },
         {
          "line": {
           "color": "red",
           "width": 2
          },
          "type": "line",
          "x0": 0,
          "x1": 3,
          "xanchor": 3.54,
          "xref": "x",
          "xsizemode": "pixel",
          "y0": 0,
          "y1": 3,
          "yanchor": 0,
          "yref": "y",
          "ysizemode": "pixel"
         },
         {
          "line": {
           "color": "red",
           "width": 2
          },
          "type": "line",
          "x0": 0,
          "x1": 0,
          "xanchor": 3.54,
          "xref": "x",
          "xsizemode": "pixel",
          "y0": 0,
          "y1": 40,
          "yanchor": 0,
          "yref": "y",
          "ysizemode": "pixel"
         }
        ],
        "showlegend": false,
        "template": {
         "data": {
          "bar": [
           {
            "error_x": {
             "color": "#2a3f5f"
            },
            "error_y": {
             "color": "#2a3f5f"
            },
            "marker": {
             "line": {
              "color": "#E5ECF6",
              "width": 0.5
             },
             "pattern": {
              "fillmode": "overlay",
              "size": 10,
              "solidity": 0.2
             }
            },
            "type": "bar"
           }
          ],
          "barpolar": [
           {
            "marker": {
             "line": {
              "color": "#E5ECF6",
              "width": 0.5
             },
             "pattern": {
              "fillmode": "overlay",
              "size": 10,
              "solidity": 0.2
             }
            },
            "type": "barpolar"
           }
          ],
          "carpet": [
           {
            "aaxis": {
             "endlinecolor": "#2a3f5f",
             "gridcolor": "white",
             "linecolor": "white",
             "minorgridcolor": "white",
             "startlinecolor": "#2a3f5f"
            },
            "baxis": {
             "endlinecolor": "#2a3f5f",
             "gridcolor": "white",
             "linecolor": "white",
             "minorgridcolor": "white",
             "startlinecolor": "#2a3f5f"
            },
            "type": "carpet"
           }
          ],
          "choropleth": [
           {
            "colorbar": {
             "outlinewidth": 0,
             "ticks": ""
            },
            "type": "choropleth"
           }
          ],
          "contour": [
           {
            "colorbar": {
             "outlinewidth": 0,
             "ticks": ""
            },
            "colorscale": [
             [
              0,
              "#0d0887"
             ],
             [
              0.1111111111111111,
              "#46039f"
             ],
             [
              0.2222222222222222,
              "#7201a8"
             ],
             [
              0.3333333333333333,
              "#9c179e"
             ],
             [
              0.4444444444444444,
              "#bd3786"
             ],
             [
              0.5555555555555556,
              "#d8576b"
             ],
             [
              0.6666666666666666,
              "#ed7953"
             ],
             [
              0.7777777777777778,
              "#fb9f3a"
             ],
             [
              0.8888888888888888,
              "#fdca26"
             ],
             [
              1,
              "#f0f921"
             ]
            ],
            "type": "contour"
           }
          ],
          "contourcarpet": [
           {
            "colorbar": {
             "outlinewidth": 0,
             "ticks": ""
            },
            "type": "contourcarpet"
           }
          ],
          "heatmap": [
           {
            "colorbar": {
             "outlinewidth": 0,
             "ticks": ""
            },
            "colorscale": [
             [
              0,
              "#0d0887"
             ],
             [
              0.1111111111111111,
              "#46039f"
             ],
             [
              0.2222222222222222,
              "#7201a8"
             ],
             [
              0.3333333333333333,
              "#9c179e"
             ],
             [
              0.4444444444444444,
              "#bd3786"
             ],
             [
              0.5555555555555556,
              "#d8576b"
             ],
             [
              0.6666666666666666,
              "#ed7953"
             ],
             [
              0.7777777777777778,
              "#fb9f3a"
             ],
             [
              0.8888888888888888,
              "#fdca26"
             ],
             [
              1,
              "#f0f921"
             ]
            ],
            "type": "heatmap"
           }
          ],
          "heatmapgl": [
           {
            "colorbar": {
             "outlinewidth": 0,
             "ticks": ""
            },
            "colorscale": [
             [
              0,
              "#0d0887"
             ],
             [
              0.1111111111111111,
              "#46039f"
             ],
             [
              0.2222222222222222,
              "#7201a8"
             ],
             [
              0.3333333333333333,
              "#9c179e"
             ],
             [
              0.4444444444444444,
              "#bd3786"
             ],
             [
              0.5555555555555556,
              "#d8576b"
             ],
             [
              0.6666666666666666,
              "#ed7953"
             ],
             [
              0.7777777777777778,
              "#fb9f3a"
             ],
             [
              0.8888888888888888,
              "#fdca26"
             ],
             [
              1,
              "#f0f921"
             ]
            ],
            "type": "heatmapgl"
           }
          ],
          "histogram": [
           {
            "marker": {
             "pattern": {
              "fillmode": "overlay",
              "size": 10,
              "solidity": 0.2
             }
            },
            "type": "histogram"
           }
          ],
          "histogram2d": [
           {
            "colorbar": {
             "outlinewidth": 0,
             "ticks": ""
            },
            "colorscale": [
             [
              0,
              "#0d0887"
             ],
             [
              0.1111111111111111,
              "#46039f"
             ],
             [
              0.2222222222222222,
              "#7201a8"
             ],
             [
              0.3333333333333333,
              "#9c179e"
             ],
             [
              0.4444444444444444,
              "#bd3786"
             ],
             [
              0.5555555555555556,
              "#d8576b"
             ],
             [
              0.6666666666666666,
              "#ed7953"
             ],
             [
              0.7777777777777778,
              "#fb9f3a"
             ],
             [
              0.8888888888888888,
              "#fdca26"
             ],
             [
              1,
              "#f0f921"
             ]
            ],
            "type": "histogram2d"
           }
          ],
          "histogram2dcontour": [
           {
            "colorbar": {
             "outlinewidth": 0,
             "ticks": ""
            },
            "colorscale": [
             [
              0,
              "#0d0887"
             ],
             [
              0.1111111111111111,
              "#46039f"
             ],
             [
              0.2222222222222222,
              "#7201a8"
             ],
             [
              0.3333333333333333,
              "#9c179e"
             ],
             [
              0.4444444444444444,
              "#bd3786"
             ],
             [
              0.5555555555555556,
              "#d8576b"
             ],
             [
              0.6666666666666666,
              "#ed7953"
             ],
             [
              0.7777777777777778,
              "#fb9f3a"
             ],
             [
              0.8888888888888888,
              "#fdca26"
             ],
             [
              1,
              "#f0f921"
             ]
            ],
            "type": "histogram2dcontour"
           }
          ],
          "mesh3d": [
           {
            "colorbar": {
             "outlinewidth": 0,
             "ticks": ""
            },
            "type": "mesh3d"
           }
          ],
          "parcoords": [
           {
            "line": {
             "colorbar": {
              "outlinewidth": 0,
              "ticks": ""
             }
            },
            "type": "parcoords"
           }
          ],
          "pie": [
           {
            "automargin": true,
            "type": "pie"
           }
          ],
          "scatter": [
           {
            "fillpattern": {
             "fillmode": "overlay",
             "size": 10,
             "solidity": 0.2
            },
            "type": "scatter"
           }
          ],
          "scatter3d": [
           {
            "line": {
             "colorbar": {
              "outlinewidth": 0,
              "ticks": ""
             }
            },
            "marker": {
             "colorbar": {
              "outlinewidth": 0,
              "ticks": ""
             }
            },
            "type": "scatter3d"
           }
          ],
          "scattercarpet": [
           {
            "marker": {
             "colorbar": {
              "outlinewidth": 0,
              "ticks": ""
             }
            },
            "type": "scattercarpet"
           }
          ],
          "scattergeo": [
           {
            "marker": {
             "colorbar": {
              "outlinewidth": 0,
              "ticks": ""
             }
            },
            "type": "scattergeo"
           }
          ],
          "scattergl": [
           {
            "marker": {
             "colorbar": {
              "outlinewidth": 0,
              "ticks": ""
             }
            },
            "type": "scattergl"
           }
          ],
          "scattermapbox": [
           {
            "marker": {
             "colorbar": {
              "outlinewidth": 0,
              "ticks": ""
             }
            },
            "type": "scattermapbox"
           }
          ],
          "scatterpolar": [
           {
            "marker": {
             "colorbar": {
              "outlinewidth": 0,
              "ticks": ""
             }
            },
            "type": "scatterpolar"
           }
          ],
          "scatterpolargl": [
           {
            "marker": {
             "colorbar": {
              "outlinewidth": 0,
              "ticks": ""
             }
            },
            "type": "scatterpolargl"
           }
          ],
          "scatterternary": [
           {
            "marker": {
             "colorbar": {
              "outlinewidth": 0,
              "ticks": ""
             }
            },
            "type": "scatterternary"
           }
          ],
          "surface": [
           {
            "colorbar": {
             "outlinewidth": 0,
             "ticks": ""
            },
            "colorscale": [
             [
              0,
              "#0d0887"
             ],
             [
              0.1111111111111111,
              "#46039f"
             ],
             [
              0.2222222222222222,
              "#7201a8"
             ],
             [
              0.3333333333333333,
              "#9c179e"
             ],
             [
              0.4444444444444444,
              "#bd3786"
             ],
             [
              0.5555555555555556,
              "#d8576b"
             ],
             [
              0.6666666666666666,
              "#ed7953"
             ],
             [
              0.7777777777777778,
              "#fb9f3a"
             ],
             [
              0.8888888888888888,
              "#fdca26"
             ],
             [
              1,
              "#f0f921"
             ]
            ],
            "type": "surface"
           }
          ],
          "table": [
           {
            "cells": {
             "fill": {
              "color": "#EBF0F8"
             },
             "line": {
              "color": "white"
             }
            },
            "header": {
             "fill": {
              "color": "#C8D4E3"
             },
             "line": {
              "color": "white"
             }
            },
            "type": "table"
           }
          ]
         },
         "layout": {
          "annotationdefaults": {
           "arrowcolor": "#2a3f5f",
           "arrowhead": 0,
           "arrowwidth": 1
          },
          "autotypenumbers": "strict",
          "coloraxis": {
           "colorbar": {
            "outlinewidth": 0,
            "ticks": ""
           }
          },
          "colorscale": {
           "diverging": [
            [
             0,
             "#8e0152"
            ],
            [
             0.1,
             "#c51b7d"
            ],
            [
             0.2,
             "#de77ae"
            ],
            [
             0.3,
             "#f1b6da"
            ],
            [
             0.4,
             "#fde0ef"
            ],
            [
             0.5,
             "#f7f7f7"
            ],
            [
             0.6,
             "#e6f5d0"
            ],
            [
             0.7,
             "#b8e186"
            ],
            [
             0.8,
             "#7fbc41"
            ],
            [
             0.9,
             "#4d9221"
            ],
            [
             1,
             "#276419"
            ]
           ],
           "sequential": [
            [
             0,
             "#0d0887"
            ],
            [
             0.1111111111111111,
             "#46039f"
            ],
            [
             0.2222222222222222,
             "#7201a8"
            ],
            [
             0.3333333333333333,
             "#9c179e"
            ],
            [
             0.4444444444444444,
             "#bd3786"
            ],
            [
             0.5555555555555556,
             "#d8576b"
            ],
            [
             0.6666666666666666,
             "#ed7953"
            ],
            [
             0.7777777777777778,
             "#fb9f3a"
            ],
            [
             0.8888888888888888,
             "#fdca26"
            ],
            [
             1,
             "#f0f921"
            ]
           ],
           "sequentialminus": [
            [
             0,
             "#0d0887"
            ],
            [
             0.1111111111111111,
             "#46039f"
            ],
            [
             0.2222222222222222,
             "#7201a8"
            ],
            [
             0.3333333333333333,
             "#9c179e"
            ],
            [
             0.4444444444444444,
             "#bd3786"
            ],
            [
             0.5555555555555556,
             "#d8576b"
            ],
            [
             0.6666666666666666,
             "#ed7953"
            ],
            [
             0.7777777777777778,
             "#fb9f3a"
            ],
            [
             0.8888888888888888,
             "#fdca26"
            ],
            [
             1,
             "#f0f921"
            ]
           ]
          },
          "colorway": [
           "#636efa",
           "#EF553B",
           "#00cc96",
           "#ab63fa",
           "#FFA15A",
           "#19d3f3",
           "#FF6692",
           "#B6E880",
           "#FF97FF",
           "#FECB52"
          ],
          "font": {
           "color": "#2a3f5f"
          },
          "geo": {
           "bgcolor": "white",
           "lakecolor": "white",
           "landcolor": "#E5ECF6",
           "showlakes": true,
           "showland": true,
           "subunitcolor": "white"
          },
          "hoverlabel": {
           "align": "left"
          },
          "hovermode": "closest",
          "mapbox": {
           "style": "light"
          },
          "paper_bgcolor": "white",
          "plot_bgcolor": "#E5ECF6",
          "polar": {
           "angularaxis": {
            "gridcolor": "white",
            "linecolor": "white",
            "ticks": ""
           },
           "bgcolor": "#E5ECF6",
           "radialaxis": {
            "gridcolor": "white",
            "linecolor": "white",
            "ticks": ""
           }
          },
          "scene": {
           "xaxis": {
            "backgroundcolor": "#E5ECF6",
            "gridcolor": "white",
            "gridwidth": 2,
            "linecolor": "white",
            "showbackground": true,
            "ticks": "",
            "zerolinecolor": "white"
           },
           "yaxis": {
            "backgroundcolor": "#E5ECF6",
            "gridcolor": "white",
            "gridwidth": 2,
            "linecolor": "white",
            "showbackground": true,
            "ticks": "",
            "zerolinecolor": "white"
           },
           "zaxis": {
            "backgroundcolor": "#E5ECF6",
            "gridcolor": "white",
            "gridwidth": 2,
            "linecolor": "white",
            "showbackground": true,
            "ticks": "",
            "zerolinecolor": "white"
           }
          },
          "shapedefaults": {
           "line": {
            "color": "#2a3f5f"
           }
          },
          "ternary": {
           "aaxis": {
            "gridcolor": "white",
            "linecolor": "white",
            "ticks": ""
           },
           "baxis": {
            "gridcolor": "white",
            "linecolor": "white",
            "ticks": ""
           },
           "bgcolor": "#E5ECF6",
           "caxis": {
            "gridcolor": "white",
            "linecolor": "white",
            "ticks": ""
           }
          },
          "title": {
           "x": 0.05
          },
          "xaxis": {
           "automargin": true,
           "gridcolor": "white",
           "linecolor": "white",
           "ticks": "",
           "title": {
            "standoff": 15
           },
           "zerolinecolor": "white",
           "zerolinewidth": 2
          },
          "yaxis": {
           "automargin": true,
           "gridcolor": "white",
           "linecolor": "white",
           "ticks": "",
           "title": {
            "standoff": 15
           },
           "zerolinecolor": "white",
           "zerolinewidth": 2
          }
         }
        },
        "title": {
         "font": {
          "size": 24
         },
         "text": "Foundation schematic (length)",
         "x": 0.5
        },
        "xaxis": {
         "title": {
          "text": "Foundation length"
         }
        },
        "yaxis": {
         "fixedrange": true,
         "range": [
          -3,
          3
         ],
         "visible": false
        }
       }
      }
     },
     "metadata": {},
     "output_type": "display_data"
    }
   ],
   "source": [
    "comb_footing_design.plot_foundation_loading_X()\n",
    "# This shows the loadings that the foundation is subjected to"
   ]
  },
  {
   "attachments": {},
   "cell_type": "markdown",
   "metadata": {},
   "source": [
    "#### Plot the foundation loading diagram in y direction"
   ]
  },
  {
   "cell_type": "code",
   "execution_count": 15,
   "metadata": {},
   "outputs": [
    {
     "data": {
      "application/vnd.plotly.v1+json": {
       "config": {
        "plotlyServerURL": "https://plot.ly"
       },
       "data": [
        {
         "hoverinfo": "skip",
         "hovertemplate": "%{x} %{meta[0]}",
         "line": {
          "color": "purple",
          "width": 2
         },
         "meta": [
          "m"
         ],
         "mode": "lines",
         "name": "Beam_",
         "type": "scatter",
         "x": [
          0,
          2.3
         ],
         "y": [
          0,
          0
         ]
        },
        {
         "hoverinfo": "skip",
         "hovertemplate": "x: %{x:.3f} %{meta[1]}<br>Fixed: %{meta[0]}",
         "marker": {
          "color": "blue",
          "size": 10,
          "symbol": "triangle-up"
         },
         "meta": [
          "[1, 1, 1]",
          "m"
         ],
         "mode": "markers",
         "name": "Support",
         "opacity": 0,
         "showlegend": false,
         "type": "scatter",
         "x": [
          1.145
         ],
         "y": [
          0
         ]
        },
        {
         "fill": "tozeroy",
         "hoverinfo": "skip",
         "hovertemplate": "",
         "line": {
          "color": "mediumpurple",
          "width": 1
         },
         "mode": "lines",
         "name": "Trapezoidal<br>Load",
         "type": "scatter",
         "x": [
          0,
          2.3
         ],
         "y": [
          -1,
          -0.9742473591849834
         ]
        },
        {
         "hoverinfo": "skip",
         "hovertemplate": "x: %{meta[0]:.3f} %{meta[3]}<br>Force: %{meta[1]:.3f} %{meta[4]}        <br>Angle: %{meta[2]:.3f} deg",
         "marker": {
          "color": "mediumpurple",
          "size": 10,
          "symbol": "triangle-up"
         },
         "meta": [
          0,
          1757412,
          90,
          "m",
          "N/m"
         ],
         "mode": "markers",
         "name": "Distributed<br>Load",
         "opacity": 0,
         "showlegend": false,
         "type": "scatter",
         "x": [
          0
         ],
         "y": [
          0
         ]
        },
        {
         "hoverinfo": "skip",
         "hovertemplate": "x: %{meta[0]:.3f} %{meta[3]}<br>Force: %{meta[1]:.3f} %{meta[4]}        <br>Angle: %{meta[2]:.3f} deg",
         "marker": {
          "color": "mediumpurple",
          "size": 10,
          "symbol": "triangle-up"
         },
         "meta": [
          2.3,
          1712154,
          90,
          "m",
          "N/m"
         ],
         "mode": "markers",
         "name": "Distributed<br>Load",
         "opacity": 0,
         "showlegend": false,
         "type": "scatter",
         "x": [
          2.3
         ],
         "y": [
          0
         ]
        },
        {
         "hoverinfo": "skip",
         "hovertemplate": "x: %{meta[1]:.3f} %{meta[2]}<br>Force: %{meta[0]:.3f} %{meta[3]}            <br>Angle: %{meta[5]:.3f} deg",
         "marker": {
          "color": "red",
          "size": 10,
          "symbol": "triangle-up"
         },
         "meta": [
          1650000,
          1.145,
          "m",
          "N",
          "N.m",
          -90
         ],
         "mode": "markers",
         "name": "Point<br>Load",
         "opacity": 0,
         "showlegend": false,
         "type": "scatter",
         "x": [
          1.145
         ],
         "y": [
          0
         ]
        },
        {
         "hoverinfo": "skip",
         "hovertemplate": "x: %{meta[1]:.3f} %{meta[2]}<br>Force: %{meta[0]:.3f} %{meta[3]}            <br>Angle: %{meta[5]:.3f} deg",
         "marker": {
          "color": "red",
          "size": 10,
          "symbol": "triangle-up"
         },
         "meta": [
          2340000,
          1.145,
          "m",
          "N",
          "N.m",
          -90
         ],
         "mode": "markers",
         "name": "Point<br>Load",
         "opacity": 0,
         "showlegend": false,
         "type": "scatter",
         "x": [
          1.145
         ],
         "y": [
          0
         ]
        }
       ],
       "layout": {
        "annotations": [
         {
          "font": {
           "color": "mediumpurple"
          },
          "showarrow": false,
          "text": "1757412.000 N/m",
          "x": 0,
          "xref": "x",
          "xshift": 0,
          "y": 0,
          "yref": "y",
          "yshift": -39
         },
         {
          "font": {
           "color": "mediumpurple"
          },
          "showarrow": false,
          "text": "1712154.000 N/m",
          "x": 2.3,
          "xref": "x",
          "xshift": 0,
          "y": 0,
          "yref": "y",
          "yshift": -37.7
         },
         {
          "font": {
           "color": "red"
          },
          "showarrow": false,
          "text": "1650000.000 N",
          "x": 1.145,
          "xref": "x",
          "xshift": 0,
          "y": 0,
          "yref": "y",
          "yshift": 52
         },
         {
          "font": {
           "color": "red"
          },
          "showarrow": false,
          "text": "2340000.000 N",
          "x": 1.145,
          "xref": "x",
          "xshift": 0,
          "y": 0,
          "yref": "y",
          "yshift": 52
         }
        ],
        "height": 350,
        "hovermode": "x",
        "shapes": [
         {
          "fillcolor": "blue",
          "line": {
           "color": "blue",
           "width": 4
          },
          "type": "rect",
          "x0": -2,
          "x1": -2,
          "xanchor": 1.145,
          "xref": "x",
          "xsizemode": "pixel",
          "y0": -5,
          "y1": 5,
          "yanchor": 0,
          "yref": "y",
          "ysizemode": "pixel"
         },
         {
          "line": {
           "color": "mediumpurple",
           "width": 2
          },
          "type": "line",
          "x0": 0,
          "x1": 3,
          "xanchor": 0,
          "xref": "x",
          "xsizemode": "pixel",
          "y0": 0,
          "y1": -3,
          "yanchor": 0,
          "yref": "y",
          "ysizemode": "pixel"
         },
         {
          "line": {
           "color": "mediumpurple",
           "width": 2
          },
          "type": "line",
          "x0": 0,
          "x1": -3,
          "xanchor": 0,
          "xref": "x",
          "xsizemode": "pixel",
          "y0": 0,
          "y1": -3,
          "yanchor": 0,
          "yref": "y",
          "ysizemode": "pixel"
         },
         {
          "line": {
           "color": "mediumpurple",
           "width": 2
          },
          "type": "line",
          "x0": 0,
          "x1": 0,
          "xanchor": 0,
          "xref": "x",
          "xsizemode": "pixel",
          "y0": 0,
          "y1": -30,
          "yanchor": 0,
          "yref": "y",
          "ysizemode": "pixel"
         },
         {
          "line": {
           "color": "mediumpurple",
           "width": 2
          },
          "type": "line",
          "x0": 0,
          "x1": 3,
          "xanchor": 2.3,
          "xref": "x",
          "xsizemode": "pixel",
          "y0": 0,
          "y1": -3,
          "yanchor": 0,
          "yref": "y",
          "ysizemode": "pixel"
         },
         {
          "line": {
           "color": "mediumpurple",
           "width": 2
          },
          "type": "line",
          "x0": 0,
          "x1": -3,
          "xanchor": 2.3,
          "xref": "x",
          "xsizemode": "pixel",
          "y0": 0,
          "y1": -3,
          "yanchor": 0,
          "yref": "y",
          "ysizemode": "pixel"
         },
         {
          "line": {
           "color": "mediumpurple",
           "width": 2
          },
          "type": "line",
          "x0": 0,
          "x1": 0,
          "xanchor": 2.3,
          "xref": "x",
          "xsizemode": "pixel",
          "y0": 0,
          "y1": -29,
          "yanchor": 0,
          "yref": "y",
          "ysizemode": "pixel"
         },
         {
          "line": {
           "color": "red",
           "width": 2
          },
          "type": "line",
          "x0": 0,
          "x1": -3,
          "xanchor": 1.145,
          "xref": "x",
          "xsizemode": "pixel",
          "y0": 0,
          "y1": 3,
          "yanchor": 0,
          "yref": "y",
          "ysizemode": "pixel"
         },
         {
          "line": {
           "color": "red",
           "width": 2
          },
          "type": "line",
          "x0": 0,
          "x1": 3,
          "xanchor": 1.145,
          "xref": "x",
          "xsizemode": "pixel",
          "y0": 0,
          "y1": 3,
          "yanchor": 0,
          "yref": "y",
          "ysizemode": "pixel"
         },
         {
          "line": {
           "color": "red",
           "width": 2
          },
          "type": "line",
          "x0": 0,
          "x1": 0,
          "xanchor": 1.145,
          "xref": "x",
          "xsizemode": "pixel",
          "y0": 0,
          "y1": 40,
          "yanchor": 0,
          "yref": "y",
          "ysizemode": "pixel"
         },
         {
          "line": {
           "color": "red",
           "width": 2
          },
          "type": "line",
          "x0": 0,
          "x1": -3,
          "xanchor": 1.145,
          "xref": "x",
          "xsizemode": "pixel",
          "y0": 0,
          "y1": 3,
          "yanchor": 0,
          "yref": "y",
          "ysizemode": "pixel"
         },
         {
          "line": {
           "color": "red",
           "width": 2
          },
          "type": "line",
          "x0": 0,
          "x1": 3,
          "xanchor": 1.145,
          "xref": "x",
          "xsizemode": "pixel",
          "y0": 0,
          "y1": 3,
          "yanchor": 0,
          "yref": "y",
          "ysizemode": "pixel"
         },
         {
          "line": {
           "color": "red",
           "width": 2
          },
          "type": "line",
          "x0": 0,
          "x1": 0,
          "xanchor": 1.145,
          "xref": "x",
          "xsizemode": "pixel",
          "y0": 0,
          "y1": 40,
          "yanchor": 0,
          "yref": "y",
          "ysizemode": "pixel"
         }
        ],
        "showlegend": false,
        "template": {
         "data": {
          "bar": [
           {
            "error_x": {
             "color": "#2a3f5f"
            },
            "error_y": {
             "color": "#2a3f5f"
            },
            "marker": {
             "line": {
              "color": "#E5ECF6",
              "width": 0.5
             },
             "pattern": {
              "fillmode": "overlay",
              "size": 10,
              "solidity": 0.2
             }
            },
            "type": "bar"
           }
          ],
          "barpolar": [
           {
            "marker": {
             "line": {
              "color": "#E5ECF6",
              "width": 0.5
             },
             "pattern": {
              "fillmode": "overlay",
              "size": 10,
              "solidity": 0.2
             }
            },
            "type": "barpolar"
           }
          ],
          "carpet": [
           {
            "aaxis": {
             "endlinecolor": "#2a3f5f",
             "gridcolor": "white",
             "linecolor": "white",
             "minorgridcolor": "white",
             "startlinecolor": "#2a3f5f"
            },
            "baxis": {
             "endlinecolor": "#2a3f5f",
             "gridcolor": "white",
             "linecolor": "white",
             "minorgridcolor": "white",
             "startlinecolor": "#2a3f5f"
            },
            "type": "carpet"
           }
          ],
          "choropleth": [
           {
            "colorbar": {
             "outlinewidth": 0,
             "ticks": ""
            },
            "type": "choropleth"
           }
          ],
          "contour": [
           {
            "colorbar": {
             "outlinewidth": 0,
             "ticks": ""
            },
            "colorscale": [
             [
              0,
              "#0d0887"
             ],
             [
              0.1111111111111111,
              "#46039f"
             ],
             [
              0.2222222222222222,
              "#7201a8"
             ],
             [
              0.3333333333333333,
              "#9c179e"
             ],
             [
              0.4444444444444444,
              "#bd3786"
             ],
             [
              0.5555555555555556,
              "#d8576b"
             ],
             [
              0.6666666666666666,
              "#ed7953"
             ],
             [
              0.7777777777777778,
              "#fb9f3a"
             ],
             [
              0.8888888888888888,
              "#fdca26"
             ],
             [
              1,
              "#f0f921"
             ]
            ],
            "type": "contour"
           }
          ],
          "contourcarpet": [
           {
            "colorbar": {
             "outlinewidth": 0,
             "ticks": ""
            },
            "type": "contourcarpet"
           }
          ],
          "heatmap": [
           {
            "colorbar": {
             "outlinewidth": 0,
             "ticks": ""
            },
            "colorscale": [
             [
              0,
              "#0d0887"
             ],
             [
              0.1111111111111111,
              "#46039f"
             ],
             [
              0.2222222222222222,
              "#7201a8"
             ],
             [
              0.3333333333333333,
              "#9c179e"
             ],
             [
              0.4444444444444444,
              "#bd3786"
             ],
             [
              0.5555555555555556,
              "#d8576b"
             ],
             [
              0.6666666666666666,
              "#ed7953"
             ],
             [
              0.7777777777777778,
              "#fb9f3a"
             ],
             [
              0.8888888888888888,
              "#fdca26"
             ],
             [
              1,
              "#f0f921"
             ]
            ],
            "type": "heatmap"
           }
          ],
          "heatmapgl": [
           {
            "colorbar": {
             "outlinewidth": 0,
             "ticks": ""
            },
            "colorscale": [
             [
              0,
              "#0d0887"
             ],
             [
              0.1111111111111111,
              "#46039f"
             ],
             [
              0.2222222222222222,
              "#7201a8"
             ],
             [
              0.3333333333333333,
              "#9c179e"
             ],
             [
              0.4444444444444444,
              "#bd3786"
             ],
             [
              0.5555555555555556,
              "#d8576b"
             ],
             [
              0.6666666666666666,
              "#ed7953"
             ],
             [
              0.7777777777777778,
              "#fb9f3a"
             ],
             [
              0.8888888888888888,
              "#fdca26"
             ],
             [
              1,
              "#f0f921"
             ]
            ],
            "type": "heatmapgl"
           }
          ],
          "histogram": [
           {
            "marker": {
             "pattern": {
              "fillmode": "overlay",
              "size": 10,
              "solidity": 0.2
             }
            },
            "type": "histogram"
           }
          ],
          "histogram2d": [
           {
            "colorbar": {
             "outlinewidth": 0,
             "ticks": ""
            },
            "colorscale": [
             [
              0,
              "#0d0887"
             ],
             [
              0.1111111111111111,
              "#46039f"
             ],
             [
              0.2222222222222222,
              "#7201a8"
             ],
             [
              0.3333333333333333,
              "#9c179e"
             ],
             [
              0.4444444444444444,
              "#bd3786"
             ],
             [
              0.5555555555555556,
              "#d8576b"
             ],
             [
              0.6666666666666666,
              "#ed7953"
             ],
             [
              0.7777777777777778,
              "#fb9f3a"
             ],
             [
              0.8888888888888888,
              "#fdca26"
             ],
             [
              1,
              "#f0f921"
             ]
            ],
            "type": "histogram2d"
           }
          ],
          "histogram2dcontour": [
           {
            "colorbar": {
             "outlinewidth": 0,
             "ticks": ""
            },
            "colorscale": [
             [
              0,
              "#0d0887"
             ],
             [
              0.1111111111111111,
              "#46039f"
             ],
             [
              0.2222222222222222,
              "#7201a8"
             ],
             [
              0.3333333333333333,
              "#9c179e"
             ],
             [
              0.4444444444444444,
              "#bd3786"
             ],
             [
              0.5555555555555556,
              "#d8576b"
             ],
             [
              0.6666666666666666,
              "#ed7953"
             ],
             [
              0.7777777777777778,
              "#fb9f3a"
             ],
             [
              0.8888888888888888,
              "#fdca26"
             ],
             [
              1,
              "#f0f921"
             ]
            ],
            "type": "histogram2dcontour"
           }
          ],
          "mesh3d": [
           {
            "colorbar": {
             "outlinewidth": 0,
             "ticks": ""
            },
            "type": "mesh3d"
           }
          ],
          "parcoords": [
           {
            "line": {
             "colorbar": {
              "outlinewidth": 0,
              "ticks": ""
             }
            },
            "type": "parcoords"
           }
          ],
          "pie": [
           {
            "automargin": true,
            "type": "pie"
           }
          ],
          "scatter": [
           {
            "fillpattern": {
             "fillmode": "overlay",
             "size": 10,
             "solidity": 0.2
            },
            "type": "scatter"
           }
          ],
          "scatter3d": [
           {
            "line": {
             "colorbar": {
              "outlinewidth": 0,
              "ticks": ""
             }
            },
            "marker": {
             "colorbar": {
              "outlinewidth": 0,
              "ticks": ""
             }
            },
            "type": "scatter3d"
           }
          ],
          "scattercarpet": [
           {
            "marker": {
             "colorbar": {
              "outlinewidth": 0,
              "ticks": ""
             }
            },
            "type": "scattercarpet"
           }
          ],
          "scattergeo": [
           {
            "marker": {
             "colorbar": {
              "outlinewidth": 0,
              "ticks": ""
             }
            },
            "type": "scattergeo"
           }
          ],
          "scattergl": [
           {
            "marker": {
             "colorbar": {
              "outlinewidth": 0,
              "ticks": ""
             }
            },
            "type": "scattergl"
           }
          ],
          "scattermapbox": [
           {
            "marker": {
             "colorbar": {
              "outlinewidth": 0,
              "ticks": ""
             }
            },
            "type": "scattermapbox"
           }
          ],
          "scatterpolar": [
           {
            "marker": {
             "colorbar": {
              "outlinewidth": 0,
              "ticks": ""
             }
            },
            "type": "scatterpolar"
           }
          ],
          "scatterpolargl": [
           {
            "marker": {
             "colorbar": {
              "outlinewidth": 0,
              "ticks": ""
             }
            },
            "type": "scatterpolargl"
           }
          ],
          "scatterternary": [
           {
            "marker": {
             "colorbar": {
              "outlinewidth": 0,
              "ticks": ""
             }
            },
            "type": "scatterternary"
           }
          ],
          "surface": [
           {
            "colorbar": {
             "outlinewidth": 0,
             "ticks": ""
            },
            "colorscale": [
             [
              0,
              "#0d0887"
             ],
             [
              0.1111111111111111,
              "#46039f"
             ],
             [
              0.2222222222222222,
              "#7201a8"
             ],
             [
              0.3333333333333333,
              "#9c179e"
             ],
             [
              0.4444444444444444,
              "#bd3786"
             ],
             [
              0.5555555555555556,
              "#d8576b"
             ],
             [
              0.6666666666666666,
              "#ed7953"
             ],
             [
              0.7777777777777778,
              "#fb9f3a"
             ],
             [
              0.8888888888888888,
              "#fdca26"
             ],
             [
              1,
              "#f0f921"
             ]
            ],
            "type": "surface"
           }
          ],
          "table": [
           {
            "cells": {
             "fill": {
              "color": "#EBF0F8"
             },
             "line": {
              "color": "white"
             }
            },
            "header": {
             "fill": {
              "color": "#C8D4E3"
             },
             "line": {
              "color": "white"
             }
            },
            "type": "table"
           }
          ]
         },
         "layout": {
          "annotationdefaults": {
           "arrowcolor": "#2a3f5f",
           "arrowhead": 0,
           "arrowwidth": 1
          },
          "autotypenumbers": "strict",
          "coloraxis": {
           "colorbar": {
            "outlinewidth": 0,
            "ticks": ""
           }
          },
          "colorscale": {
           "diverging": [
            [
             0,
             "#8e0152"
            ],
            [
             0.1,
             "#c51b7d"
            ],
            [
             0.2,
             "#de77ae"
            ],
            [
             0.3,
             "#f1b6da"
            ],
            [
             0.4,
             "#fde0ef"
            ],
            [
             0.5,
             "#f7f7f7"
            ],
            [
             0.6,
             "#e6f5d0"
            ],
            [
             0.7,
             "#b8e186"
            ],
            [
             0.8,
             "#7fbc41"
            ],
            [
             0.9,
             "#4d9221"
            ],
            [
             1,
             "#276419"
            ]
           ],
           "sequential": [
            [
             0,
             "#0d0887"
            ],
            [
             0.1111111111111111,
             "#46039f"
            ],
            [
             0.2222222222222222,
             "#7201a8"
            ],
            [
             0.3333333333333333,
             "#9c179e"
            ],
            [
             0.4444444444444444,
             "#bd3786"
            ],
            [
             0.5555555555555556,
             "#d8576b"
            ],
            [
             0.6666666666666666,
             "#ed7953"
            ],
            [
             0.7777777777777778,
             "#fb9f3a"
            ],
            [
             0.8888888888888888,
             "#fdca26"
            ],
            [
             1,
             "#f0f921"
            ]
           ],
           "sequentialminus": [
            [
             0,
             "#0d0887"
            ],
            [
             0.1111111111111111,
             "#46039f"
            ],
            [
             0.2222222222222222,
             "#7201a8"
            ],
            [
             0.3333333333333333,
             "#9c179e"
            ],
            [
             0.4444444444444444,
             "#bd3786"
            ],
            [
             0.5555555555555556,
             "#d8576b"
            ],
            [
             0.6666666666666666,
             "#ed7953"
            ],
            [
             0.7777777777777778,
             "#fb9f3a"
            ],
            [
             0.8888888888888888,
             "#fdca26"
            ],
            [
             1,
             "#f0f921"
            ]
           ]
          },
          "colorway": [
           "#636efa",
           "#EF553B",
           "#00cc96",
           "#ab63fa",
           "#FFA15A",
           "#19d3f3",
           "#FF6692",
           "#B6E880",
           "#FF97FF",
           "#FECB52"
          ],
          "font": {
           "color": "#2a3f5f"
          },
          "geo": {
           "bgcolor": "white",
           "lakecolor": "white",
           "landcolor": "#E5ECF6",
           "showlakes": true,
           "showland": true,
           "subunitcolor": "white"
          },
          "hoverlabel": {
           "align": "left"
          },
          "hovermode": "closest",
          "mapbox": {
           "style": "light"
          },
          "paper_bgcolor": "white",
          "plot_bgcolor": "#E5ECF6",
          "polar": {
           "angularaxis": {
            "gridcolor": "white",
            "linecolor": "white",
            "ticks": ""
           },
           "bgcolor": "#E5ECF6",
           "radialaxis": {
            "gridcolor": "white",
            "linecolor": "white",
            "ticks": ""
           }
          },
          "scene": {
           "xaxis": {
            "backgroundcolor": "#E5ECF6",
            "gridcolor": "white",
            "gridwidth": 2,
            "linecolor": "white",
            "showbackground": true,
            "ticks": "",
            "zerolinecolor": "white"
           },
           "yaxis": {
            "backgroundcolor": "#E5ECF6",
            "gridcolor": "white",
            "gridwidth": 2,
            "linecolor": "white",
            "showbackground": true,
            "ticks": "",
            "zerolinecolor": "white"
           },
           "zaxis": {
            "backgroundcolor": "#E5ECF6",
            "gridcolor": "white",
            "gridwidth": 2,
            "linecolor": "white",
            "showbackground": true,
            "ticks": "",
            "zerolinecolor": "white"
           }
          },
          "shapedefaults": {
           "line": {
            "color": "#2a3f5f"
           }
          },
          "ternary": {
           "aaxis": {
            "gridcolor": "white",
            "linecolor": "white",
            "ticks": ""
           },
           "baxis": {
            "gridcolor": "white",
            "linecolor": "white",
            "ticks": ""
           },
           "bgcolor": "#E5ECF6",
           "caxis": {
            "gridcolor": "white",
            "linecolor": "white",
            "ticks": ""
           }
          },
          "title": {
           "x": 0.05
          },
          "xaxis": {
           "automargin": true,
           "gridcolor": "white",
           "linecolor": "white",
           "ticks": "",
           "title": {
            "standoff": 15
           },
           "zerolinecolor": "white",
           "zerolinewidth": 2
          },
          "yaxis": {
           "automargin": true,
           "gridcolor": "white",
           "linecolor": "white",
           "ticks": "",
           "title": {
            "standoff": 15
           },
           "zerolinecolor": "white",
           "zerolinewidth": 2
          }
         }
        },
        "title": {
         "font": {
          "size": 24
         },
         "text": "Foundation schematic (width)",
         "x": 0.5
        },
        "xaxis": {
         "title": {
          "text": "Foundation width"
         }
        },
        "yaxis": {
         "fixedrange": true,
         "range": [
          -3,
          3
         ],
         "visible": false
        }
       }
      }
     },
     "metadata": {},
     "output_type": "display_data"
    }
   ],
   "source": [
    "comb_footing_design.plot_foundation_loading_Y()\n",
    "# This shows the loadings that the foundation is subjected to"
   ]
  },
  {
   "attachments": {},
   "cell_type": "markdown",
   "metadata": {},
   "source": [
    "#### Show the bending moment diagram in x direction showing the design bending moment"
   ]
  },
  {
   "cell_type": "code",
   "execution_count": 16,
   "metadata": {},
   "outputs": [
    {
     "data": {
      "application/vnd.plotly.v1+json": {
       "config": {
        "plotlyServerURL": "https://plot.ly"
       },
       "data": [
        {
         "fill": "tozeroy",
         "hovertemplate": "x: %{x:.3f} %{meta[0]}<br>f(x): %{y:.3f} %{meta[1]}",
         "line": {
          "color": "lightgreen",
          "width": 1
         },
         "meta": [
          "m",
          "N.m"
         ],
         "mode": "lines",
         "name": "Bending Moment",
         "type": "scatter",
         "x": [
          0,
          1e-7,
          0.023115577889447233,
          0.046231155778894466,
          0.0693467336683417,
          0.09246231155778893,
          0.11557788944723617,
          0.1386934673366834,
          0.16180904522613063,
          0.18492462311557786,
          0.2080402010050251,
          0.23115577889447234,
          0.25427135678391954,
          0.2773869346733668,
          0.300502512562814,
          0.32361809045226125,
          0.3467336683417085,
          0.3698492462311557,
          0.39296482412060296,
          0.4160804020100502,
          0.43919597989949744,
          0.46231155778894467,
          0.4854271356783919,
          0.5085427135678391,
          0.5316582914572864,
          0.5399999000000001,
          0.5400001,
          0.5547738693467336,
          0.5778894472361809,
          0.601005025125628,
          0.6241206030150753,
          0.6472361809045225,
          0.6703517587939698,
          0.693467336683417,
          0.7165829145728643,
          0.7396984924623115,
          0.7628140703517586,
          0.7859296482412059,
          0.8090452261306531,
          0.8321608040201004,
          0.8552763819095476,
          0.8783919597989949,
          0.901507537688442,
          0.9246231155778893,
          0.9477386934673365,
          0.9708542713567838,
          0.993969849246231,
          1.0170854271356782,
          1.0402010050251256,
          1.0633165829145728,
          1.08643216080402,
          1.1095477386934671,
          1.1326633165829143,
          1.1557788944723617,
          1.1788944723618089,
          1.202010050251256,
          1.2251256281407032,
          1.2482412060301507,
          1.2713567839195978,
          1.294472361809045,
          1.3175879396984922,
          1.3407035175879396,
          1.3638190954773868,
          1.386934673366834,
          1.4100502512562811,
          1.4331658291457285,
          1.4562814070351757,
          1.479396984924623,
          1.50251256281407,
          1.5256281407035173,
          1.5487437185929647,
          1.5718592964824118,
          1.594974874371859,
          1.6180904522613062,
          1.6412060301507536,
          1.6643216080402008,
          1.687437185929648,
          1.7105527638190952,
          1.7336683417085426,
          1.7567839195979897,
          1.779899497487437,
          1.803015075376884,
          1.8261306532663315,
          1.8492462311557787,
          1.8723618090452259,
          1.895477386934673,
          1.9185929648241202,
          1.9417085427135676,
          1.9648241206030148,
          1.987939698492462,
          2.011055276381909,
          2.0341708542713564,
          2.0572864321608035,
          2.080402010050251,
          2.1035175879396983,
          2.1266331658291455,
          2.1497487437185927,
          2.17286432160804,
          2.195979899497487,
          2.2190954773869342,
          2.2422110552763814,
          2.2653266331658286,
          2.2884422110552762,
          2.3115577889447234,
          2.3346733668341706,
          2.3577889447236178,
          2.380904522613065,
          2.404020100502512,
          2.4271356783919593,
          2.4502512562814065,
          2.473366834170854,
          2.4964824120603013,
          2.5195979899497485,
          2.5427135678391957,
          2.565829145728643,
          2.58894472361809,
          2.612060301507537,
          2.6351758793969844,
          2.6582914572864316,
          2.681407035175879,
          2.7045226130653264,
          2.7276381909547736,
          2.7507537688442207,
          2.773869346733668,
          2.796984924623115,
          2.8201005025125623,
          2.8432160804020095,
          2.866331658291457,
          2.8894472361809043,
          2.9125628140703514,
          2.9356783919597986,
          2.958793969849246,
          2.981909547738693,
          3.00502512562814,
          3.0281407035175874,
          3.0512562814070345,
          3.074371859296482,
          3.0974874371859293,
          3.1206030150753765,
          3.1437185929648237,
          3.166834170854271,
          3.189949748743718,
          3.2130653266331652,
          3.2361809045226124,
          3.25929648241206,
          3.2824120603015072,
          3.3055276381909544,
          3.3286432160804016,
          3.3517587939698488,
          3.374874371859296,
          3.397989949748743,
          3.4211055276381903,
          3.4442211055276375,
          3.467336683417085,
          3.4904522613065323,
          3.5135678391959795,
          3.5366834170854267,
          3.5399999,
          3.5400001,
          3.559798994974874,
          3.582914572864321,
          3.606030150753768,
          3.6291457286432154,
          3.652261306532663,
          3.67537688442211,
          3.6984924623115574,
          3.7216080402010046,
          3.7447236180904517,
          3.767839195979899,
          3.790954773869346,
          3.8140703517587933,
          3.8371859296482405,
          3.860301507537688,
          3.8834170854271353,
          3.9065326633165824,
          3.9296482412060296,
          3.952763819095477,
          3.975879396984924,
          3.998994974874371,
          4.022110552763818,
          4.0452261306532655,
          4.068341708542713,
          4.09145728643216,
          4.114572864321607,
          4.137688442211054,
          4.160804020100502,
          4.1839195979899495,
          4.207035175879397,
          4.230150753768844,
          4.253266331658291,
          4.276381909547738,
          4.299497487437185,
          4.322613065326633,
          4.34572864321608,
          4.368844221105527,
          4.391959798994974,
          4.415075376884421,
          4.4381909547738685,
          4.461306532663316,
          4.484422110552763,
          4.50753768844221,
          4.530653266331657,
          4.553768844221105,
          4.5768844221105525,
          4.599999899999999,
          4.6
         ],
         "y": [
          0,
          4.340364999950615e-9,
          231.9180875480827,
          927.6699103541071,
          2087.2518086607365,
          3710.6601227106376,
          5797.891192746472,
          8348.941359010903,
          11363.806961746603,
          14842.484341196227,
          18784.969837602443,
          23191.259791207915,
          28061.3505422553,
          33395.23843098727,
          39192.9197976465,
          45454.39098247564,
          52179.64832571735,
          59368.688167614324,
          67021.50684840916,
          75138.10070834462,
          83718.46608766328,
          92762.59932660784,
          102270.49676542099,
          112242.15474434532,
          122677.56960362359,
          126557.22031707814,
          126557.14906017063,
          109199.8309068822,
          82422.0100535705,
          56107.93510134083,
          30257.602390435553,
          4871.008261097653,
          -20051.850946430524,
          -44510.97889190604,
          -68506.37923508644,
          -92038.05563572887,
          -115106.01175359075,
          -137710.25124842965,
          -159850.77778000245,
          -181527.59500806686,
          -202740.70659237995,
          -223490.1161926993,
          -243775.82746878214,
          -263597.8440803857,
          -282956.1696872675,
          -301850.8079491848,
          -320281.76252589485,
          -338249.037077155,
          -355752.63526272273,
          -372792.5607423554,
          -389368.81717581005,
          -405481.40822284424,
          -421130.33754321514,
          -436315.6087966807,
          -451037.2256429972,
          -465295.19174192275,
          -479089.5107532146,
          -492420.1863366298,
          -505287.2221519259,
          -517690.62185886037,
          -529630.3891171901,
          -541106.5275866728,
          -552119.0409270655,
          -562667.9327981262,
          -572753.2068596114,
          -582374.8667712788,
          -591532.9161928857,
          -600227.3587841898,
          -608458.1982049479,
          -616225.4381149175,
          -623529.082173856,
          -630369.134041521,
          -636745.5973776688,
          -642658.4758420582,
          -648107.7730944455,
          -653093.4927945884,
          -657615.6386022444,
          -661674.2141771703,
          -665269.2231791241,
          -668400.6692678626,
          -671068.5561031434,
          -673272.8873447238,
          -675013.6666523607,
          -676290.8976858123,
          -677104.5841048353,
          -677454.7295691874,
          -677341.3377386255,
          -676764.4122729073,
          -675723.9568317903,
          -674219.9750750312,
          -672252.4706623878,
          -669821.4472536179,
          -666926.9085084773,
          -663568.8580867243,
          -659747.299648117,
          -655462.2368524114,
          -650713.6733593654,
          -645501.6128287367,
          -639826.0589202824,
          -633687.0152937602,
          -627084.4856089256,
          -620018.4735255376,
          -612488.9827033537,
          -604496.0168021307,
          -596039.5794816255,
          -587119.6744015967,
          -577736.3052218002,
          -567889.4756019949,
          -557579.1892019361,
          -546805.4496813831,
          -535568.2607000913,
          -523867.6259178198,
          -511703.54899432557,
          -499076.0335893654,
          -485985.0833626967,
          -472430.7019740776,
          -458412.89308326505,
          -443931.6603500154,
          -428987.0074340869,
          -413578.93799523637,
          -397707.45569322165,
          -381372.56418780005,
          -364574.2671387289,
          -347312.5682057664,
          -329587.47104866756,
          -311398.9793271916,
          -292747.0967010949,
          -273631.8268301352,
          -254053.17337407032,
          -234011.1399926562,
          -213505.73034565244,
          -192536.94809281407,
          -171104.79689390073,
          -149209.28040866693,
          -126850.40229687188,
          -104028.16621827288,
          -80742.57583262585,
          -56993.63479969045,
          -32781.34677922167,
          -8105.715430979617,
          17033.25558528118,
          42635.56260980293,
          68701.201982826,
          95230.1700445963,
          122222.46313535329,
          149678.07759534288,
          177597.00976480544,
          205979.2559839841,
          234824.81259312108,
          264133.67593246046,
          293905.84234224446,
          324141.30816271435,
          354840.0697341133,
          386002.1233966863,
          417627.46549067367,
          449716.0923563186,
          482268.0003338633,
          486976.35309116356,
          486976.40331528895,
          468953.5496613309,
          448341.5707945153,
          428192.862060328,
          408507.41979901213,
          389285.24035080895,
          370526.32005596254,
          352230.6552547151,
          334398.242287308,
          317029.077493988,
          300123.15721499175,
          283680.4777905671,
          267701.03556095343,
          252184.8268663967,
          237131.8480471354,
          222542.09544341546,
          208415.56539547723,
          194752.2542435648,
          181552.15832792036,
          168815.27398878802,
          156541.5975664081,
          144731.1254010247,
          133383.8538328819,
          122499.77920221724,
          112078.89784927946,
          102121.20611430798,
          92626.70033754501,
          83595.37685923651,
          75027.23201962095,
          66922.26215894241,
          59280.46361744497,
          52101.832735370845,
          45386.36585296225,
          39134.059310461394,
          33344.9094481105,
          28018.912606153637,
          23156.065124833025,
          18756.363344390877,
          14819.803605071269,
          11346.382247113623,
          8336.09561076574,
          5788.9400362651795,
          3704.9118638578802,
          2084.007433786057,
          926.2230862928554,
          231.55516161490232,
          8.381903171539307e-9,
          3.725290298461914e-9
         ]
        }
       ],
       "layout": {
        "annotations": [
         {
          "arrowhead": 1,
          "ax": 0,
          "ay": -40,
          "showarrow": true,
          "text": "0.390 m<br>66014.056 N.m",
          "x": 0.39,
          "xref": "x",
          "y": 66014.0560896632,
          "yref": "y"
         },
         {
          "arrowhead": 1,
          "ax": 0,
          "ay": 40,
          "showarrow": true,
          "text": "0.690 m<br>-40871.778 N.m",
          "x": 0.6900000000000001,
          "xref": "x",
          "y": -40871.77753433,
          "yref": "y"
         },
         {
          "arrowhead": 1,
          "ax": 0,
          "ay": -40,
          "showarrow": true,
          "text": "3.340 m<br>220093.432 N.m",
          "x": 3.34,
          "xref": "x",
          "y": 220093.4320775354,
          "yref": "y"
         },
         {
          "arrowhead": 1,
          "ax": 0,
          "ay": -40,
          "showarrow": true,
          "text": "3.740 m<br>320540.844 N.m",
          "x": 3.74,
          "xref": "x",
          "y": 320540.843574401,
          "yref": "y"
         }
        ],
        "template": {
         "data": {
          "bar": [
           {
            "error_x": {
             "color": "#2a3f5f"
            },
            "error_y": {
             "color": "#2a3f5f"
            },
            "marker": {
             "line": {
              "color": "#E5ECF6",
              "width": 0.5
             },
             "pattern": {
              "fillmode": "overlay",
              "size": 10,
              "solidity": 0.2
             }
            },
            "type": "bar"
           }
          ],
          "barpolar": [
           {
            "marker": {
             "line": {
              "color": "#E5ECF6",
              "width": 0.5
             },
             "pattern": {
              "fillmode": "overlay",
              "size": 10,
              "solidity": 0.2
             }
            },
            "type": "barpolar"
           }
          ],
          "carpet": [
           {
            "aaxis": {
             "endlinecolor": "#2a3f5f",
             "gridcolor": "white",
             "linecolor": "white",
             "minorgridcolor": "white",
             "startlinecolor": "#2a3f5f"
            },
            "baxis": {
             "endlinecolor": "#2a3f5f",
             "gridcolor": "white",
             "linecolor": "white",
             "minorgridcolor": "white",
             "startlinecolor": "#2a3f5f"
            },
            "type": "carpet"
           }
          ],
          "choropleth": [
           {
            "colorbar": {
             "outlinewidth": 0,
             "ticks": ""
            },
            "type": "choropleth"
           }
          ],
          "contour": [
           {
            "colorbar": {
             "outlinewidth": 0,
             "ticks": ""
            },
            "colorscale": [
             [
              0,
              "#0d0887"
             ],
             [
              0.1111111111111111,
              "#46039f"
             ],
             [
              0.2222222222222222,
              "#7201a8"
             ],
             [
              0.3333333333333333,
              "#9c179e"
             ],
             [
              0.4444444444444444,
              "#bd3786"
             ],
             [
              0.5555555555555556,
              "#d8576b"
             ],
             [
              0.6666666666666666,
              "#ed7953"
             ],
             [
              0.7777777777777778,
              "#fb9f3a"
             ],
             [
              0.8888888888888888,
              "#fdca26"
             ],
             [
              1,
              "#f0f921"
             ]
            ],
            "type": "contour"
           }
          ],
          "contourcarpet": [
           {
            "colorbar": {
             "outlinewidth": 0,
             "ticks": ""
            },
            "type": "contourcarpet"
           }
          ],
          "heatmap": [
           {
            "colorbar": {
             "outlinewidth": 0,
             "ticks": ""
            },
            "colorscale": [
             [
              0,
              "#0d0887"
             ],
             [
              0.1111111111111111,
              "#46039f"
             ],
             [
              0.2222222222222222,
              "#7201a8"
             ],
             [
              0.3333333333333333,
              "#9c179e"
             ],
             [
              0.4444444444444444,
              "#bd3786"
             ],
             [
              0.5555555555555556,
              "#d8576b"
             ],
             [
              0.6666666666666666,
              "#ed7953"
             ],
             [
              0.7777777777777778,
              "#fb9f3a"
             ],
             [
              0.8888888888888888,
              "#fdca26"
             ],
             [
              1,
              "#f0f921"
             ]
            ],
            "type": "heatmap"
           }
          ],
          "heatmapgl": [
           {
            "colorbar": {
             "outlinewidth": 0,
             "ticks": ""
            },
            "colorscale": [
             [
              0,
              "#0d0887"
             ],
             [
              0.1111111111111111,
              "#46039f"
             ],
             [
              0.2222222222222222,
              "#7201a8"
             ],
             [
              0.3333333333333333,
              "#9c179e"
             ],
             [
              0.4444444444444444,
              "#bd3786"
             ],
             [
              0.5555555555555556,
              "#d8576b"
             ],
             [
              0.6666666666666666,
              "#ed7953"
             ],
             [
              0.7777777777777778,
              "#fb9f3a"
             ],
             [
              0.8888888888888888,
              "#fdca26"
             ],
             [
              1,
              "#f0f921"
             ]
            ],
            "type": "heatmapgl"
           }
          ],
          "histogram": [
           {
            "marker": {
             "pattern": {
              "fillmode": "overlay",
              "size": 10,
              "solidity": 0.2
             }
            },
            "type": "histogram"
           }
          ],
          "histogram2d": [
           {
            "colorbar": {
             "outlinewidth": 0,
             "ticks": ""
            },
            "colorscale": [
             [
              0,
              "#0d0887"
             ],
             [
              0.1111111111111111,
              "#46039f"
             ],
             [
              0.2222222222222222,
              "#7201a8"
             ],
             [
              0.3333333333333333,
              "#9c179e"
             ],
             [
              0.4444444444444444,
              "#bd3786"
             ],
             [
              0.5555555555555556,
              "#d8576b"
             ],
             [
              0.6666666666666666,
              "#ed7953"
             ],
             [
              0.7777777777777778,
              "#fb9f3a"
             ],
             [
              0.8888888888888888,
              "#fdca26"
             ],
             [
              1,
              "#f0f921"
             ]
            ],
            "type": "histogram2d"
           }
          ],
          "histogram2dcontour": [
           {
            "colorbar": {
             "outlinewidth": 0,
             "ticks": ""
            },
            "colorscale": [
             [
              0,
              "#0d0887"
             ],
             [
              0.1111111111111111,
              "#46039f"
             ],
             [
              0.2222222222222222,
              "#7201a8"
             ],
             [
              0.3333333333333333,
              "#9c179e"
             ],
             [
              0.4444444444444444,
              "#bd3786"
             ],
             [
              0.5555555555555556,
              "#d8576b"
             ],
             [
              0.6666666666666666,
              "#ed7953"
             ],
             [
              0.7777777777777778,
              "#fb9f3a"
             ],
             [
              0.8888888888888888,
              "#fdca26"
             ],
             [
              1,
              "#f0f921"
             ]
            ],
            "type": "histogram2dcontour"
           }
          ],
          "mesh3d": [
           {
            "colorbar": {
             "outlinewidth": 0,
             "ticks": ""
            },
            "type": "mesh3d"
           }
          ],
          "parcoords": [
           {
            "line": {
             "colorbar": {
              "outlinewidth": 0,
              "ticks": ""
             }
            },
            "type": "parcoords"
           }
          ],
          "pie": [
           {
            "automargin": true,
            "type": "pie"
           }
          ],
          "scatter": [
           {
            "fillpattern": {
             "fillmode": "overlay",
             "size": 10,
             "solidity": 0.2
            },
            "type": "scatter"
           }
          ],
          "scatter3d": [
           {
            "line": {
             "colorbar": {
              "outlinewidth": 0,
              "ticks": ""
             }
            },
            "marker": {
             "colorbar": {
              "outlinewidth": 0,
              "ticks": ""
             }
            },
            "type": "scatter3d"
           }
          ],
          "scattercarpet": [
           {
            "marker": {
             "colorbar": {
              "outlinewidth": 0,
              "ticks": ""
             }
            },
            "type": "scattercarpet"
           }
          ],
          "scattergeo": [
           {
            "marker": {
             "colorbar": {
              "outlinewidth": 0,
              "ticks": ""
             }
            },
            "type": "scattergeo"
           }
          ],
          "scattergl": [
           {
            "marker": {
             "colorbar": {
              "outlinewidth": 0,
              "ticks": ""
             }
            },
            "type": "scattergl"
           }
          ],
          "scattermapbox": [
           {
            "marker": {
             "colorbar": {
              "outlinewidth": 0,
              "ticks": ""
             }
            },
            "type": "scattermapbox"
           }
          ],
          "scatterpolar": [
           {
            "marker": {
             "colorbar": {
              "outlinewidth": 0,
              "ticks": ""
             }
            },
            "type": "scatterpolar"
           }
          ],
          "scatterpolargl": [
           {
            "marker": {
             "colorbar": {
              "outlinewidth": 0,
              "ticks": ""
             }
            },
            "type": "scatterpolargl"
           }
          ],
          "scatterternary": [
           {
            "marker": {
             "colorbar": {
              "outlinewidth": 0,
              "ticks": ""
             }
            },
            "type": "scatterternary"
           }
          ],
          "surface": [
           {
            "colorbar": {
             "outlinewidth": 0,
             "ticks": ""
            },
            "colorscale": [
             [
              0,
              "#0d0887"
             ],
             [
              0.1111111111111111,
              "#46039f"
             ],
             [
              0.2222222222222222,
              "#7201a8"
             ],
             [
              0.3333333333333333,
              "#9c179e"
             ],
             [
              0.4444444444444444,
              "#bd3786"
             ],
             [
              0.5555555555555556,
              "#d8576b"
             ],
             [
              0.6666666666666666,
              "#ed7953"
             ],
             [
              0.7777777777777778,
              "#fb9f3a"
             ],
             [
              0.8888888888888888,
              "#fdca26"
             ],
             [
              1,
              "#f0f921"
             ]
            ],
            "type": "surface"
           }
          ],
          "table": [
           {
            "cells": {
             "fill": {
              "color": "#EBF0F8"
             },
             "line": {
              "color": "white"
             }
            },
            "header": {
             "fill": {
              "color": "#C8D4E3"
             },
             "line": {
              "color": "white"
             }
            },
            "type": "table"
           }
          ]
         },
         "layout": {
          "annotationdefaults": {
           "arrowcolor": "#2a3f5f",
           "arrowhead": 0,
           "arrowwidth": 1
          },
          "autotypenumbers": "strict",
          "coloraxis": {
           "colorbar": {
            "outlinewidth": 0,
            "ticks": ""
           }
          },
          "colorscale": {
           "diverging": [
            [
             0,
             "#8e0152"
            ],
            [
             0.1,
             "#c51b7d"
            ],
            [
             0.2,
             "#de77ae"
            ],
            [
             0.3,
             "#f1b6da"
            ],
            [
             0.4,
             "#fde0ef"
            ],
            [
             0.5,
             "#f7f7f7"
            ],
            [
             0.6,
             "#e6f5d0"
            ],
            [
             0.7,
             "#b8e186"
            ],
            [
             0.8,
             "#7fbc41"
            ],
            [
             0.9,
             "#4d9221"
            ],
            [
             1,
             "#276419"
            ]
           ],
           "sequential": [
            [
             0,
             "#0d0887"
            ],
            [
             0.1111111111111111,
             "#46039f"
            ],
            [
             0.2222222222222222,
             "#7201a8"
            ],
            [
             0.3333333333333333,
             "#9c179e"
            ],
            [
             0.4444444444444444,
             "#bd3786"
            ],
            [
             0.5555555555555556,
             "#d8576b"
            ],
            [
             0.6666666666666666,
             "#ed7953"
            ],
            [
             0.7777777777777778,
             "#fb9f3a"
            ],
            [
             0.8888888888888888,
             "#fdca26"
            ],
            [
             1,
             "#f0f921"
            ]
           ],
           "sequentialminus": [
            [
             0,
             "#0d0887"
            ],
            [
             0.1111111111111111,
             "#46039f"
            ],
            [
             0.2222222222222222,
             "#7201a8"
            ],
            [
             0.3333333333333333,
             "#9c179e"
            ],
            [
             0.4444444444444444,
             "#bd3786"
            ],
            [
             0.5555555555555556,
             "#d8576b"
            ],
            [
             0.6666666666666666,
             "#ed7953"
            ],
            [
             0.7777777777777778,
             "#fb9f3a"
            ],
            [
             0.8888888888888888,
             "#fdca26"
            ],
            [
             1,
             "#f0f921"
            ]
           ]
          },
          "colorway": [
           "#636efa",
           "#EF553B",
           "#00cc96",
           "#ab63fa",
           "#FFA15A",
           "#19d3f3",
           "#FF6692",
           "#B6E880",
           "#FF97FF",
           "#FECB52"
          ],
          "font": {
           "color": "#2a3f5f"
          },
          "geo": {
           "bgcolor": "white",
           "lakecolor": "white",
           "landcolor": "#E5ECF6",
           "showlakes": true,
           "showland": true,
           "subunitcolor": "white"
          },
          "hoverlabel": {
           "align": "left"
          },
          "hovermode": "closest",
          "mapbox": {
           "style": "light"
          },
          "paper_bgcolor": "white",
          "plot_bgcolor": "#E5ECF6",
          "polar": {
           "angularaxis": {
            "gridcolor": "white",
            "linecolor": "white",
            "ticks": ""
           },
           "bgcolor": "#E5ECF6",
           "radialaxis": {
            "gridcolor": "white",
            "linecolor": "white",
            "ticks": ""
           }
          },
          "scene": {
           "xaxis": {
            "backgroundcolor": "#E5ECF6",
            "gridcolor": "white",
            "gridwidth": 2,
            "linecolor": "white",
            "showbackground": true,
            "ticks": "",
            "zerolinecolor": "white"
           },
           "yaxis": {
            "backgroundcolor": "#E5ECF6",
            "gridcolor": "white",
            "gridwidth": 2,
            "linecolor": "white",
            "showbackground": true,
            "ticks": "",
            "zerolinecolor": "white"
           },
           "zaxis": {
            "backgroundcolor": "#E5ECF6",
            "gridcolor": "white",
            "gridwidth": 2,
            "linecolor": "white",
            "showbackground": true,
            "ticks": "",
            "zerolinecolor": "white"
           }
          },
          "shapedefaults": {
           "line": {
            "color": "#2a3f5f"
           }
          },
          "ternary": {
           "aaxis": {
            "gridcolor": "white",
            "linecolor": "white",
            "ticks": ""
           },
           "baxis": {
            "gridcolor": "white",
            "linecolor": "white",
            "ticks": ""
           },
           "bgcolor": "#E5ECF6",
           "caxis": {
            "gridcolor": "white",
            "linecolor": "white",
            "ticks": ""
           }
          },
          "title": {
           "x": 0.05
          },
          "xaxis": {
           "automargin": true,
           "gridcolor": "white",
           "linecolor": "white",
           "ticks": "",
           "title": {
            "standoff": 15
           },
           "zerolinecolor": "white",
           "zerolinewidth": 2
          },
          "yaxis": {
           "automargin": true,
           "gridcolor": "white",
           "linecolor": "white",
           "ticks": "",
           "title": {
            "standoff": 15
           },
           "zerolinecolor": "white",
           "zerolinewidth": 2
          }
         }
        },
        "title": {
         "font": {
          "size": 30
         },
         "text": "Bending Moment Plot"
        },
        "xaxis": {
         "title": {
          "text": "Foundation length"
         }
        },
        "yaxis": {
         "autorange": "reversed",
         "title": {
          "text": "Bending Moment (N.m)"
         }
        }
       }
      }
     },
     "metadata": {},
     "output_type": "display_data"
    }
   ],
   "source": [
    "comb_footing_design.plot_bending_moment_X()"
   ]
  },
  {
   "attachments": {},
   "cell_type": "markdown",
   "metadata": {},
   "source": [
    "#### Show the bending moment diagram in y direction showing the design bending moment"
   ]
  },
  {
   "cell_type": "code",
   "execution_count": 17,
   "metadata": {},
   "outputs": [
    {
     "data": {
      "application/vnd.plotly.v1+json": {
       "config": {
        "plotlyServerURL": "https://plot.ly"
       },
       "data": [
        {
         "fill": "tozeroy",
         "hovertemplate": "x: %{x:.3f} %{meta[0]}<br>f(x): %{y:.3f} %{meta[1]}",
         "line": {
          "color": "lightgreen",
          "width": 1
         },
         "meta": [
          "m",
          "N.m"
         ],
         "mode": "lines",
         "name": "Bending Moment",
         "type": "scatter",
         "x": [
          0,
          1e-7,
          0.011557788944723616,
          0.023115577889447233,
          0.03467336683417085,
          0.046231155778894466,
          0.057788944723618084,
          0.0693467336683417,
          0.08090452261306531,
          0.09246231155778893,
          0.10402010050251255,
          0.11557788944723617,
          0.12713567839195977,
          0.1386934673366834,
          0.150251256281407,
          0.16180904522613063,
          0.17336683417085424,
          0.18492462311557786,
          0.19648241206030148,
          0.2080402010050251,
          0.21959798994974872,
          0.23115577889447234,
          0.24271356783919595,
          0.25427135678391954,
          0.2658291457286432,
          0.2773869346733668,
          0.2889447236180904,
          0.300502512562814,
          0.31206030150753766,
          0.32361809045226125,
          0.3351758793969849,
          0.3467336683417085,
          0.35829145728643214,
          0.3698492462311557,
          0.3814070351758793,
          0.39296482412060296,
          0.40452261306532655,
          0.4160804020100502,
          0.4276381909547738,
          0.43919597989949744,
          0.450753768844221,
          0.46231155778894467,
          0.47386934673366826,
          0.4854271356783919,
          0.4969849246231155,
          0.5085427135678391,
          0.5201005025125628,
          0.5316582914572864,
          0.54321608040201,
          0.5547738693467336,
          0.5663316582914572,
          0.5778894472361809,
          0.5894472361809044,
          0.601005025125628,
          0.6125628140703516,
          0.6241206030150753,
          0.6356783919597989,
          0.6472361809045225,
          0.6587939698492461,
          0.6703517587939698,
          0.6819095477386934,
          0.693467336683417,
          0.7050251256281406,
          0.7165829145728643,
          0.7281407035175879,
          0.7396984924623115,
          0.751256281407035,
          0.7628140703517586,
          0.7743718592964823,
          0.7859296482412059,
          0.7974874371859295,
          0.8090452261306531,
          0.8206030150753768,
          0.8321608040201004,
          0.843718592964824,
          0.8552763819095476,
          0.8668341708542713,
          0.8783919597989949,
          0.8899497487437185,
          0.901507537688442,
          0.9130653266331658,
          0.9246231155778893,
          0.9361809045226129,
          0.9477386934673365,
          0.9592964824120601,
          0.9708542713567838,
          0.9824120603015074,
          0.993969849246231,
          1.0055276381909546,
          1.0170854271356782,
          1.0286432160804018,
          1.0402010050251256,
          1.0517587939698492,
          1.0633165829145728,
          1.0748743718592964,
          1.08643216080402,
          1.0979899497487435,
          1.1095477386934671,
          1.1211055276381907,
          1.1326633165829143,
          1.1442211055276381,
          1.1449999,
          1.1450001,
          1.1557788944723617,
          1.1673366834170853,
          1.1788944723618089,
          1.1904522613065325,
          1.202010050251256,
          1.2135678391959797,
          1.2251256281407032,
          1.236683417085427,
          1.2482412060301507,
          1.2597989949748742,
          1.2713567839195978,
          1.2829145728643214,
          1.294472361809045,
          1.3060301507537686,
          1.3175879396984922,
          1.3291457286432158,
          1.3407035175879396,
          1.3522613065326632,
          1.3638190954773868,
          1.3753768844221104,
          1.386934673366834,
          1.3984924623115575,
          1.4100502512562811,
          1.4216080402010047,
          1.4331658291457285,
          1.4447236180904521,
          1.4562814070351757,
          1.4678391959798993,
          1.479396984924623,
          1.4909547738693465,
          1.50251256281407,
          1.5140703517587937,
          1.5256281407035173,
          1.537185929648241,
          1.5487437185929647,
          1.5603015075376883,
          1.5718592964824118,
          1.5834170854271354,
          1.594974874371859,
          1.6065326633165826,
          1.6180904522613062,
          1.62964824120603,
          1.6412060301507536,
          1.6527638190954772,
          1.6643216080402008,
          1.6758793969849244,
          1.687437185929648,
          1.6989949748743716,
          1.7105527638190952,
          1.7221105527638187,
          1.7336683417085426,
          1.7452261306532662,
          1.7567839195979897,
          1.7683417085427133,
          1.779899497487437,
          1.7914572864321605,
          1.803015075376884,
          1.8145728643216077,
          1.8261306532663315,
          1.837688442211055,
          1.8492462311557787,
          1.8608040201005023,
          1.8723618090452259,
          1.8839195979899495,
          1.895477386934673,
          1.9070351758793966,
          1.9185929648241202,
          1.930150753768844,
          1.9417085427135676,
          1.9532663316582912,
          1.9648241206030148,
          1.9763819095477384,
          1.987939698492462,
          1.9994974874371856,
          2.011055276381909,
          2.0226130653266328,
          2.0341708542713564,
          2.04572864321608,
          2.0572864321608035,
          2.068844221105527,
          2.080402010050251,
          2.0919597989949748,
          2.1035175879396983,
          2.115075376884422,
          2.1266331658291455,
          2.138190954773869,
          2.1497487437185927,
          2.1613065326633163,
          2.17286432160804,
          2.1844221105527635,
          2.195979899497487,
          2.2075376884422107,
          2.2190954773869342,
          2.230653266331658,
          2.2422110552763814,
          2.253768844221105,
          2.2653266331658286,
          2.2768844221105526,
          2.2884422110552762,
          2.2999999,
          2.3
         ],
         "y": [
          0,
          8.787059996720433e-9,
          117.37466793958171,
          469.4784182369892,
          1056.280870610216,
          1877.7516447772557,
          2933.8603604561017,
          4224.576637364747,
          5749.870095221187,
          7509.710353743412,
          9504.06703264942,
          11732.9097516572,
          14196.208130484745,
          16893.931788850055,
          19826.05034647112,
          22992.53342306593,
          26393.350638352484,
          30028.471612048772,
          33897.865963872784,
          38001.503313542526,
          42339.353280775984,
          46911.385485291146,
          51717.569546806015,
          56757.87508503856,
          62032.27171970683,
          67540.72907052875,
          73283.21675722237,
          79259.70439950564,
          85470.1616170966,
          91914.5580297132,
          98592.86325707346,
          105505.04691889534,
          112651.0786348969,
          120030.92802479606,
          127644.56470831083,
          135491.95830515923,
          143573.07843505926,
          151887.8947177289,
          160436.37677288614,
          169218.49422024895,
          178234.21667953534,
          187483.51377046335,
          196966.35511275087,
          206682.71032611604,
          216632.54903027668,
          226815.8408449509,
          237232.5553898568,
          247882.66228471205,
          258766.13114923492,
          269882.9316031433,
          281233.0332661551,
          292816.4057579886,
          304633.0186983616,
          316682.84170699195,
          328965.8444035979,
          341481.9964078974,
          354231.2673396082,
          367213.6268184486,
          380429.0444641364,
          393877.48989638983,
          407558.9327349265,
          421473.3425994647,
          435620.6891097223,
          450000.94188541756,
          464614.070546268,
          479460.04471199197,
          494538.83400230727,
          509850.408036932,
          525394.7364355843,
          541171.7888179818,
          557181.5348038428,
          573423.9440128851,
          589898.986064827,
          606606.630579386,
          623546.8471762803,
          640719.6054752283,
          658124.8750959475,
          675762.625658156,
          693632.8267815718,
          711735.448085913,
          730070.4591908976,
          748637.8297162434,
          767437.5292816687,
          786469.527506891,
          805733.7940116287,
          825230.2984156,
          844959.0103385223,
          864919.8994001138,
          885112.9352200928,
          905538.0874181768,
          926195.3256140844,
          947084.6194275334,
          968205.9384782411,
          989559.2523859263,
          1011144.5307703067,
          1032961.7432511003,
          1055010.859448025,
          1077291.848980799,
          1099804.6814691403,
          1122549.3265327667,
          1145525.753791397,
          1147082.3008886576,
          1147081.07125616,
          1125724.903719019,
          1103049.2159353518,
          1080605.219205842,
          1058392.883150207,
          1036412.1773881656,
          1014663.0715394351,
          993145.5352237336,
          971859.5380607792,
          950805.04967029,
          929982.039671984,
          909390.4776855793,
          889030.3333307937,
          868901.5762273452,
          849004.1759949514,
          829338.1022533312,
          809903.3246222021,
          790699.8127212814,
          771727.5361702883,
          752986.4645889405,
          734476.5675969556,
          716197.8148140514,
          698150.1758599468,
          680333.6203543588,
          662748.1179170064,
          645393.638167606,
          628270.1507258771,
          611377.6252115378,
          594716.031244305,
          578285.3384438974,
          562085.5164300327,
          546116.5348224293,
          530378.3632408045,
          514870.97130487673,
          499594.32863436383,
          484548.404848984,
          469733.1695684551,
          455148.59241249505,
          440794.6430008223,
          426671.2909531547,
          412778.5058892097,
          399116.2574287057,
          385684.51519136014,
          372483.24879689235,
          359512.42786501884,
          346772.02201545844,
          334262.0008679284,
          321982.3340421482,
          309932.9911578349,
          298113.9418347059,
          286525.1556924791,
          275166.60235087434,
          264038.2514296081,
          253140.07254839875,
          242472.03532696422,
          232034.1093850229,
          221826.26434229175,
          211848.46981848963,
          202100.69543333445,
          192582.91080654413,
          183295.0855578361,
          174237.18930692924,
          165409.19167354144,
          156811.06227739016,
          148442.77073819377,
          140304.28667566972,
          132395.57970953733,
          124716.61945951311,
          117267.37554531591,
          110047.81758666318,
          103057.9152032733,
          96297.63801486371,
          89766.95564115373,
          83465.83770185942,
          77394.25381670054,
          71552.17360539455,
          65939.5666876589,
          60556.40268321242,
          55402.651211772114,
          50478.28189305682,
          45783.264346783515,
          41317.568192671984,
          37081.16305043828,
          33074.018539800774,
          29296.104280479252,
          25747.389892189298,
          22427.844994650688,
          19337.439207580872,
          16476.142150696367,
          13843.923443717882,
          11440.752706361469,
          9266.599558345042,
          7321.433619388379,
          5605.224509208463,
          4117.94184752088,
          2859.5552540477365,
          1830.0343485046178,
          1029.3487506108359,
          457.4680800838396,
          114.36195664014667,
          8.381903171539307e-9,
          0
         ]
        }
       ],
       "layout": {
        "annotations": [
         {
          "arrowhead": 1,
          "ax": 0,
          "ay": -40,
          "showarrow": true,
          "text": "0.995 m<br>866710.464 N.m",
          "x": 0.995,
          "xref": "x",
          "y": 866710.464241871,
          "yref": "y"
         },
         {
          "arrowhead": 1,
          "ax": 0,
          "ay": -40,
          "showarrow": true,
          "text": "1.295 m<br>867988.350 N.m",
          "x": 1.295,
          "xref": "x",
          "y": 867988.3500632074,
          "yref": "y"
         }
        ],
        "template": {
         "data": {
          "bar": [
           {
            "error_x": {
             "color": "#2a3f5f"
            },
            "error_y": {
             "color": "#2a3f5f"
            },
            "marker": {
             "line": {
              "color": "#E5ECF6",
              "width": 0.5
             },
             "pattern": {
              "fillmode": "overlay",
              "size": 10,
              "solidity": 0.2
             }
            },
            "type": "bar"
           }
          ],
          "barpolar": [
           {
            "marker": {
             "line": {
              "color": "#E5ECF6",
              "width": 0.5
             },
             "pattern": {
              "fillmode": "overlay",
              "size": 10,
              "solidity": 0.2
             }
            },
            "type": "barpolar"
           }
          ],
          "carpet": [
           {
            "aaxis": {
             "endlinecolor": "#2a3f5f",
             "gridcolor": "white",
             "linecolor": "white",
             "minorgridcolor": "white",
             "startlinecolor": "#2a3f5f"
            },
            "baxis": {
             "endlinecolor": "#2a3f5f",
             "gridcolor": "white",
             "linecolor": "white",
             "minorgridcolor": "white",
             "startlinecolor": "#2a3f5f"
            },
            "type": "carpet"
           }
          ],
          "choropleth": [
           {
            "colorbar": {
             "outlinewidth": 0,
             "ticks": ""
            },
            "type": "choropleth"
           }
          ],
          "contour": [
           {
            "colorbar": {
             "outlinewidth": 0,
             "ticks": ""
            },
            "colorscale": [
             [
              0,
              "#0d0887"
             ],
             [
              0.1111111111111111,
              "#46039f"
             ],
             [
              0.2222222222222222,
              "#7201a8"
             ],
             [
              0.3333333333333333,
              "#9c179e"
             ],
             [
              0.4444444444444444,
              "#bd3786"
             ],
             [
              0.5555555555555556,
              "#d8576b"
             ],
             [
              0.6666666666666666,
              "#ed7953"
             ],
             [
              0.7777777777777778,
              "#fb9f3a"
             ],
             [
              0.8888888888888888,
              "#fdca26"
             ],
             [
              1,
              "#f0f921"
             ]
            ],
            "type": "contour"
           }
          ],
          "contourcarpet": [
           {
            "colorbar": {
             "outlinewidth": 0,
             "ticks": ""
            },
            "type": "contourcarpet"
           }
          ],
          "heatmap": [
           {
            "colorbar": {
             "outlinewidth": 0,
             "ticks": ""
            },
            "colorscale": [
             [
              0,
              "#0d0887"
             ],
             [
              0.1111111111111111,
              "#46039f"
             ],
             [
              0.2222222222222222,
              "#7201a8"
             ],
             [
              0.3333333333333333,
              "#9c179e"
             ],
             [
              0.4444444444444444,
              "#bd3786"
             ],
             [
              0.5555555555555556,
              "#d8576b"
             ],
             [
              0.6666666666666666,
              "#ed7953"
             ],
             [
              0.7777777777777778,
              "#fb9f3a"
             ],
             [
              0.8888888888888888,
              "#fdca26"
             ],
             [
              1,
              "#f0f921"
             ]
            ],
            "type": "heatmap"
           }
          ],
          "heatmapgl": [
           {
            "colorbar": {
             "outlinewidth": 0,
             "ticks": ""
            },
            "colorscale": [
             [
              0,
              "#0d0887"
             ],
             [
              0.1111111111111111,
              "#46039f"
             ],
             [
              0.2222222222222222,
              "#7201a8"
             ],
             [
              0.3333333333333333,
              "#9c179e"
             ],
             [
              0.4444444444444444,
              "#bd3786"
             ],
             [
              0.5555555555555556,
              "#d8576b"
             ],
             [
              0.6666666666666666,
              "#ed7953"
             ],
             [
              0.7777777777777778,
              "#fb9f3a"
             ],
             [
              0.8888888888888888,
              "#fdca26"
             ],
             [
              1,
              "#f0f921"
             ]
            ],
            "type": "heatmapgl"
           }
          ],
          "histogram": [
           {
            "marker": {
             "pattern": {
              "fillmode": "overlay",
              "size": 10,
              "solidity": 0.2
             }
            },
            "type": "histogram"
           }
          ],
          "histogram2d": [
           {
            "colorbar": {
             "outlinewidth": 0,
             "ticks": ""
            },
            "colorscale": [
             [
              0,
              "#0d0887"
             ],
             [
              0.1111111111111111,
              "#46039f"
             ],
             [
              0.2222222222222222,
              "#7201a8"
             ],
             [
              0.3333333333333333,
              "#9c179e"
             ],
             [
              0.4444444444444444,
              "#bd3786"
             ],
             [
              0.5555555555555556,
              "#d8576b"
             ],
             [
              0.6666666666666666,
              "#ed7953"
             ],
             [
              0.7777777777777778,
              "#fb9f3a"
             ],
             [
              0.8888888888888888,
              "#fdca26"
             ],
             [
              1,
              "#f0f921"
             ]
            ],
            "type": "histogram2d"
           }
          ],
          "histogram2dcontour": [
           {
            "colorbar": {
             "outlinewidth": 0,
             "ticks": ""
            },
            "colorscale": [
             [
              0,
              "#0d0887"
             ],
             [
              0.1111111111111111,
              "#46039f"
             ],
             [
              0.2222222222222222,
              "#7201a8"
             ],
             [
              0.3333333333333333,
              "#9c179e"
             ],
             [
              0.4444444444444444,
              "#bd3786"
             ],
             [
              0.5555555555555556,
              "#d8576b"
             ],
             [
              0.6666666666666666,
              "#ed7953"
             ],
             [
              0.7777777777777778,
              "#fb9f3a"
             ],
             [
              0.8888888888888888,
              "#fdca26"
             ],
             [
              1,
              "#f0f921"
             ]
            ],
            "type": "histogram2dcontour"
           }
          ],
          "mesh3d": [
           {
            "colorbar": {
             "outlinewidth": 0,
             "ticks": ""
            },
            "type": "mesh3d"
           }
          ],
          "parcoords": [
           {
            "line": {
             "colorbar": {
              "outlinewidth": 0,
              "ticks": ""
             }
            },
            "type": "parcoords"
           }
          ],
          "pie": [
           {
            "automargin": true,
            "type": "pie"
           }
          ],
          "scatter": [
           {
            "fillpattern": {
             "fillmode": "overlay",
             "size": 10,
             "solidity": 0.2
            },
            "type": "scatter"
           }
          ],
          "scatter3d": [
           {
            "line": {
             "colorbar": {
              "outlinewidth": 0,
              "ticks": ""
             }
            },
            "marker": {
             "colorbar": {
              "outlinewidth": 0,
              "ticks": ""
             }
            },
            "type": "scatter3d"
           }
          ],
          "scattercarpet": [
           {
            "marker": {
             "colorbar": {
              "outlinewidth": 0,
              "ticks": ""
             }
            },
            "type": "scattercarpet"
           }
          ],
          "scattergeo": [
           {
            "marker": {
             "colorbar": {
              "outlinewidth": 0,
              "ticks": ""
             }
            },
            "type": "scattergeo"
           }
          ],
          "scattergl": [
           {
            "marker": {
             "colorbar": {
              "outlinewidth": 0,
              "ticks": ""
             }
            },
            "type": "scattergl"
           }
          ],
          "scattermapbox": [
           {
            "marker": {
             "colorbar": {
              "outlinewidth": 0,
              "ticks": ""
             }
            },
            "type": "scattermapbox"
           }
          ],
          "scatterpolar": [
           {
            "marker": {
             "colorbar": {
              "outlinewidth": 0,
              "ticks": ""
             }
            },
            "type": "scatterpolar"
           }
          ],
          "scatterpolargl": [
           {
            "marker": {
             "colorbar": {
              "outlinewidth": 0,
              "ticks": ""
             }
            },
            "type": "scatterpolargl"
           }
          ],
          "scatterternary": [
           {
            "marker": {
             "colorbar": {
              "outlinewidth": 0,
              "ticks": ""
             }
            },
            "type": "scatterternary"
           }
          ],
          "surface": [
           {
            "colorbar": {
             "outlinewidth": 0,
             "ticks": ""
            },
            "colorscale": [
             [
              0,
              "#0d0887"
             ],
             [
              0.1111111111111111,
              "#46039f"
             ],
             [
              0.2222222222222222,
              "#7201a8"
             ],
             [
              0.3333333333333333,
              "#9c179e"
             ],
             [
              0.4444444444444444,
              "#bd3786"
             ],
             [
              0.5555555555555556,
              "#d8576b"
             ],
             [
              0.6666666666666666,
              "#ed7953"
             ],
             [
              0.7777777777777778,
              "#fb9f3a"
             ],
             [
              0.8888888888888888,
              "#fdca26"
             ],
             [
              1,
              "#f0f921"
             ]
            ],
            "type": "surface"
           }
          ],
          "table": [
           {
            "cells": {
             "fill": {
              "color": "#EBF0F8"
             },
             "line": {
              "color": "white"
             }
            },
            "header": {
             "fill": {
              "color": "#C8D4E3"
             },
             "line": {
              "color": "white"
             }
            },
            "type": "table"
           }
          ]
         },
         "layout": {
          "annotationdefaults": {
           "arrowcolor": "#2a3f5f",
           "arrowhead": 0,
           "arrowwidth": 1
          },
          "autotypenumbers": "strict",
          "coloraxis": {
           "colorbar": {
            "outlinewidth": 0,
            "ticks": ""
           }
          },
          "colorscale": {
           "diverging": [
            [
             0,
             "#8e0152"
            ],
            [
             0.1,
             "#c51b7d"
            ],
            [
             0.2,
             "#de77ae"
            ],
            [
             0.3,
             "#f1b6da"
            ],
            [
             0.4,
             "#fde0ef"
            ],
            [
             0.5,
             "#f7f7f7"
            ],
            [
             0.6,
             "#e6f5d0"
            ],
            [
             0.7,
             "#b8e186"
            ],
            [
             0.8,
             "#7fbc41"
            ],
            [
             0.9,
             "#4d9221"
            ],
            [
             1,
             "#276419"
            ]
           ],
           "sequential": [
            [
             0,
             "#0d0887"
            ],
            [
             0.1111111111111111,
             "#46039f"
            ],
            [
             0.2222222222222222,
             "#7201a8"
            ],
            [
             0.3333333333333333,
             "#9c179e"
            ],
            [
             0.4444444444444444,
             "#bd3786"
            ],
            [
             0.5555555555555556,
             "#d8576b"
            ],
            [
             0.6666666666666666,
             "#ed7953"
            ],
            [
             0.7777777777777778,
             "#fb9f3a"
            ],
            [
             0.8888888888888888,
             "#fdca26"
            ],
            [
             1,
             "#f0f921"
            ]
           ],
           "sequentialminus": [
            [
             0,
             "#0d0887"
            ],
            [
             0.1111111111111111,
             "#46039f"
            ],
            [
             0.2222222222222222,
             "#7201a8"
            ],
            [
             0.3333333333333333,
             "#9c179e"
            ],
            [
             0.4444444444444444,
             "#bd3786"
            ],
            [
             0.5555555555555556,
             "#d8576b"
            ],
            [
             0.6666666666666666,
             "#ed7953"
            ],
            [
             0.7777777777777778,
             "#fb9f3a"
            ],
            [
             0.8888888888888888,
             "#fdca26"
            ],
            [
             1,
             "#f0f921"
            ]
           ]
          },
          "colorway": [
           "#636efa",
           "#EF553B",
           "#00cc96",
           "#ab63fa",
           "#FFA15A",
           "#19d3f3",
           "#FF6692",
           "#B6E880",
           "#FF97FF",
           "#FECB52"
          ],
          "font": {
           "color": "#2a3f5f"
          },
          "geo": {
           "bgcolor": "white",
           "lakecolor": "white",
           "landcolor": "#E5ECF6",
           "showlakes": true,
           "showland": true,
           "subunitcolor": "white"
          },
          "hoverlabel": {
           "align": "left"
          },
          "hovermode": "closest",
          "mapbox": {
           "style": "light"
          },
          "paper_bgcolor": "white",
          "plot_bgcolor": "#E5ECF6",
          "polar": {
           "angularaxis": {
            "gridcolor": "white",
            "linecolor": "white",
            "ticks": ""
           },
           "bgcolor": "#E5ECF6",
           "radialaxis": {
            "gridcolor": "white",
            "linecolor": "white",
            "ticks": ""
           }
          },
          "scene": {
           "xaxis": {
            "backgroundcolor": "#E5ECF6",
            "gridcolor": "white",
            "gridwidth": 2,
            "linecolor": "white",
            "showbackground": true,
            "ticks": "",
            "zerolinecolor": "white"
           },
           "yaxis": {
            "backgroundcolor": "#E5ECF6",
            "gridcolor": "white",
            "gridwidth": 2,
            "linecolor": "white",
            "showbackground": true,
            "ticks": "",
            "zerolinecolor": "white"
           },
           "zaxis": {
            "backgroundcolor": "#E5ECF6",
            "gridcolor": "white",
            "gridwidth": 2,
            "linecolor": "white",
            "showbackground": true,
            "ticks": "",
            "zerolinecolor": "white"
           }
          },
          "shapedefaults": {
           "line": {
            "color": "#2a3f5f"
           }
          },
          "ternary": {
           "aaxis": {
            "gridcolor": "white",
            "linecolor": "white",
            "ticks": ""
           },
           "baxis": {
            "gridcolor": "white",
            "linecolor": "white",
            "ticks": ""
           },
           "bgcolor": "#E5ECF6",
           "caxis": {
            "gridcolor": "white",
            "linecolor": "white",
            "ticks": ""
           }
          },
          "title": {
           "x": 0.05
          },
          "xaxis": {
           "automargin": true,
           "gridcolor": "white",
           "linecolor": "white",
           "ticks": "",
           "title": {
            "standoff": 15
           },
           "zerolinecolor": "white",
           "zerolinewidth": 2
          },
          "yaxis": {
           "automargin": true,
           "gridcolor": "white",
           "linecolor": "white",
           "ticks": "",
           "title": {
            "standoff": 15
           },
           "zerolinecolor": "white",
           "zerolinewidth": 2
          }
         }
        },
        "title": {
         "font": {
          "size": 30
         },
         "text": "Bending Moment Plot"
        },
        "xaxis": {
         "title": {
          "text": "Foundation width"
         }
        },
        "yaxis": {
         "autorange": "reversed",
         "title": {
          "text": "Bending Moment (N.m)"
         }
        }
       }
      }
     },
     "metadata": {},
     "output_type": "display_data"
    }
   ],
   "source": [
    "comb_footing_design.plot_bending_moment_Y()\n"
   ]
  },
  {
   "attachments": {},
   "cell_type": "markdown",
   "metadata": {},
   "source": [
    "#### Show the shear force diagram in x direction showing the design shear forces"
   ]
  },
  {
   "cell_type": "code",
   "execution_count": 18,
   "metadata": {},
   "outputs": [
    {
     "data": {
      "application/vnd.plotly.v1+json": {
       "config": {
        "plotlyServerURL": "https://plot.ly"
       },
       "data": [
        {
         "fill": "tozeroy",
         "hovertemplate": "x: %{x:.3f} %{meta[0]}<br>f(x): %{y:.3f} %{meta[1]}",
         "line": {
          "color": "aqua",
          "width": 1
         },
         "meta": [
          "m",
          "N"
         ],
         "mode": "lines",
         "name": "Shear Force",
         "type": "scatter",
         "x": [
          0,
          1e-7,
          0.023115577889447233,
          0.046231155778894466,
          0.0693467336683417,
          0.09246231155778893,
          0.11557788944723617,
          0.1386934673366834,
          0.16180904522613063,
          0.18492462311557786,
          0.2080402010050251,
          0.23115577889447234,
          0.25427135678391954,
          0.2773869346733668,
          0.300502512562814,
          0.32361809045226125,
          0.3467336683417085,
          0.3698492462311557,
          0.39296482412060296,
          0.4160804020100502,
          0.43919597989949744,
          0.46231155778894467,
          0.4854271356783919,
          0.5085427135678391,
          0.5316582914572864,
          0.5399999000000001,
          0.5400001,
          0.5547738693467336,
          0.5778894472361809,
          0.601005025125628,
          0.6241206030150753,
          0.6472361809045225,
          0.6703517587939698,
          0.693467336683417,
          0.7165829145728643,
          0.7396984924623115,
          0.7628140703517586,
          0.7859296482412059,
          0.8090452261306531,
          0.8321608040201004,
          0.8552763819095476,
          0.8783919597989949,
          0.901507537688442,
          0.9246231155778893,
          0.9477386934673365,
          0.9708542713567838,
          0.993969849246231,
          1.0170854271356782,
          1.0402010050251256,
          1.0633165829145728,
          1.08643216080402,
          1.1095477386934671,
          1.1326633165829143,
          1.1557788944723617,
          1.1788944723618089,
          1.202010050251256,
          1.2251256281407032,
          1.2482412060301507,
          1.2713567839195978,
          1.294472361809045,
          1.3175879396984922,
          1.3407035175879396,
          1.3638190954773868,
          1.386934673366834,
          1.4100502512562811,
          1.4331658291457285,
          1.4562814070351757,
          1.479396984924623,
          1.50251256281407,
          1.5256281407035173,
          1.5487437185929647,
          1.5718592964824118,
          1.594974874371859,
          1.6180904522613062,
          1.6412060301507536,
          1.6643216080402008,
          1.687437185929648,
          1.7105527638190952,
          1.7336683417085426,
          1.7567839195979897,
          1.779899497487437,
          1.803015075376884,
          1.8261306532663315,
          1.8492462311557787,
          1.8723618090452259,
          1.895477386934673,
          1.9185929648241202,
          1.9417085427135676,
          1.9648241206030148,
          1.987939698492462,
          2.011055276381909,
          2.0341708542713564,
          2.0572864321608035,
          2.080402010050251,
          2.1035175879396983,
          2.1266331658291455,
          2.1497487437185927,
          2.17286432160804,
          2.195979899497487,
          2.2190954773869342,
          2.2422110552763814,
          2.2653266331658286,
          2.2884422110552762,
          2.3115577889447234,
          2.3346733668341706,
          2.3577889447236178,
          2.380904522613065,
          2.404020100502512,
          2.4271356783919593,
          2.4502512562814065,
          2.473366834170854,
          2.4964824120603013,
          2.5195979899497485,
          2.5427135678391957,
          2.565829145728643,
          2.58894472361809,
          2.612060301507537,
          2.6351758793969844,
          2.6582914572864316,
          2.681407035175879,
          2.7045226130653264,
          2.7276381909547736,
          2.7507537688442207,
          2.773869346733668,
          2.796984924623115,
          2.8201005025125623,
          2.8432160804020095,
          2.866331658291457,
          2.8894472361809043,
          2.9125628140703514,
          2.9356783919597986,
          2.958793969849246,
          2.981909547738693,
          3.00502512562814,
          3.0281407035175874,
          3.0512562814070345,
          3.074371859296482,
          3.0974874371859293,
          3.1206030150753765,
          3.1437185929648237,
          3.166834170854271,
          3.189949748743718,
          3.2130653266331652,
          3.2361809045226124,
          3.25929648241206,
          3.2824120603015072,
          3.3055276381909544,
          3.3286432160804016,
          3.3517587939698488,
          3.374874371859296,
          3.397989949748743,
          3.4211055276381903,
          3.4442211055276375,
          3.467336683417085,
          3.4904522613065323,
          3.5135678391959795,
          3.5366834170854267,
          3.5399999,
          3.5400001,
          3.559798994974874,
          3.582914572864321,
          3.606030150753768,
          3.6291457286432154,
          3.652261306532663,
          3.67537688442211,
          3.6984924623115574,
          3.7216080402010046,
          3.7447236180904517,
          3.767839195979899,
          3.790954773869346,
          3.8140703517587933,
          3.8371859296482405,
          3.860301507537688,
          3.8834170854271353,
          3.9065326633165824,
          3.9296482412060296,
          3.952763819095477,
          3.975879396984924,
          3.998994974874371,
          4.022110552763818,
          4.0452261306532655,
          4.068341708542713,
          4.09145728643216,
          4.114572864321607,
          4.137688442211054,
          4.160804020100502,
          4.1839195979899495,
          4.207035175879397,
          4.230150753768844,
          4.253266331658291,
          4.276381909547738,
          4.299497487437185,
          4.322613065326633,
          4.34572864321608,
          4.368844221105527,
          4.391959798994974,
          4.415075376884421,
          4.4381909547738685,
          4.461306532663316,
          4.484422110552763,
          4.50753768844221,
          4.530653266331657,
          4.553768844221105,
          4.5768844221105525,
          4.599999899999999,
          4.6
         ],
         "y": [
          0,
          0.08680729999851847,
          20065.929883083758,
          40131.701441882775,
          60197.31467639704,
          80262.76958662659,
          100328.0661725714,
          120393.20443423143,
          140458.18437160677,
          160523.00598469735,
          180587.66927350315,
          200652.17423802428,
          220716.5208782606,
          240780.70919421222,
          260844.7391858791,
          280908.61085326126,
          300972.3241963586,
          321035.87921517127,
          341099.2759096992,
          361162.5142799424,
          381225.59432590083,
          401288.5160475745,
          421351.27944496344,
          441413.88451806764,
          461476.3312668872,
          468716.13203478744,
          -1181285.2074937236,
          -1168462.8934196883,
          -1148400.7633194383,
          -1128338.7915434728,
          -1108276.9780917924,
          -1088215.3229643968,
          -1068153.8261612856,
          -1048092.4876824594,
          -1028031.3075279178,
          -1007970.285697661,
          -987909.422191689,
          -967848.7170100015,
          -947788.1701525991,
          -927727.7816194812,
          -907667.551410648,
          -887607.4795260996,
          -867547.5659658362,
          -847487.8107298571,
          -827428.213818163,
          -807368.7752307536,
          -787309.494967629,
          -767250.3730287891,
          -747191.4094142338,
          -727132.6041239633,
          -707073.9571579777,
          -687015.4685162768,
          -666957.1381988606,
          -646898.9662057289,
          -626840.9525368824,
          -606783.0971923203,
          -586725.4001720431,
          -566667.8614760505,
          -546610.4811043427,
          -526553.2590569196,
          -506496.19533378136,
          -486439.2899349277,
          -466382.54286035895,
          -446325.95411007496,
          -426269.52368407574,
          -406213.251582361,
          -386157.137804931,
          -366101.18235178594,
          -346045.3852229257,
          -325989.74641835014,
          -305934.2659380591,
          -285878.9437820528,
          -265823.7799503315,
          -245768.77444289488,
          -225713.9272597428,
          -205659.2384008757,
          -185604.70786629335,
          -165550.3356559955,
          -145496.12176998236,
          -125442.06620825423,
          -105388.16897081083,
          -85334.43005765216,
          -65280.84946877801,
          -45227.4272041886,
          -25174.16326388416,
          -5121.057647864459,
          14931.889643870501,
          34984.67861132095,
          55037.309254486434,
          75089.7815733674,
          95142.0955679634,
          115194.25123827466,
          135246.24858430118,
          155298.08760604344,
          175349.76830350046,
          195401.290676673,
          215452.65472556054,
          235503.86045016337,
          255554.90785048145,
          275605.79692651477,
          295656.5276782636,
          315707.1001057275,
          335757.514208907,
          355807.76998780144,
          375857.8674424111,
          395907.80657273595,
          415957.5873787761,
          436007.2098605318,
          456056.6740180024,
          476105.9798511884,
          496155.12736009003,
          516204.11654470646,
          536252.9474050382,
          556301.6199410851,
          576350.1341528473,
          596398.4900403253,
          616446.6876035181,
          636494.7268424261,
          656542.6077570494,
          676590.3303473884,
          696637.8946134421,
          716685.3005552113,
          736732.5481726956,
          756779.6374658952,
          776826.5684348099,
          796873.3410794401,
          816919.9553997854,
          836966.4113958464,
          857012.7090676228,
          877058.8484151139,
          897104.8294383202,
          917150.6521372419,
          937196.3165118789,
          957241.822562231,
          977287.1702882984,
          997332.3596900811,
          1017377.3907675795,
          1037422.2635207927,
          1057466.9779497213,
          1077511.5340543655,
          1097555.9318347245,
          1117600.1712907986,
          1137644.2524225882,
          1157688.1752300928,
          1177731.9397133135,
          1197775.5458722487,
          1217818.9937068992,
          1237862.283217265,
          1257905.4144033461,
          1277948.3872651425,
          1297991.201802654,
          1318033.8580158814,
          1338076.3559048234,
          1358118.6954694812,
          1378160.8767098538,
          1398202.8996259416,
          1418244.7642177448,
          1421120.236403873,
          -918878.977080201,
          -901712.916403627,
          -881671.3684603934,
          -861629.9788414445,
          -841588.7475467803,
          -821547.6745764003,
          -801506.7599303056,
          -781466.0036084952,
          -761425.40561097,
          -741384.9659377296,
          -721344.6845887738,
          -701304.5615641028,
          -681264.5968637165,
          -661224.790487615,
          -641185.1424357978,
          -621145.6527082657,
          -601106.3213050185,
          -581067.1482260559,
          -561028.1334713781,
          -540989.2770409846,
          -520950.5789348762,
          -500912.0391530526,
          -480873.65769551374,
          -460835.43456225964,
          -440797.36975329026,
          -420759.46326860564,
          -400721.71510820574,
          -380684.1252720897,
          -360646.69376025925,
          -340609.4205727136,
          -320572.30570945266,
          -300535.34917047597,
          -280498.5509557845,
          -260461.91106537782,
          -240425.42949925584,
          -220389.10625741864,
          -200352.94133986614,
          -180316.9347465984,
          -160281.08647761538,
          -140245.3965329171,
          -120209.86491250357,
          -100174.49161637432,
          -80139.27664453027,
          -60104.21999697096,
          -40069.321673695464,
          -20034.581674705634,
          -0.08667100088587176,
          -5.479705578181893e-10
         ]
        }
       ],
       "layout": {
        "annotations": [
         {
          "arrowhead": 1,
          "ax": 0,
          "ay": 40,
          "showarrow": true,
          "text": "1.502 m<br>-346490.186 N",
          "x": 1.5020000000000002,
          "xref": "x",
          "y": -346490.1857708616,
          "yref": "y"
         },
         {
          "arrowhead": 1,
          "ax": 0,
          "ay": -40,
          "showarrow": true,
          "text": "2.528 m<br>543540.309 N",
          "x": 2.528,
          "xref": "x",
          "y": 543540.3090786756,
          "yref": "y"
         },
         {
          "arrowhead": 1,
          "ax": 0,
          "ay": 40,
          "showarrow": true,
          "text": "4.552 m<br>-41602.508 N",
          "x": 4.552,
          "xref": "x",
          "y": -41602.508015032,
          "yref": "y"
         }
        ],
        "template": {
         "data": {
          "bar": [
           {
            "error_x": {
             "color": "#2a3f5f"
            },
            "error_y": {
             "color": "#2a3f5f"
            },
            "marker": {
             "line": {
              "color": "#E5ECF6",
              "width": 0.5
             },
             "pattern": {
              "fillmode": "overlay",
              "size": 10,
              "solidity": 0.2
             }
            },
            "type": "bar"
           }
          ],
          "barpolar": [
           {
            "marker": {
             "line": {
              "color": "#E5ECF6",
              "width": 0.5
             },
             "pattern": {
              "fillmode": "overlay",
              "size": 10,
              "solidity": 0.2
             }
            },
            "type": "barpolar"
           }
          ],
          "carpet": [
           {
            "aaxis": {
             "endlinecolor": "#2a3f5f",
             "gridcolor": "white",
             "linecolor": "white",
             "minorgridcolor": "white",
             "startlinecolor": "#2a3f5f"
            },
            "baxis": {
             "endlinecolor": "#2a3f5f",
             "gridcolor": "white",
             "linecolor": "white",
             "minorgridcolor": "white",
             "startlinecolor": "#2a3f5f"
            },
            "type": "carpet"
           }
          ],
          "choropleth": [
           {
            "colorbar": {
             "outlinewidth": 0,
             "ticks": ""
            },
            "type": "choropleth"
           }
          ],
          "contour": [
           {
            "colorbar": {
             "outlinewidth": 0,
             "ticks": ""
            },
            "colorscale": [
             [
              0,
              "#0d0887"
             ],
             [
              0.1111111111111111,
              "#46039f"
             ],
             [
              0.2222222222222222,
              "#7201a8"
             ],
             [
              0.3333333333333333,
              "#9c179e"
             ],
             [
              0.4444444444444444,
              "#bd3786"
             ],
             [
              0.5555555555555556,
              "#d8576b"
             ],
             [
              0.6666666666666666,
              "#ed7953"
             ],
             [
              0.7777777777777778,
              "#fb9f3a"
             ],
             [
              0.8888888888888888,
              "#fdca26"
             ],
             [
              1,
              "#f0f921"
             ]
            ],
            "type": "contour"
           }
          ],
          "contourcarpet": [
           {
            "colorbar": {
             "outlinewidth": 0,
             "ticks": ""
            },
            "type": "contourcarpet"
           }
          ],
          "heatmap": [
           {
            "colorbar": {
             "outlinewidth": 0,
             "ticks": ""
            },
            "colorscale": [
             [
              0,
              "#0d0887"
             ],
             [
              0.1111111111111111,
              "#46039f"
             ],
             [
              0.2222222222222222,
              "#7201a8"
             ],
             [
              0.3333333333333333,
              "#9c179e"
             ],
             [
              0.4444444444444444,
              "#bd3786"
             ],
             [
              0.5555555555555556,
              "#d8576b"
             ],
             [
              0.6666666666666666,
              "#ed7953"
             ],
             [
              0.7777777777777778,
              "#fb9f3a"
             ],
             [
              0.8888888888888888,
              "#fdca26"
             ],
             [
              1,
              "#f0f921"
             ]
            ],
            "type": "heatmap"
           }
          ],
          "heatmapgl": [
           {
            "colorbar": {
             "outlinewidth": 0,
             "ticks": ""
            },
            "colorscale": [
             [
              0,
              "#0d0887"
             ],
             [
              0.1111111111111111,
              "#46039f"
             ],
             [
              0.2222222222222222,
              "#7201a8"
             ],
             [
              0.3333333333333333,
              "#9c179e"
             ],
             [
              0.4444444444444444,
              "#bd3786"
             ],
             [
              0.5555555555555556,
              "#d8576b"
             ],
             [
              0.6666666666666666,
              "#ed7953"
             ],
             [
              0.7777777777777778,
              "#fb9f3a"
             ],
             [
              0.8888888888888888,
              "#fdca26"
             ],
             [
              1,
              "#f0f921"
             ]
            ],
            "type": "heatmapgl"
           }
          ],
          "histogram": [
           {
            "marker": {
             "pattern": {
              "fillmode": "overlay",
              "size": 10,
              "solidity": 0.2
             }
            },
            "type": "histogram"
           }
          ],
          "histogram2d": [
           {
            "colorbar": {
             "outlinewidth": 0,
             "ticks": ""
            },
            "colorscale": [
             [
              0,
              "#0d0887"
             ],
             [
              0.1111111111111111,
              "#46039f"
             ],
             [
              0.2222222222222222,
              "#7201a8"
             ],
             [
              0.3333333333333333,
              "#9c179e"
             ],
             [
              0.4444444444444444,
              "#bd3786"
             ],
             [
              0.5555555555555556,
              "#d8576b"
             ],
             [
              0.6666666666666666,
              "#ed7953"
             ],
             [
              0.7777777777777778,
              "#fb9f3a"
             ],
             [
              0.8888888888888888,
              "#fdca26"
             ],
             [
              1,
              "#f0f921"
             ]
            ],
            "type": "histogram2d"
           }
          ],
          "histogram2dcontour": [
           {
            "colorbar": {
             "outlinewidth": 0,
             "ticks": ""
            },
            "colorscale": [
             [
              0,
              "#0d0887"
             ],
             [
              0.1111111111111111,
              "#46039f"
             ],
             [
              0.2222222222222222,
              "#7201a8"
             ],
             [
              0.3333333333333333,
              "#9c179e"
             ],
             [
              0.4444444444444444,
              "#bd3786"
             ],
             [
              0.5555555555555556,
              "#d8576b"
             ],
             [
              0.6666666666666666,
              "#ed7953"
             ],
             [
              0.7777777777777778,
              "#fb9f3a"
             ],
             [
              0.8888888888888888,
              "#fdca26"
             ],
             [
              1,
              "#f0f921"
             ]
            ],
            "type": "histogram2dcontour"
           }
          ],
          "mesh3d": [
           {
            "colorbar": {
             "outlinewidth": 0,
             "ticks": ""
            },
            "type": "mesh3d"
           }
          ],
          "parcoords": [
           {
            "line": {
             "colorbar": {
              "outlinewidth": 0,
              "ticks": ""
             }
            },
            "type": "parcoords"
           }
          ],
          "pie": [
           {
            "automargin": true,
            "type": "pie"
           }
          ],
          "scatter": [
           {
            "fillpattern": {
             "fillmode": "overlay",
             "size": 10,
             "solidity": 0.2
            },
            "type": "scatter"
           }
          ],
          "scatter3d": [
           {
            "line": {
             "colorbar": {
              "outlinewidth": 0,
              "ticks": ""
             }
            },
            "marker": {
             "colorbar": {
              "outlinewidth": 0,
              "ticks": ""
             }
            },
            "type": "scatter3d"
           }
          ],
          "scattercarpet": [
           {
            "marker": {
             "colorbar": {
              "outlinewidth": 0,
              "ticks": ""
             }
            },
            "type": "scattercarpet"
           }
          ],
          "scattergeo": [
           {
            "marker": {
             "colorbar": {
              "outlinewidth": 0,
              "ticks": ""
             }
            },
            "type": "scattergeo"
           }
          ],
          "scattergl": [
           {
            "marker": {
             "colorbar": {
              "outlinewidth": 0,
              "ticks": ""
             }
            },
            "type": "scattergl"
           }
          ],
          "scattermapbox": [
           {
            "marker": {
             "colorbar": {
              "outlinewidth": 0,
              "ticks": ""
             }
            },
            "type": "scattermapbox"
           }
          ],
          "scatterpolar": [
           {
            "marker": {
             "colorbar": {
              "outlinewidth": 0,
              "ticks": ""
             }
            },
            "type": "scatterpolar"
           }
          ],
          "scatterpolargl": [
           {
            "marker": {
             "colorbar": {
              "outlinewidth": 0,
              "ticks": ""
             }
            },
            "type": "scatterpolargl"
           }
          ],
          "scatterternary": [
           {
            "marker": {
             "colorbar": {
              "outlinewidth": 0,
              "ticks": ""
             }
            },
            "type": "scatterternary"
           }
          ],
          "surface": [
           {
            "colorbar": {
             "outlinewidth": 0,
             "ticks": ""
            },
            "colorscale": [
             [
              0,
              "#0d0887"
             ],
             [
              0.1111111111111111,
              "#46039f"
             ],
             [
              0.2222222222222222,
              "#7201a8"
             ],
             [
              0.3333333333333333,
              "#9c179e"
             ],
             [
              0.4444444444444444,
              "#bd3786"
             ],
             [
              0.5555555555555556,
              "#d8576b"
             ],
             [
              0.6666666666666666,
              "#ed7953"
             ],
             [
              0.7777777777777778,
              "#fb9f3a"
             ],
             [
              0.8888888888888888,
              "#fdca26"
             ],
             [
              1,
              "#f0f921"
             ]
            ],
            "type": "surface"
           }
          ],
          "table": [
           {
            "cells": {
             "fill": {
              "color": "#EBF0F8"
             },
             "line": {
              "color": "white"
             }
            },
            "header": {
             "fill": {
              "color": "#C8D4E3"
             },
             "line": {
              "color": "white"
             }
            },
            "type": "table"
           }
          ]
         },
         "layout": {
          "annotationdefaults": {
           "arrowcolor": "#2a3f5f",
           "arrowhead": 0,
           "arrowwidth": 1
          },
          "autotypenumbers": "strict",
          "coloraxis": {
           "colorbar": {
            "outlinewidth": 0,
            "ticks": ""
           }
          },
          "colorscale": {
           "diverging": [
            [
             0,
             "#8e0152"
            ],
            [
             0.1,
             "#c51b7d"
            ],
            [
             0.2,
             "#de77ae"
            ],
            [
             0.3,
             "#f1b6da"
            ],
            [
             0.4,
             "#fde0ef"
            ],
            [
             0.5,
             "#f7f7f7"
            ],
            [
             0.6,
             "#e6f5d0"
            ],
            [
             0.7,
             "#b8e186"
            ],
            [
             0.8,
             "#7fbc41"
            ],
            [
             0.9,
             "#4d9221"
            ],
            [
             1,
             "#276419"
            ]
           ],
           "sequential": [
            [
             0,
             "#0d0887"
            ],
            [
             0.1111111111111111,
             "#46039f"
            ],
            [
             0.2222222222222222,
             "#7201a8"
            ],
            [
             0.3333333333333333,
             "#9c179e"
            ],
            [
             0.4444444444444444,
             "#bd3786"
            ],
            [
             0.5555555555555556,
             "#d8576b"
            ],
            [
             0.6666666666666666,
             "#ed7953"
            ],
            [
             0.7777777777777778,
             "#fb9f3a"
            ],
            [
             0.8888888888888888,
             "#fdca26"
            ],
            [
             1,
             "#f0f921"
            ]
           ],
           "sequentialminus": [
            [
             0,
             "#0d0887"
            ],
            [
             0.1111111111111111,
             "#46039f"
            ],
            [
             0.2222222222222222,
             "#7201a8"
            ],
            [
             0.3333333333333333,
             "#9c179e"
            ],
            [
             0.4444444444444444,
             "#bd3786"
            ],
            [
             0.5555555555555556,
             "#d8576b"
            ],
            [
             0.6666666666666666,
             "#ed7953"
            ],
            [
             0.7777777777777778,
             "#fb9f3a"
            ],
            [
             0.8888888888888888,
             "#fdca26"
            ],
            [
             1,
             "#f0f921"
            ]
           ]
          },
          "colorway": [
           "#636efa",
           "#EF553B",
           "#00cc96",
           "#ab63fa",
           "#FFA15A",
           "#19d3f3",
           "#FF6692",
           "#B6E880",
           "#FF97FF",
           "#FECB52"
          ],
          "font": {
           "color": "#2a3f5f"
          },
          "geo": {
           "bgcolor": "white",
           "lakecolor": "white",
           "landcolor": "#E5ECF6",
           "showlakes": true,
           "showland": true,
           "subunitcolor": "white"
          },
          "hoverlabel": {
           "align": "left"
          },
          "hovermode": "closest",
          "mapbox": {
           "style": "light"
          },
          "paper_bgcolor": "white",
          "plot_bgcolor": "#E5ECF6",
          "polar": {
           "angularaxis": {
            "gridcolor": "white",
            "linecolor": "white",
            "ticks": ""
           },
           "bgcolor": "#E5ECF6",
           "radialaxis": {
            "gridcolor": "white",
            "linecolor": "white",
            "ticks": ""
           }
          },
          "scene": {
           "xaxis": {
            "backgroundcolor": "#E5ECF6",
            "gridcolor": "white",
            "gridwidth": 2,
            "linecolor": "white",
            "showbackground": true,
            "ticks": "",
            "zerolinecolor": "white"
           },
           "yaxis": {
            "backgroundcolor": "#E5ECF6",
            "gridcolor": "white",
            "gridwidth": 2,
            "linecolor": "white",
            "showbackground": true,
            "ticks": "",
            "zerolinecolor": "white"
           },
           "zaxis": {
            "backgroundcolor": "#E5ECF6",
            "gridcolor": "white",
            "gridwidth": 2,
            "linecolor": "white",
            "showbackground": true,
            "ticks": "",
            "zerolinecolor": "white"
           }
          },
          "shapedefaults": {
           "line": {
            "color": "#2a3f5f"
           }
          },
          "ternary": {
           "aaxis": {
            "gridcolor": "white",
            "linecolor": "white",
            "ticks": ""
           },
           "baxis": {
            "gridcolor": "white",
            "linecolor": "white",
            "ticks": ""
           },
           "bgcolor": "#E5ECF6",
           "caxis": {
            "gridcolor": "white",
            "linecolor": "white",
            "ticks": ""
           }
          },
          "title": {
           "x": 0.05
          },
          "xaxis": {
           "automargin": true,
           "gridcolor": "white",
           "linecolor": "white",
           "ticks": "",
           "title": {
            "standoff": 15
           },
           "zerolinecolor": "white",
           "zerolinewidth": 2
          },
          "yaxis": {
           "automargin": true,
           "gridcolor": "white",
           "linecolor": "white",
           "ticks": "",
           "title": {
            "standoff": 15
           },
           "zerolinecolor": "white",
           "zerolinewidth": 2
          }
         }
        },
        "title": {
         "font": {
          "size": 30
         },
         "text": "Shear Force Plot"
        },
        "xaxis": {
         "title": {
          "text": "Foundation length"
         }
        },
        "yaxis": {
         "title": {
          "text": "Shear Force (N)"
         }
        }
       }
      }
     },
     "metadata": {},
     "output_type": "display_data"
    }
   ],
   "source": [
    "comb_footing_design.plot_shear_force_X()\n"
   ]
  },
  {
   "attachments": {},
   "cell_type": "markdown",
   "metadata": {},
   "source": [
    "#### Show the shear force diagram in Y direction showing the design shear forces"
   ]
  },
  {
   "cell_type": "code",
   "execution_count": 19,
   "metadata": {},
   "outputs": [
    {
     "data": {
      "application/vnd.plotly.v1+json": {
       "config": {
        "plotlyServerURL": "https://plot.ly"
       },
       "data": [
        {
         "fill": "tozeroy",
         "hovertemplate": "x: %{x:.3f} %{meta[0]}<br>f(x): %{y:.3f} %{meta[1]}",
         "line": {
          "color": "aqua",
          "width": 1
         },
         "meta": [
          "m",
          "N"
         ],
         "mode": "lines",
         "name": "Shear Force",
         "type": "scatter",
         "x": [
          0,
          1e-7,
          0.011557788944723616,
          0.023115577889447233,
          0.03467336683417085,
          0.046231155778894466,
          0.057788944723618084,
          0.0693467336683417,
          0.08090452261306531,
          0.09246231155778893,
          0.10402010050251255,
          0.11557788944723617,
          0.12713567839195977,
          0.1386934673366834,
          0.150251256281407,
          0.16180904522613063,
          0.17336683417085424,
          0.18492462311557786,
          0.19648241206030148,
          0.2080402010050251,
          0.21959798994974872,
          0.23115577889447234,
          0.24271356783919595,
          0.25427135678391954,
          0.2658291457286432,
          0.2773869346733668,
          0.2889447236180904,
          0.300502512562814,
          0.31206030150753766,
          0.32361809045226125,
          0.3351758793969849,
          0.3467336683417085,
          0.35829145728643214,
          0.3698492462311557,
          0.3814070351758793,
          0.39296482412060296,
          0.40452261306532655,
          0.4160804020100502,
          0.4276381909547738,
          0.43919597989949744,
          0.450753768844221,
          0.46231155778894467,
          0.47386934673366826,
          0.4854271356783919,
          0.4969849246231155,
          0.5085427135678391,
          0.5201005025125628,
          0.5316582914572864,
          0.54321608040201,
          0.5547738693467336,
          0.5663316582914572,
          0.5778894472361809,
          0.5894472361809044,
          0.601005025125628,
          0.6125628140703516,
          0.6241206030150753,
          0.6356783919597989,
          0.6472361809045225,
          0.6587939698492461,
          0.6703517587939698,
          0.6819095477386934,
          0.693467336683417,
          0.7050251256281406,
          0.7165829145728643,
          0.7281407035175879,
          0.7396984924623115,
          0.751256281407035,
          0.7628140703517586,
          0.7743718592964823,
          0.7859296482412059,
          0.7974874371859295,
          0.8090452261306531,
          0.8206030150753768,
          0.8321608040201004,
          0.843718592964824,
          0.8552763819095476,
          0.8668341708542713,
          0.8783919597989949,
          0.8899497487437185,
          0.901507537688442,
          0.9130653266331658,
          0.9246231155778893,
          0.9361809045226129,
          0.9477386934673365,
          0.9592964824120601,
          0.9708542713567838,
          0.9824120603015074,
          0.993969849246231,
          1.0055276381909546,
          1.0170854271356782,
          1.0286432160804018,
          1.0402010050251256,
          1.0517587939698492,
          1.0633165829145728,
          1.0748743718592964,
          1.08643216080402,
          1.0979899497487435,
          1.1095477386934671,
          1.1211055276381907,
          1.1326633165829143,
          1.1442211055276381,
          1.1449999,
          1.1450001,
          1.1557788944723617,
          1.1673366834170853,
          1.1788944723618089,
          1.1904522613065325,
          1.202010050251256,
          1.2135678391959797,
          1.2251256281407032,
          1.236683417085427,
          1.2482412060301507,
          1.2597989949748742,
          1.2713567839195978,
          1.2829145728643214,
          1.294472361809045,
          1.3060301507537686,
          1.3175879396984922,
          1.3291457286432158,
          1.3407035175879396,
          1.3522613065326632,
          1.3638190954773868,
          1.3753768844221104,
          1.386934673366834,
          1.3984924623115575,
          1.4100502512562811,
          1.4216080402010047,
          1.4331658291457285,
          1.4447236180904521,
          1.4562814070351757,
          1.4678391959798993,
          1.479396984924623,
          1.4909547738693465,
          1.50251256281407,
          1.5140703517587937,
          1.5256281407035173,
          1.537185929648241,
          1.5487437185929647,
          1.5603015075376883,
          1.5718592964824118,
          1.5834170854271354,
          1.594974874371859,
          1.6065326633165826,
          1.6180904522613062,
          1.62964824120603,
          1.6412060301507536,
          1.6527638190954772,
          1.6643216080402008,
          1.6758793969849244,
          1.687437185929648,
          1.6989949748743716,
          1.7105527638190952,
          1.7221105527638187,
          1.7336683417085426,
          1.7452261306532662,
          1.7567839195979897,
          1.7683417085427133,
          1.779899497487437,
          1.7914572864321605,
          1.803015075376884,
          1.8145728643216077,
          1.8261306532663315,
          1.837688442211055,
          1.8492462311557787,
          1.8608040201005023,
          1.8723618090452259,
          1.8839195979899495,
          1.895477386934673,
          1.9070351758793966,
          1.9185929648241202,
          1.930150753768844,
          1.9417085427135676,
          1.9532663316582912,
          1.9648241206030148,
          1.9763819095477384,
          1.987939698492462,
          1.9994974874371856,
          2.011055276381909,
          2.0226130653266328,
          2.0341708542713564,
          2.04572864321608,
          2.0572864321608035,
          2.068844221105527,
          2.080402010050251,
          2.0919597989949748,
          2.1035175879396983,
          2.115075376884422,
          2.1266331658291455,
          2.138190954773869,
          2.1497487437185927,
          2.1613065326633163,
          2.17286432160804,
          2.1844221105527635,
          2.195979899497487,
          2.2075376884422107,
          2.2190954773869342,
          2.230653266331658,
          2.2422110552763814,
          2.253768844221105,
          2.2653266331658286,
          2.2768844221105526,
          2.2884422110552762,
          2.2999999,
          2.3
         ],
         "y": [
          0,
          0.17574119990161302,
          20310.482707507384,
          40618.336860180294,
          60923.56245801873,
          81226.1595010227,
          101526.12798919217,
          121823.46792252718,
          142118.17930102773,
          162410.2621246938,
          182699.7163935254,
          202986.54210752252,
          223270.73926668515,
          243552.30787101333,
          263831.24792050704,
          284107.5594151662,
          304381.242354991,
          324652.2967399813,
          344920.72257013706,
          365186.5198454584,
          385449.68856594525,
          405710.22873159766,
          425968.14034241554,
          446223.42339839897,
          466476.07789954793,
          486726.1038458624,
          506973.5012373424,
          527218.270073988,
          547460.410355799,
          567699.9220827756,
          587936.8052549177,
          608171.0598722254,
          628402.6859346987,
          648631.6834423373,
          668858.0523951413,
          689081.7927931112,
          709302.9046362464,
          729521.3879245473,
          749737.2426580136,
          769950.4688366454,
          790161.0664604427,
          810369.0355294057,
          830574.3760435341,
          850777.0880028282,
          870977.1714072876,
          891174.6262569126,
          911369.4525517032,
          931561.6502916592,
          951751.2194767807,
          971938.1601070678,
          992122.4721825204,
          1012304.1557031387,
          1032483.2106689223,
          1052659.6370798717,
          1072833.4349359863,
          1093004.6042372666,
          1113173.1449837124,
          1133339.0571753236,
          1153502.3408121006,
          1173662.995894043,
          1193821.0224211507,
          1213976.4203934243,
          1234129.189810863,
          1254279.3306734678,
          1274426.8429812377,
          1294571.7267341733,
          1314713.9819322743,
          1334853.6085755406,
          1354990.606663973,
          1375124.9761975706,
          1395256.7171763338,
          1415385.8296002622,
          1435512.3134693566,
          1455636.1687836165,
          1475757.3955430416,
          1495875.9937476325,
          1515991.9633973888,
          1536105.3044923106,
          1556216.017032398,
          1576324.1010176507,
          1596429.5564480694,
          1616532.3833236531,
          1636632.5816444028,
          1656730.1514103177,
          1676825.092621398,
          1696917.4052776443,
          1717007.089379056,
          1737094.144925633,
          1757178.5719173755,
          1777260.3703542836,
          1797339.5402363571,
          1817416.0815635968,
          1837489.9943360016,
          1857561.2785535718,
          1877629.9342163075,
          1897695.9613242086,
          1917759.3598772753,
          1937820.129875508,
          1957878.2713189055,
          1977933.784207469,
          1997986.6685411984,
          1999337.7905444698,
          -1990662.7624792524,
          -1971963.9756799072,
          -1951916.3484558472,
          -1931871.3497866218,
          -1911828.9796722305,
          -1891789.238112674,
          -1871752.1251079522,
          -1851717.6406580645,
          -1831685.7847630112,
          -1811656.5574227925,
          -1791629.958637408,
          -1771605.9884068584,
          -1751584.6467311434,
          -1731565.9336102628,
          -1711549.8490442166,
          -1691536.3930330044,
          -1671525.5655766272,
          -1651517.366675084,
          -1631511.7963283758,
          -1611508.854536502,
          -1591508.541299462,
          -1571510.8566172575,
          -1551515.800489887,
          -1531523.372917351,
          -1511533.5738996493,
          -1491546.4034367818,
          -1471561.8615287493,
          -1451579.9481755514,
          -1431600.663377188,
          -1411624.0071336583,
          -1391649.9794449636,
          -1371678.5803111037,
          -1351709.8097320779,
          -1331743.6677078868,
          -1311780.1542385297,
          -1291819.269324007,
          -1271861.0129643192,
          -1251905.385159466,
          -1231952.3859094472,
          -1212002.0152142625,
          -1192054.2730739126,
          -1172109.1594883972,
          -1152166.6744577158,
          -1132226.8179818694,
          -1112289.5900608571,
          -1092354.9906946796,
          -1072423.0198833365,
          -1052493.6776268282,
          -1032566.9639251536,
          -1012642.878778314,
          -992721.4221863089,
          -972802.5941491378,
          -952886.3946668017,
          -932972.8237393,
          -913061.8813666323,
          -893153.5675487996,
          -873247.8822858013,
          -853344.8255776375,
          -833444.3974243078,
          -813546.5978258125,
          -793651.4267821521,
          -773758.8842933262,
          -753868.9703593348,
          -733981.6849801774,
          -714097.0281558549,
          -694214.999886367,
          -674335.6001717134,
          -654458.8290118944,
          -634584.6864069089,
          -614713.1723567588,
          -594844.2868614432,
          -574978.029920962,
          -555114.4015353153,
          -535253.4017045028,
          -515395.03042852494,
          -495539.2877073817,
          -475686.17354107293,
          -455835.68792959815,
          -435987.83087295835,
          -416142.60237115296,
          -396300.0024241821,
          -376460.0310320448,
          -356622.68819474283,
          -336787.97391227493,
          -316955.88818464195,
          -297126.4310118434,
          -277299.6023938794,
          -257475.40233074935,
          -237653.83082245424,
          -217834.88786899362,
          -198018.57347036747,
          -178204.8876265758,
          -158393.83033761816,
          -138585.4016034954,
          -118779.60142420718,
          -98976.4297997534,
          -79175.88673013363,
          -59377.972215348804,
          -39582.686255397544,
          -19790.028850281662,
          -0.17121540023072157,
          -2.546585164964199e-10
         ]
        }
       ],
       "layout": {
        "annotations": [
         {
          "arrowhead": 1,
          "ax": 0,
          "ay": -40,
          "showarrow": true,
          "text": "0.199 m<br>349335.541 N",
          "x": 0.19899999999999995,
          "xref": "x",
          "y": 349335.541163098,
          "yref": "y"
         },
         {
          "arrowhead": 1,
          "ax": 0,
          "ay": 40,
          "showarrow": true,
          "text": "2.091 m<br>-358270.122 N",
          "x": 2.091,
          "xref": "x",
          "y": -358270.1216914394,
          "yref": "y"
         }
        ],
        "template": {
         "data": {
          "bar": [
           {
            "error_x": {
             "color": "#2a3f5f"
            },
            "error_y": {
             "color": "#2a3f5f"
            },
            "marker": {
             "line": {
              "color": "#E5ECF6",
              "width": 0.5
             },
             "pattern": {
              "fillmode": "overlay",
              "size": 10,
              "solidity": 0.2
             }
            },
            "type": "bar"
           }
          ],
          "barpolar": [
           {
            "marker": {
             "line": {
              "color": "#E5ECF6",
              "width": 0.5
             },
             "pattern": {
              "fillmode": "overlay",
              "size": 10,
              "solidity": 0.2
             }
            },
            "type": "barpolar"
           }
          ],
          "carpet": [
           {
            "aaxis": {
             "endlinecolor": "#2a3f5f",
             "gridcolor": "white",
             "linecolor": "white",
             "minorgridcolor": "white",
             "startlinecolor": "#2a3f5f"
            },
            "baxis": {
             "endlinecolor": "#2a3f5f",
             "gridcolor": "white",
             "linecolor": "white",
             "minorgridcolor": "white",
             "startlinecolor": "#2a3f5f"
            },
            "type": "carpet"
           }
          ],
          "choropleth": [
           {
            "colorbar": {
             "outlinewidth": 0,
             "ticks": ""
            },
            "type": "choropleth"
           }
          ],
          "contour": [
           {
            "colorbar": {
             "outlinewidth": 0,
             "ticks": ""
            },
            "colorscale": [
             [
              0,
              "#0d0887"
             ],
             [
              0.1111111111111111,
              "#46039f"
             ],
             [
              0.2222222222222222,
              "#7201a8"
             ],
             [
              0.3333333333333333,
              "#9c179e"
             ],
             [
              0.4444444444444444,
              "#bd3786"
             ],
             [
              0.5555555555555556,
              "#d8576b"
             ],
             [
              0.6666666666666666,
              "#ed7953"
             ],
             [
              0.7777777777777778,
              "#fb9f3a"
             ],
             [
              0.8888888888888888,
              "#fdca26"
             ],
             [
              1,
              "#f0f921"
             ]
            ],
            "type": "contour"
           }
          ],
          "contourcarpet": [
           {
            "colorbar": {
             "outlinewidth": 0,
             "ticks": ""
            },
            "type": "contourcarpet"
           }
          ],
          "heatmap": [
           {
            "colorbar": {
             "outlinewidth": 0,
             "ticks": ""
            },
            "colorscale": [
             [
              0,
              "#0d0887"
             ],
             [
              0.1111111111111111,
              "#46039f"
             ],
             [
              0.2222222222222222,
              "#7201a8"
             ],
             [
              0.3333333333333333,
              "#9c179e"
             ],
             [
              0.4444444444444444,
              "#bd3786"
             ],
             [
              0.5555555555555556,
              "#d8576b"
             ],
             [
              0.6666666666666666,
              "#ed7953"
             ],
             [
              0.7777777777777778,
              "#fb9f3a"
             ],
             [
              0.8888888888888888,
              "#fdca26"
             ],
             [
              1,
              "#f0f921"
             ]
            ],
            "type": "heatmap"
           }
          ],
          "heatmapgl": [
           {
            "colorbar": {
             "outlinewidth": 0,
             "ticks": ""
            },
            "colorscale": [
             [
              0,
              "#0d0887"
             ],
             [
              0.1111111111111111,
              "#46039f"
             ],
             [
              0.2222222222222222,
              "#7201a8"
             ],
             [
              0.3333333333333333,
              "#9c179e"
             ],
             [
              0.4444444444444444,
              "#bd3786"
             ],
             [
              0.5555555555555556,
              "#d8576b"
             ],
             [
              0.6666666666666666,
              "#ed7953"
             ],
             [
              0.7777777777777778,
              "#fb9f3a"
             ],
             [
              0.8888888888888888,
              "#fdca26"
             ],
             [
              1,
              "#f0f921"
             ]
            ],
            "type": "heatmapgl"
           }
          ],
          "histogram": [
           {
            "marker": {
             "pattern": {
              "fillmode": "overlay",
              "size": 10,
              "solidity": 0.2
             }
            },
            "type": "histogram"
           }
          ],
          "histogram2d": [
           {
            "colorbar": {
             "outlinewidth": 0,
             "ticks": ""
            },
            "colorscale": [
             [
              0,
              "#0d0887"
             ],
             [
              0.1111111111111111,
              "#46039f"
             ],
             [
              0.2222222222222222,
              "#7201a8"
             ],
             [
              0.3333333333333333,
              "#9c179e"
             ],
             [
              0.4444444444444444,
              "#bd3786"
             ],
             [
              0.5555555555555556,
              "#d8576b"
             ],
             [
              0.6666666666666666,
              "#ed7953"
             ],
             [
              0.7777777777777778,
              "#fb9f3a"
             ],
             [
              0.8888888888888888,
              "#fdca26"
             ],
             [
              1,
              "#f0f921"
             ]
            ],
            "type": "histogram2d"
           }
          ],
          "histogram2dcontour": [
           {
            "colorbar": {
             "outlinewidth": 0,
             "ticks": ""
            },
            "colorscale": [
             [
              0,
              "#0d0887"
             ],
             [
              0.1111111111111111,
              "#46039f"
             ],
             [
              0.2222222222222222,
              "#7201a8"
             ],
             [
              0.3333333333333333,
              "#9c179e"
             ],
             [
              0.4444444444444444,
              "#bd3786"
             ],
             [
              0.5555555555555556,
              "#d8576b"
             ],
             [
              0.6666666666666666,
              "#ed7953"
             ],
             [
              0.7777777777777778,
              "#fb9f3a"
             ],
             [
              0.8888888888888888,
              "#fdca26"
             ],
             [
              1,
              "#f0f921"
             ]
            ],
            "type": "histogram2dcontour"
           }
          ],
          "mesh3d": [
           {
            "colorbar": {
             "outlinewidth": 0,
             "ticks": ""
            },
            "type": "mesh3d"
           }
          ],
          "parcoords": [
           {
            "line": {
             "colorbar": {
              "outlinewidth": 0,
              "ticks": ""
             }
            },
            "type": "parcoords"
           }
          ],
          "pie": [
           {
            "automargin": true,
            "type": "pie"
           }
          ],
          "scatter": [
           {
            "fillpattern": {
             "fillmode": "overlay",
             "size": 10,
             "solidity": 0.2
            },
            "type": "scatter"
           }
          ],
          "scatter3d": [
           {
            "line": {
             "colorbar": {
              "outlinewidth": 0,
              "ticks": ""
             }
            },
            "marker": {
             "colorbar": {
              "outlinewidth": 0,
              "ticks": ""
             }
            },
            "type": "scatter3d"
           }
          ],
          "scattercarpet": [
           {
            "marker": {
             "colorbar": {
              "outlinewidth": 0,
              "ticks": ""
             }
            },
            "type": "scattercarpet"
           }
          ],
          "scattergeo": [
           {
            "marker": {
             "colorbar": {
              "outlinewidth": 0,
              "ticks": ""
             }
            },
            "type": "scattergeo"
           }
          ],
          "scattergl": [
           {
            "marker": {
             "colorbar": {
              "outlinewidth": 0,
              "ticks": ""
             }
            },
            "type": "scattergl"
           }
          ],
          "scattermapbox": [
           {
            "marker": {
             "colorbar": {
              "outlinewidth": 0,
              "ticks": ""
             }
            },
            "type": "scattermapbox"
           }
          ],
          "scatterpolar": [
           {
            "marker": {
             "colorbar": {
              "outlinewidth": 0,
              "ticks": ""
             }
            },
            "type": "scatterpolar"
           }
          ],
          "scatterpolargl": [
           {
            "marker": {
             "colorbar": {
              "outlinewidth": 0,
              "ticks": ""
             }
            },
            "type": "scatterpolargl"
           }
          ],
          "scatterternary": [
           {
            "marker": {
             "colorbar": {
              "outlinewidth": 0,
              "ticks": ""
             }
            },
            "type": "scatterternary"
           }
          ],
          "surface": [
           {
            "colorbar": {
             "outlinewidth": 0,
             "ticks": ""
            },
            "colorscale": [
             [
              0,
              "#0d0887"
             ],
             [
              0.1111111111111111,
              "#46039f"
             ],
             [
              0.2222222222222222,
              "#7201a8"
             ],
             [
              0.3333333333333333,
              "#9c179e"
             ],
             [
              0.4444444444444444,
              "#bd3786"
             ],
             [
              0.5555555555555556,
              "#d8576b"
             ],
             [
              0.6666666666666666,
              "#ed7953"
             ],
             [
              0.7777777777777778,
              "#fb9f3a"
             ],
             [
              0.8888888888888888,
              "#fdca26"
             ],
             [
              1,
              "#f0f921"
             ]
            ],
            "type": "surface"
           }
          ],
          "table": [
           {
            "cells": {
             "fill": {
              "color": "#EBF0F8"
             },
             "line": {
              "color": "white"
             }
            },
            "header": {
             "fill": {
              "color": "#C8D4E3"
             },
             "line": {
              "color": "white"
             }
            },
            "type": "table"
           }
          ]
         },
         "layout": {
          "annotationdefaults": {
           "arrowcolor": "#2a3f5f",
           "arrowhead": 0,
           "arrowwidth": 1
          },
          "autotypenumbers": "strict",
          "coloraxis": {
           "colorbar": {
            "outlinewidth": 0,
            "ticks": ""
           }
          },
          "colorscale": {
           "diverging": [
            [
             0,
             "#8e0152"
            ],
            [
             0.1,
             "#c51b7d"
            ],
            [
             0.2,
             "#de77ae"
            ],
            [
             0.3,
             "#f1b6da"
            ],
            [
             0.4,
             "#fde0ef"
            ],
            [
             0.5,
             "#f7f7f7"
            ],
            [
             0.6,
             "#e6f5d0"
            ],
            [
             0.7,
             "#b8e186"
            ],
            [
             0.8,
             "#7fbc41"
            ],
            [
             0.9,
             "#4d9221"
            ],
            [
             1,
             "#276419"
            ]
           ],
           "sequential": [
            [
             0,
             "#0d0887"
            ],
            [
             0.1111111111111111,
             "#46039f"
            ],
            [
             0.2222222222222222,
             "#7201a8"
            ],
            [
             0.3333333333333333,
             "#9c179e"
            ],
            [
             0.4444444444444444,
             "#bd3786"
            ],
            [
             0.5555555555555556,
             "#d8576b"
            ],
            [
             0.6666666666666666,
             "#ed7953"
            ],
            [
             0.7777777777777778,
             "#fb9f3a"
            ],
            [
             0.8888888888888888,
             "#fdca26"
            ],
            [
             1,
             "#f0f921"
            ]
           ],
           "sequentialminus": [
            [
             0,
             "#0d0887"
            ],
            [
             0.1111111111111111,
             "#46039f"
            ],
            [
             0.2222222222222222,
             "#7201a8"
            ],
            [
             0.3333333333333333,
             "#9c179e"
            ],
            [
             0.4444444444444444,
             "#bd3786"
            ],
            [
             0.5555555555555556,
             "#d8576b"
            ],
            [
             0.6666666666666666,
             "#ed7953"
            ],
            [
             0.7777777777777778,
             "#fb9f3a"
            ],
            [
             0.8888888888888888,
             "#fdca26"
            ],
            [
             1,
             "#f0f921"
            ]
           ]
          },
          "colorway": [
           "#636efa",
           "#EF553B",
           "#00cc96",
           "#ab63fa",
           "#FFA15A",
           "#19d3f3",
           "#FF6692",
           "#B6E880",
           "#FF97FF",
           "#FECB52"
          ],
          "font": {
           "color": "#2a3f5f"
          },
          "geo": {
           "bgcolor": "white",
           "lakecolor": "white",
           "landcolor": "#E5ECF6",
           "showlakes": true,
           "showland": true,
           "subunitcolor": "white"
          },
          "hoverlabel": {
           "align": "left"
          },
          "hovermode": "closest",
          "mapbox": {
           "style": "light"
          },
          "paper_bgcolor": "white",
          "plot_bgcolor": "#E5ECF6",
          "polar": {
           "angularaxis": {
            "gridcolor": "white",
            "linecolor": "white",
            "ticks": ""
           },
           "bgcolor": "#E5ECF6",
           "radialaxis": {
            "gridcolor": "white",
            "linecolor": "white",
            "ticks": ""
           }
          },
          "scene": {
           "xaxis": {
            "backgroundcolor": "#E5ECF6",
            "gridcolor": "white",
            "gridwidth": 2,
            "linecolor": "white",
            "showbackground": true,
            "ticks": "",
            "zerolinecolor": "white"
           },
           "yaxis": {
            "backgroundcolor": "#E5ECF6",
            "gridcolor": "white",
            "gridwidth": 2,
            "linecolor": "white",
            "showbackground": true,
            "ticks": "",
            "zerolinecolor": "white"
           },
           "zaxis": {
            "backgroundcolor": "#E5ECF6",
            "gridcolor": "white",
            "gridwidth": 2,
            "linecolor": "white",
            "showbackground": true,
            "ticks": "",
            "zerolinecolor": "white"
           }
          },
          "shapedefaults": {
           "line": {
            "color": "#2a3f5f"
           }
          },
          "ternary": {
           "aaxis": {
            "gridcolor": "white",
            "linecolor": "white",
            "ticks": ""
           },
           "baxis": {
            "gridcolor": "white",
            "linecolor": "white",
            "ticks": ""
           },
           "bgcolor": "#E5ECF6",
           "caxis": {
            "gridcolor": "white",
            "linecolor": "white",
            "ticks": ""
           }
          },
          "title": {
           "x": 0.05
          },
          "xaxis": {
           "automargin": true,
           "gridcolor": "white",
           "linecolor": "white",
           "ticks": "",
           "title": {
            "standoff": 15
           },
           "zerolinecolor": "white",
           "zerolinewidth": 2
          },
          "yaxis": {
           "automargin": true,
           "gridcolor": "white",
           "linecolor": "white",
           "ticks": "",
           "title": {
            "standoff": 15
           },
           "zerolinecolor": "white",
           "zerolinewidth": 2
          }
         }
        },
        "title": {
         "font": {
          "size": 30
         },
         "text": "Shear Force Plot"
        },
        "xaxis": {
         "title": {
          "text": "Foundation Width"
         }
        },
        "yaxis": {
         "title": {
          "text": "Shear Force (N)"
         }
        }
       }
      }
     },
     "metadata": {},
     "output_type": "display_data"
    }
   ],
   "source": [
    "comb_footing_design.plot_shear_force_Y()\n"
   ]
  },
  {
   "cell_type": "code",
   "execution_count": 20,
   "metadata": {},
   "outputs": [
    {
     "name": "stdout",
     "output_type": "stream",
     "text": [
      "The negative deisgn moment along x direction is 677.455kN.m while the positive design moment is 320.541kN.m\n"
     ]
    }
   ],
   "source": [
    "z = comb_footing_design.get_design_moment_X()\n",
    "print(f'The negative deisgn moment along x direction is {z[0]}kN.m while the positive design moment is {z[1]}kN.m')"
   ]
  },
  {
   "cell_type": "code",
   "execution_count": 21,
   "metadata": {},
   "outputs": [
    {
     "name": "stdout",
     "output_type": "stream",
     "text": [
      "The negative deisgn moment along y direction is 0.0kN.m while the positive design moment is 867.988kN.m\n"
     ]
    }
   ],
   "source": [
    "z = comb_footing_design.get_design_moment_Y()\n",
    "print(f'The negative deisgn moment along y direction is {z[0]}kN.m while the positive design moment is {z[1]}kN.m')"
   ]
  },
  {
   "cell_type": "code",
   "execution_count": 22,
   "metadata": {},
   "outputs": [
    {
     "name": "stdout",
     "output_type": "stream",
     "text": [
      "The design shear force is 543.54kN\n"
     ]
    }
   ],
   "source": [
    "s = comb_footing_design.get_design_shear_force_X()\n",
    "print(f'The design shear force is {s}kN')"
   ]
  },
  {
   "cell_type": "code",
   "execution_count": 23,
   "metadata": {},
   "outputs": [
    {
     "name": "stdout",
     "output_type": "stream",
     "text": [
      "The design shear force is 358.27kN\n"
     ]
    }
   ],
   "source": [
    "s = comb_footing_design.get_design_shear_force_Y()\n",
    "print(f'The design shear force is {s}kN')"
   ]
  },
  {
   "attachments": {},
   "cell_type": "markdown",
   "metadata": {},
   "source": [
    "#### Show the Top reinforcement area required along the x  "
   ]
  },
  {
   "cell_type": "code",
   "execution_count": 24,
   "metadata": {},
   "outputs": [
    {
     "data": {
      "text/plain": [
       "'Provide H16mm bars spaced at 150.0mm c/c TOP.The area provided is 1340mm²/m parallel to the 4.6m side'"
      ]
     },
     "execution_count": 24,
     "metadata": {},
     "output_type": "execute_result"
    }
   ],
   "source": [
    "comb_footing_design.reinforcement_prov_flexure_X_dir_TOP()"
   ]
  },
  {
   "cell_type": "code",
   "execution_count": 25,
   "metadata": {},
   "outputs": [
    {
     "name": "stdout",
     "output_type": "stream",
     "text": [
      "The area of top steel required in the x direction is 1223.04mm²/m and \n",
      "         1223.04mm²/m bottom steel is required along x direction\n"
     ]
    }
   ],
   "source": [
    "z = comb_footing_design.area_of_steel_reqd_X_dir()\n",
    "print(\n",
    "    f\"The area of top steel required in the x direction is {z[0]}mm\\u00b2/m and \\n \\\n",
    "        {z[1]}mm\\u00b2/m bottom steel is required along x direction\"\n",
    ")"
   ]
  },
  {
   "cell_type": "code",
   "execution_count": 26,
   "metadata": {},
   "outputs": [
    {
     "data": {
      "text/plain": [
       "'Provide H16mm bars spaced at 150.0mm c/c BOTTOM .            The area provided is 1340mm²/m parallel to the                 4.6m side'"
      ]
     },
     "execution_count": 26,
     "metadata": {},
     "output_type": "execute_result"
    }
   ],
   "source": [
    "comb_footing_design.reinforcement_prov_flexure_X_dir_Bottom()"
   ]
  },
  {
   "attachments": {},
   "cell_type": "markdown",
   "metadata": {},
   "source": [
    "#### Show the Top reinforcement area required along the Y directipn"
   ]
  },
  {
   "cell_type": "code",
   "execution_count": 27,
   "metadata": {},
   "outputs": [
    {
     "name": "stdout",
     "output_type": "stream",
     "text": [
      "The area of top steel required in the Y direction is 1223.04mm²/m and \n",
      "         1223.04mm²/m bottom steel is required along y direction\n"
     ]
    }
   ],
   "source": [
    "z = comb_footing_design.area_of_steel_reqd_Y_dir()\n",
    "print(\n",
    "    f\"The area of top steel required in the Y direction is {z[0]}mm\\u00b2/m and \\n \\\n",
    "        {z[1]}mm\\u00b2/m bottom steel is required along y direction\"\n",
    ")"
   ]
  },
  {
   "cell_type": "code",
   "execution_count": 28,
   "metadata": {},
   "outputs": [
    {
     "data": {
      "text/plain": [
       "'Provide H16mm bars spaced at 150.0mm c/c TOP.             The area provided is 1340mm²/m parallel to the                 2.3m side'"
      ]
     },
     "execution_count": 28,
     "metadata": {},
     "output_type": "execute_result"
    }
   ],
   "source": [
    "comb_footing_design.reinforcement_prov_flexure_Y_dir_Top()"
   ]
  },
  {
   "cell_type": "code",
   "execution_count": 29,
   "metadata": {},
   "outputs": [
    {
     "data": {
      "text/plain": [
       "'Provide H16mm bars spaced at 150.0mm c/c Bottom.The area provided is 1340mm²/m parallel to the 2.3m side'"
      ]
     },
     "execution_count": 29,
     "metadata": {},
     "output_type": "execute_result"
    }
   ],
   "source": [
    "comb_footing_design.reinforcement_prov_flexure_Y_dir_Bottom()"
   ]
  },
  {
   "cell_type": "code",
   "execution_count": 30,
   "metadata": {},
   "outputs": [
    {
     "data": {
      "text/plain": [
       "3990.0"
      ]
     },
     "execution_count": 30,
     "metadata": {},
     "output_type": "execute_result"
    }
   ],
   "source": [
    "comb_footing.total_force_Z_dir_uls()"
   ]
  },
  {
   "cell_type": "code",
   "execution_count": 31,
   "metadata": {},
   "outputs": [
    {
     "data": {
      "text/plain": [
       "'The design shear resistance of 655.528kN exceeds the design                shear force of 543.54kN - PASS!!!'"
      ]
     },
     "execution_count": 31,
     "metadata": {},
     "output_type": "execute_result"
    }
   ],
   "source": [
    "comb_footing_design.tranverse_shear_check_Xdir()"
   ]
  },
  {
   "cell_type": "code",
   "execution_count": 32,
   "metadata": {},
   "outputs": [
    {
     "data": {
      "text/plain": [
       "'The design shear resistance of 1318.526kN exceeds the design                 shear force of 358.27kN - PASS!!!'"
      ]
     },
     "execution_count": 32,
     "metadata": {},
     "output_type": "execute_result"
    }
   ],
   "source": [
    "comb_footing_design.tranverse_shear_check_Ydir()"
   ]
  },
  {
   "cell_type": "code",
   "execution_count": 33,
   "metadata": {},
   "outputs": [
    {
     "data": {
      "text/plain": [
       "1.5"
      ]
     },
     "execution_count": 33,
     "metadata": {},
     "output_type": "execute_result"
    }
   ],
   "source": [
    "comb_footing_design.update_punching_shear_stress_factor(1.5)"
   ]
  },
  {
   "cell_type": "code",
   "execution_count": 34,
   "metadata": {},
   "outputs": [
    {
     "data": {
      "text/plain": [
       "'The maximum punching shear resistance of 4.488N/mm²                 exceeds the design punching shear stress of 2.565N/mm² - PASS!!!'"
      ]
     },
     "execution_count": 34,
     "metadata": {},
     "output_type": "execute_result"
    }
   ],
   "source": [
    "comb_footing_design.col_1_punching_shear_column_face()"
   ]
  },
  {
   "cell_type": "code",
   "execution_count": 35,
   "metadata": {},
   "outputs": [
    {
     "data": {
      "text/plain": [
       "'The maximum punching shear resistance of 4.488N/mm² exceeds the design                punching shear stress of 2.729N/mm² - PASS!!!'"
      ]
     },
     "execution_count": 35,
     "metadata": {},
     "output_type": "execute_result"
    }
   ],
   "source": [
    "comb_footing_design.col_2_punching_shear_column_face()"
   ]
  },
  {
   "cell_type": "code",
   "execution_count": 36,
   "metadata": {},
   "outputs": [
    {
     "data": {
      "text/plain": [
       "'The maximum punching shear resistance of 0.703N/mm²                     exceeds the design punching shear stress of 0.335N/mm² - PASS!!!'"
      ]
     },
     "execution_count": 36,
     "metadata": {},
     "output_type": "execute_result"
    }
   ],
   "source": [
    "comb_footing_design.col_2_punching_shear_check_1d()"
   ]
  }
 ],
 "metadata": {
  "kernelspec": {
   "display_name": "Python 3.9.7 64-bit",
   "language": "python",
   "name": "python3"
  },
  "language_info": {
   "codemirror_mode": {
    "name": "ipython",
    "version": 3
   },
   "file_extension": ".py",
   "mimetype": "text/x-python",
   "name": "python",
   "nbconvert_exporter": "python",
   "pygments_lexer": "ipython3",
   "version": "3.11.6"
  },
  "orig_nbformat": 4,
  "vscode": {
   "interpreter": {
    "hash": "f6246b25e200e4c5124e3e61789ac81350562f0761bbcf92ad9e48654207659c"
   }
  }
 },
 "nbformat": 4,
 "nbformat_minor": 2
}
