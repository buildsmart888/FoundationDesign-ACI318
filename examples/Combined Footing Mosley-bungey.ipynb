{
 "cells": [
  {
   "attachments": {},
   "cell_type": "markdown",
   "metadata": {},
   "source": [
    "## Combined footing analysis and design in accordance to Eurocode 2"
   ]
  },
  {
   "attachments": {},
   "cell_type": "markdown",
   "metadata": {},
   "source": [
    "### This example is contained in Reinforced concrete design to eurocodes 2 BY Bill Mosley,John Bungey,Ray Hulse page 304"
   ]
  },
  {
   "attachments": {},
   "cell_type": "markdown",
   "metadata": {},
   "source": [
    "### Problem Statement"
   ]
  },
  {
   "attachments": {},
   "cell_type": "markdown",
   "metadata": {},
   "source": [
    "![title](https://github.com/kunle009/FoundationDesign/blob/main/assets/Mosley%20bungey%20example%20combined%20footing.png?raw=true)"
   ]
  },
  {
   "attachments": {},
   "cell_type": "markdown",
   "metadata": {},
   "source": [
    "We start by importing the CombinedFootingAnalysis class from the FoundationDesign module"
   ]
  },
  {
   "cell_type": "code",
   "execution_count": null,
   "metadata": {},
   "outputs": [],
   "source": [
    "from FoundationDesign import CombinedFootingAnalysis, CombinedFootingDesign"
   ]
  },
  {
   "cell_type": "code",
   "execution_count": null,
   "metadata": {},
   "outputs": [],
   "source": [
    "# Create the combined footing foundation object\n",
    "# For now we create a combined footing analysis object using a default foundation length and foundation width\n",
    "# which will be updated when we are sure about the minimum area required for the foundation.\n",
    "comb_footing = CombinedFootingAnalysis(\n",
    "    foundation_length=4600,\n",
    "    foundation_width=2300,\n",
    "    soil_bearing_capacity=300,\n",
    "    spacing_btwn_columns=3000,\n",
    ")"
   ]
  },
  {
   "attachments": {},
   "cell_type": "markdown",
   "metadata": {},
   "source": [
    "#### Update the column geometry including the column dimensions and positions"
   ]
  },
  {
   "cell_type": "code",
   "execution_count": null,
   "metadata": {},
   "outputs": [],
   "source": [
    "# Column 1 dimension is 300mm by 300mmm\n",
    "# Column 1 is 300m from the edge of the base along x direction\n",
    "# Column 1 is 725mm from the edge of the base along y direction\n",
    "comb_footing.update_column_1_geometry(\n",
    "    column_length=300, column_width=300, col_pos_xdir=540, col_pos_ydir=1145\n",
    ")"
   ]
  },
  {
   "cell_type": "code",
   "execution_count": null,
   "metadata": {},
   "outputs": [],
   "source": [
    "# Column 2 dimension is 300mm by 300mmm\n",
    "# Column 2 is 3300m from the edge of the base along x direction\n",
    "# Column 2 is 725mm from the edge of the base along y direction\n",
    "comb_footing.update_column_2_geometry(\n",
    "    column_length=400, column_width=400, col_pos_xdir=3540, col_pos_ydir=1145\n",
    ")"
   ]
  },
  {
   "attachments": {},
   "cell_type": "markdown",
   "metadata": {},
   "source": [
    "#### Assign column loads"
   ]
  },
  {
   "cell_type": "code",
   "execution_count": null,
   "metadata": {},
   "outputs": [],
   "source": [
    "# Updating column 1 loads\n",
    "comb_footing.update_column_1_axial_loads(\n",
    "    permanent_axial_load=1000, imposed_axial_load=200\n",
    ")\n",
    "# Updating column 2 loads\n",
    "comb_footing.update_column_2_axial_loads(\n",
    "    permanent_axial_load=1400, imposed_axial_load=300\n",
    ")\n",
    "# Update foundation loads\n",
    "comb_footing.foundation_loads(\n",
    "    foundation_thickness=850,\n",
    "    soil_depth_abv_foundation=0,\n",
    "    soil_unit_weight=18,\n",
    "    concrete_unit_weight=24,\n",
    "    consider_self_weight=False\n",
    ")"
   ]
  },
  {
   "attachments": {},
   "cell_type": "markdown",
   "metadata": {},
   "source": [
    "#### Check Minimum area required"
   ]
  },
  {
   "cell_type": "code",
   "execution_count": null,
   "metadata": {},
   "outputs": [],
   "source": [
    "min_area = comb_footing.minimum_area_required()\n",
    "print(f\"The minimum area of foundation required is {min_area}m\\u00b2\")"
   ]
  },
  {
   "cell_type": "code",
   "execution_count": null,
   "metadata": {},
   "outputs": [],
   "source": [
    "# Since the minimum area is 9.667m2 the\n",
    "# The length of the foundation can be updated to fulfill this area\n",
    "# with a new length of 4.6m and width of 2.3m\n",
    "# Check optimized foundation layout this shows us the best position for the combined footing\n",
    "# in order to achieve reduced based pressure\n",
    "# at this locations the centre of the foundation will coincide with the centre of the loads\n",
    "z = comb_footing.foundation_geometry_optimizer()\n",
    "# This would tell us the best position for the columns along the foundation geometry\n",
    "print(\n",
    "    f\"Column 1 should be placed at {z[0]}m and column 2 should be placed at {z[1]}m along x direction\\n\\\n",
    "    while the two columns should be placed at {z[2]}m along y axis\"\n",
    ")\n",
    "# After this suggestions the position of the columns should be updated in the column_1_geometry method"
   ]
  },
  {
   "cell_type": "code",
   "execution_count": null,
   "metadata": {},
   "outputs": [],
   "source": [
    "# show plots\n",
    "comb_footing.plot_geometry()"
   ]
  },
  {
   "attachments": {},
   "cell_type": "markdown",
   "metadata": {},
   "source": [
    "#### Check the base pressure at the foundation four corners"
   ]
  },
  {
   "cell_type": "code",
   "execution_count": null,
   "metadata": {},
   "outputs": [],
   "source": [
    "# Check the base pressure at all corners\n",
    "pres = comb_footing.pad_base_pressures_sls()\n",
    "print(pres)"
   ]
  },
  {
   "cell_type": "code",
   "execution_count": null,
   "metadata": {},
   "outputs": [],
   "source": [
    "# Check the base pressure at all corners\n",
    "pres = comb_footing.pad_base_pressures_uls()\n",
    "print(pres)"
   ]
  },
  {
   "attachments": {},
   "cell_type": "markdown",
   "metadata": {},
   "source": [
    "#### Check the foundation soil pressure at serviceability limit state to ensure the foundation sizing is adequate\n"
   ]
  },
  {
   "cell_type": "code",
   "execution_count": null,
   "metadata": {},
   "outputs": [],
   "source": [
    "comb_footing.bearing_pressure_check_sls()\n",
    "# This shows the combined footing is okay"
   ]
  },
  {
   "attachments": {},
   "cell_type": "markdown",
   "metadata": {},
   "source": [
    "#### Show the base pressures"
   ]
  },
  {
   "cell_type": "code",
   "execution_count": null,
   "metadata": {},
   "outputs": [],
   "source": [
    "# comb_footing.plot_\n",
    "# Method to be added\n",
    "comb_footing.total_axial_force_uls()"
   ]
  },
  {
   "attachments": {},
   "cell_type": "markdown",
   "metadata": {},
   "source": [
    "#### Since analysis of the pad foundation is satisfactory design can be done by calling the CombinedFootingDesign class"
   ]
  },
  {
   "attachments": {},
   "cell_type": "markdown",
   "metadata": {},
   "source": [
    "#### Design the combined footing"
   ]
  },
  {
   "cell_type": "code",
   "execution_count": null,
   "metadata": {},
   "outputs": [],
   "source": [
    "comb_footing_design = CombinedFootingDesign(\n",
    "    comb_footing, fck=30, fyk=500, concrete_cover=30, bar_diameterX=16, bar_diameterY=16\n",
    ")"
   ]
  },
  {
   "attachments": {},
   "cell_type": "markdown",
   "metadata": {},
   "source": [
    "#### Plot the foundation loading diagram in x direction"
   ]
  },
  {
   "cell_type": "code",
   "execution_count": null,
   "metadata": {},
   "outputs": [],
   "source": [
    "comb_footing_design.plot_foundation_loading_X()\n",
    "# This shows the loadings that the foundation is subjected to"
   ]
  },
  {
   "attachments": {},
   "cell_type": "markdown",
   "metadata": {},
   "source": [
    "#### Plot the foundation loading diagram in y direction"
   ]
  },
  {
   "cell_type": "code",
   "execution_count": null,
   "metadata": {},
   "outputs": [],
   "source": [
    "comb_footing_design.plot_foundation_loading_Y()\n",
    "# This shows the loadings that the foundation is subjected to"
   ]
  },
  {
   "attachments": {},
   "cell_type": "markdown",
   "metadata": {},
   "source": [
    "#### Show the bending moment diagram in x direction showing the design bending moment"
   ]
  },
  {
   "cell_type": "code",
   "execution_count": null,
   "metadata": {},
   "outputs": [],
   "source": [
    "comb_footing_design.plot_bending_moment_X()"
   ]
  },
  {
   "attachments": {},
   "cell_type": "markdown",
   "metadata": {},
   "source": [
    "#### Show the bending moment diagram in y direction showing the design bending moment"
   ]
  },
  {
   "cell_type": "code",
   "execution_count": null,
   "metadata": {},
   "outputs": [],
   "source": [
    "comb_footing_design.plot_bending_moment_Y()\n"
   ]
  },
  {
   "attachments": {},
   "cell_type": "markdown",
   "metadata": {},
   "source": [
    "#### Show the shear force diagram in x direction showing the design shear forces"
   ]
  },
  {
   "cell_type": "code",
   "execution_count": null,
   "metadata": {},
   "outputs": [],
   "source": [
    "comb_footing_design.plot_shear_force_X()\n"
   ]
  },
  {
   "attachments": {},
   "cell_type": "markdown",
   "metadata": {},
   "source": [
    "#### Show the shear force diagram in Y direction showing the design shear forces"
   ]
  },
  {
   "cell_type": "code",
   "execution_count": null,
   "metadata": {},
   "outputs": [],
   "source": [
    "comb_footing_design.plot_shear_force_Y()\n"
   ]
  },
  {
   "cell_type": "code",
   "execution_count": null,
   "metadata": {},
   "outputs": [],
   "source": [
    "z = comb_footing_design.get_design_moment_X()\n",
    "print(f'The negative deisgn moment along x direction is {z[0]}kN.m while the positive design moment is {z[1]}kN.m')"
   ]
  },
  {
   "cell_type": "code",
   "execution_count": null,
   "metadata": {},
   "outputs": [],
   "source": [
    "z = comb_footing_design.get_design_moment_Y()\n",
    "print(f'The negative deisgn moment along y direction is {z[0]}kN.m while the positive design moment is {z[1]}kN.m')"
   ]
  },
  {
   "cell_type": "code",
   "execution_count": null,
   "metadata": {},
   "outputs": [],
   "source": [
    "s = comb_footing_design.get_design_shear_force_X()\n",
    "print(f'The design shear force is {s}kN')"
   ]
  },
  {
   "cell_type": "code",
   "execution_count": null,
   "metadata": {},
   "outputs": [],
   "source": [
    "s = comb_footing_design.get_design_shear_force_Y()\n",
    "print(f'The design shear force is {s}kN')"
   ]
  },
  {
   "attachments": {},
   "cell_type": "markdown",
   "metadata": {},
   "source": [
    "#### Show the Top reinforcement area required along the x  "
   ]
  },
  {
   "cell_type": "code",
   "execution_count": null,
   "metadata": {},
   "outputs": [],
   "source": [
    "comb_footing_design.reinforcement_prov_flexure_X_dir_TOP()"
   ]
  },
  {
   "cell_type": "code",
   "execution_count": null,
   "metadata": {},
   "outputs": [],
   "source": [
    "z = comb_footing_design.area_of_steel_reqd_X_dir()\n",
    "print(\n",
    "    f\"The area of top steel required in the x direction is {z[0]}mm\\u00b2/m and \\n \\\n",
    "        {z[1]}mm\\u00b2/m bottom steel is required along x direction\"\n",
    ")"
   ]
  },
  {
   "cell_type": "code",
   "execution_count": null,
   "metadata": {},
   "outputs": [],
   "source": [
    "comb_footing_design.reinforcement_prov_flexure_X_dir_Bottom()"
   ]
  },
  {
   "attachments": {},
   "cell_type": "markdown",
   "metadata": {},
   "source": [
    "#### Show the Top reinforcement area required along the Y directipn"
   ]
  },
  {
   "cell_type": "code",
   "execution_count": null,
   "metadata": {},
   "outputs": [],
   "source": [
    "z = comb_footing_design.area_of_steel_reqd_Y_dir()\n",
    "print(\n",
    "    f\"The area of top steel required in the Y direction is {z[0]}mm\\u00b2/m and \\n \\\n",
    "        {z[1]}mm\\u00b2/m bottom steel is required along y direction\"\n",
    ")"
   ]
  },
  {
   "cell_type": "code",
   "execution_count": null,
   "metadata": {},
   "outputs": [],
   "source": [
    "comb_footing_design.reinforcement_prov_flexure_Y_dir_Top()"
   ]
  },
  {
   "cell_type": "code",
   "execution_count": null,
   "metadata": {},
   "outputs": [],
   "source": [
    "comb_footing_design.reinforcement_prov_flexure_Y_dir_Bottom()"
   ]
  },
  {
   "cell_type": "code",
   "execution_count": null,
   "metadata": {},
   "outputs": [],
   "source": [
    "comb_footing.total_force_Z_dir_uls()"
   ]
  },
  {
   "cell_type": "code",
   "execution_count": null,
   "metadata": {},
   "outputs": [],
   "source": [
    "comb_footing_design.tranverse_shear_check_Xdir()"
   ]
  },
  {
   "cell_type": "code",
   "execution_count": null,
   "metadata": {},
   "outputs": [],
   "source": [
    "comb_footing_design.tranverse_shear_check_Ydir()"
   ]
  },
  {
   "cell_type": "code",
   "execution_count": null,
   "metadata": {},
   "outputs": [],
   "source": [
    "comb_footing_design.update_punching_shear_stress_factor(1.5)"
   ]
  },
  {
   "cell_type": "code",
   "execution_count": null,
   "metadata": {},
   "outputs": [],
   "source": [
    "comb_footing_design.col_1_punching_shear_column_face()"
   ]
  },
  {
   "cell_type": "code",
   "execution_count": null,
   "metadata": {},
   "outputs": [],
   "source": [
    "comb_footing_design.col_2_punching_shear_column_face()"
   ]
  },
  {
   "cell_type": "code",
   "execution_count": null,
   "metadata": {},
   "outputs": [],
   "source": [
    "comb_footing_design.col_2_punching_shear_check_1d()"
   ]
  }
 ],
 "metadata": {
  "kernelspec": {
   "display_name": "Python 3.9.7 64-bit",
   "language": "python",
   "name": "python3"
  },
  "language_info": {
   "codemirror_mode": {
    "name": "ipython",
    "version": 3
   },
   "file_extension": ".py",
   "mimetype": "text/x-python",
   "name": "python",
   "nbconvert_exporter": "python",
   "pygments_lexer": "ipython3",
   "version": "3.11.6"
  },
  "orig_nbformat": 4,
  "vscode": {
   "interpreter": {
    "hash": "f6246b25e200e4c5124e3e61789ac81350562f0761bbcf92ad9e48654207659c"
   }
  }
 },
 "nbformat": 4,
 "nbformat_minor": 2
}
