{
 "cells": [
  {
   "cell_type": "markdown",
   "metadata": {},
   "source": [
    "## Combined footing analysis and design in accordance to Eurocode 2"
   ]
  },
  {
   "cell_type": "markdown",
   "metadata": {},
   "source": [
    "### This example is contained in Reinforced concrete design to eurocodes 2 BY Bill Mosley,John Bungey,Ray Hulse page 304"
   ]
  },
  {
   "cell_type": "markdown",
   "metadata": {},
   "source": [
    "### Problem Statement"
   ]
  },
  {
   "cell_type": "markdown",
   "metadata": {},
   "source": [
    "![title](https://github.com/CodedKunz/FoundationDesign/blob/main/examples/Mosley%20bungey%20example%20combined%20footing.png?raw=true)"
   ]
  },
  {
   "cell_type": "markdown",
   "metadata": {},
   "source": [
    "We start by importing the CombinedFootingAnalysis class from the FoundationDesign module"
   ]
  },
  {
   "cell_type": "code",
   "execution_count": 31,
   "metadata": {},
   "outputs": [],
   "source": [
    "from FoundationDesign import CombinedFootingAnalysis, CombinedFootingDesign\n"
   ]
  },
  {
   "cell_type": "code",
   "execution_count": 32,
   "metadata": {},
   "outputs": [],
   "source": [
    "# Create the combined footing foundation object\n",
    "# For now we create a combined footing analysis object using a default foundation length and foundation width\n",
    "# which will be updated when we are sure about the minimum area required for the foundation.\n",
    "comb_footing = CombinedFootingAnalysis(\n",
    "    foundation_length=4600,\n",
    "    foundation_width=2300,\n",
    "    soil_bearing_capacity=300,\n",
    "    spacing_btwn_columns=3000,\n",
    ")"
   ]
  },
  {
   "cell_type": "markdown",
   "metadata": {},
   "source": [
    "#### Update the column geometry including the column dimensions and positions"
   ]
  },
  {
   "cell_type": "code",
   "execution_count": 33,
   "metadata": {},
   "outputs": [],
   "source": [
    "# Column 1 dimension is 300mm by 300mmm\n",
    "# Column 1 is 300m from the edge of the base along x direction\n",
    "# Column 1 is 725mm from the edge of the base along y direction\n",
    "comb_footing.update_column_1_geometry(\n",
    "    column_length=300, column_width=300, col_pos_xdir=540, col_pos_ydir=1150\n",
    ")"
   ]
  },
  {
   "cell_type": "code",
   "execution_count": 34,
   "metadata": {},
   "outputs": [],
   "source": [
    "# Column 2 dimension is 300mm by 300mmm\n",
    "# Column 2 is 3300m from the edge of the base along x direction\n",
    "# Column 2 is 725mm from the edge of the base along y direction\n",
    "comb_footing.update_column_2_geometry(\n",
    "    column_length=400, column_width=400, col_pos_xdir=3540, col_pos_ydir=1145\n",
    ")"
   ]
  },
  {
   "cell_type": "markdown",
   "metadata": {},
   "source": [
    "#### Assign column loads"
   ]
  },
  {
   "cell_type": "code",
   "execution_count": 35,
   "metadata": {},
   "outputs": [
    {
     "data": {
      "text/plain": [
       "[20.4, 0.0]"
      ]
     },
     "execution_count": 35,
     "metadata": {},
     "output_type": "execute_result"
    }
   ],
   "source": [
    "# Updating column 1 loads\n",
    "comb_footing.update_column_1_axial_loads(\n",
    "    permanent_axial_load=1000, imposed_axial_load=200\n",
    ")\n",
    "# Updating column 2 loads\n",
    "comb_footing.update_column_2_axial_loads(\n",
    "    permanent_axial_load=1400, imposed_axial_load=300\n",
    ")\n",
    "# Update foundation loads\n",
    "comb_footing.foundation_loads(\n",
    "    foundation_thickness=850,\n",
    "    soil_depth_abv_foundation=0,\n",
    "    soil_unit_weight=18,\n",
    "    concrete_unit_weight=24,\n",
    ")"
   ]
  },
  {
   "cell_type": "markdown",
   "metadata": {},
   "source": [
    "#### Check Minimum area required"
   ]
  },
  {
   "cell_type": "code",
   "execution_count": 36,
   "metadata": {},
   "outputs": [
    {
     "name": "stdout",
     "output_type": "stream",
     "text": [
      "The minimum area of foundation required is 10.371959942775392m²\n"
     ]
    }
   ],
   "source": [
    "min_area = comb_footing.minimum_area_required()\n",
    "print(f\"The minimum area of foundation required is {min_area}m\\u00b2\")\n"
   ]
  },
  {
   "cell_type": "code",
   "execution_count": 37,
   "metadata": {},
   "outputs": [
    {
     "name": "stdout",
     "output_type": "stream",
     "text": [
      "Column 1 should be placed at 0.54m and column 2 should be placed at 3.54m along x direction\n",
      "    while the two columns should be placed at 1.145m along y axis\n"
     ]
    }
   ],
   "source": [
    "# Since the minimum area is 20.13kN/m2 the\n",
    "# The length of the foundation can be updated to fulfill this area\n",
    "# with a new length of 4.6m and width of 2.3m\n",
    "# Check optimized foundation layout this shows us the best position for the combined footing\n",
    "# in order to achieve reduced based pressure\n",
    "# at this locations the centre of the foundation will coincide with the centre of the loads\n",
    "z = comb_footing.foundation_geometry_optimizer()\n",
    "# This would tell us the best position for the columns along the foundation geometry\n",
    "print(\n",
    "    f\"Column 1 should be placed at {z[0]}m and column 2 should be placed at {z[1]}m along x direction\\n\\\n",
    "    while the two columns should be placed at {z[2]}m along y axis\"\n",
    ")\n",
    "# After this suggestions the position of the columns should be updated in the column_1_geometry method"
   ]
  },
  {
   "cell_type": "code",
   "execution_count": 38,
   "metadata": {},
   "outputs": [
    {
     "data": {
      "application/vnd.plotly.v1+json": {
       "config": {
        "plotlyServerURL": "https://plot.ly"
       },
       "data": [
        {
         "line": {
          "color": "red",
          "width": 3
         },
         "mode": "lines",
         "name": "FOOTING",
         "type": "scatter",
         "x": [
          0,
          4.6,
          4.6,
          0,
          0
         ],
         "y": [
          0,
          0,
          2.3,
          2.3,
          0
         ]
        },
        {
         "line": {
          "color": "purple",
          "width": 2
         },
         "mode": "lines",
         "name": "COLUMN 1",
         "type": "scatter",
         "x": [
          0.39,
          0.6900000000000001,
          0.6900000000000001,
          0.39,
          0.39
         ],
         "y": [
          0.9999999999999999,
          0.9999999999999999,
          1.2999999999999998,
          1.2999999999999998,
          0.9999999999999999
         ]
        },
        {
         "line": {
          "color": "black",
          "width": 2
         },
         "mode": "lines",
         "name": "COLUMN 2",
         "type": "scatter",
         "x": [
          3.34,
          3.74,
          3.74,
          3.34,
          3.34
         ],
         "y": [
          0.9450000000000001,
          0.9450000000000001,
          1.345,
          1.345,
          0.9450000000000001
         ]
        }
       ],
       "layout": {
        "height": 500,
        "showlegend": true,
        "template": {
         "data": {
          "bar": [
           {
            "error_x": {
             "color": "#2a3f5f"
            },
            "error_y": {
             "color": "#2a3f5f"
            },
            "marker": {
             "line": {
              "color": "#E5ECF6",
              "width": 0.5
             },
             "pattern": {
              "fillmode": "overlay",
              "size": 10,
              "solidity": 0.2
             }
            },
            "type": "bar"
           }
          ],
          "barpolar": [
           {
            "marker": {
             "line": {
              "color": "#E5ECF6",
              "width": 0.5
             },
             "pattern": {
              "fillmode": "overlay",
              "size": 10,
              "solidity": 0.2
             }
            },
            "type": "barpolar"
           }
          ],
          "carpet": [
           {
            "aaxis": {
             "endlinecolor": "#2a3f5f",
             "gridcolor": "white",
             "linecolor": "white",
             "minorgridcolor": "white",
             "startlinecolor": "#2a3f5f"
            },
            "baxis": {
             "endlinecolor": "#2a3f5f",
             "gridcolor": "white",
             "linecolor": "white",
             "minorgridcolor": "white",
             "startlinecolor": "#2a3f5f"
            },
            "type": "carpet"
           }
          ],
          "choropleth": [
           {
            "colorbar": {
             "outlinewidth": 0,
             "ticks": ""
            },
            "type": "choropleth"
           }
          ],
          "contour": [
           {
            "colorbar": {
             "outlinewidth": 0,
             "ticks": ""
            },
            "colorscale": [
             [
              0,
              "#0d0887"
             ],
             [
              0.1111111111111111,
              "#46039f"
             ],
             [
              0.2222222222222222,
              "#7201a8"
             ],
             [
              0.3333333333333333,
              "#9c179e"
             ],
             [
              0.4444444444444444,
              "#bd3786"
             ],
             [
              0.5555555555555556,
              "#d8576b"
             ],
             [
              0.6666666666666666,
              "#ed7953"
             ],
             [
              0.7777777777777778,
              "#fb9f3a"
             ],
             [
              0.8888888888888888,
              "#fdca26"
             ],
             [
              1,
              "#f0f921"
             ]
            ],
            "type": "contour"
           }
          ],
          "contourcarpet": [
           {
            "colorbar": {
             "outlinewidth": 0,
             "ticks": ""
            },
            "type": "contourcarpet"
           }
          ],
          "heatmap": [
           {
            "colorbar": {
             "outlinewidth": 0,
             "ticks": ""
            },
            "colorscale": [
             [
              0,
              "#0d0887"
             ],
             [
              0.1111111111111111,
              "#46039f"
             ],
             [
              0.2222222222222222,
              "#7201a8"
             ],
             [
              0.3333333333333333,
              "#9c179e"
             ],
             [
              0.4444444444444444,
              "#bd3786"
             ],
             [
              0.5555555555555556,
              "#d8576b"
             ],
             [
              0.6666666666666666,
              "#ed7953"
             ],
             [
              0.7777777777777778,
              "#fb9f3a"
             ],
             [
              0.8888888888888888,
              "#fdca26"
             ],
             [
              1,
              "#f0f921"
             ]
            ],
            "type": "heatmap"
           }
          ],
          "heatmapgl": [
           {
            "colorbar": {
             "outlinewidth": 0,
             "ticks": ""
            },
            "colorscale": [
             [
              0,
              "#0d0887"
             ],
             [
              0.1111111111111111,
              "#46039f"
             ],
             [
              0.2222222222222222,
              "#7201a8"
             ],
             [
              0.3333333333333333,
              "#9c179e"
             ],
             [
              0.4444444444444444,
              "#bd3786"
             ],
             [
              0.5555555555555556,
              "#d8576b"
             ],
             [
              0.6666666666666666,
              "#ed7953"
             ],
             [
              0.7777777777777778,
              "#fb9f3a"
             ],
             [
              0.8888888888888888,
              "#fdca26"
             ],
             [
              1,
              "#f0f921"
             ]
            ],
            "type": "heatmapgl"
           }
          ],
          "histogram": [
           {
            "marker": {
             "pattern": {
              "fillmode": "overlay",
              "size": 10,
              "solidity": 0.2
             }
            },
            "type": "histogram"
           }
          ],
          "histogram2d": [
           {
            "colorbar": {
             "outlinewidth": 0,
             "ticks": ""
            },
            "colorscale": [
             [
              0,
              "#0d0887"
             ],
             [
              0.1111111111111111,
              "#46039f"
             ],
             [
              0.2222222222222222,
              "#7201a8"
             ],
             [
              0.3333333333333333,
              "#9c179e"
             ],
             [
              0.4444444444444444,
              "#bd3786"
             ],
             [
              0.5555555555555556,
              "#d8576b"
             ],
             [
              0.6666666666666666,
              "#ed7953"
             ],
             [
              0.7777777777777778,
              "#fb9f3a"
             ],
             [
              0.8888888888888888,
              "#fdca26"
             ],
             [
              1,
              "#f0f921"
             ]
            ],
            "type": "histogram2d"
           }
          ],
          "histogram2dcontour": [
           {
            "colorbar": {
             "outlinewidth": 0,
             "ticks": ""
            },
            "colorscale": [
             [
              0,
              "#0d0887"
             ],
             [
              0.1111111111111111,
              "#46039f"
             ],
             [
              0.2222222222222222,
              "#7201a8"
             ],
             [
              0.3333333333333333,
              "#9c179e"
             ],
             [
              0.4444444444444444,
              "#bd3786"
             ],
             [
              0.5555555555555556,
              "#d8576b"
             ],
             [
              0.6666666666666666,
              "#ed7953"
             ],
             [
              0.7777777777777778,
              "#fb9f3a"
             ],
             [
              0.8888888888888888,
              "#fdca26"
             ],
             [
              1,
              "#f0f921"
             ]
            ],
            "type": "histogram2dcontour"
           }
          ],
          "mesh3d": [
           {
            "colorbar": {
             "outlinewidth": 0,
             "ticks": ""
            },
            "type": "mesh3d"
           }
          ],
          "parcoords": [
           {
            "line": {
             "colorbar": {
              "outlinewidth": 0,
              "ticks": ""
             }
            },
            "type": "parcoords"
           }
          ],
          "pie": [
           {
            "automargin": true,
            "type": "pie"
           }
          ],
          "scatter": [
           {
            "marker": {
             "colorbar": {
              "outlinewidth": 0,
              "ticks": ""
             }
            },
            "type": "scatter"
           }
          ],
          "scatter3d": [
           {
            "line": {
             "colorbar": {
              "outlinewidth": 0,
              "ticks": ""
             }
            },
            "marker": {
             "colorbar": {
              "outlinewidth": 0,
              "ticks": ""
             }
            },
            "type": "scatter3d"
           }
          ],
          "scattercarpet": [
           {
            "marker": {
             "colorbar": {
              "outlinewidth": 0,
              "ticks": ""
             }
            },
            "type": "scattercarpet"
           }
          ],
          "scattergeo": [
           {
            "marker": {
             "colorbar": {
              "outlinewidth": 0,
              "ticks": ""
             }
            },
            "type": "scattergeo"
           }
          ],
          "scattergl": [
           {
            "marker": {
             "colorbar": {
              "outlinewidth": 0,
              "ticks": ""
             }
            },
            "type": "scattergl"
           }
          ],
          "scattermapbox": [
           {
            "marker": {
             "colorbar": {
              "outlinewidth": 0,
              "ticks": ""
             }
            },
            "type": "scattermapbox"
           }
          ],
          "scatterpolar": [
           {
            "marker": {
             "colorbar": {
              "outlinewidth": 0,
              "ticks": ""
             }
            },
            "type": "scatterpolar"
           }
          ],
          "scatterpolargl": [
           {
            "marker": {
             "colorbar": {
              "outlinewidth": 0,
              "ticks": ""
             }
            },
            "type": "scatterpolargl"
           }
          ],
          "scatterternary": [
           {
            "marker": {
             "colorbar": {
              "outlinewidth": 0,
              "ticks": ""
             }
            },
            "type": "scatterternary"
           }
          ],
          "surface": [
           {
            "colorbar": {
             "outlinewidth": 0,
             "ticks": ""
            },
            "colorscale": [
             [
              0,
              "#0d0887"
             ],
             [
              0.1111111111111111,
              "#46039f"
             ],
             [
              0.2222222222222222,
              "#7201a8"
             ],
             [
              0.3333333333333333,
              "#9c179e"
             ],
             [
              0.4444444444444444,
              "#bd3786"
             ],
             [
              0.5555555555555556,
              "#d8576b"
             ],
             [
              0.6666666666666666,
              "#ed7953"
             ],
             [
              0.7777777777777778,
              "#fb9f3a"
             ],
             [
              0.8888888888888888,
              "#fdca26"
             ],
             [
              1,
              "#f0f921"
             ]
            ],
            "type": "surface"
           }
          ],
          "table": [
           {
            "cells": {
             "fill": {
              "color": "#EBF0F8"
             },
             "line": {
              "color": "white"
             }
            },
            "header": {
             "fill": {
              "color": "#C8D4E3"
             },
             "line": {
              "color": "white"
             }
            },
            "type": "table"
           }
          ]
         },
         "layout": {
          "annotationdefaults": {
           "arrowcolor": "#2a3f5f",
           "arrowhead": 0,
           "arrowwidth": 1
          },
          "autotypenumbers": "strict",
          "coloraxis": {
           "colorbar": {
            "outlinewidth": 0,
            "ticks": ""
           }
          },
          "colorscale": {
           "diverging": [
            [
             0,
             "#8e0152"
            ],
            [
             0.1,
             "#c51b7d"
            ],
            [
             0.2,
             "#de77ae"
            ],
            [
             0.3,
             "#f1b6da"
            ],
            [
             0.4,
             "#fde0ef"
            ],
            [
             0.5,
             "#f7f7f7"
            ],
            [
             0.6,
             "#e6f5d0"
            ],
            [
             0.7,
             "#b8e186"
            ],
            [
             0.8,
             "#7fbc41"
            ],
            [
             0.9,
             "#4d9221"
            ],
            [
             1,
             "#276419"
            ]
           ],
           "sequential": [
            [
             0,
             "#0d0887"
            ],
            [
             0.1111111111111111,
             "#46039f"
            ],
            [
             0.2222222222222222,
             "#7201a8"
            ],
            [
             0.3333333333333333,
             "#9c179e"
            ],
            [
             0.4444444444444444,
             "#bd3786"
            ],
            [
             0.5555555555555556,
             "#d8576b"
            ],
            [
             0.6666666666666666,
             "#ed7953"
            ],
            [
             0.7777777777777778,
             "#fb9f3a"
            ],
            [
             0.8888888888888888,
             "#fdca26"
            ],
            [
             1,
             "#f0f921"
            ]
           ],
           "sequentialminus": [
            [
             0,
             "#0d0887"
            ],
            [
             0.1111111111111111,
             "#46039f"
            ],
            [
             0.2222222222222222,
             "#7201a8"
            ],
            [
             0.3333333333333333,
             "#9c179e"
            ],
            [
             0.4444444444444444,
             "#bd3786"
            ],
            [
             0.5555555555555556,
             "#d8576b"
            ],
            [
             0.6666666666666666,
             "#ed7953"
            ],
            [
             0.7777777777777778,
             "#fb9f3a"
            ],
            [
             0.8888888888888888,
             "#fdca26"
            ],
            [
             1,
             "#f0f921"
            ]
           ]
          },
          "colorway": [
           "#636efa",
           "#EF553B",
           "#00cc96",
           "#ab63fa",
           "#FFA15A",
           "#19d3f3",
           "#FF6692",
           "#B6E880",
           "#FF97FF",
           "#FECB52"
          ],
          "font": {
           "color": "#2a3f5f"
          },
          "geo": {
           "bgcolor": "white",
           "lakecolor": "white",
           "landcolor": "#E5ECF6",
           "showlakes": true,
           "showland": true,
           "subunitcolor": "white"
          },
          "hoverlabel": {
           "align": "left"
          },
          "hovermode": "closest",
          "mapbox": {
           "style": "light"
          },
          "paper_bgcolor": "white",
          "plot_bgcolor": "#E5ECF6",
          "polar": {
           "angularaxis": {
            "gridcolor": "white",
            "linecolor": "white",
            "ticks": ""
           },
           "bgcolor": "#E5ECF6",
           "radialaxis": {
            "gridcolor": "white",
            "linecolor": "white",
            "ticks": ""
           }
          },
          "scene": {
           "xaxis": {
            "backgroundcolor": "#E5ECF6",
            "gridcolor": "white",
            "gridwidth": 2,
            "linecolor": "white",
            "showbackground": true,
            "ticks": "",
            "zerolinecolor": "white"
           },
           "yaxis": {
            "backgroundcolor": "#E5ECF6",
            "gridcolor": "white",
            "gridwidth": 2,
            "linecolor": "white",
            "showbackground": true,
            "ticks": "",
            "zerolinecolor": "white"
           },
           "zaxis": {
            "backgroundcolor": "#E5ECF6",
            "gridcolor": "white",
            "gridwidth": 2,
            "linecolor": "white",
            "showbackground": true,
            "ticks": "",
            "zerolinecolor": "white"
           }
          },
          "shapedefaults": {
           "line": {
            "color": "#2a3f5f"
           }
          },
          "ternary": {
           "aaxis": {
            "gridcolor": "white",
            "linecolor": "white",
            "ticks": ""
           },
           "baxis": {
            "gridcolor": "white",
            "linecolor": "white",
            "ticks": ""
           },
           "bgcolor": "#E5ECF6",
           "caxis": {
            "gridcolor": "white",
            "linecolor": "white",
            "ticks": ""
           }
          },
          "title": {
           "x": 0.05
          },
          "xaxis": {
           "automargin": true,
           "gridcolor": "white",
           "linecolor": "white",
           "ticks": "",
           "title": {
            "standoff": 15
           },
           "zerolinecolor": "white",
           "zerolinewidth": 2
          },
          "yaxis": {
           "automargin": true,
           "gridcolor": "white",
           "linecolor": "white",
           "ticks": "",
           "title": {
            "standoff": 15
           },
           "zerolinecolor": "white",
           "zerolinewidth": 2
          }
         }
        },
        "title": {
         "text": "FOOTING PLAN"
        },
        "width": 500
       }
      }
     },
     "metadata": {},
     "output_type": "display_data"
    }
   ],
   "source": [
    "# show plots\n",
    "comb_footing.plot_geometry()"
   ]
  },
  {
   "cell_type": "markdown",
   "metadata": {},
   "source": [
    "#### Check the base pressure at the foundation four corners"
   ]
  },
  {
   "cell_type": "code",
   "execution_count": 39,
   "metadata": {},
   "outputs": [
    {
     "name": "stdout",
     "output_type": "stream",
     "text": [
      "(297.191, 292.581, 296.423, 291.813)\n"
     ]
    }
   ],
   "source": [
    "# Check the base pressure at all corners\n",
    "pres = comb_footing.pad_base_pressures_sls()\n",
    "print(pres)\n"
   ]
  },
  {
   "cell_type": "code",
   "execution_count": 40,
   "metadata": {},
   "outputs": [
    {
     "name": "stdout",
     "output_type": "stream",
     "text": [
      "(407.848, 402.078, 407.256, 401.485)\n"
     ]
    }
   ],
   "source": [
    "# Check the base pressure at all corners\n",
    "pres = comb_footing.pad_base_pressures_uls()\n",
    "print(pres)\n"
   ]
  },
  {
   "cell_type": "markdown",
   "metadata": {},
   "source": [
    "#### Check the foundation soil pressure at serviceability limit state to ensure the foundation sizing is adequate\n"
   ]
  },
  {
   "cell_type": "code",
   "execution_count": 41,
   "metadata": {},
   "outputs": [
    {
     "name": "stdout",
     "output_type": "stream",
     "text": [
      "PASS - Presumed bearing capacity exceeds design base pressure\n"
     ]
    }
   ],
   "source": [
    "comb_footing.bearing_pressure_check_sls()\n",
    "# This shows the combined footing is okay"
   ]
  },
  {
   "cell_type": "markdown",
   "metadata": {},
   "source": [
    "#### Show the base pressures"
   ]
  },
  {
   "cell_type": "code",
   "execution_count": 42,
   "metadata": {},
   "outputs": [],
   "source": [
    "# comb_footing.plot_\n",
    "# Method to be added"
   ]
  },
  {
   "cell_type": "markdown",
   "metadata": {},
   "source": [
    "#### Since analysis of the pad foundation is satisfactory design can be done by calling the padfoundation design class"
   ]
  },
  {
   "cell_type": "markdown",
   "metadata": {},
   "source": [
    "#### Design the combined footing"
   ]
  },
  {
   "cell_type": "code",
   "execution_count": 43,
   "metadata": {},
   "outputs": [],
   "source": [
    "comb_footing_design = CombinedFootingDesign(\n",
    "    comb_footing, fck=30, fyk=500, concrete_cover=40, bar_diameterX=16, bar_diameterY=16\n",
    ")"
   ]
  },
  {
   "cell_type": "markdown",
   "metadata": {},
   "source": [
    "#### Plot the foundation loading diagram in x direction"
   ]
  },
  {
   "cell_type": "code",
   "execution_count": 44,
   "metadata": {},
   "outputs": [
    {
     "data": {
      "application/vnd.plotly.v1+json": {
       "config": {
        "plotlyServerURL": "https://plot.ly"
       },
       "data": [
        {
         "hoverinfo": "skip",
         "hovertemplate": "%{x} %{meta[0]}",
         "line": {
          "color": "purple",
          "width": 2
         },
         "meta": [
          "m"
         ],
         "mode": "lines",
         "name": "Beam_",
         "type": "scatter",
         "x": [
          0,
          4.6
         ],
         "y": [
          0,
          0
         ]
        },
        {
         "hoverinfo": "skip",
         "hovertemplate": "x: %{x:.3f} %{meta[1]}<br>Fixed: %{meta[0]}",
         "marker": {
          "color": "blue",
          "size": 10,
          "symbol": "triangle-up"
         },
         "meta": [
          "[1, 1, 1]",
          "m"
         ],
         "mode": "markers",
         "name": "Support",
         "opacity": 0,
         "showlegend": false,
         "type": "scatter",
         "x": [
          0.54
         ],
         "y": [
          0
         ]
        },
        {
         "hoverinfo": "skip",
         "hovertemplate": "x: %{x:.3f} %{meta[1]}<br>Fixed: %{meta[0]}",
         "marker": {
          "color": "blue",
          "size": 10,
          "symbol": "triangle-up"
         },
         "meta": [
          "[1, 1, 1]",
          "m"
         ],
         "mode": "markers",
         "name": "Support",
         "opacity": 0,
         "showlegend": false,
         "type": "scatter",
         "x": [
          3.54
         ],
         "y": [
          0
         ]
        },
        {
         "fill": "tozeroy",
         "hoverinfo": "skip",
         "hovertemplate": "",
         "line": {
          "color": "mediumpurple",
          "width": 1
         },
         "mode": "lines",
         "name": "Trapezoidal<br>Load",
         "type": "scatter",
         "x": [
          0,
          4.6
         ],
         "y": [
          -1,
          -0.9985366351196835
         ]
        },
        {
         "hoverinfo": "skip",
         "hovertemplate": "x: %{meta[0]:.3f} %{meta[3]}<br>Force: %{meta[1]:.3f} %{meta[4]}        <br>Angle: %{meta[2]:.3f} deg",
         "marker": {
          "color": "mediumpurple",
          "size": 10,
          "symbol": "triangle-up"
         },
         "meta": [
          0,
          931415,
          90,
          "m",
          "N/m"
         ],
         "mode": "markers",
         "name": "Distributed<br>Load",
         "opacity": 0,
         "showlegend": false,
         "type": "scatter",
         "x": [
          0
         ],
         "y": [
          0
         ]
        },
        {
         "hoverinfo": "skip",
         "hovertemplate": "x: %{meta[0]:.3f} %{meta[3]}<br>Force: %{meta[1]:.3f} %{meta[4]}        <br>Angle: %{meta[2]:.3f} deg",
         "marker": {
          "color": "mediumpurple",
          "size": 10,
          "symbol": "triangle-up"
         },
         "meta": [
          4.6,
          930052,
          90,
          "m",
          "N/m"
         ],
         "mode": "markers",
         "name": "Distributed<br>Load",
         "opacity": 0,
         "showlegend": false,
         "type": "scatter",
         "x": [
          4.6
         ],
         "y": [
          0
         ]
        },
        {
         "fill": "tozeroy",
         "hoverinfo": "skip",
         "hovertemplate": "",
         "line": {
          "color": "mediumpurple",
          "width": 1
         },
         "mode": "lines",
         "name": "Distributed<br>Load",
         "type": "scatter",
         "x": [
          0,
          0.010021786492374727,
          0.020043572984749455,
          0.03006535947712418,
          0.04008714596949891,
          0.05010893246187364,
          0.06013071895424836,
          0.07015250544662309,
          0.08017429193899782,
          0.09019607843137255,
          0.10021786492374728,
          0.110239651416122,
          0.12026143790849672,
          0.13028322440087145,
          0.14030501089324618,
          0.1503267973856209,
          0.16034858387799564,
          0.17037037037037037,
          0.1803921568627451,
          0.19041394335511982,
          0.20043572984749455,
          0.21045751633986928,
          0.220479302832244,
          0.23050108932461874,
          0.24052287581699344,
          0.25054466230936817,
          0.2605664488017429,
          0.27058823529411763,
          0.28061002178649236,
          0.2906318082788671,
          0.3006535947712418,
          0.31067538126361655,
          0.3206971677559913,
          0.330718954248366,
          0.34074074074074073,
          0.35076252723311546,
          0.3607843137254902,
          0.3708061002178649,
          0.38082788671023965,
          0.3908496732026144,
          0.4008714596949891,
          0.41089324618736384,
          0.42091503267973857,
          0.4309368191721133,
          0.440958605664488,
          0.45098039215686275,
          0.4610021786492375,
          0.4710239651416122,
          0.4810457516339869,
          0.4910675381263616,
          0.5010893246187363,
          0.5111111111111111,
          0.5211328976034858,
          0.5311546840958605,
          0.5411764705882353,
          0.55119825708061,
          0.5612200435729847,
          0.5712418300653594,
          0.5812636165577342,
          0.5912854030501089,
          0.6013071895424836,
          0.6113289760348584,
          0.6213507625272331,
          0.6313725490196078,
          0.6413943355119825,
          0.6514161220043573,
          0.661437908496732,
          0.6714596949891067,
          0.6814814814814815,
          0.6915032679738562,
          0.7015250544662309,
          0.7115468409586057,
          0.7215686274509804,
          0.7315904139433551,
          0.7416122004357298,
          0.7516339869281046,
          0.7616557734204793,
          0.771677559912854,
          0.7816993464052288,
          0.7917211328976035,
          0.8017429193899782,
          0.8117647058823529,
          0.8217864923747277,
          0.8318082788671024,
          0.8418300653594771,
          0.8518518518518519,
          0.8618736383442266,
          0.8718954248366013,
          0.881917211328976,
          0.8919389978213508,
          0.9019607843137255,
          0.9119825708061002,
          0.922004357298475,
          0.9320261437908497,
          0.9420479302832244,
          0.9520697167755992,
          0.9620915032679738,
          0.9721132897603485,
          0.9821350762527232,
          0.992156862745098,
          1.0021786492374727,
          1.0122004357298475,
          1.0222222222222221,
          1.032244008714597,
          1.0422657952069716,
          1.0522875816993464,
          1.062309368191721,
          1.072331154684096,
          1.0823529411764705,
          1.0923747276688454,
          1.10239651416122,
          1.1124183006535948,
          1.1224400871459694,
          1.1324618736383443,
          1.142483660130719,
          1.1525054466230937,
          1.1625272331154684,
          1.1725490196078432,
          1.1825708061002178,
          1.1925925925925926,
          1.2026143790849673,
          1.212636165577342,
          1.2226579520697167,
          1.2326797385620916,
          1.2427015250544662,
          1.252723311546841,
          1.2627450980392156,
          1.2727668845315905,
          1.282788671023965,
          1.2928104575163397,
          1.3028322440087146,
          1.3128540305010892,
          1.322875816993464,
          1.3328976034858386,
          1.3429193899782135,
          1.352941176470588,
          1.362962962962963,
          1.3729847494553375,
          1.3830065359477124,
          1.393028322440087,
          1.4030501089324618,
          1.4130718954248365,
          1.4230936819172113,
          1.433115468409586,
          1.4431372549019608,
          1.4531590413943354,
          1.4631808278867102,
          1.4732026143790848,
          1.4832244008714597,
          1.4932461873638343,
          1.5032679738562091,
          1.5132897603485838,
          1.5233115468409586,
          1.5333333333333332,
          1.543355119825708,
          1.5533769063180827,
          1.5633986928104575,
          1.5734204793028321,
          1.583442265795207,
          1.5934640522875816,
          1.6034858387799564,
          1.613507625272331,
          1.6235294117647059,
          1.6335511982570805,
          1.6435729847494553,
          1.65359477124183,
          1.6636165577342048,
          1.6736383442265794,
          1.6836601307189543,
          1.6936819172113289,
          1.7037037037037037,
          1.7137254901960783,
          1.7237472766884532,
          1.7337690631808278,
          1.7437908496732026,
          1.7538126361655773,
          1.763834422657952,
          1.7738562091503267,
          1.7838779956427016,
          1.7938997821350762,
          1.803921568627451,
          1.8139433551198256,
          1.8239651416122005,
          1.833986928104575,
          1.84400871459695,
          1.8540305010893245,
          1.8640522875816994,
          1.874074074074074,
          1.8840958605664488,
          1.8941176470588235,
          1.9041394335511983,
          1.914161220043573,
          1.9241830065359475,
          1.9342047930283224,
          1.944226579520697,
          1.9542483660130718,
          1.9642701525054465,
          1.9742919389978213,
          1.984313725490196,
          1.9943355119825708,
          2.0043572984749454,
          2.01437908496732,
          2.024400871459695,
          2.0344226579520694,
          2.0444444444444443,
          2.054466230936819,
          2.064488017429194,
          2.0745098039215684,
          2.084531590413943,
          2.094553376906318,
          2.104575163398693,
          2.1145969498910673,
          2.124618736383442,
          2.134640522875817,
          2.144662309368192,
          2.154684095860566,
          2.164705882352941,
          2.174727668845316,
          2.1847494553376907,
          2.194771241830065,
          2.20479302832244,
          2.214814814814815,
          2.2248366013071896,
          2.234858387799564,
          2.244880174291939,
          2.2549019607843137,
          2.2649237472766885,
          2.274945533769063,
          2.284967320261438,
          2.2949891067538126,
          2.3050108932461875,
          2.315032679738562,
          2.3250544662309367,
          2.3350762527233115,
          2.3450980392156864,
          2.3551198257080608,
          2.3651416122004356,
          2.3751633986928105,
          2.3851851851851853,
          2.3952069716775597,
          2.4052287581699345,
          2.4152505446623094,
          2.425272331154684,
          2.4352941176470586,
          2.4453159041394334,
          2.4553376906318083,
          2.465359477124183,
          2.4753812636165575,
          2.4854030501089324,
          2.495424836601307,
          2.505446623093682,
          2.5154684095860564,
          2.5254901960784313,
          2.535511982570806,
          2.545533769063181,
          2.5555555555555554,
          2.56557734204793,
          2.575599128540305,
          2.5856209150326794,
          2.5956427015250543,
          2.605664488017429,
          2.615686274509804,
          2.6257080610021784,
          2.635729847494553,
          2.645751633986928,
          2.655773420479303,
          2.6657952069716773,
          2.675816993464052,
          2.685838779956427,
          2.695860566448802,
          2.705882352941176,
          2.715904139433551,
          2.725925925925926,
          2.7359477124183007,
          2.745969498910675,
          2.75599128540305,
          2.766013071895425,
          2.7760348583877996,
          2.786056644880174,
          2.796078431372549,
          2.8061002178649237,
          2.8161220043572985,
          2.826143790849673,
          2.8361655773420478,
          2.8461873638344226,
          2.8562091503267975,
          2.866230936819172,
          2.8762527233115467,
          2.8862745098039215,
          2.8962962962962964,
          2.9063180827886708,
          2.9163398692810456,
          2.9263616557734204,
          2.9363834422657953,
          2.9464052287581697,
          2.9564270152505445,
          2.9664488017429194,
          2.976470588235294,
          2.9864923747276686,
          2.9965141612200434,
          3.0065359477124183,
          3.016557734204793,
          3.0265795206971675,
          3.0366013071895424,
          3.046623093681917,
          3.056644880174292,
          3.0666666666666664,
          3.0766884531590413,
          3.086710239651416,
          3.096732026143791,
          3.1067538126361653,
          3.11677559912854,
          3.126797385620915,
          3.13681917211329,
          3.1468409586056643,
          3.156862745098039,
          3.166884531590414,
          3.176906318082789,
          3.186928104575163,
          3.196949891067538,
          3.206971677559913,
          3.2169934640522873,
          3.227015250544662,
          3.237037037037037,
          3.2470588235294118,
          3.257080610021786,
          3.267102396514161,
          3.277124183006536,
          3.2871459694989107,
          3.297167755991285,
          3.30718954248366,
          3.3172113289760348,
          3.3272331154684096,
          3.337254901960784,
          3.347276688453159,
          3.3572984749455337,
          3.3673202614379085,
          3.377342047930283,
          3.3873638344226578,
          3.3973856209150326,
          3.4074074074074074,
          3.417429193899782,
          3.4274509803921567,
          3.4374727668845315,
          3.4474945533769064,
          3.4575163398692808,
          3.4675381263616556,
          3.4775599128540304,
          3.4875816993464053,
          3.4976034858387797,
          3.5076252723311545,
          3.5176470588235293,
          3.527668845315904,
          3.5376906318082786,
          3.5477124183006534,
          3.5577342047930283,
          3.567755991285403,
          3.5777777777777775,
          3.5877995642701523,
          3.597821350762527,
          3.607843137254902,
          3.6178649237472764,
          3.6278867102396513,
          3.637908496732026,
          3.647930283224401,
          3.6579520697167753,
          3.66797385620915,
          3.677995642701525,
          3.6880174291939,
          3.6980392156862743,
          3.708061002178649,
          3.718082788671024,
          3.7281045751633988,
          3.738126361655773,
          3.748148148148148,
          3.758169934640523,
          3.7681917211328977,
          3.778213507625272,
          3.788235294117647,
          3.7982570806100218,
          3.8082788671023966,
          3.818300653594771,
          3.828322440087146,
          3.8383442265795207,
          3.848366013071895,
          3.85838779956427,
          3.8684095860566448,
          3.8784313725490196,
          3.888453159041394,
          3.898474945533769,
          3.9084967320261437,
          3.9185185185185185,
          3.928540305010893,
          3.9385620915032677,
          3.9485838779956426,
          3.9586056644880174,
          3.968627450980392,
          3.9786492374727667,
          3.9886710239651415,
          3.9986928104575163,
          4.008714596949891,
          4.018736383442266,
          4.02875816993464,
          4.038779956427015,
          4.04880174291939,
          4.0588235294117645,
          4.068845315904139,
          4.078867102396514,
          4.088888888888889,
          4.098910675381264,
          4.108932461873638,
          4.118954248366013,
          4.128976034858388,
          4.138997821350762,
          4.149019607843137,
          4.159041394335512,
          4.169063180827886,
          4.179084967320262,
          4.189106753812636,
          4.1991285403050105,
          4.209150326797386,
          4.21917211328976,
          4.229193899782135,
          4.23921568627451,
          4.249237472766884,
          4.2592592592592595,
          4.269281045751634,
          4.279302832244008,
          4.289324618736384,
          4.299346405228758,
          4.309368191721132,
          4.319389978213508,
          4.329411764705882,
          4.339433551198257,
          4.349455337690632,
          4.359477124183006,
          4.369498910675381,
          4.379520697167756,
          4.38954248366013,
          4.3995642701525055,
          4.40958605664488,
          4.419607843137255,
          4.42962962962963,
          4.439651416122004,
          4.449673202614379,
          4.459694989106754,
          4.469716775599128,
          4.479738562091503,
          4.489760348583878,
          4.499782135076252,
          4.509803921568627,
          4.519825708061002,
          4.529847494553377,
          4.5398692810457515,
          4.549891067538126,
          4.559912854030501,
          4.569934640522876,
          4.57995642701525,
          4.589978213507625,
          4.6
         ],
         "y": [
          1,
          1,
          1,
          1,
          1,
          1,
          1,
          1,
          1,
          1,
          1,
          1,
          1,
          1,
          1,
          1,
          1,
          1,
          1,
          1,
          1,
          1,
          1,
          1,
          1,
          1,
          1,
          1,
          1,
          1,
          1,
          1,
          1,
          1,
          1,
          1,
          1,
          1,
          1,
          1,
          1,
          1,
          1,
          1,
          1,
          1,
          1,
          1,
          1,
          1,
          1,
          1,
          1,
          1,
          1,
          1,
          1,
          1,
          1,
          1,
          1,
          1,
          1,
          1,
          1,
          1,
          1,
          1,
          1,
          1,
          1,
          1,
          1,
          1,
          1,
          1,
          1,
          1,
          1,
          1,
          1,
          1,
          1,
          1,
          1,
          1,
          1,
          1,
          1,
          1,
          1,
          1,
          1,
          1,
          1,
          1,
          1,
          1,
          1,
          1,
          1,
          1,
          1,
          1,
          1,
          1,
          1,
          1,
          1,
          1,
          1,
          1,
          1,
          1,
          1,
          1,
          1,
          1,
          1,
          1,
          1,
          1,
          1,
          1,
          1,
          1,
          1,
          1,
          1,
          1,
          1,
          1,
          1,
          1,
          1,
          1,
          1,
          1,
          1,
          1,
          1,
          1,
          1,
          1,
          1,
          1,
          1,
          1,
          1,
          1,
          1,
          1,
          1,
          1,
          1,
          1,
          1,
          1,
          1,
          1,
          1,
          1,
          1,
          1,
          1,
          1,
          1,
          1,
          1,
          1,
          1,
          1,
          1,
          1,
          1,
          1,
          1,
          1,
          1,
          1,
          1,
          1,
          1,
          1,
          1,
          1,
          1,
          1,
          1,
          1,
          1,
          1,
          1,
          1,
          1,
          1,
          1,
          1,
          1,
          1,
          1,
          1,
          1,
          1,
          1,
          1,
          1,
          1,
          1,
          1,
          1,
          1,
          1,
          1,
          1,
          1,
          1,
          1,
          1,
          1,
          1,
          1,
          1,
          1,
          1,
          1,
          1,
          1,
          1,
          1,
          1,
          1,
          1,
          1,
          1,
          1,
          1,
          1,
          1,
          1,
          1,
          1,
          1,
          1,
          1,
          1,
          1,
          1,
          1,
          1,
          1,
          1,
          1,
          1,
          1,
          1,
          1,
          1,
          1,
          1,
          1,
          1,
          1,
          1,
          1,
          1,
          1,
          1,
          1,
          1,
          1,
          1,
          1,
          1,
          1,
          1,
          1,
          1,
          1,
          1,
          1,
          1,
          1,
          1,
          1,
          1,
          1,
          1,
          1,
          1,
          1,
          1,
          1,
          1,
          1,
          1,
          1,
          1,
          1,
          1,
          1,
          1,
          1,
          1,
          1,
          1,
          1,
          1,
          1,
          1,
          1,
          1,
          1,
          1,
          1,
          1,
          1,
          1,
          1,
          1,
          1,
          1,
          1,
          1,
          1,
          1,
          1,
          1,
          1,
          1,
          1,
          1,
          1,
          1,
          1,
          1,
          1,
          1,
          1,
          1,
          1,
          1,
          1,
          1,
          1,
          1,
          1,
          1,
          1,
          1,
          1,
          1,
          1,
          1,
          1,
          1,
          1,
          1,
          1,
          1,
          1,
          1,
          1,
          1,
          1,
          1,
          1,
          1,
          1,
          1,
          1,
          1,
          1,
          1,
          1,
          1,
          1,
          1,
          1,
          1,
          1,
          1,
          1,
          1,
          1,
          1,
          1,
          1,
          1,
          1,
          1,
          1,
          1,
          1,
          1,
          1,
          1,
          1,
          1,
          1,
          1,
          1,
          1,
          1,
          1,
          1,
          1,
          1,
          1,
          1,
          1,
          1,
          1,
          1,
          1,
          1,
          1,
          1,
          1,
          1,
          1,
          1,
          1,
          1,
          1,
          1,
          1,
          1,
          1,
          1,
          1,
          1,
          1,
          1,
          1,
          1,
          1,
          1,
          1,
          1,
          1,
          1,
          1,
          1,
          1,
          1,
          1,
          1,
          1,
          1,
          1,
          1,
          1,
          1,
          1,
          1,
          1,
          1,
          1,
          1
         ]
        },
        {
         "hoverinfo": "skip",
         "hovertemplate": "x: %{meta[0]:.3f} %{meta[3]}<br>Force: %{meta[1]:.3f} %{meta[4]}        <br>Angle: %{meta[2]:.3f} deg",
         "marker": {
          "color": "mediumpurple",
          "size": 10,
          "symbol": "triangle-up"
         },
         "meta": [
          0,
          -63342,
          90,
          "m",
          "N/m"
         ],
         "mode": "markers",
         "name": "Distributed<br>Load",
         "opacity": 0,
         "showlegend": false,
         "type": "scatter",
         "x": [
          0
         ],
         "y": [
          0
         ]
        },
        {
         "hoverinfo": "skip",
         "hovertemplate": "x: %{meta[0]:.3f} %{meta[3]}<br>Force: %{meta[1]:.3f} %{meta[4]}        <br>Angle: %{meta[2]:.3f} deg",
         "marker": {
          "color": "mediumpurple",
          "size": 10,
          "symbol": "triangle-up"
         },
         "meta": [
          4.6,
          -63342,
          90,
          "m",
          "N/m"
         ],
         "mode": "markers",
         "name": "Distributed<br>Load",
         "opacity": 0,
         "showlegend": false,
         "type": "scatter",
         "x": [
          4.6
         ],
         "y": [
          0
         ]
        }
       ],
       "layout": {
        "annotations": [
         {
          "font": {
           "color": "mediumpurple"
          },
          "showarrow": false,
          "text": "931415.000 N/m",
          "x": 0,
          "xref": "x",
          "xshift": 0,
          "y": 0,
          "yref": "y",
          "yshift": -39
         },
         {
          "font": {
           "color": "mediumpurple"
          },
          "showarrow": false,
          "text": "930052.000 N/m",
          "x": 4.6,
          "xref": "x",
          "xshift": 0,
          "y": 0,
          "yref": "y",
          "yshift": -37.7
         },
         {
          "font": {
           "color": "mediumpurple"
          },
          "showarrow": false,
          "text": "-63342.000 N/m",
          "x": 0,
          "xref": "x",
          "xshift": 0,
          "y": 0,
          "yref": "y",
          "yshift": 39
         },
         {
          "font": {
           "color": "mediumpurple"
          },
          "showarrow": false,
          "text": "-63342.000 N/m",
          "x": 4.6,
          "xref": "x",
          "xshift": 0,
          "y": 0,
          "yref": "y",
          "yshift": 39
         }
        ],
        "height": 350,
        "hovermode": "x",
        "shapes": [
         {
          "fillcolor": "blue",
          "line": {
           "color": "blue",
           "width": 4
          },
          "type": "rect",
          "x0": -2,
          "x1": -2,
          "xanchor": 0.54,
          "xref": "x",
          "xsizemode": "pixel",
          "y0": -5,
          "y1": 5,
          "yanchor": 0,
          "yref": "y",
          "ysizemode": "pixel"
         },
         {
          "fillcolor": "blue",
          "line": {
           "color": "blue",
           "width": 4
          },
          "type": "rect",
          "x0": -2,
          "x1": -2,
          "xanchor": 3.54,
          "xref": "x",
          "xsizemode": "pixel",
          "y0": -5,
          "y1": 5,
          "yanchor": 0,
          "yref": "y",
          "ysizemode": "pixel"
         },
         {
          "line": {
           "color": "mediumpurple",
           "width": 2
          },
          "type": "line",
          "x0": 0,
          "x1": 3,
          "xanchor": 0,
          "xref": "x",
          "xsizemode": "pixel",
          "y0": 0,
          "y1": -3,
          "yanchor": 0,
          "yref": "y",
          "ysizemode": "pixel"
         },
         {
          "line": {
           "color": "mediumpurple",
           "width": 2
          },
          "type": "line",
          "x0": 0,
          "x1": -3,
          "xanchor": 0,
          "xref": "x",
          "xsizemode": "pixel",
          "y0": 0,
          "y1": -3,
          "yanchor": 0,
          "yref": "y",
          "ysizemode": "pixel"
         },
         {
          "line": {
           "color": "mediumpurple",
           "width": 2
          },
          "type": "line",
          "x0": 0,
          "x1": 0,
          "xanchor": 0,
          "xref": "x",
          "xsizemode": "pixel",
          "y0": 0,
          "y1": -30,
          "yanchor": 0,
          "yref": "y",
          "ysizemode": "pixel"
         },
         {
          "line": {
           "color": "mediumpurple",
           "width": 2
          },
          "type": "line",
          "x0": 0,
          "x1": 3,
          "xanchor": 4.6,
          "xref": "x",
          "xsizemode": "pixel",
          "y0": 0,
          "y1": -3,
          "yanchor": 0,
          "yref": "y",
          "ysizemode": "pixel"
         },
         {
          "line": {
           "color": "mediumpurple",
           "width": 2
          },
          "type": "line",
          "x0": 0,
          "x1": -3,
          "xanchor": 4.6,
          "xref": "x",
          "xsizemode": "pixel",
          "y0": 0,
          "y1": -3,
          "yanchor": 0,
          "yref": "y",
          "ysizemode": "pixel"
         },
         {
          "line": {
           "color": "mediumpurple",
           "width": 2
          },
          "type": "line",
          "x0": 0,
          "x1": 0,
          "xanchor": 4.6,
          "xref": "x",
          "xsizemode": "pixel",
          "y0": 0,
          "y1": -29,
          "yanchor": 0,
          "yref": "y",
          "ysizemode": "pixel"
         },
         {
          "line": {
           "color": "mediumpurple",
           "width": 2
          },
          "type": "line",
          "x0": 0,
          "x1": -3,
          "xanchor": 0,
          "xref": "x",
          "xsizemode": "pixel",
          "y0": 0,
          "y1": 3,
          "yanchor": 0,
          "yref": "y",
          "ysizemode": "pixel"
         },
         {
          "line": {
           "color": "mediumpurple",
           "width": 2
          },
          "type": "line",
          "x0": 0,
          "x1": 3,
          "xanchor": 0,
          "xref": "x",
          "xsizemode": "pixel",
          "y0": 0,
          "y1": 3,
          "yanchor": 0,
          "yref": "y",
          "ysizemode": "pixel"
         },
         {
          "line": {
           "color": "mediumpurple",
           "width": 2
          },
          "type": "line",
          "x0": 0,
          "x1": 0,
          "xanchor": 0,
          "xref": "x",
          "xsizemode": "pixel",
          "y0": 0,
          "y1": 30,
          "yanchor": 0,
          "yref": "y",
          "ysizemode": "pixel"
         },
         {
          "line": {
           "color": "mediumpurple",
           "width": 2
          },
          "type": "line",
          "x0": 0,
          "x1": -3,
          "xanchor": 4.6,
          "xref": "x",
          "xsizemode": "pixel",
          "y0": 0,
          "y1": 3,
          "yanchor": 0,
          "yref": "y",
          "ysizemode": "pixel"
         },
         {
          "line": {
           "color": "mediumpurple",
           "width": 2
          },
          "type": "line",
          "x0": 0,
          "x1": 3,
          "xanchor": 4.6,
          "xref": "x",
          "xsizemode": "pixel",
          "y0": 0,
          "y1": 3,
          "yanchor": 0,
          "yref": "y",
          "ysizemode": "pixel"
         },
         {
          "line": {
           "color": "mediumpurple",
           "width": 2
          },
          "type": "line",
          "x0": 0,
          "x1": 0,
          "xanchor": 4.6,
          "xref": "x",
          "xsizemode": "pixel",
          "y0": 0,
          "y1": 30,
          "yanchor": 0,
          "yref": "y",
          "ysizemode": "pixel"
         }
        ],
        "showlegend": false,
        "template": {
         "data": {
          "bar": [
           {
            "error_x": {
             "color": "#2a3f5f"
            },
            "error_y": {
             "color": "#2a3f5f"
            },
            "marker": {
             "line": {
              "color": "#E5ECF6",
              "width": 0.5
             },
             "pattern": {
              "fillmode": "overlay",
              "size": 10,
              "solidity": 0.2
             }
            },
            "type": "bar"
           }
          ],
          "barpolar": [
           {
            "marker": {
             "line": {
              "color": "#E5ECF6",
              "width": 0.5
             },
             "pattern": {
              "fillmode": "overlay",
              "size": 10,
              "solidity": 0.2
             }
            },
            "type": "barpolar"
           }
          ],
          "carpet": [
           {
            "aaxis": {
             "endlinecolor": "#2a3f5f",
             "gridcolor": "white",
             "linecolor": "white",
             "minorgridcolor": "white",
             "startlinecolor": "#2a3f5f"
            },
            "baxis": {
             "endlinecolor": "#2a3f5f",
             "gridcolor": "white",
             "linecolor": "white",
             "minorgridcolor": "white",
             "startlinecolor": "#2a3f5f"
            },
            "type": "carpet"
           }
          ],
          "choropleth": [
           {
            "colorbar": {
             "outlinewidth": 0,
             "ticks": ""
            },
            "type": "choropleth"
           }
          ],
          "contour": [
           {
            "colorbar": {
             "outlinewidth": 0,
             "ticks": ""
            },
            "colorscale": [
             [
              0,
              "#0d0887"
             ],
             [
              0.1111111111111111,
              "#46039f"
             ],
             [
              0.2222222222222222,
              "#7201a8"
             ],
             [
              0.3333333333333333,
              "#9c179e"
             ],
             [
              0.4444444444444444,
              "#bd3786"
             ],
             [
              0.5555555555555556,
              "#d8576b"
             ],
             [
              0.6666666666666666,
              "#ed7953"
             ],
             [
              0.7777777777777778,
              "#fb9f3a"
             ],
             [
              0.8888888888888888,
              "#fdca26"
             ],
             [
              1,
              "#f0f921"
             ]
            ],
            "type": "contour"
           }
          ],
          "contourcarpet": [
           {
            "colorbar": {
             "outlinewidth": 0,
             "ticks": ""
            },
            "type": "contourcarpet"
           }
          ],
          "heatmap": [
           {
            "colorbar": {
             "outlinewidth": 0,
             "ticks": ""
            },
            "colorscale": [
             [
              0,
              "#0d0887"
             ],
             [
              0.1111111111111111,
              "#46039f"
             ],
             [
              0.2222222222222222,
              "#7201a8"
             ],
             [
              0.3333333333333333,
              "#9c179e"
             ],
             [
              0.4444444444444444,
              "#bd3786"
             ],
             [
              0.5555555555555556,
              "#d8576b"
             ],
             [
              0.6666666666666666,
              "#ed7953"
             ],
             [
              0.7777777777777778,
              "#fb9f3a"
             ],
             [
              0.8888888888888888,
              "#fdca26"
             ],
             [
              1,
              "#f0f921"
             ]
            ],
            "type": "heatmap"
           }
          ],
          "heatmapgl": [
           {
            "colorbar": {
             "outlinewidth": 0,
             "ticks": ""
            },
            "colorscale": [
             [
              0,
              "#0d0887"
             ],
             [
              0.1111111111111111,
              "#46039f"
             ],
             [
              0.2222222222222222,
              "#7201a8"
             ],
             [
              0.3333333333333333,
              "#9c179e"
             ],
             [
              0.4444444444444444,
              "#bd3786"
             ],
             [
              0.5555555555555556,
              "#d8576b"
             ],
             [
              0.6666666666666666,
              "#ed7953"
             ],
             [
              0.7777777777777778,
              "#fb9f3a"
             ],
             [
              0.8888888888888888,
              "#fdca26"
             ],
             [
              1,
              "#f0f921"
             ]
            ],
            "type": "heatmapgl"
           }
          ],
          "histogram": [
           {
            "marker": {
             "pattern": {
              "fillmode": "overlay",
              "size": 10,
              "solidity": 0.2
             }
            },
            "type": "histogram"
           }
          ],
          "histogram2d": [
           {
            "colorbar": {
             "outlinewidth": 0,
             "ticks": ""
            },
            "colorscale": [
             [
              0,
              "#0d0887"
             ],
             [
              0.1111111111111111,
              "#46039f"
             ],
             [
              0.2222222222222222,
              "#7201a8"
             ],
             [
              0.3333333333333333,
              "#9c179e"
             ],
             [
              0.4444444444444444,
              "#bd3786"
             ],
             [
              0.5555555555555556,
              "#d8576b"
             ],
             [
              0.6666666666666666,
              "#ed7953"
             ],
             [
              0.7777777777777778,
              "#fb9f3a"
             ],
             [
              0.8888888888888888,
              "#fdca26"
             ],
             [
              1,
              "#f0f921"
             ]
            ],
            "type": "histogram2d"
           }
          ],
          "histogram2dcontour": [
           {
            "colorbar": {
             "outlinewidth": 0,
             "ticks": ""
            },
            "colorscale": [
             [
              0,
              "#0d0887"
             ],
             [
              0.1111111111111111,
              "#46039f"
             ],
             [
              0.2222222222222222,
              "#7201a8"
             ],
             [
              0.3333333333333333,
              "#9c179e"
             ],
             [
              0.4444444444444444,
              "#bd3786"
             ],
             [
              0.5555555555555556,
              "#d8576b"
             ],
             [
              0.6666666666666666,
              "#ed7953"
             ],
             [
              0.7777777777777778,
              "#fb9f3a"
             ],
             [
              0.8888888888888888,
              "#fdca26"
             ],
             [
              1,
              "#f0f921"
             ]
            ],
            "type": "histogram2dcontour"
           }
          ],
          "mesh3d": [
           {
            "colorbar": {
             "outlinewidth": 0,
             "ticks": ""
            },
            "type": "mesh3d"
           }
          ],
          "parcoords": [
           {
            "line": {
             "colorbar": {
              "outlinewidth": 0,
              "ticks": ""
             }
            },
            "type": "parcoords"
           }
          ],
          "pie": [
           {
            "automargin": true,
            "type": "pie"
           }
          ],
          "scatter": [
           {
            "marker": {
             "colorbar": {
              "outlinewidth": 0,
              "ticks": ""
             }
            },
            "type": "scatter"
           }
          ],
          "scatter3d": [
           {
            "line": {
             "colorbar": {
              "outlinewidth": 0,
              "ticks": ""
             }
            },
            "marker": {
             "colorbar": {
              "outlinewidth": 0,
              "ticks": ""
             }
            },
            "type": "scatter3d"
           }
          ],
          "scattercarpet": [
           {
            "marker": {
             "colorbar": {
              "outlinewidth": 0,
              "ticks": ""
             }
            },
            "type": "scattercarpet"
           }
          ],
          "scattergeo": [
           {
            "marker": {
             "colorbar": {
              "outlinewidth": 0,
              "ticks": ""
             }
            },
            "type": "scattergeo"
           }
          ],
          "scattergl": [
           {
            "marker": {
             "colorbar": {
              "outlinewidth": 0,
              "ticks": ""
             }
            },
            "type": "scattergl"
           }
          ],
          "scattermapbox": [
           {
            "marker": {
             "colorbar": {
              "outlinewidth": 0,
              "ticks": ""
             }
            },
            "type": "scattermapbox"
           }
          ],
          "scatterpolar": [
           {
            "marker": {
             "colorbar": {
              "outlinewidth": 0,
              "ticks": ""
             }
            },
            "type": "scatterpolar"
           }
          ],
          "scatterpolargl": [
           {
            "marker": {
             "colorbar": {
              "outlinewidth": 0,
              "ticks": ""
             }
            },
            "type": "scatterpolargl"
           }
          ],
          "scatterternary": [
           {
            "marker": {
             "colorbar": {
              "outlinewidth": 0,
              "ticks": ""
             }
            },
            "type": "scatterternary"
           }
          ],
          "surface": [
           {
            "colorbar": {
             "outlinewidth": 0,
             "ticks": ""
            },
            "colorscale": [
             [
              0,
              "#0d0887"
             ],
             [
              0.1111111111111111,
              "#46039f"
             ],
             [
              0.2222222222222222,
              "#7201a8"
             ],
             [
              0.3333333333333333,
              "#9c179e"
             ],
             [
              0.4444444444444444,
              "#bd3786"
             ],
             [
              0.5555555555555556,
              "#d8576b"
             ],
             [
              0.6666666666666666,
              "#ed7953"
             ],
             [
              0.7777777777777778,
              "#fb9f3a"
             ],
             [
              0.8888888888888888,
              "#fdca26"
             ],
             [
              1,
              "#f0f921"
             ]
            ],
            "type": "surface"
           }
          ],
          "table": [
           {
            "cells": {
             "fill": {
              "color": "#EBF0F8"
             },
             "line": {
              "color": "white"
             }
            },
            "header": {
             "fill": {
              "color": "#C8D4E3"
             },
             "line": {
              "color": "white"
             }
            },
            "type": "table"
           }
          ]
         },
         "layout": {
          "annotationdefaults": {
           "arrowcolor": "#2a3f5f",
           "arrowhead": 0,
           "arrowwidth": 1
          },
          "autotypenumbers": "strict",
          "coloraxis": {
           "colorbar": {
            "outlinewidth": 0,
            "ticks": ""
           }
          },
          "colorscale": {
           "diverging": [
            [
             0,
             "#8e0152"
            ],
            [
             0.1,
             "#c51b7d"
            ],
            [
             0.2,
             "#de77ae"
            ],
            [
             0.3,
             "#f1b6da"
            ],
            [
             0.4,
             "#fde0ef"
            ],
            [
             0.5,
             "#f7f7f7"
            ],
            [
             0.6,
             "#e6f5d0"
            ],
            [
             0.7,
             "#b8e186"
            ],
            [
             0.8,
             "#7fbc41"
            ],
            [
             0.9,
             "#4d9221"
            ],
            [
             1,
             "#276419"
            ]
           ],
           "sequential": [
            [
             0,
             "#0d0887"
            ],
            [
             0.1111111111111111,
             "#46039f"
            ],
            [
             0.2222222222222222,
             "#7201a8"
            ],
            [
             0.3333333333333333,
             "#9c179e"
            ],
            [
             0.4444444444444444,
             "#bd3786"
            ],
            [
             0.5555555555555556,
             "#d8576b"
            ],
            [
             0.6666666666666666,
             "#ed7953"
            ],
            [
             0.7777777777777778,
             "#fb9f3a"
            ],
            [
             0.8888888888888888,
             "#fdca26"
            ],
            [
             1,
             "#f0f921"
            ]
           ],
           "sequentialminus": [
            [
             0,
             "#0d0887"
            ],
            [
             0.1111111111111111,
             "#46039f"
            ],
            [
             0.2222222222222222,
             "#7201a8"
            ],
            [
             0.3333333333333333,
             "#9c179e"
            ],
            [
             0.4444444444444444,
             "#bd3786"
            ],
            [
             0.5555555555555556,
             "#d8576b"
            ],
            [
             0.6666666666666666,
             "#ed7953"
            ],
            [
             0.7777777777777778,
             "#fb9f3a"
            ],
            [
             0.8888888888888888,
             "#fdca26"
            ],
            [
             1,
             "#f0f921"
            ]
           ]
          },
          "colorway": [
           "#636efa",
           "#EF553B",
           "#00cc96",
           "#ab63fa",
           "#FFA15A",
           "#19d3f3",
           "#FF6692",
           "#B6E880",
           "#FF97FF",
           "#FECB52"
          ],
          "font": {
           "color": "#2a3f5f"
          },
          "geo": {
           "bgcolor": "white",
           "lakecolor": "white",
           "landcolor": "#E5ECF6",
           "showlakes": true,
           "showland": true,
           "subunitcolor": "white"
          },
          "hoverlabel": {
           "align": "left"
          },
          "hovermode": "closest",
          "mapbox": {
           "style": "light"
          },
          "paper_bgcolor": "white",
          "plot_bgcolor": "#E5ECF6",
          "polar": {
           "angularaxis": {
            "gridcolor": "white",
            "linecolor": "white",
            "ticks": ""
           },
           "bgcolor": "#E5ECF6",
           "radialaxis": {
            "gridcolor": "white",
            "linecolor": "white",
            "ticks": ""
           }
          },
          "scene": {
           "xaxis": {
            "backgroundcolor": "#E5ECF6",
            "gridcolor": "white",
            "gridwidth": 2,
            "linecolor": "white",
            "showbackground": true,
            "ticks": "",
            "zerolinecolor": "white"
           },
           "yaxis": {
            "backgroundcolor": "#E5ECF6",
            "gridcolor": "white",
            "gridwidth": 2,
            "linecolor": "white",
            "showbackground": true,
            "ticks": "",
            "zerolinecolor": "white"
           },
           "zaxis": {
            "backgroundcolor": "#E5ECF6",
            "gridcolor": "white",
            "gridwidth": 2,
            "linecolor": "white",
            "showbackground": true,
            "ticks": "",
            "zerolinecolor": "white"
           }
          },
          "shapedefaults": {
           "line": {
            "color": "#2a3f5f"
           }
          },
          "ternary": {
           "aaxis": {
            "gridcolor": "white",
            "linecolor": "white",
            "ticks": ""
           },
           "baxis": {
            "gridcolor": "white",
            "linecolor": "white",
            "ticks": ""
           },
           "bgcolor": "#E5ECF6",
           "caxis": {
            "gridcolor": "white",
            "linecolor": "white",
            "ticks": ""
           }
          },
          "title": {
           "x": 0.05
          },
          "xaxis": {
           "automargin": true,
           "gridcolor": "white",
           "linecolor": "white",
           "ticks": "",
           "title": {
            "standoff": 15
           },
           "zerolinecolor": "white",
           "zerolinewidth": 2
          },
          "yaxis": {
           "automargin": true,
           "gridcolor": "white",
           "linecolor": "white",
           "ticks": "",
           "title": {
            "standoff": 15
           },
           "zerolinecolor": "white",
           "zerolinewidth": 2
          }
         }
        },
        "title": {
         "font": {
          "size": 24
         },
         "text": "Foundation schematic (length)",
         "x": 0.5
        },
        "xaxis": {
         "title": {
          "text": "Foundation length"
         }
        },
        "yaxis": {
         "fixedrange": true,
         "range": [
          -3,
          3
         ],
         "visible": false
        }
       }
      }
     },
     "metadata": {},
     "output_type": "display_data"
    }
   ],
   "source": [
    "comb_footing_design.plot_foundation_loading_X()\n",
    "# This shows the loadings that the foundation is subjected to"
   ]
  },
  {
   "cell_type": "markdown",
   "metadata": {},
   "source": [
    "#### Plot the foundation loading diagram in y direction"
   ]
  },
  {
   "cell_type": "code",
   "execution_count": 45,
   "metadata": {},
   "outputs": [
    {
     "data": {
      "application/vnd.plotly.v1+json": {
       "config": {
        "plotlyServerURL": "https://plot.ly"
       },
       "data": [
        {
         "hoverinfo": "skip",
         "hovertemplate": "%{x} %{meta[0]}",
         "line": {
          "color": "purple",
          "width": 2
         },
         "meta": [
          "m"
         ],
         "mode": "lines",
         "name": "Beam_",
         "type": "scatter",
         "x": [
          0,
          2.3
         ],
         "y": [
          0,
          0
         ]
        },
        {
         "hoverinfo": "skip",
         "hovertemplate": "x: %{x:.3f} %{meta[1]}<br>Fixed: %{meta[0]}",
         "marker": {
          "color": "blue",
          "size": 10,
          "symbol": "triangle-up"
         },
         "meta": [
          "[1, 1, 1]",
          "m"
         ],
         "mode": "markers",
         "name": "Support",
         "opacity": 0,
         "showlegend": false,
         "type": "scatter",
         "x": [
          1.15
         ],
         "y": [
          0
         ]
        },
        {
         "hoverinfo": "skip",
         "hovertemplate": "x: %{x:.3f} %{meta[1]}<br>Fixed: %{meta[0]}",
         "marker": {
          "color": "blue",
          "size": 10,
          "symbol": "triangle-up"
         },
         "meta": [
          "[1, 1, 1]",
          "m"
         ],
         "mode": "markers",
         "name": "Support",
         "opacity": 0,
         "showlegend": false,
         "type": "scatter",
         "x": [
          1.145
         ],
         "y": [
          0
         ]
        },
        {
         "fill": "tozeroy",
         "hoverinfo": "skip",
         "hovertemplate": "",
         "line": {
          "color": "mediumpurple",
          "width": 1
         },
         "mode": "lines",
         "name": "Trapezoidal<br>Load",
         "type": "scatter",
         "x": [
          0,
          2.3
         ],
         "y": [
          -1,
          -0.9858412290990906
         ]
        },
        {
         "hoverinfo": "skip",
         "hovertemplate": "x: %{meta[0]:.3f} %{meta[3]}<br>Force: %{meta[1]:.3f} %{meta[4]}        <br>Angle: %{meta[2]:.3f} deg",
         "marker": {
          "color": "mediumpurple",
          "size": 10,
          "symbol": "triangle-up"
         },
         "meta": [
          0,
          1874739,
          90,
          "m",
          "N/m"
         ],
         "mode": "markers",
         "name": "Distributed<br>Load",
         "opacity": 0,
         "showlegend": false,
         "type": "scatter",
         "x": [
          0
         ],
         "y": [
          0
         ]
        },
        {
         "hoverinfo": "skip",
         "hovertemplate": "x: %{meta[0]:.3f} %{meta[3]}<br>Force: %{meta[1]:.3f} %{meta[4]}        <br>Angle: %{meta[2]:.3f} deg",
         "marker": {
          "color": "mediumpurple",
          "size": 10,
          "symbol": "triangle-up"
         },
         "meta": [
          2.3,
          1848195,
          90,
          "m",
          "N/m"
         ],
         "mode": "markers",
         "name": "Distributed<br>Load",
         "opacity": 0,
         "showlegend": false,
         "type": "scatter",
         "x": [
          2.3
         ],
         "y": [
          0
         ]
        },
        {
         "fill": "tozeroy",
         "hoverinfo": "skip",
         "hovertemplate": "",
         "line": {
          "color": "mediumpurple",
          "width": 1
         },
         "mode": "lines",
         "name": "Distributed<br>Load",
         "type": "scatter",
         "x": [
          0,
          0.01004366812227074,
          0.02008733624454148,
          0.030131004366812222,
          0.04017467248908296,
          0.050218340611353704,
          0.060262008733624445,
          0.07030567685589519,
          0.08034934497816593,
          0.09039301310043667,
          0.10043668122270741,
          0.11048034934497815,
          0.12052401746724889,
          0.13056768558951964,
          0.14061135371179037,
          0.1506550218340611,
          0.16069868995633185,
          0.1707423580786026,
          0.18078602620087333,
          0.19082969432314406,
          0.20087336244541482,
          0.21091703056768557,
          0.2209606986899563,
          0.23100436681222702,
          0.24104803493449778,
          0.25109170305676853,
          0.2611353711790393,
          0.27117903930131,
          0.28122270742358074,
          0.2912663755458515,
          0.3013100436681222,
          0.31135371179039295,
          0.3213973799126637,
          0.33144104803493446,
          0.3414847161572052,
          0.3515283842794759,
          0.36157205240174667,
          0.3716157205240174,
          0.3816593886462881,
          0.3917030567685589,
          0.40174672489082963,
          0.4117903930131004,
          0.42183406113537114,
          0.43187772925764184,
          0.4419213973799126,
          0.45196506550218335,
          0.46200873362445405,
          0.4720524017467248,
          0.48209606986899556,
          0.4921397379912663,
          0.5021834061135371,
          0.5122270742358078,
          0.5222707423580786,
          0.5323144104803492,
          0.54235807860262,
          0.5524017467248907,
          0.5624454148471615,
          0.5724890829694322,
          0.582532751091703,
          0.5925764192139737,
          0.6026200873362444,
          0.6126637554585151,
          0.6227074235807859,
          0.6327510917030567,
          0.6427947598253274,
          0.6528384279475982,
          0.6628820960698689,
          0.6729257641921397,
          0.6829694323144104,
          0.6930131004366811,
          0.7030567685589518,
          0.7131004366812226,
          0.7231441048034933,
          0.7331877729257641,
          0.7432314410480348,
          0.7532751091703056,
          0.7633187772925762,
          0.773362445414847,
          0.7834061135371178,
          0.7934497816593885,
          0.8034934497816593,
          0.81353711790393,
          0.8235807860262008,
          0.8336244541484715,
          0.8436681222707423,
          0.8537117903930129,
          0.8637554585152837,
          0.8737991266375544,
          0.8838427947598252,
          0.893886462882096,
          0.9039301310043667,
          0.9139737991266375,
          0.9240174672489081,
          0.9340611353711789,
          0.9441048034934496,
          0.9541484716157204,
          0.9641921397379911,
          0.9742358078602619,
          0.9842794759825326,
          0.9943231441048034,
          1.0043668122270741,
          1.0144104803493448,
          1.0244541484716156,
          1.0344978165938863,
          1.0445414847161572,
          1.0545851528384278,
          1.0646288209606984,
          1.0746724890829693,
          1.08471615720524,
          1.0947598253275108,
          1.1048034934497815,
          1.1148471615720523,
          1.124890829694323,
          1.1349344978165936,
          1.1449781659388645,
          1.1550218340611351,
          1.165065502183406,
          1.1751091703056766,
          1.1851528384279475,
          1.1951965065502181,
          1.2052401746724888,
          1.2152838427947597,
          1.2253275109170303,
          1.2353711790393012,
          1.2454148471615718,
          1.2554585152838427,
          1.2655021834061133,
          1.2755458515283842,
          1.2855895196506548,
          1.2956331877729255,
          1.3056768558951963,
          1.315720524017467,
          1.3257641921397378,
          1.3358078602620085,
          1.3458515283842793,
          1.35589519650655,
          1.3659388646288209,
          1.3759825327510915,
          1.3860262008733621,
          1.396069868995633,
          1.4061135371179037,
          1.4161572052401745,
          1.4262008733624452,
          1.436244541484716,
          1.4462882096069867,
          1.4563318777292573,
          1.4663755458515282,
          1.4764192139737988,
          1.4864628820960697,
          1.4965065502183403,
          1.5065502183406112,
          1.5165938864628818,
          1.5266375545851525,
          1.5366812227074234,
          1.546724890829694,
          1.5567685589519649,
          1.5668122270742355,
          1.5768558951965064,
          1.586899563318777,
          1.5969432314410479,
          1.6069868995633185,
          1.6170305676855892,
          1.62707423580786,
          1.6371179039301307,
          1.6471615720524015,
          1.6572052401746722,
          1.667248908296943,
          1.6772925764192137,
          1.6873362445414846,
          1.6973799126637552,
          1.7074235807860259,
          1.7174672489082967,
          1.7275109170305674,
          1.7375545851528382,
          1.7475982532751089,
          1.7576419213973797,
          1.7676855895196504,
          1.777729257641921,
          1.787772925764192,
          1.7978165938864625,
          1.8078602620087334,
          1.817903930131004,
          1.827947598253275,
          1.8379912663755456,
          1.8480349344978162,
          1.858078602620087,
          1.8681222707423577,
          1.8781659388646286,
          1.8882096069868992,
          1.89825327510917,
          1.9082969432314407,
          1.9183406113537116,
          1.9283842794759822,
          1.9384279475982529,
          1.9484716157205237,
          1.9585152838427944,
          1.9685589519650653,
          1.978602620087336,
          1.9886462882096068,
          1.9986899563318774,
          2.0087336244541483,
          2.0187772925764187,
          2.0288209606986896,
          2.0388646288209604,
          2.0489082969432313,
          2.0589519650655017,
          2.0689956331877726,
          2.0790393013100434,
          2.0890829694323143,
          2.0991266375545847,
          2.1091703056768556,
          2.1192139737991265,
          2.129257641921397,
          2.1393013100436677,
          2.1493449781659386,
          2.1593886462882095,
          2.16943231441048,
          2.1794759825327508,
          2.1895196506550216,
          2.199563318777292,
          2.209606986899563,
          2.219650655021834,
          2.2296943231441047,
          2.239737991266375,
          2.249781659388646,
          2.259825327510917,
          2.2698689956331872,
          2.279912663755458,
          2.289956331877729,
          2.3
         ],
         "y": [
          1,
          1,
          1,
          1,
          1,
          1,
          1,
          1,
          1,
          1,
          1,
          1,
          1,
          1,
          1,
          1,
          1,
          1,
          1,
          1,
          1,
          1,
          1,
          1,
          1,
          1,
          1,
          1,
          1,
          1,
          1,
          1,
          1,
          1,
          1,
          1,
          1,
          1,
          1,
          1,
          1,
          1,
          1,
          1,
          1,
          1,
          1,
          1,
          1,
          1,
          1,
          1,
          1,
          1,
          1,
          1,
          1,
          1,
          1,
          1,
          1,
          1,
          1,
          1,
          1,
          1,
          1,
          1,
          1,
          1,
          1,
          1,
          1,
          1,
          1,
          1,
          1,
          1,
          1,
          1,
          1,
          1,
          1,
          1,
          1,
          1,
          1,
          1,
          1,
          1,
          1,
          1,
          1,
          1,
          1,
          1,
          1,
          1,
          1,
          1,
          1,
          1,
          1,
          1,
          1,
          1,
          1,
          1,
          1,
          1,
          1,
          1,
          1,
          1,
          1,
          1,
          1,
          1,
          1,
          1,
          1,
          1,
          1,
          1,
          1,
          1,
          1,
          1,
          1,
          1,
          1,
          1,
          1,
          1,
          1,
          1,
          1,
          1,
          1,
          1,
          1,
          1,
          1,
          1,
          1,
          1,
          1,
          1,
          1,
          1,
          1,
          1,
          1,
          1,
          1,
          1,
          1,
          1,
          1,
          1,
          1,
          1,
          1,
          1,
          1,
          1,
          1,
          1,
          1,
          1,
          1,
          1,
          1,
          1,
          1,
          1,
          1,
          1,
          1,
          1,
          1,
          1,
          1,
          1,
          1,
          1,
          1,
          1,
          1,
          1,
          1,
          1,
          1,
          1,
          1,
          1,
          1,
          1,
          1,
          1,
          1,
          1,
          1,
          1,
          1,
          1,
          1,
          1,
          1,
          1,
          1,
          1,
          1,
          1,
          1,
          1,
          1,
          1,
          1,
          1,
          1,
          1,
          1,
          1,
          1,
          1,
          1,
          1,
          1,
          1
         ]
        },
        {
         "hoverinfo": "skip",
         "hovertemplate": "x: %{meta[0]:.3f} %{meta[3]}<br>Force: %{meta[1]:.3f} %{meta[4]}        <br>Angle: %{meta[2]:.3f} deg",
         "marker": {
          "color": "mediumpurple",
          "size": 10,
          "symbol": "triangle-up"
         },
         "meta": [
          0,
          -126684,
          90,
          "m",
          "N/m"
         ],
         "mode": "markers",
         "name": "Distributed<br>Load",
         "opacity": 0,
         "showlegend": false,
         "type": "scatter",
         "x": [
          0
         ],
         "y": [
          0
         ]
        },
        {
         "hoverinfo": "skip",
         "hovertemplate": "x: %{meta[0]:.3f} %{meta[3]}<br>Force: %{meta[1]:.3f} %{meta[4]}        <br>Angle: %{meta[2]:.3f} deg",
         "marker": {
          "color": "mediumpurple",
          "size": 10,
          "symbol": "triangle-up"
         },
         "meta": [
          2.3,
          -126684,
          90,
          "m",
          "N/m"
         ],
         "mode": "markers",
         "name": "Distributed<br>Load",
         "opacity": 0,
         "showlegend": false,
         "type": "scatter",
         "x": [
          2.3
         ],
         "y": [
          0
         ]
        }
       ],
       "layout": {
        "annotations": [
         {
          "font": {
           "color": "mediumpurple"
          },
          "showarrow": false,
          "text": "1874739.000 N/m",
          "x": 0,
          "xref": "x",
          "xshift": 0,
          "y": 0,
          "yref": "y",
          "yshift": -39
         },
         {
          "font": {
           "color": "mediumpurple"
          },
          "showarrow": false,
          "text": "1848195.000 N/m",
          "x": 2.3,
          "xref": "x",
          "xshift": 0,
          "y": 0,
          "yref": "y",
          "yshift": -37.7
         },
         {
          "font": {
           "color": "mediumpurple"
          },
          "showarrow": false,
          "text": "-126684.000 N/m",
          "x": 0,
          "xref": "x",
          "xshift": 0,
          "y": 0,
          "yref": "y",
          "yshift": 39
         },
         {
          "font": {
           "color": "mediumpurple"
          },
          "showarrow": false,
          "text": "-126684.000 N/m",
          "x": 2.3,
          "xref": "x",
          "xshift": 0,
          "y": 0,
          "yref": "y",
          "yshift": 39
         }
        ],
        "height": 350,
        "hovermode": "x",
        "shapes": [
         {
          "fillcolor": "blue",
          "line": {
           "color": "blue",
           "width": 4
          },
          "type": "rect",
          "x0": -2,
          "x1": -2,
          "xanchor": 1.15,
          "xref": "x",
          "xsizemode": "pixel",
          "y0": -5,
          "y1": 5,
          "yanchor": 0,
          "yref": "y",
          "ysizemode": "pixel"
         },
         {
          "fillcolor": "blue",
          "line": {
           "color": "blue",
           "width": 4
          },
          "type": "rect",
          "x0": -2,
          "x1": -2,
          "xanchor": 1.145,
          "xref": "x",
          "xsizemode": "pixel",
          "y0": -5,
          "y1": 5,
          "yanchor": 0,
          "yref": "y",
          "ysizemode": "pixel"
         },
         {
          "line": {
           "color": "mediumpurple",
           "width": 2
          },
          "type": "line",
          "x0": 0,
          "x1": 3,
          "xanchor": 0,
          "xref": "x",
          "xsizemode": "pixel",
          "y0": 0,
          "y1": -3,
          "yanchor": 0,
          "yref": "y",
          "ysizemode": "pixel"
         },
         {
          "line": {
           "color": "mediumpurple",
           "width": 2
          },
          "type": "line",
          "x0": 0,
          "x1": -3,
          "xanchor": 0,
          "xref": "x",
          "xsizemode": "pixel",
          "y0": 0,
          "y1": -3,
          "yanchor": 0,
          "yref": "y",
          "ysizemode": "pixel"
         },
         {
          "line": {
           "color": "mediumpurple",
           "width": 2
          },
          "type": "line",
          "x0": 0,
          "x1": 0,
          "xanchor": 0,
          "xref": "x",
          "xsizemode": "pixel",
          "y0": 0,
          "y1": -30,
          "yanchor": 0,
          "yref": "y",
          "ysizemode": "pixel"
         },
         {
          "line": {
           "color": "mediumpurple",
           "width": 2
          },
          "type": "line",
          "x0": 0,
          "x1": 3,
          "xanchor": 2.3,
          "xref": "x",
          "xsizemode": "pixel",
          "y0": 0,
          "y1": -3,
          "yanchor": 0,
          "yref": "y",
          "ysizemode": "pixel"
         },
         {
          "line": {
           "color": "mediumpurple",
           "width": 2
          },
          "type": "line",
          "x0": 0,
          "x1": -3,
          "xanchor": 2.3,
          "xref": "x",
          "xsizemode": "pixel",
          "y0": 0,
          "y1": -3,
          "yanchor": 0,
          "yref": "y",
          "ysizemode": "pixel"
         },
         {
          "line": {
           "color": "mediumpurple",
           "width": 2
          },
          "type": "line",
          "x0": 0,
          "x1": 0,
          "xanchor": 2.3,
          "xref": "x",
          "xsizemode": "pixel",
          "y0": 0,
          "y1": -29,
          "yanchor": 0,
          "yref": "y",
          "ysizemode": "pixel"
         },
         {
          "line": {
           "color": "mediumpurple",
           "width": 2
          },
          "type": "line",
          "x0": 0,
          "x1": -3,
          "xanchor": 0,
          "xref": "x",
          "xsizemode": "pixel",
          "y0": 0,
          "y1": 3,
          "yanchor": 0,
          "yref": "y",
          "ysizemode": "pixel"
         },
         {
          "line": {
           "color": "mediumpurple",
           "width": 2
          },
          "type": "line",
          "x0": 0,
          "x1": 3,
          "xanchor": 0,
          "xref": "x",
          "xsizemode": "pixel",
          "y0": 0,
          "y1": 3,
          "yanchor": 0,
          "yref": "y",
          "ysizemode": "pixel"
         },
         {
          "line": {
           "color": "mediumpurple",
           "width": 2
          },
          "type": "line",
          "x0": 0,
          "x1": 0,
          "xanchor": 0,
          "xref": "x",
          "xsizemode": "pixel",
          "y0": 0,
          "y1": 30,
          "yanchor": 0,
          "yref": "y",
          "ysizemode": "pixel"
         },
         {
          "line": {
           "color": "mediumpurple",
           "width": 2
          },
          "type": "line",
          "x0": 0,
          "x1": -3,
          "xanchor": 2.3,
          "xref": "x",
          "xsizemode": "pixel",
          "y0": 0,
          "y1": 3,
          "yanchor": 0,
          "yref": "y",
          "ysizemode": "pixel"
         },
         {
          "line": {
           "color": "mediumpurple",
           "width": 2
          },
          "type": "line",
          "x0": 0,
          "x1": 3,
          "xanchor": 2.3,
          "xref": "x",
          "xsizemode": "pixel",
          "y0": 0,
          "y1": 3,
          "yanchor": 0,
          "yref": "y",
          "ysizemode": "pixel"
         },
         {
          "line": {
           "color": "mediumpurple",
           "width": 2
          },
          "type": "line",
          "x0": 0,
          "x1": 0,
          "xanchor": 2.3,
          "xref": "x",
          "xsizemode": "pixel",
          "y0": 0,
          "y1": 30,
          "yanchor": 0,
          "yref": "y",
          "ysizemode": "pixel"
         }
        ],
        "showlegend": false,
        "template": {
         "data": {
          "bar": [
           {
            "error_x": {
             "color": "#2a3f5f"
            },
            "error_y": {
             "color": "#2a3f5f"
            },
            "marker": {
             "line": {
              "color": "#E5ECF6",
              "width": 0.5
             },
             "pattern": {
              "fillmode": "overlay",
              "size": 10,
              "solidity": 0.2
             }
            },
            "type": "bar"
           }
          ],
          "barpolar": [
           {
            "marker": {
             "line": {
              "color": "#E5ECF6",
              "width": 0.5
             },
             "pattern": {
              "fillmode": "overlay",
              "size": 10,
              "solidity": 0.2
             }
            },
            "type": "barpolar"
           }
          ],
          "carpet": [
           {
            "aaxis": {
             "endlinecolor": "#2a3f5f",
             "gridcolor": "white",
             "linecolor": "white",
             "minorgridcolor": "white",
             "startlinecolor": "#2a3f5f"
            },
            "baxis": {
             "endlinecolor": "#2a3f5f",
             "gridcolor": "white",
             "linecolor": "white",
             "minorgridcolor": "white",
             "startlinecolor": "#2a3f5f"
            },
            "type": "carpet"
           }
          ],
          "choropleth": [
           {
            "colorbar": {
             "outlinewidth": 0,
             "ticks": ""
            },
            "type": "choropleth"
           }
          ],
          "contour": [
           {
            "colorbar": {
             "outlinewidth": 0,
             "ticks": ""
            },
            "colorscale": [
             [
              0,
              "#0d0887"
             ],
             [
              0.1111111111111111,
              "#46039f"
             ],
             [
              0.2222222222222222,
              "#7201a8"
             ],
             [
              0.3333333333333333,
              "#9c179e"
             ],
             [
              0.4444444444444444,
              "#bd3786"
             ],
             [
              0.5555555555555556,
              "#d8576b"
             ],
             [
              0.6666666666666666,
              "#ed7953"
             ],
             [
              0.7777777777777778,
              "#fb9f3a"
             ],
             [
              0.8888888888888888,
              "#fdca26"
             ],
             [
              1,
              "#f0f921"
             ]
            ],
            "type": "contour"
           }
          ],
          "contourcarpet": [
           {
            "colorbar": {
             "outlinewidth": 0,
             "ticks": ""
            },
            "type": "contourcarpet"
           }
          ],
          "heatmap": [
           {
            "colorbar": {
             "outlinewidth": 0,
             "ticks": ""
            },
            "colorscale": [
             [
              0,
              "#0d0887"
             ],
             [
              0.1111111111111111,
              "#46039f"
             ],
             [
              0.2222222222222222,
              "#7201a8"
             ],
             [
              0.3333333333333333,
              "#9c179e"
             ],
             [
              0.4444444444444444,
              "#bd3786"
             ],
             [
              0.5555555555555556,
              "#d8576b"
             ],
             [
              0.6666666666666666,
              "#ed7953"
             ],
             [
              0.7777777777777778,
              "#fb9f3a"
             ],
             [
              0.8888888888888888,
              "#fdca26"
             ],
             [
              1,
              "#f0f921"
             ]
            ],
            "type": "heatmap"
           }
          ],
          "heatmapgl": [
           {
            "colorbar": {
             "outlinewidth": 0,
             "ticks": ""
            },
            "colorscale": [
             [
              0,
              "#0d0887"
             ],
             [
              0.1111111111111111,
              "#46039f"
             ],
             [
              0.2222222222222222,
              "#7201a8"
             ],
             [
              0.3333333333333333,
              "#9c179e"
             ],
             [
              0.4444444444444444,
              "#bd3786"
             ],
             [
              0.5555555555555556,
              "#d8576b"
             ],
             [
              0.6666666666666666,
              "#ed7953"
             ],
             [
              0.7777777777777778,
              "#fb9f3a"
             ],
             [
              0.8888888888888888,
              "#fdca26"
             ],
             [
              1,
              "#f0f921"
             ]
            ],
            "type": "heatmapgl"
           }
          ],
          "histogram": [
           {
            "marker": {
             "pattern": {
              "fillmode": "overlay",
              "size": 10,
              "solidity": 0.2
             }
            },
            "type": "histogram"
           }
          ],
          "histogram2d": [
           {
            "colorbar": {
             "outlinewidth": 0,
             "ticks": ""
            },
            "colorscale": [
             [
              0,
              "#0d0887"
             ],
             [
              0.1111111111111111,
              "#46039f"
             ],
             [
              0.2222222222222222,
              "#7201a8"
             ],
             [
              0.3333333333333333,
              "#9c179e"
             ],
             [
              0.4444444444444444,
              "#bd3786"
             ],
             [
              0.5555555555555556,
              "#d8576b"
             ],
             [
              0.6666666666666666,
              "#ed7953"
             ],
             [
              0.7777777777777778,
              "#fb9f3a"
             ],
             [
              0.8888888888888888,
              "#fdca26"
             ],
             [
              1,
              "#f0f921"
             ]
            ],
            "type": "histogram2d"
           }
          ],
          "histogram2dcontour": [
           {
            "colorbar": {
             "outlinewidth": 0,
             "ticks": ""
            },
            "colorscale": [
             [
              0,
              "#0d0887"
             ],
             [
              0.1111111111111111,
              "#46039f"
             ],
             [
              0.2222222222222222,
              "#7201a8"
             ],
             [
              0.3333333333333333,
              "#9c179e"
             ],
             [
              0.4444444444444444,
              "#bd3786"
             ],
             [
              0.5555555555555556,
              "#d8576b"
             ],
             [
              0.6666666666666666,
              "#ed7953"
             ],
             [
              0.7777777777777778,
              "#fb9f3a"
             ],
             [
              0.8888888888888888,
              "#fdca26"
             ],
             [
              1,
              "#f0f921"
             ]
            ],
            "type": "histogram2dcontour"
           }
          ],
          "mesh3d": [
           {
            "colorbar": {
             "outlinewidth": 0,
             "ticks": ""
            },
            "type": "mesh3d"
           }
          ],
          "parcoords": [
           {
            "line": {
             "colorbar": {
              "outlinewidth": 0,
              "ticks": ""
             }
            },
            "type": "parcoords"
           }
          ],
          "pie": [
           {
            "automargin": true,
            "type": "pie"
           }
          ],
          "scatter": [
           {
            "marker": {
             "colorbar": {
              "outlinewidth": 0,
              "ticks": ""
             }
            },
            "type": "scatter"
           }
          ],
          "scatter3d": [
           {
            "line": {
             "colorbar": {
              "outlinewidth": 0,
              "ticks": ""
             }
            },
            "marker": {
             "colorbar": {
              "outlinewidth": 0,
              "ticks": ""
             }
            },
            "type": "scatter3d"
           }
          ],
          "scattercarpet": [
           {
            "marker": {
             "colorbar": {
              "outlinewidth": 0,
              "ticks": ""
             }
            },
            "type": "scattercarpet"
           }
          ],
          "scattergeo": [
           {
            "marker": {
             "colorbar": {
              "outlinewidth": 0,
              "ticks": ""
             }
            },
            "type": "scattergeo"
           }
          ],
          "scattergl": [
           {
            "marker": {
             "colorbar": {
              "outlinewidth": 0,
              "ticks": ""
             }
            },
            "type": "scattergl"
           }
          ],
          "scattermapbox": [
           {
            "marker": {
             "colorbar": {
              "outlinewidth": 0,
              "ticks": ""
             }
            },
            "type": "scattermapbox"
           }
          ],
          "scatterpolar": [
           {
            "marker": {
             "colorbar": {
              "outlinewidth": 0,
              "ticks": ""
             }
            },
            "type": "scatterpolar"
           }
          ],
          "scatterpolargl": [
           {
            "marker": {
             "colorbar": {
              "outlinewidth": 0,
              "ticks": ""
             }
            },
            "type": "scatterpolargl"
           }
          ],
          "scatterternary": [
           {
            "marker": {
             "colorbar": {
              "outlinewidth": 0,
              "ticks": ""
             }
            },
            "type": "scatterternary"
           }
          ],
          "surface": [
           {
            "colorbar": {
             "outlinewidth": 0,
             "ticks": ""
            },
            "colorscale": [
             [
              0,
              "#0d0887"
             ],
             [
              0.1111111111111111,
              "#46039f"
             ],
             [
              0.2222222222222222,
              "#7201a8"
             ],
             [
              0.3333333333333333,
              "#9c179e"
             ],
             [
              0.4444444444444444,
              "#bd3786"
             ],
             [
              0.5555555555555556,
              "#d8576b"
             ],
             [
              0.6666666666666666,
              "#ed7953"
             ],
             [
              0.7777777777777778,
              "#fb9f3a"
             ],
             [
              0.8888888888888888,
              "#fdca26"
             ],
             [
              1,
              "#f0f921"
             ]
            ],
            "type": "surface"
           }
          ],
          "table": [
           {
            "cells": {
             "fill": {
              "color": "#EBF0F8"
             },
             "line": {
              "color": "white"
             }
            },
            "header": {
             "fill": {
              "color": "#C8D4E3"
             },
             "line": {
              "color": "white"
             }
            },
            "type": "table"
           }
          ]
         },
         "layout": {
          "annotationdefaults": {
           "arrowcolor": "#2a3f5f",
           "arrowhead": 0,
           "arrowwidth": 1
          },
          "autotypenumbers": "strict",
          "coloraxis": {
           "colorbar": {
            "outlinewidth": 0,
            "ticks": ""
           }
          },
          "colorscale": {
           "diverging": [
            [
             0,
             "#8e0152"
            ],
            [
             0.1,
             "#c51b7d"
            ],
            [
             0.2,
             "#de77ae"
            ],
            [
             0.3,
             "#f1b6da"
            ],
            [
             0.4,
             "#fde0ef"
            ],
            [
             0.5,
             "#f7f7f7"
            ],
            [
             0.6,
             "#e6f5d0"
            ],
            [
             0.7,
             "#b8e186"
            ],
            [
             0.8,
             "#7fbc41"
            ],
            [
             0.9,
             "#4d9221"
            ],
            [
             1,
             "#276419"
            ]
           ],
           "sequential": [
            [
             0,
             "#0d0887"
            ],
            [
             0.1111111111111111,
             "#46039f"
            ],
            [
             0.2222222222222222,
             "#7201a8"
            ],
            [
             0.3333333333333333,
             "#9c179e"
            ],
            [
             0.4444444444444444,
             "#bd3786"
            ],
            [
             0.5555555555555556,
             "#d8576b"
            ],
            [
             0.6666666666666666,
             "#ed7953"
            ],
            [
             0.7777777777777778,
             "#fb9f3a"
            ],
            [
             0.8888888888888888,
             "#fdca26"
            ],
            [
             1,
             "#f0f921"
            ]
           ],
           "sequentialminus": [
            [
             0,
             "#0d0887"
            ],
            [
             0.1111111111111111,
             "#46039f"
            ],
            [
             0.2222222222222222,
             "#7201a8"
            ],
            [
             0.3333333333333333,
             "#9c179e"
            ],
            [
             0.4444444444444444,
             "#bd3786"
            ],
            [
             0.5555555555555556,
             "#d8576b"
            ],
            [
             0.6666666666666666,
             "#ed7953"
            ],
            [
             0.7777777777777778,
             "#fb9f3a"
            ],
            [
             0.8888888888888888,
             "#fdca26"
            ],
            [
             1,
             "#f0f921"
            ]
           ]
          },
          "colorway": [
           "#636efa",
           "#EF553B",
           "#00cc96",
           "#ab63fa",
           "#FFA15A",
           "#19d3f3",
           "#FF6692",
           "#B6E880",
           "#FF97FF",
           "#FECB52"
          ],
          "font": {
           "color": "#2a3f5f"
          },
          "geo": {
           "bgcolor": "white",
           "lakecolor": "white",
           "landcolor": "#E5ECF6",
           "showlakes": true,
           "showland": true,
           "subunitcolor": "white"
          },
          "hoverlabel": {
           "align": "left"
          },
          "hovermode": "closest",
          "mapbox": {
           "style": "light"
          },
          "paper_bgcolor": "white",
          "plot_bgcolor": "#E5ECF6",
          "polar": {
           "angularaxis": {
            "gridcolor": "white",
            "linecolor": "white",
            "ticks": ""
           },
           "bgcolor": "#E5ECF6",
           "radialaxis": {
            "gridcolor": "white",
            "linecolor": "white",
            "ticks": ""
           }
          },
          "scene": {
           "xaxis": {
            "backgroundcolor": "#E5ECF6",
            "gridcolor": "white",
            "gridwidth": 2,
            "linecolor": "white",
            "showbackground": true,
            "ticks": "",
            "zerolinecolor": "white"
           },
           "yaxis": {
            "backgroundcolor": "#E5ECF6",
            "gridcolor": "white",
            "gridwidth": 2,
            "linecolor": "white",
            "showbackground": true,
            "ticks": "",
            "zerolinecolor": "white"
           },
           "zaxis": {
            "backgroundcolor": "#E5ECF6",
            "gridcolor": "white",
            "gridwidth": 2,
            "linecolor": "white",
            "showbackground": true,
            "ticks": "",
            "zerolinecolor": "white"
           }
          },
          "shapedefaults": {
           "line": {
            "color": "#2a3f5f"
           }
          },
          "ternary": {
           "aaxis": {
            "gridcolor": "white",
            "linecolor": "white",
            "ticks": ""
           },
           "baxis": {
            "gridcolor": "white",
            "linecolor": "white",
            "ticks": ""
           },
           "bgcolor": "#E5ECF6",
           "caxis": {
            "gridcolor": "white",
            "linecolor": "white",
            "ticks": ""
           }
          },
          "title": {
           "x": 0.05
          },
          "xaxis": {
           "automargin": true,
           "gridcolor": "white",
           "linecolor": "white",
           "ticks": "",
           "title": {
            "standoff": 15
           },
           "zerolinecolor": "white",
           "zerolinewidth": 2
          },
          "yaxis": {
           "automargin": true,
           "gridcolor": "white",
           "linecolor": "white",
           "ticks": "",
           "title": {
            "standoff": 15
           },
           "zerolinecolor": "white",
           "zerolinewidth": 2
          }
         }
        },
        "title": {
         "font": {
          "size": 24
         },
         "text": "Foundation schematic (width)",
         "x": 0.5
        },
        "xaxis": {
         "title": {
          "text": "Foundation width"
         }
        },
        "yaxis": {
         "fixedrange": true,
         "range": [
          -3,
          3
         ],
         "visible": false
        }
       }
      }
     },
     "metadata": {},
     "output_type": "display_data"
    }
   ],
   "source": [
    "comb_footing_design.plot_foundation_loading_Y()\n",
    "# This shows the loadings that the foundation is subjected to"
   ]
  },
  {
   "cell_type": "markdown",
   "metadata": {},
   "source": [
    "#### Show the bending moment diagram in x direction showing the design bending moment"
   ]
  },
  {
   "cell_type": "code",
   "execution_count": 46,
   "metadata": {},
   "outputs": [
    {
     "data": {
      "application/vnd.plotly.v1+json": {
       "config": {
        "plotlyServerURL": "https://plot.ly"
       },
       "data": [
        {
         "fill": "tozeroy",
         "hovertemplate": "x: %{x:.3f} %{meta[0]}<br>f(x): %{y:.3f} %{meta[1]}",
         "line": {
          "color": "lightgreen",
          "width": 1
         },
         "meta": [
          "m",
          "N.m"
         ],
         "mode": "lines",
         "name": "Bending Moment",
         "type": "scatter",
         "x": [
          0,
          1e-7,
          0.023115577889447233,
          0.046231155778894466,
          0.0693467336683417,
          0.09246231155778893,
          0.11557788944723617,
          0.1386934673366834,
          0.16180904522613063,
          0.18492462311557786,
          0.2080402010050251,
          0.23115577889447234,
          0.25427135678391954,
          0.2773869346733668,
          0.300502512562814,
          0.32361809045226125,
          0.3467336683417085,
          0.3698492462311557,
          0.39296482412060296,
          0.4160804020100502,
          0.43919597989949744,
          0.46231155778894467,
          0.4854271356783919,
          0.5085427135678391,
          0.5316582914572864,
          0.5399999000000001,
          0.5400001,
          0.5547738693467336,
          0.5778894472361809,
          0.601005025125628,
          0.6241206030150753,
          0.6472361809045225,
          0.6703517587939698,
          0.693467336683417,
          0.7165829145728643,
          0.7396984924623115,
          0.7628140703517586,
          0.7859296482412059,
          0.8090452261306531,
          0.8321608040201004,
          0.8552763819095476,
          0.8783919597989949,
          0.901507537688442,
          0.9246231155778893,
          0.9477386934673365,
          0.9708542713567838,
          0.993969849246231,
          1.0170854271356782,
          1.0402010050251256,
          1.0633165829145728,
          1.08643216080402,
          1.1095477386934671,
          1.1326633165829143,
          1.1557788944723617,
          1.1788944723618089,
          1.202010050251256,
          1.2251256281407032,
          1.2482412060301507,
          1.2713567839195978,
          1.294472361809045,
          1.3175879396984922,
          1.3407035175879396,
          1.3638190954773868,
          1.386934673366834,
          1.4100502512562811,
          1.4331658291457285,
          1.4562814070351757,
          1.479396984924623,
          1.50251256281407,
          1.5256281407035173,
          1.5487437185929647,
          1.5718592964824118,
          1.594974874371859,
          1.6180904522613062,
          1.6412060301507536,
          1.6643216080402008,
          1.687437185929648,
          1.7105527638190952,
          1.7336683417085426,
          1.7567839195979897,
          1.779899497487437,
          1.803015075376884,
          1.8261306532663315,
          1.8492462311557787,
          1.8723618090452259,
          1.895477386934673,
          1.9185929648241202,
          1.9417085427135676,
          1.9648241206030148,
          1.987939698492462,
          2.011055276381909,
          2.0341708542713564,
          2.0572864321608035,
          2.080402010050251,
          2.1035175879396983,
          2.1266331658291455,
          2.1497487437185927,
          2.17286432160804,
          2.195979899497487,
          2.2190954773869342,
          2.2422110552763814,
          2.2653266331658286,
          2.2884422110552762,
          2.3115577889447234,
          2.3346733668341706,
          2.3577889447236178,
          2.380904522613065,
          2.404020100502512,
          2.4271356783919593,
          2.4502512562814065,
          2.473366834170854,
          2.4964824120603013,
          2.5195979899497485,
          2.5427135678391957,
          2.565829145728643,
          2.58894472361809,
          2.612060301507537,
          2.6351758793969844,
          2.6582914572864316,
          2.681407035175879,
          2.7045226130653264,
          2.7276381909547736,
          2.7507537688442207,
          2.773869346733668,
          2.796984924623115,
          2.8201005025125623,
          2.8432160804020095,
          2.866331658291457,
          2.8894472361809043,
          2.9125628140703514,
          2.9356783919597986,
          2.958793969849246,
          2.981909547738693,
          3.00502512562814,
          3.0281407035175874,
          3.0512562814070345,
          3.074371859296482,
          3.0974874371859293,
          3.1206030150753765,
          3.1437185929648237,
          3.166834170854271,
          3.189949748743718,
          3.2130653266331652,
          3.2361809045226124,
          3.25929648241206,
          3.2824120603015072,
          3.3055276381909544,
          3.3286432160804016,
          3.3517587939698488,
          3.374874371859296,
          3.397989949748743,
          3.4211055276381903,
          3.4442211055276375,
          3.467336683417085,
          3.4904522613065323,
          3.5135678391959795,
          3.5366834170854267,
          3.5399999,
          3.5400001,
          3.559798994974874,
          3.582914572864321,
          3.606030150753768,
          3.6291457286432154,
          3.652261306532663,
          3.67537688442211,
          3.6984924623115574,
          3.7216080402010046,
          3.7447236180904517,
          3.767839195979899,
          3.790954773869346,
          3.8140703517587933,
          3.8371859296482405,
          3.860301507537688,
          3.8834170854271353,
          3.9065326633165824,
          3.9296482412060296,
          3.952763819095477,
          3.975879396984924,
          3.998994974874371,
          4.022110552763818,
          4.0452261306532655,
          4.068341708542713,
          4.09145728643216,
          4.114572864321607,
          4.137688442211054,
          4.160804020100502,
          4.1839195979899495,
          4.207035175879397,
          4.230150753768844,
          4.253266331658291,
          4.276381909547738,
          4.299497487437185,
          4.322613065326633,
          4.34572864321608,
          4.368844221105527,
          4.391959798994974,
          4.415075376884421,
          4.4381909547738685,
          4.461306532663316,
          4.484422110552763,
          4.50753768844221,
          4.530653266331657,
          4.553768844221105,
          4.5768844221105525,
          4.599999899999999,
          4.6
         ],
         "y": [
          0,
          4.340364999950615e-9,
          231.91808754808267,
          927.669910354107,
          2087.251808660737,
          3710.660122710637,
          5797.8911927464715,
          8348.941359010905,
          11363.806961746603,
          14842.484341196225,
          18784.969837602443,
          23191.25979120791,
          28061.350542255303,
          33395.23843098728,
          39192.9197976465,
          45454.39098247564,
          52179.64832571735,
          59368.68816761432,
          67021.50684840916,
          75138.10070834462,
          83718.46608766328,
          92762.59932660783,
          102270.49676542099,
          112242.15474434533,
          122677.56960362359,
          126557.22031707814,
          650667.9426791428,
          631535.0510484361,
          601979.1032288487,
          572886.9013103431,
          544258.4416331621,
          516093.72053754836,
          488392.73436374444,
          461155.4794519932,
          434381.952142537,
          408072.14877561876,
          382226.06569148105,
          356843.6992303663,
          331925.04573251796,
          307470.1015381775,
          283478.86298758886,
          259951.32642099354,
          236887.48817863496,
          214287.34460075552,
          192150.89202759793,
          170478.126799405,
          149269.04525641905,
          128523.64373888324,
          108241.91858703962,
          88423.86614113126,
          69069.48274140073,
          50178.764728090806,
          31751.708441443814,
          13788.310221702792,
          -3711.43359088969,
          -20747.526656090726,
          -37319.972633658326,
          -53428.7751833496,
          -69073.9379649216,
          -84255.46463813144,
          -98973.35886273689,
          -113227.62429849553,
          -127018.26460516395,
          -140345.2834425004,
          -153208.68447026127,
          -165608.47134820485,
          -177544.6477360875,
          -189017.21729366746,
          -200026.18368070113,
          -210571.55055694628,
          -220653.32158216074,
          -230271.5004161013,
          -239426.09071852535,
          -248117.09614919015,
          -256344.52036785358,
          -264108.3670342721,
          -271408.63980820385,
          -278245.34234940563,
          -284618.4783176351,
          -290528.0513726492,
          -295974.0651742063,
          -300956.5233820624,
          -305475.4296559752,
          -309530.7876557027,
          -313122.6010410017,
          -316250.8734716295,
          -318915.60860734305,
          -321116.8101079006,
          -322854.4816330594,
          -324128.62684257625,
          -324939.24939620856,
          -325286.35295371414,
          -325169.94117484934,
          -324590.01771937247,
          -323546.5862470411,
          -322039.65041761147,
          -320069.2138908411,
          -317635.28032648837,
          -314737.8533843096,
          -311376.93672406266,
          -307552.5340055039,
          -303264.6488883921,
          -298513.285032484,
          -293298.44609753694,
          -287620.13574330736,
          -281478.35762955394,
          -274873.11541603354,
          -267804.4127625035,
          -260272.25332872066,
          -252276.64077444375,
          -243817.5787594278,
          -234895.07094343234,
          -225509.12098621382,
          -215659.73254752957,
          -205346.90928713646,
          -194570.6548647927,
          -183330.97294025565,
          -171627.86717328214,
          -159461.34122362905,
          -146831.39875105463,
          -133738.04341531568,
          -120181.27887617049,
          -106161.108793375,
          -91677.53682668784,
          -76730.56663586505,
          -61320.201880663895,
          -45446.44622084263,
          -29109.303316159087,
          -12308.776826369984,
          4955.129588767653,
          22682.41226949572,
          40873.06755605771,
          59527.09178869688,
          78644.48130765441,
          98225.23245317355,
          118269.3415654964,
          138776.80498486705,
          159747.61905152688,
          181181.78010571987,
          203079.28448768653,
          225440.1285376717,
          248264.30859591666,
          271551.8210026656,
          295302.6620981597,
          319516.8282226412,
          344194.31571635423,
          369335.12091954105,
          394939.24017244374,
          421006.6698153055,
          447537.40618836856,
          474531.44563187694,
          501988.7844860711,
          529909.4190911942,
          558293.3457874919,
          587140.560915203,
          616451.0608145723,
          646224.8418258412,
          650534.6057759651,
          486976.40331529634,
          468953.54966133705,
          448341.5707945226,
          428192.8620603343,
          408507.4197990191,
          389285.24035081535,
          370526.3200559702,
          352230.6552547211,
          334398.24228731584,
          317029.0774939947,
          300123.1572149981,
          283680.47779057286,
          267701.0355609603,
          252184.82686640264,
          237131.84804714198,
          222542.09544342168,
          208415.56539548386,
          194752.25424357253,
          181552.15832792723,
          168815.27398879477,
          156541.59756641457,
          144731.12540103158,
          133383.853832889,
          122499.77920222626,
          112078.8978492883,
          102121.20611431473,
          92626.70033755316,
          83595.37685924373,
          75027.23201962735,
          66922.26215894788,
          59280.46361745475,
          52101.83273537841,
          45386.36585296912,
          39134.05931046931,
          33344.90944811655,
          28018.91260616132,
          23156.06512483931,
          18756.36334439763,
          14819.803605079069,
          11346.382247122354,
          8336.095610773307,
          5788.940036273329,
          3704.9118638654472,
          2084.007433792809,
          926.223086300306,
          231.55516162223648,
          1.5133991837501526e-8,
          1.257285475730896e-8
         ]
        }
       ],
       "layout": {
        "annotations": [
         {
          "arrowhead": 1,
          "ax": 0,
          "ay": -40,
          "showarrow": true,
          "text": "0.390 m<br>66014.056 N.m",
          "x": 0.39,
          "xref": "x",
          "y": 66014.0560896632,
          "yref": "y"
         },
         {
          "arrowhead": 1,
          "ax": 0,
          "ay": -40,
          "showarrow": true,
          "text": "0.690 m<br>465211.622 N.m",
          "x": 0.6900000000000001,
          "xref": "x",
          "y": 465211.6220932649,
          "yref": "y"
         },
         {
          "arrowhead": 1,
          "ax": 0,
          "ay": -40,
          "showarrow": true,
          "text": "3.340 m<br>407688.498 N.m",
          "x": 3.34,
          "xref": "x",
          "y": 407688.4983902322,
          "yref": "y"
         },
         {
          "arrowhead": 1,
          "ax": 0,
          "ay": -40,
          "showarrow": true,
          "text": "3.740 m<br>320540.844 N.m",
          "x": 3.74,
          "xref": "x",
          "y": 320540.8435744099,
          "yref": "y"
         }
        ],
        "template": {
         "data": {
          "bar": [
           {
            "error_x": {
             "color": "#2a3f5f"
            },
            "error_y": {
             "color": "#2a3f5f"
            },
            "marker": {
             "line": {
              "color": "#E5ECF6",
              "width": 0.5
             },
             "pattern": {
              "fillmode": "overlay",
              "size": 10,
              "solidity": 0.2
             }
            },
            "type": "bar"
           }
          ],
          "barpolar": [
           {
            "marker": {
             "line": {
              "color": "#E5ECF6",
              "width": 0.5
             },
             "pattern": {
              "fillmode": "overlay",
              "size": 10,
              "solidity": 0.2
             }
            },
            "type": "barpolar"
           }
          ],
          "carpet": [
           {
            "aaxis": {
             "endlinecolor": "#2a3f5f",
             "gridcolor": "white",
             "linecolor": "white",
             "minorgridcolor": "white",
             "startlinecolor": "#2a3f5f"
            },
            "baxis": {
             "endlinecolor": "#2a3f5f",
             "gridcolor": "white",
             "linecolor": "white",
             "minorgridcolor": "white",
             "startlinecolor": "#2a3f5f"
            },
            "type": "carpet"
           }
          ],
          "choropleth": [
           {
            "colorbar": {
             "outlinewidth": 0,
             "ticks": ""
            },
            "type": "choropleth"
           }
          ],
          "contour": [
           {
            "colorbar": {
             "outlinewidth": 0,
             "ticks": ""
            },
            "colorscale": [
             [
              0,
              "#0d0887"
             ],
             [
              0.1111111111111111,
              "#46039f"
             ],
             [
              0.2222222222222222,
              "#7201a8"
             ],
             [
              0.3333333333333333,
              "#9c179e"
             ],
             [
              0.4444444444444444,
              "#bd3786"
             ],
             [
              0.5555555555555556,
              "#d8576b"
             ],
             [
              0.6666666666666666,
              "#ed7953"
             ],
             [
              0.7777777777777778,
              "#fb9f3a"
             ],
             [
              0.8888888888888888,
              "#fdca26"
             ],
             [
              1,
              "#f0f921"
             ]
            ],
            "type": "contour"
           }
          ],
          "contourcarpet": [
           {
            "colorbar": {
             "outlinewidth": 0,
             "ticks": ""
            },
            "type": "contourcarpet"
           }
          ],
          "heatmap": [
           {
            "colorbar": {
             "outlinewidth": 0,
             "ticks": ""
            },
            "colorscale": [
             [
              0,
              "#0d0887"
             ],
             [
              0.1111111111111111,
              "#46039f"
             ],
             [
              0.2222222222222222,
              "#7201a8"
             ],
             [
              0.3333333333333333,
              "#9c179e"
             ],
             [
              0.4444444444444444,
              "#bd3786"
             ],
             [
              0.5555555555555556,
              "#d8576b"
             ],
             [
              0.6666666666666666,
              "#ed7953"
             ],
             [
              0.7777777777777778,
              "#fb9f3a"
             ],
             [
              0.8888888888888888,
              "#fdca26"
             ],
             [
              1,
              "#f0f921"
             ]
            ],
            "type": "heatmap"
           }
          ],
          "heatmapgl": [
           {
            "colorbar": {
             "outlinewidth": 0,
             "ticks": ""
            },
            "colorscale": [
             [
              0,
              "#0d0887"
             ],
             [
              0.1111111111111111,
              "#46039f"
             ],
             [
              0.2222222222222222,
              "#7201a8"
             ],
             [
              0.3333333333333333,
              "#9c179e"
             ],
             [
              0.4444444444444444,
              "#bd3786"
             ],
             [
              0.5555555555555556,
              "#d8576b"
             ],
             [
              0.6666666666666666,
              "#ed7953"
             ],
             [
              0.7777777777777778,
              "#fb9f3a"
             ],
             [
              0.8888888888888888,
              "#fdca26"
             ],
             [
              1,
              "#f0f921"
             ]
            ],
            "type": "heatmapgl"
           }
          ],
          "histogram": [
           {
            "marker": {
             "pattern": {
              "fillmode": "overlay",
              "size": 10,
              "solidity": 0.2
             }
            },
            "type": "histogram"
           }
          ],
          "histogram2d": [
           {
            "colorbar": {
             "outlinewidth": 0,
             "ticks": ""
            },
            "colorscale": [
             [
              0,
              "#0d0887"
             ],
             [
              0.1111111111111111,
              "#46039f"
             ],
             [
              0.2222222222222222,
              "#7201a8"
             ],
             [
              0.3333333333333333,
              "#9c179e"
             ],
             [
              0.4444444444444444,
              "#bd3786"
             ],
             [
              0.5555555555555556,
              "#d8576b"
             ],
             [
              0.6666666666666666,
              "#ed7953"
             ],
             [
              0.7777777777777778,
              "#fb9f3a"
             ],
             [
              0.8888888888888888,
              "#fdca26"
             ],
             [
              1,
              "#f0f921"
             ]
            ],
            "type": "histogram2d"
           }
          ],
          "histogram2dcontour": [
           {
            "colorbar": {
             "outlinewidth": 0,
             "ticks": ""
            },
            "colorscale": [
             [
              0,
              "#0d0887"
             ],
             [
              0.1111111111111111,
              "#46039f"
             ],
             [
              0.2222222222222222,
              "#7201a8"
             ],
             [
              0.3333333333333333,
              "#9c179e"
             ],
             [
              0.4444444444444444,
              "#bd3786"
             ],
             [
              0.5555555555555556,
              "#d8576b"
             ],
             [
              0.6666666666666666,
              "#ed7953"
             ],
             [
              0.7777777777777778,
              "#fb9f3a"
             ],
             [
              0.8888888888888888,
              "#fdca26"
             ],
             [
              1,
              "#f0f921"
             ]
            ],
            "type": "histogram2dcontour"
           }
          ],
          "mesh3d": [
           {
            "colorbar": {
             "outlinewidth": 0,
             "ticks": ""
            },
            "type": "mesh3d"
           }
          ],
          "parcoords": [
           {
            "line": {
             "colorbar": {
              "outlinewidth": 0,
              "ticks": ""
             }
            },
            "type": "parcoords"
           }
          ],
          "pie": [
           {
            "automargin": true,
            "type": "pie"
           }
          ],
          "scatter": [
           {
            "marker": {
             "colorbar": {
              "outlinewidth": 0,
              "ticks": ""
             }
            },
            "type": "scatter"
           }
          ],
          "scatter3d": [
           {
            "line": {
             "colorbar": {
              "outlinewidth": 0,
              "ticks": ""
             }
            },
            "marker": {
             "colorbar": {
              "outlinewidth": 0,
              "ticks": ""
             }
            },
            "type": "scatter3d"
           }
          ],
          "scattercarpet": [
           {
            "marker": {
             "colorbar": {
              "outlinewidth": 0,
              "ticks": ""
             }
            },
            "type": "scattercarpet"
           }
          ],
          "scattergeo": [
           {
            "marker": {
             "colorbar": {
              "outlinewidth": 0,
              "ticks": ""
             }
            },
            "type": "scattergeo"
           }
          ],
          "scattergl": [
           {
            "marker": {
             "colorbar": {
              "outlinewidth": 0,
              "ticks": ""
             }
            },
            "type": "scattergl"
           }
          ],
          "scattermapbox": [
           {
            "marker": {
             "colorbar": {
              "outlinewidth": 0,
              "ticks": ""
             }
            },
            "type": "scattermapbox"
           }
          ],
          "scatterpolar": [
           {
            "marker": {
             "colorbar": {
              "outlinewidth": 0,
              "ticks": ""
             }
            },
            "type": "scatterpolar"
           }
          ],
          "scatterpolargl": [
           {
            "marker": {
             "colorbar": {
              "outlinewidth": 0,
              "ticks": ""
             }
            },
            "type": "scatterpolargl"
           }
          ],
          "scatterternary": [
           {
            "marker": {
             "colorbar": {
              "outlinewidth": 0,
              "ticks": ""
             }
            },
            "type": "scatterternary"
           }
          ],
          "surface": [
           {
            "colorbar": {
             "outlinewidth": 0,
             "ticks": ""
            },
            "colorscale": [
             [
              0,
              "#0d0887"
             ],
             [
              0.1111111111111111,
              "#46039f"
             ],
             [
              0.2222222222222222,
              "#7201a8"
             ],
             [
              0.3333333333333333,
              "#9c179e"
             ],
             [
              0.4444444444444444,
              "#bd3786"
             ],
             [
              0.5555555555555556,
              "#d8576b"
             ],
             [
              0.6666666666666666,
              "#ed7953"
             ],
             [
              0.7777777777777778,
              "#fb9f3a"
             ],
             [
              0.8888888888888888,
              "#fdca26"
             ],
             [
              1,
              "#f0f921"
             ]
            ],
            "type": "surface"
           }
          ],
          "table": [
           {
            "cells": {
             "fill": {
              "color": "#EBF0F8"
             },
             "line": {
              "color": "white"
             }
            },
            "header": {
             "fill": {
              "color": "#C8D4E3"
             },
             "line": {
              "color": "white"
             }
            },
            "type": "table"
           }
          ]
         },
         "layout": {
          "annotationdefaults": {
           "arrowcolor": "#2a3f5f",
           "arrowhead": 0,
           "arrowwidth": 1
          },
          "autotypenumbers": "strict",
          "coloraxis": {
           "colorbar": {
            "outlinewidth": 0,
            "ticks": ""
           }
          },
          "colorscale": {
           "diverging": [
            [
             0,
             "#8e0152"
            ],
            [
             0.1,
             "#c51b7d"
            ],
            [
             0.2,
             "#de77ae"
            ],
            [
             0.3,
             "#f1b6da"
            ],
            [
             0.4,
             "#fde0ef"
            ],
            [
             0.5,
             "#f7f7f7"
            ],
            [
             0.6,
             "#e6f5d0"
            ],
            [
             0.7,
             "#b8e186"
            ],
            [
             0.8,
             "#7fbc41"
            ],
            [
             0.9,
             "#4d9221"
            ],
            [
             1,
             "#276419"
            ]
           ],
           "sequential": [
            [
             0,
             "#0d0887"
            ],
            [
             0.1111111111111111,
             "#46039f"
            ],
            [
             0.2222222222222222,
             "#7201a8"
            ],
            [
             0.3333333333333333,
             "#9c179e"
            ],
            [
             0.4444444444444444,
             "#bd3786"
            ],
            [
             0.5555555555555556,
             "#d8576b"
            ],
            [
             0.6666666666666666,
             "#ed7953"
            ],
            [
             0.7777777777777778,
             "#fb9f3a"
            ],
            [
             0.8888888888888888,
             "#fdca26"
            ],
            [
             1,
             "#f0f921"
            ]
           ],
           "sequentialminus": [
            [
             0,
             "#0d0887"
            ],
            [
             0.1111111111111111,
             "#46039f"
            ],
            [
             0.2222222222222222,
             "#7201a8"
            ],
            [
             0.3333333333333333,
             "#9c179e"
            ],
            [
             0.4444444444444444,
             "#bd3786"
            ],
            [
             0.5555555555555556,
             "#d8576b"
            ],
            [
             0.6666666666666666,
             "#ed7953"
            ],
            [
             0.7777777777777778,
             "#fb9f3a"
            ],
            [
             0.8888888888888888,
             "#fdca26"
            ],
            [
             1,
             "#f0f921"
            ]
           ]
          },
          "colorway": [
           "#636efa",
           "#EF553B",
           "#00cc96",
           "#ab63fa",
           "#FFA15A",
           "#19d3f3",
           "#FF6692",
           "#B6E880",
           "#FF97FF",
           "#FECB52"
          ],
          "font": {
           "color": "#2a3f5f"
          },
          "geo": {
           "bgcolor": "white",
           "lakecolor": "white",
           "landcolor": "#E5ECF6",
           "showlakes": true,
           "showland": true,
           "subunitcolor": "white"
          },
          "hoverlabel": {
           "align": "left"
          },
          "hovermode": "closest",
          "mapbox": {
           "style": "light"
          },
          "paper_bgcolor": "white",
          "plot_bgcolor": "#E5ECF6",
          "polar": {
           "angularaxis": {
            "gridcolor": "white",
            "linecolor": "white",
            "ticks": ""
           },
           "bgcolor": "#E5ECF6",
           "radialaxis": {
            "gridcolor": "white",
            "linecolor": "white",
            "ticks": ""
           }
          },
          "scene": {
           "xaxis": {
            "backgroundcolor": "#E5ECF6",
            "gridcolor": "white",
            "gridwidth": 2,
            "linecolor": "white",
            "showbackground": true,
            "ticks": "",
            "zerolinecolor": "white"
           },
           "yaxis": {
            "backgroundcolor": "#E5ECF6",
            "gridcolor": "white",
            "gridwidth": 2,
            "linecolor": "white",
            "showbackground": true,
            "ticks": "",
            "zerolinecolor": "white"
           },
           "zaxis": {
            "backgroundcolor": "#E5ECF6",
            "gridcolor": "white",
            "gridwidth": 2,
            "linecolor": "white",
            "showbackground": true,
            "ticks": "",
            "zerolinecolor": "white"
           }
          },
          "shapedefaults": {
           "line": {
            "color": "#2a3f5f"
           }
          },
          "ternary": {
           "aaxis": {
            "gridcolor": "white",
            "linecolor": "white",
            "ticks": ""
           },
           "baxis": {
            "gridcolor": "white",
            "linecolor": "white",
            "ticks": ""
           },
           "bgcolor": "#E5ECF6",
           "caxis": {
            "gridcolor": "white",
            "linecolor": "white",
            "ticks": ""
           }
          },
          "title": {
           "x": 0.05
          },
          "xaxis": {
           "automargin": true,
           "gridcolor": "white",
           "linecolor": "white",
           "ticks": "",
           "title": {
            "standoff": 15
           },
           "zerolinecolor": "white",
           "zerolinewidth": 2
          },
          "yaxis": {
           "automargin": true,
           "gridcolor": "white",
           "linecolor": "white",
           "ticks": "",
           "title": {
            "standoff": 15
           },
           "zerolinecolor": "white",
           "zerolinewidth": 2
          }
         }
        },
        "title": {
         "font": {
          "size": 30
         },
         "text": "Bending Moment Plot"
        },
        "xaxis": {
         "title": {
          "text": "Foundation length"
         }
        },
        "yaxis": {
         "autorange": "reversed",
         "title": {
          "text": "Bending Moment (N.m)"
         }
        }
       }
      }
     },
     "metadata": {},
     "output_type": "display_data"
    }
   ],
   "source": [
    "comb_footing_design.plot_bending_moment_X()\n"
   ]
  },
  {
   "cell_type": "markdown",
   "metadata": {},
   "source": [
    "#### Show the bending moment diagram in y direction showing the design bending moment"
   ]
  },
  {
   "cell_type": "code",
   "execution_count": 47,
   "metadata": {},
   "outputs": [
    {
     "data": {
      "application/vnd.plotly.v1+json": {
       "config": {
        "plotlyServerURL": "https://plot.ly"
       },
       "data": [
        {
         "fill": "tozeroy",
         "hovertemplate": "x: %{x:.3f} %{meta[0]}<br>f(x): %{y:.3f} %{meta[1]}",
         "line": {
          "color": "lightgreen",
          "width": 1
         },
         "meta": [
          "m",
          "N.m"
         ],
         "mode": "lines",
         "name": "Bending Moment",
         "type": "scatter",
         "x": [
          0,
          1e-7,
          0.011557788944723616,
          0.023115577889447233,
          0.03467336683417085,
          0.046231155778894466,
          0.057788944723618084,
          0.0693467336683417,
          0.08090452261306531,
          0.09246231155778893,
          0.10402010050251255,
          0.11557788944723617,
          0.12713567839195977,
          0.1386934673366834,
          0.150251256281407,
          0.16180904522613063,
          0.17336683417085424,
          0.18492462311557786,
          0.19648241206030148,
          0.2080402010050251,
          0.21959798994974872,
          0.23115577889447234,
          0.24271356783919595,
          0.25427135678391954,
          0.2658291457286432,
          0.2773869346733668,
          0.2889447236180904,
          0.300502512562814,
          0.31206030150753766,
          0.32361809045226125,
          0.3351758793969849,
          0.3467336683417085,
          0.35829145728643214,
          0.3698492462311557,
          0.3814070351758793,
          0.39296482412060296,
          0.40452261306532655,
          0.4160804020100502,
          0.4276381909547738,
          0.43919597989949744,
          0.450753768844221,
          0.46231155778894467,
          0.47386934673366826,
          0.4854271356783919,
          0.4969849246231155,
          0.5085427135678391,
          0.5201005025125628,
          0.5316582914572864,
          0.54321608040201,
          0.5547738693467336,
          0.5663316582914572,
          0.5778894472361809,
          0.5894472361809044,
          0.601005025125628,
          0.6125628140703516,
          0.6241206030150753,
          0.6356783919597989,
          0.6472361809045225,
          0.6587939698492461,
          0.6703517587939698,
          0.6819095477386934,
          0.693467336683417,
          0.7050251256281406,
          0.7165829145728643,
          0.7281407035175879,
          0.7396984924623115,
          0.751256281407035,
          0.7628140703517586,
          0.7743718592964823,
          0.7859296482412059,
          0.7974874371859295,
          0.8090452261306531,
          0.8206030150753768,
          0.8321608040201004,
          0.843718592964824,
          0.8552763819095476,
          0.8668341708542713,
          0.8783919597989949,
          0.8899497487437185,
          0.901507537688442,
          0.9130653266331658,
          0.9246231155778893,
          0.9361809045226129,
          0.9477386934673365,
          0.9592964824120601,
          0.9708542713567838,
          0.9824120603015074,
          0.993969849246231,
          1.0055276381909546,
          1.0170854271356782,
          1.0286432160804018,
          1.0402010050251256,
          1.0517587939698492,
          1.0633165829145728,
          1.0748743718592964,
          1.08643216080402,
          1.0979899497487435,
          1.1095477386934671,
          1.1211055276381907,
          1.1326633165829143,
          1.1442211055276381,
          1.1449999,
          1.1450001,
          1.1499998999999999,
          1.1500001,
          1.1557788944723617,
          1.1673366834170853,
          1.1788944723618089,
          1.1904522613065325,
          1.202010050251256,
          1.2135678391959797,
          1.2251256281407032,
          1.236683417085427,
          1.2482412060301507,
          1.2597989949748742,
          1.2713567839195978,
          1.2829145728643214,
          1.294472361809045,
          1.3060301507537686,
          1.3175879396984922,
          1.3291457286432158,
          1.3407035175879396,
          1.3522613065326632,
          1.3638190954773868,
          1.3753768844221104,
          1.386934673366834,
          1.3984924623115575,
          1.4100502512562811,
          1.4216080402010047,
          1.4331658291457285,
          1.4447236180904521,
          1.4562814070351757,
          1.4678391959798993,
          1.479396984924623,
          1.4909547738693465,
          1.50251256281407,
          1.5140703517587937,
          1.5256281407035173,
          1.537185929648241,
          1.5487437185929647,
          1.5603015075376883,
          1.5718592964824118,
          1.5834170854271354,
          1.594974874371859,
          1.6065326633165826,
          1.6180904522613062,
          1.62964824120603,
          1.6412060301507536,
          1.6527638190954772,
          1.6643216080402008,
          1.6758793969849244,
          1.687437185929648,
          1.6989949748743716,
          1.7105527638190952,
          1.7221105527638187,
          1.7336683417085426,
          1.7452261306532662,
          1.7567839195979897,
          1.7683417085427133,
          1.779899497487437,
          1.7914572864321605,
          1.803015075376884,
          1.8145728643216077,
          1.8261306532663315,
          1.837688442211055,
          1.8492462311557787,
          1.8608040201005023,
          1.8723618090452259,
          1.8839195979899495,
          1.895477386934673,
          1.9070351758793966,
          1.9185929648241202,
          1.930150753768844,
          1.9417085427135676,
          1.9532663316582912,
          1.9648241206030148,
          1.9763819095477384,
          1.987939698492462,
          1.9994974874371856,
          2.011055276381909,
          2.0226130653266328,
          2.0341708542713564,
          2.04572864321608,
          2.0572864321608035,
          2.068844221105527,
          2.080402010050251,
          2.0919597989949748,
          2.1035175879396983,
          2.115075376884422,
          2.1266331658291455,
          2.138190954773869,
          2.1497487437185927,
          2.1613065326633163,
          2.17286432160804,
          2.1844221105527635,
          2.195979899497487,
          2.2075376884422107,
          2.2190954773869342,
          2.230653266331658,
          2.2422110552763814,
          2.253768844221105,
          2.2653266331658286,
          2.2768844221105526,
          2.2884422110552762,
          2.2999999,
          2.3
         ],
         "y": [
          0,
          8.740274998076521e-9,
          116.7517959694434,
          466.9953051056143,
          1050.7127092502735,
          1867.8861902451827,
          2918.497929932102,
          4202.530110152793,
          5719.9649127490175,
          7470.784519562533,
          9454.971112435107,
          11672.506873208493,
          14123.373983724456,
          16807.554625824756,
          19725.030981351156,
          22875.78523214542,
          26259.799560049298,
          29877.05614690456,
          33727.53717455296,
          37811.22482483628,
          42128.101279596245,
          46678.148720674646,
          51461.34932991324,
          56477.68528915376,
          61727.13878023802,
          67209.69198500771,
          72925.32708530467,
          78874.0262629706,
          85055.77169984729,
          91470.54557777649,
          98118.33007859997,
          104999.10738415946,
          112112.85967629681,
          119459.56913685365,
          127039.2179476718,
          134851.78829059307,
          142897.2623474592,
          151175.62230011195,
          159686.850330393,
          168430.92862014417,
          177407.83935120725,
          186617.56470542398,
          196060.0868646361,
          205735.38801068545,
          215643.4503254136,
          225784.25599066255,
          236157.78718827403,
          246764.02610008954,
          257602.95490795106,
          268674.55579370033,
          279978.8109391791,
          291515.7025262292,
          303285.2127366923,
          315287.32375241007,
          327522.0177552244,
          339989.2769269772,
          352689.08344950987,
          365621.4195046645,
          378786.2672742826,
          392183.6089402062,
          405813.4266842767,
          419675.7026883361,
          433770.41913422616,
          448097.55820378877,
          462657.1020788654,
          477449.03294129786,
          492473.3329729282,
          507729.98435559764,
          523218.9692711485,
          538940.2699014222,
          554893.8684282608,
          571079.7470335058,
          587497.887898999,
          604148.2732065823,
          621030.8851380972,
          638145.7058753858,
          655492.7176002895,
          673071.9024946502,
          690883.24274031,
          708926.7205191101,
          727202.3180128927,
          745710.0174034992,
          764449.8008727717,
          783421.6506025516,
          802625.548774681,
          822061.4775710017,
          841729.4191733551,
          861629.3557635831,
          881761.2695235276,
          902125.1426350303,
          922720.9572799329,
          943548.6956400777,
          964608.3398973052,
          985899.8722334583,
          1007423.2748303781,
          1029178.5298699068,
          1051165.619533886,
          1073384.5260041573,
          1095835.231462563,
          1118517.718090944,
          1141431.9680711431,
          1142984.3251321642,
          3.613770137526444,
          3.6137343964510364,
          1141274.3199874612,
          1129818.68942266,
          1107080.8243786208,
          1084574.669231925,
          1062300.2061644134,
          1040257.4173579281,
          1018446.2849943112,
          996866.7912554035,
          975518.9183230478,
          954402.6483790856,
          933517.9636053586,
          912864.8461837083,
          892443.2782959772,
          872253.2421240062,
          852294.7198496371,
          832567.6936547122,
          813072.1457210734,
          793808.0582305611,
          774775.4133650189,
          755974.1933062875,
          737404.3802362087,
          719065.9563366247,
          700958.9037893767,
          683083.2047763072,
          665438.8414792574,
          648025.7960800685,
          630844.0507605833,
          613893.5877026437,
          597174.3890880904,
          580686.437098766,
          564429.7139165116,
          548404.2017231702,
          532609.8827005822,
          517046.7390305888,
          501714.75289503403,
          486613.9064757579,
          471744.1819546033,
          457105.561513411,
          442698.0273340229,
          428521.56159828196,
          414576.1464880281,
          400861.7641851052,
          387378.396871352,
          374126.0267286127,
          361104.63593872904,
          348314.20668354223,
          335754.7211448936,
          323426.161504625,
          311328.5099445786,
          299461.74864659685,
          287825.8597925195,
          276420.8255641906,
          265246.6281434494,
          254303.24971213975,
          243590.6724521035,
          233108.8785451812,
          222857.8501732153,
          212837.5695180468,
          203048.0187615177,
          193489.18008547084,
          184161.03567174694,
          175063.56770218743,
          166196.7583586352,
          157560.5898229313,
          149155.04427691727,
          140980.10390243572,
          133035.75088132772,
          125321.96739543596,
          117838.73562660141,
          110586.03775666523,
          103563.85596747027,
          96772.172440858,
          90210.96935866954,
          83880.2289027468,
          77779.93325493272,
          71910.06459706876,
          66270.605110996,
          60861.53697855616,
          55682.84238159051,
          50734.50350194203,
          46016.502521452145,
          41528.82162196224,
          37271.44298531412,
          33244.3487933501,
          29447.52122791158,
          25880.942470840237,
          22544.594703976938,
          19438.460109165637,
          16562.520868246444,
          13916.759163062205,
          11501.15717545303,
          9315.69708726101,
          7360.361080329574,
          5635.13133649918,
          4139.99003761221,
          2874.919365510228,
          1839.9015020337538,
          1034.9186290261569,
          459.95292832981795,
          114.98658178461483,
          0.00177124107722193,
          0.0017712328117340803
         ]
        }
       ],
       "layout": {
        "annotations": [
         {
          "arrowhead": 1,
          "ax": 0,
          "ay": -40,
          "showarrow": true,
          "text": "1.000 m<br>872104.196 N.m",
          "x": 0.9999999999999999,
          "xref": "x",
          "y": 872104.1959675953,
          "yref": "y"
         },
         {
          "arrowhead": 1,
          "ax": 0,
          "ay": -40,
          "showarrow": true,
          "text": "1.300 m<br>862679.151 N.m",
          "x": 1.2999999999999998,
          "xref": "x",
          "y": 862679.1511977543,
          "yref": "y"
         },
         {
          "arrowhead": 1,
          "ax": 0,
          "ay": -40,
          "showarrow": true,
          "text": "0.945 m<br>778905.333 N.m",
          "x": 0.9450000000000001,
          "xref": "x",
          "y": 778905.3329690442,
          "yref": "y"
         },
         {
          "arrowhead": 1,
          "ax": 0,
          "ay": -40,
          "showarrow": true,
          "text": "1.345 m<br>786706.019 N.m",
          "x": 1.345,
          "xref": "x",
          "y": 786706.0186462626,
          "yref": "y"
         }
        ],
        "template": {
         "data": {
          "bar": [
           {
            "error_x": {
             "color": "#2a3f5f"
            },
            "error_y": {
             "color": "#2a3f5f"
            },
            "marker": {
             "line": {
              "color": "#E5ECF6",
              "width": 0.5
             },
             "pattern": {
              "fillmode": "overlay",
              "size": 10,
              "solidity": 0.2
             }
            },
            "type": "bar"
           }
          ],
          "barpolar": [
           {
            "marker": {
             "line": {
              "color": "#E5ECF6",
              "width": 0.5
             },
             "pattern": {
              "fillmode": "overlay",
              "size": 10,
              "solidity": 0.2
             }
            },
            "type": "barpolar"
           }
          ],
          "carpet": [
           {
            "aaxis": {
             "endlinecolor": "#2a3f5f",
             "gridcolor": "white",
             "linecolor": "white",
             "minorgridcolor": "white",
             "startlinecolor": "#2a3f5f"
            },
            "baxis": {
             "endlinecolor": "#2a3f5f",
             "gridcolor": "white",
             "linecolor": "white",
             "minorgridcolor": "white",
             "startlinecolor": "#2a3f5f"
            },
            "type": "carpet"
           }
          ],
          "choropleth": [
           {
            "colorbar": {
             "outlinewidth": 0,
             "ticks": ""
            },
            "type": "choropleth"
           }
          ],
          "contour": [
           {
            "colorbar": {
             "outlinewidth": 0,
             "ticks": ""
            },
            "colorscale": [
             [
              0,
              "#0d0887"
             ],
             [
              0.1111111111111111,
              "#46039f"
             ],
             [
              0.2222222222222222,
              "#7201a8"
             ],
             [
              0.3333333333333333,
              "#9c179e"
             ],
             [
              0.4444444444444444,
              "#bd3786"
             ],
             [
              0.5555555555555556,
              "#d8576b"
             ],
             [
              0.6666666666666666,
              "#ed7953"
             ],
             [
              0.7777777777777778,
              "#fb9f3a"
             ],
             [
              0.8888888888888888,
              "#fdca26"
             ],
             [
              1,
              "#f0f921"
             ]
            ],
            "type": "contour"
           }
          ],
          "contourcarpet": [
           {
            "colorbar": {
             "outlinewidth": 0,
             "ticks": ""
            },
            "type": "contourcarpet"
           }
          ],
          "heatmap": [
           {
            "colorbar": {
             "outlinewidth": 0,
             "ticks": ""
            },
            "colorscale": [
             [
              0,
              "#0d0887"
             ],
             [
              0.1111111111111111,
              "#46039f"
             ],
             [
              0.2222222222222222,
              "#7201a8"
             ],
             [
              0.3333333333333333,
              "#9c179e"
             ],
             [
              0.4444444444444444,
              "#bd3786"
             ],
             [
              0.5555555555555556,
              "#d8576b"
             ],
             [
              0.6666666666666666,
              "#ed7953"
             ],
             [
              0.7777777777777778,
              "#fb9f3a"
             ],
             [
              0.8888888888888888,
              "#fdca26"
             ],
             [
              1,
              "#f0f921"
             ]
            ],
            "type": "heatmap"
           }
          ],
          "heatmapgl": [
           {
            "colorbar": {
             "outlinewidth": 0,
             "ticks": ""
            },
            "colorscale": [
             [
              0,
              "#0d0887"
             ],
             [
              0.1111111111111111,
              "#46039f"
             ],
             [
              0.2222222222222222,
              "#7201a8"
             ],
             [
              0.3333333333333333,
              "#9c179e"
             ],
             [
              0.4444444444444444,
              "#bd3786"
             ],
             [
              0.5555555555555556,
              "#d8576b"
             ],
             [
              0.6666666666666666,
              "#ed7953"
             ],
             [
              0.7777777777777778,
              "#fb9f3a"
             ],
             [
              0.8888888888888888,
              "#fdca26"
             ],
             [
              1,
              "#f0f921"
             ]
            ],
            "type": "heatmapgl"
           }
          ],
          "histogram": [
           {
            "marker": {
             "pattern": {
              "fillmode": "overlay",
              "size": 10,
              "solidity": 0.2
             }
            },
            "type": "histogram"
           }
          ],
          "histogram2d": [
           {
            "colorbar": {
             "outlinewidth": 0,
             "ticks": ""
            },
            "colorscale": [
             [
              0,
              "#0d0887"
             ],
             [
              0.1111111111111111,
              "#46039f"
             ],
             [
              0.2222222222222222,
              "#7201a8"
             ],
             [
              0.3333333333333333,
              "#9c179e"
             ],
             [
              0.4444444444444444,
              "#bd3786"
             ],
             [
              0.5555555555555556,
              "#d8576b"
             ],
             [
              0.6666666666666666,
              "#ed7953"
             ],
             [
              0.7777777777777778,
              "#fb9f3a"
             ],
             [
              0.8888888888888888,
              "#fdca26"
             ],
             [
              1,
              "#f0f921"
             ]
            ],
            "type": "histogram2d"
           }
          ],
          "histogram2dcontour": [
           {
            "colorbar": {
             "outlinewidth": 0,
             "ticks": ""
            },
            "colorscale": [
             [
              0,
              "#0d0887"
             ],
             [
              0.1111111111111111,
              "#46039f"
             ],
             [
              0.2222222222222222,
              "#7201a8"
             ],
             [
              0.3333333333333333,
              "#9c179e"
             ],
             [
              0.4444444444444444,
              "#bd3786"
             ],
             [
              0.5555555555555556,
              "#d8576b"
             ],
             [
              0.6666666666666666,
              "#ed7953"
             ],
             [
              0.7777777777777778,
              "#fb9f3a"
             ],
             [
              0.8888888888888888,
              "#fdca26"
             ],
             [
              1,
              "#f0f921"
             ]
            ],
            "type": "histogram2dcontour"
           }
          ],
          "mesh3d": [
           {
            "colorbar": {
             "outlinewidth": 0,
             "ticks": ""
            },
            "type": "mesh3d"
           }
          ],
          "parcoords": [
           {
            "line": {
             "colorbar": {
              "outlinewidth": 0,
              "ticks": ""
             }
            },
            "type": "parcoords"
           }
          ],
          "pie": [
           {
            "automargin": true,
            "type": "pie"
           }
          ],
          "scatter": [
           {
            "marker": {
             "colorbar": {
              "outlinewidth": 0,
              "ticks": ""
             }
            },
            "type": "scatter"
           }
          ],
          "scatter3d": [
           {
            "line": {
             "colorbar": {
              "outlinewidth": 0,
              "ticks": ""
             }
            },
            "marker": {
             "colorbar": {
              "outlinewidth": 0,
              "ticks": ""
             }
            },
            "type": "scatter3d"
           }
          ],
          "scattercarpet": [
           {
            "marker": {
             "colorbar": {
              "outlinewidth": 0,
              "ticks": ""
             }
            },
            "type": "scattercarpet"
           }
          ],
          "scattergeo": [
           {
            "marker": {
             "colorbar": {
              "outlinewidth": 0,
              "ticks": ""
             }
            },
            "type": "scattergeo"
           }
          ],
          "scattergl": [
           {
            "marker": {
             "colorbar": {
              "outlinewidth": 0,
              "ticks": ""
             }
            },
            "type": "scattergl"
           }
          ],
          "scattermapbox": [
           {
            "marker": {
             "colorbar": {
              "outlinewidth": 0,
              "ticks": ""
             }
            },
            "type": "scattermapbox"
           }
          ],
          "scatterpolar": [
           {
            "marker": {
             "colorbar": {
              "outlinewidth": 0,
              "ticks": ""
             }
            },
            "type": "scatterpolar"
           }
          ],
          "scatterpolargl": [
           {
            "marker": {
             "colorbar": {
              "outlinewidth": 0,
              "ticks": ""
             }
            },
            "type": "scatterpolargl"
           }
          ],
          "scatterternary": [
           {
            "marker": {
             "colorbar": {
              "outlinewidth": 0,
              "ticks": ""
             }
            },
            "type": "scatterternary"
           }
          ],
          "surface": [
           {
            "colorbar": {
             "outlinewidth": 0,
             "ticks": ""
            },
            "colorscale": [
             [
              0,
              "#0d0887"
             ],
             [
              0.1111111111111111,
              "#46039f"
             ],
             [
              0.2222222222222222,
              "#7201a8"
             ],
             [
              0.3333333333333333,
              "#9c179e"
             ],
             [
              0.4444444444444444,
              "#bd3786"
             ],
             [
              0.5555555555555556,
              "#d8576b"
             ],
             [
              0.6666666666666666,
              "#ed7953"
             ],
             [
              0.7777777777777778,
              "#fb9f3a"
             ],
             [
              0.8888888888888888,
              "#fdca26"
             ],
             [
              1,
              "#f0f921"
             ]
            ],
            "type": "surface"
           }
          ],
          "table": [
           {
            "cells": {
             "fill": {
              "color": "#EBF0F8"
             },
             "line": {
              "color": "white"
             }
            },
            "header": {
             "fill": {
              "color": "#C8D4E3"
             },
             "line": {
              "color": "white"
             }
            },
            "type": "table"
           }
          ]
         },
         "layout": {
          "annotationdefaults": {
           "arrowcolor": "#2a3f5f",
           "arrowhead": 0,
           "arrowwidth": 1
          },
          "autotypenumbers": "strict",
          "coloraxis": {
           "colorbar": {
            "outlinewidth": 0,
            "ticks": ""
           }
          },
          "colorscale": {
           "diverging": [
            [
             0,
             "#8e0152"
            ],
            [
             0.1,
             "#c51b7d"
            ],
            [
             0.2,
             "#de77ae"
            ],
            [
             0.3,
             "#f1b6da"
            ],
            [
             0.4,
             "#fde0ef"
            ],
            [
             0.5,
             "#f7f7f7"
            ],
            [
             0.6,
             "#e6f5d0"
            ],
            [
             0.7,
             "#b8e186"
            ],
            [
             0.8,
             "#7fbc41"
            ],
            [
             0.9,
             "#4d9221"
            ],
            [
             1,
             "#276419"
            ]
           ],
           "sequential": [
            [
             0,
             "#0d0887"
            ],
            [
             0.1111111111111111,
             "#46039f"
            ],
            [
             0.2222222222222222,
             "#7201a8"
            ],
            [
             0.3333333333333333,
             "#9c179e"
            ],
            [
             0.4444444444444444,
             "#bd3786"
            ],
            [
             0.5555555555555556,
             "#d8576b"
            ],
            [
             0.6666666666666666,
             "#ed7953"
            ],
            [
             0.7777777777777778,
             "#fb9f3a"
            ],
            [
             0.8888888888888888,
             "#fdca26"
            ],
            [
             1,
             "#f0f921"
            ]
           ],
           "sequentialminus": [
            [
             0,
             "#0d0887"
            ],
            [
             0.1111111111111111,
             "#46039f"
            ],
            [
             0.2222222222222222,
             "#7201a8"
            ],
            [
             0.3333333333333333,
             "#9c179e"
            ],
            [
             0.4444444444444444,
             "#bd3786"
            ],
            [
             0.5555555555555556,
             "#d8576b"
            ],
            [
             0.6666666666666666,
             "#ed7953"
            ],
            [
             0.7777777777777778,
             "#fb9f3a"
            ],
            [
             0.8888888888888888,
             "#fdca26"
            ],
            [
             1,
             "#f0f921"
            ]
           ]
          },
          "colorway": [
           "#636efa",
           "#EF553B",
           "#00cc96",
           "#ab63fa",
           "#FFA15A",
           "#19d3f3",
           "#FF6692",
           "#B6E880",
           "#FF97FF",
           "#FECB52"
          ],
          "font": {
           "color": "#2a3f5f"
          },
          "geo": {
           "bgcolor": "white",
           "lakecolor": "white",
           "landcolor": "#E5ECF6",
           "showlakes": true,
           "showland": true,
           "subunitcolor": "white"
          },
          "hoverlabel": {
           "align": "left"
          },
          "hovermode": "closest",
          "mapbox": {
           "style": "light"
          },
          "paper_bgcolor": "white",
          "plot_bgcolor": "#E5ECF6",
          "polar": {
           "angularaxis": {
            "gridcolor": "white",
            "linecolor": "white",
            "ticks": ""
           },
           "bgcolor": "#E5ECF6",
           "radialaxis": {
            "gridcolor": "white",
            "linecolor": "white",
            "ticks": ""
           }
          },
          "scene": {
           "xaxis": {
            "backgroundcolor": "#E5ECF6",
            "gridcolor": "white",
            "gridwidth": 2,
            "linecolor": "white",
            "showbackground": true,
            "ticks": "",
            "zerolinecolor": "white"
           },
           "yaxis": {
            "backgroundcolor": "#E5ECF6",
            "gridcolor": "white",
            "gridwidth": 2,
            "linecolor": "white",
            "showbackground": true,
            "ticks": "",
            "zerolinecolor": "white"
           },
           "zaxis": {
            "backgroundcolor": "#E5ECF6",
            "gridcolor": "white",
            "gridwidth": 2,
            "linecolor": "white",
            "showbackground": true,
            "ticks": "",
            "zerolinecolor": "white"
           }
          },
          "shapedefaults": {
           "line": {
            "color": "#2a3f5f"
           }
          },
          "ternary": {
           "aaxis": {
            "gridcolor": "white",
            "linecolor": "white",
            "ticks": ""
           },
           "baxis": {
            "gridcolor": "white",
            "linecolor": "white",
            "ticks": ""
           },
           "bgcolor": "#E5ECF6",
           "caxis": {
            "gridcolor": "white",
            "linecolor": "white",
            "ticks": ""
           }
          },
          "title": {
           "x": 0.05
          },
          "xaxis": {
           "automargin": true,
           "gridcolor": "white",
           "linecolor": "white",
           "ticks": "",
           "title": {
            "standoff": 15
           },
           "zerolinecolor": "white",
           "zerolinewidth": 2
          },
          "yaxis": {
           "automargin": true,
           "gridcolor": "white",
           "linecolor": "white",
           "ticks": "",
           "title": {
            "standoff": 15
           },
           "zerolinecolor": "white",
           "zerolinewidth": 2
          }
         }
        },
        "title": {
         "font": {
          "size": 30
         },
         "text": "Bending Moment Plot"
        },
        "xaxis": {
         "title": {
          "text": "Foundation width"
         }
        },
        "yaxis": {
         "autorange": "reversed",
         "title": {
          "text": "Bending Moment (N.m)"
         }
        }
       }
      }
     },
     "metadata": {},
     "output_type": "display_data"
    }
   ],
   "source": [
    "comb_footing_design.plot_bending_moment_Y()\n"
   ]
  },
  {
   "cell_type": "markdown",
   "metadata": {},
   "source": [
    "#### Show the shear force diagram in x direction showing the design shear forces"
   ]
  },
  {
   "cell_type": "code",
   "execution_count": 48,
   "metadata": {},
   "outputs": [
    {
     "data": {
      "application/vnd.plotly.v1+json": {
       "config": {
        "plotlyServerURL": "https://plot.ly"
       },
       "data": [
        {
         "fill": "tozeroy",
         "hovertemplate": "x: %{x:.3f} %{meta[0]}<br>f(x): %{y:.3f} %{meta[1]}",
         "line": {
          "color": "aqua",
          "width": 1
         },
         "meta": [
          "m",
          "N"
         ],
         "mode": "lines",
         "name": "Shear Force",
         "type": "scatter",
         "x": [
          0,
          1e-7,
          0.023115577889447233,
          0.046231155778894466,
          0.0693467336683417,
          0.09246231155778893,
          0.11557788944723617,
          0.1386934673366834,
          0.16180904522613063,
          0.18492462311557786,
          0.2080402010050251,
          0.23115577889447234,
          0.25427135678391954,
          0.2773869346733668,
          0.300502512562814,
          0.32361809045226125,
          0.3467336683417085,
          0.3698492462311557,
          0.39296482412060296,
          0.4160804020100502,
          0.43919597989949744,
          0.46231155778894467,
          0.4854271356783919,
          0.5085427135678391,
          0.5316582914572864,
          0.5399999000000001,
          0.5400001,
          0.5547738693467336,
          0.5778894472361809,
          0.601005025125628,
          0.6241206030150753,
          0.6472361809045225,
          0.6703517587939698,
          0.693467336683417,
          0.7165829145728643,
          0.7396984924623115,
          0.7628140703517586,
          0.7859296482412059,
          0.8090452261306531,
          0.8321608040201004,
          0.8552763819095476,
          0.8783919597989949,
          0.901507537688442,
          0.9246231155778893,
          0.9477386934673365,
          0.9708542713567838,
          0.993969849246231,
          1.0170854271356782,
          1.0402010050251256,
          1.0633165829145728,
          1.08643216080402,
          1.1095477386934671,
          1.1326633165829143,
          1.1557788944723617,
          1.1788944723618089,
          1.202010050251256,
          1.2251256281407032,
          1.2482412060301507,
          1.2713567839195978,
          1.294472361809045,
          1.3175879396984922,
          1.3407035175879396,
          1.3638190954773868,
          1.386934673366834,
          1.4100502512562811,
          1.4331658291457285,
          1.4562814070351757,
          1.479396984924623,
          1.50251256281407,
          1.5256281407035173,
          1.5487437185929647,
          1.5718592964824118,
          1.594974874371859,
          1.6180904522613062,
          1.6412060301507536,
          1.6643216080402008,
          1.687437185929648,
          1.7105527638190952,
          1.7336683417085426,
          1.7567839195979897,
          1.779899497487437,
          1.803015075376884,
          1.8261306532663315,
          1.8492462311557787,
          1.8723618090452259,
          1.895477386934673,
          1.9185929648241202,
          1.9417085427135676,
          1.9648241206030148,
          1.987939698492462,
          2.011055276381909,
          2.0341708542713564,
          2.0572864321608035,
          2.080402010050251,
          2.1035175879396983,
          2.1266331658291455,
          2.1497487437185927,
          2.17286432160804,
          2.195979899497487,
          2.2190954773869342,
          2.2422110552763814,
          2.2653266331658286,
          2.2884422110552762,
          2.3115577889447234,
          2.3346733668341706,
          2.3577889447236178,
          2.380904522613065,
          2.404020100502512,
          2.4271356783919593,
          2.4502512562814065,
          2.473366834170854,
          2.4964824120603013,
          2.5195979899497485,
          2.5427135678391957,
          2.565829145728643,
          2.58894472361809,
          2.612060301507537,
          2.6351758793969844,
          2.6582914572864316,
          2.681407035175879,
          2.7045226130653264,
          2.7276381909547736,
          2.7507537688442207,
          2.773869346733668,
          2.796984924623115,
          2.8201005025125623,
          2.8432160804020095,
          2.866331658291457,
          2.8894472361809043,
          2.9125628140703514,
          2.9356783919597986,
          2.958793969849246,
          2.981909547738693,
          3.00502512562814,
          3.0281407035175874,
          3.0512562814070345,
          3.074371859296482,
          3.0974874371859293,
          3.1206030150753765,
          3.1437185929648237,
          3.166834170854271,
          3.189949748743718,
          3.2130653266331652,
          3.2361809045226124,
          3.25929648241206,
          3.2824120603015072,
          3.3055276381909544,
          3.3286432160804016,
          3.3517587939698488,
          3.374874371859296,
          3.397989949748743,
          3.4211055276381903,
          3.4442211055276375,
          3.467336683417085,
          3.4904522613065323,
          3.5135678391959795,
          3.5366834170854267,
          3.5399999,
          3.5400001,
          3.559798994974874,
          3.582914572864321,
          3.606030150753768,
          3.6291457286432154,
          3.652261306532663,
          3.67537688442211,
          3.6984924623115574,
          3.7216080402010046,
          3.7447236180904517,
          3.767839195979899,
          3.790954773869346,
          3.8140703517587933,
          3.8371859296482405,
          3.860301507537688,
          3.8834170854271353,
          3.9065326633165824,
          3.9296482412060296,
          3.952763819095477,
          3.975879396984924,
          3.998994974874371,
          4.022110552763818,
          4.0452261306532655,
          4.068341708542713,
          4.09145728643216,
          4.114572864321607,
          4.137688442211054,
          4.160804020100502,
          4.1839195979899495,
          4.207035175879397,
          4.230150753768844,
          4.253266331658291,
          4.276381909547738,
          4.299497487437185,
          4.322613065326633,
          4.34572864321608,
          4.368844221105527,
          4.391959798994974,
          4.415075376884421,
          4.4381909547738685,
          4.461306532663316,
          4.484422110552763,
          4.50753768844221,
          4.530653266331657,
          4.553768844221105,
          4.5768844221105525,
          4.599999899999999,
          4.6
         ],
         "y": [
          0,
          0.08680729999851848,
          20065.929883083758,
          40131.701441882775,
          60197.31467639705,
          80262.76958662659,
          100328.06617257139,
          120393.20443423145,
          140458.18437160674,
          160523.00598469735,
          180587.66927350315,
          200652.17423802425,
          220716.5208782606,
          240780.70919421225,
          260844.73918587912,
          280908.6108532612,
          300972.3241963586,
          321035.87921517127,
          341099.27590969915,
          361162.5142799424,
          381225.59432590083,
          401288.51604757446,
          421351.27944496344,
          441413.88451806764,
          461476.3312668872,
          468716.13203478744,
          -1301469.3958173934,
          -1288647.081743358,
          -1268584.9516431082,
          -1248522.9798671429,
          -1228461.1664154623,
          -1208399.5112880666,
          -1188338.0144849555,
          -1168276.6760061292,
          -1148215.4958515875,
          -1128154.474021331,
          -1108093.6105153589,
          -1088032.9053336715,
          -1067972.3584762688,
          -1047911.969943151,
          -1027851.7397343179,
          -1007791.6678497695,
          -987731.754289506,
          -967671.999053527,
          -947612.4021418329,
          -927552.9635544234,
          -907493.6832912988,
          -887434.5613524589,
          -867375.5977379036,
          -847316.7924476331,
          -827258.1454816476,
          -807199.6568399465,
          -787141.3265225303,
          -767083.1545293989,
          -747025.1408605522,
          -726967.2855159901,
          -706909.5884957128,
          -686852.0497997204,
          -666794.6694280126,
          -646737.4473805896,
          -626680.3836574513,
          -606623.4782585977,
          -586566.7311840289,
          -566510.1424337447,
          -546453.7120077454,
          -526397.4399060307,
          -506341.326128601,
          -486285.37067545584,
          -466229.5735465955,
          -446173.93474201986,
          -426118.4542617289,
          -406063.1321057228,
          -386007.9682740014,
          -365952.9627665647,
          -345898.11558341276,
          -325843.42672454554,
          -305788.8961899631,
          -285734.52397966536,
          -265680.31009365217,
          -245626.25453192415,
          -225572.35729448067,
          -205518.6183813219,
          -185465.03779244766,
          -165411.61552785864,
          -145358.3515875541,
          -125305.2459715343,
          -105252.29867979925,
          -85199.50971234894,
          -65146.87906918336,
          -45094.40675030253,
          -25042.092755706428,
          -4989.937085395082,
          15062.060260631304,
          35113.89928237363,
          55165.57997983074,
          75217.10235300317,
          95268.46640189056,
          115319.67212649347,
          135370.71952681168,
          155421.60860284508,
          175472.33935459377,
          195522.91178205778,
          215573.32588523714,
          235623.5816641314,
          255673.6791187414,
          275723.6182490661,
          295773.39905510657,
          315823.0215368619,
          335872.4856943324,
          355921.79152751865,
          375970.9390364202,
          396019.92822103656,
          416068.7590813685,
          436117.43161741534,
          456165.94582917786,
          476214.30171665526,
          496262.49927984795,
          516310.5385187563,
          536358.4194333793,
          556406.1420237182,
          576453.7062897723,
          596501.1122315413,
          616548.359849026,
          636595.4491422253,
          656642.38011114,
          676689.1527557705,
          696735.7670761157,
          716782.223072177,
          736828.5207439528,
          756874.6600914437,
          776920.6411146504,
          796966.463813572,
          817012.1281882093,
          837057.6342385611,
          857102.9819646287,
          877148.1713664115,
          897193.2024439097,
          917238.075197123,
          937282.7896260517,
          957327.3457306953,
          977371.7435110547,
          997415.9829671286,
          1017460.0640989181,
          1037503.9869064231,
          1057547.7513896436,
          1077591.3575485786,
          1097634.8053832296,
          1117678.0948935952,
          1137721.2260796765,
          1157764.198941473,
          1177807.0134789841,
          1197849.6696922113,
          1217892.1675811533,
          1237934.5071458113,
          1257976.688386184,
          1278018.7113022716,
          1298060.575894075,
          1300936.0480802031,
          -918878.9770802003,
          -901712.9164036266,
          -881671.368460393,
          -861629.9788414438,
          -841588.7475467798,
          -821547.6745763995,
          -801506.759930305,
          -781466.0036084952,
          -761425.4056109695,
          -741384.9659377292,
          -721344.6845887732,
          -701304.5615641023,
          -681264.5968637163,
          -661224.7904876145,
          -641185.1424357973,
          -621145.6527082655,
          -601106.3213050178,
          -581067.1482260553,
          -561028.1334713772,
          -540989.2770409842,
          -520950.5789348761,
          -500912.03915305214,
          -480873.65769551345,
          -460835.434562259,
          -440797.36975328973,
          -420759.4632686053,
          -400721.71510820504,
          -380684.12527208915,
          -360646.69376025884,
          -340609.4205727129,
          -320572.3057094521,
          -300535.3491704755,
          -280498.5509557842,
          -260461.91106537764,
          -240425.42949925532,
          -220389.1062574183,
          -200352.94133986544,
          -180316.9347465978,
          -160281.08647761497,
          -140245.39653291635,
          -120209.86491250293,
          -100174.49161637385,
          -80139.27664452992,
          -60104.21999697026,
          -40069.321673695464,
          -20034.58167470526,
          -0.08667100069578737,
          1.7462298274040222e-10
         ]
        }
       ],
       "layout": {
        "annotations": [
         {
          "arrowhead": 1,
          "ax": 0,
          "ay": 40,
          "showarrow": true,
          "text": "1.492 m<br>-475350.668 N",
          "x": 1.492,
          "xref": "x",
          "y": -475350.6684187409,
          "yref": "y"
         },
         {
          "arrowhead": 1,
          "ax": 0,
          "ay": -40,
          "showarrow": true,
          "text": "2.538 m<br>432029.345 N",
          "x": 2.5380000000000003,
          "xref": "x",
          "y": 432029.3453655789,
          "yref": "y"
         },
         {
          "arrowhead": 1,
          "ax": 0,
          "ay": 40,
          "showarrow": true,
          "text": "4.542 m<br>-50269.765 N",
          "x": 4.542,
          "xref": "x",
          "y": -50269.7650566317,
          "yref": "y"
         }
        ],
        "template": {
         "data": {
          "bar": [
           {
            "error_x": {
             "color": "#2a3f5f"
            },
            "error_y": {
             "color": "#2a3f5f"
            },
            "marker": {
             "line": {
              "color": "#E5ECF6",
              "width": 0.5
             },
             "pattern": {
              "fillmode": "overlay",
              "size": 10,
              "solidity": 0.2
             }
            },
            "type": "bar"
           }
          ],
          "barpolar": [
           {
            "marker": {
             "line": {
              "color": "#E5ECF6",
              "width": 0.5
             },
             "pattern": {
              "fillmode": "overlay",
              "size": 10,
              "solidity": 0.2
             }
            },
            "type": "barpolar"
           }
          ],
          "carpet": [
           {
            "aaxis": {
             "endlinecolor": "#2a3f5f",
             "gridcolor": "white",
             "linecolor": "white",
             "minorgridcolor": "white",
             "startlinecolor": "#2a3f5f"
            },
            "baxis": {
             "endlinecolor": "#2a3f5f",
             "gridcolor": "white",
             "linecolor": "white",
             "minorgridcolor": "white",
             "startlinecolor": "#2a3f5f"
            },
            "type": "carpet"
           }
          ],
          "choropleth": [
           {
            "colorbar": {
             "outlinewidth": 0,
             "ticks": ""
            },
            "type": "choropleth"
           }
          ],
          "contour": [
           {
            "colorbar": {
             "outlinewidth": 0,
             "ticks": ""
            },
            "colorscale": [
             [
              0,
              "#0d0887"
             ],
             [
              0.1111111111111111,
              "#46039f"
             ],
             [
              0.2222222222222222,
              "#7201a8"
             ],
             [
              0.3333333333333333,
              "#9c179e"
             ],
             [
              0.4444444444444444,
              "#bd3786"
             ],
             [
              0.5555555555555556,
              "#d8576b"
             ],
             [
              0.6666666666666666,
              "#ed7953"
             ],
             [
              0.7777777777777778,
              "#fb9f3a"
             ],
             [
              0.8888888888888888,
              "#fdca26"
             ],
             [
              1,
              "#f0f921"
             ]
            ],
            "type": "contour"
           }
          ],
          "contourcarpet": [
           {
            "colorbar": {
             "outlinewidth": 0,
             "ticks": ""
            },
            "type": "contourcarpet"
           }
          ],
          "heatmap": [
           {
            "colorbar": {
             "outlinewidth": 0,
             "ticks": ""
            },
            "colorscale": [
             [
              0,
              "#0d0887"
             ],
             [
              0.1111111111111111,
              "#46039f"
             ],
             [
              0.2222222222222222,
              "#7201a8"
             ],
             [
              0.3333333333333333,
              "#9c179e"
             ],
             [
              0.4444444444444444,
              "#bd3786"
             ],
             [
              0.5555555555555556,
              "#d8576b"
             ],
             [
              0.6666666666666666,
              "#ed7953"
             ],
             [
              0.7777777777777778,
              "#fb9f3a"
             ],
             [
              0.8888888888888888,
              "#fdca26"
             ],
             [
              1,
              "#f0f921"
             ]
            ],
            "type": "heatmap"
           }
          ],
          "heatmapgl": [
           {
            "colorbar": {
             "outlinewidth": 0,
             "ticks": ""
            },
            "colorscale": [
             [
              0,
              "#0d0887"
             ],
             [
              0.1111111111111111,
              "#46039f"
             ],
             [
              0.2222222222222222,
              "#7201a8"
             ],
             [
              0.3333333333333333,
              "#9c179e"
             ],
             [
              0.4444444444444444,
              "#bd3786"
             ],
             [
              0.5555555555555556,
              "#d8576b"
             ],
             [
              0.6666666666666666,
              "#ed7953"
             ],
             [
              0.7777777777777778,
              "#fb9f3a"
             ],
             [
              0.8888888888888888,
              "#fdca26"
             ],
             [
              1,
              "#f0f921"
             ]
            ],
            "type": "heatmapgl"
           }
          ],
          "histogram": [
           {
            "marker": {
             "pattern": {
              "fillmode": "overlay",
              "size": 10,
              "solidity": 0.2
             }
            },
            "type": "histogram"
           }
          ],
          "histogram2d": [
           {
            "colorbar": {
             "outlinewidth": 0,
             "ticks": ""
            },
            "colorscale": [
             [
              0,
              "#0d0887"
             ],
             [
              0.1111111111111111,
              "#46039f"
             ],
             [
              0.2222222222222222,
              "#7201a8"
             ],
             [
              0.3333333333333333,
              "#9c179e"
             ],
             [
              0.4444444444444444,
              "#bd3786"
             ],
             [
              0.5555555555555556,
              "#d8576b"
             ],
             [
              0.6666666666666666,
              "#ed7953"
             ],
             [
              0.7777777777777778,
              "#fb9f3a"
             ],
             [
              0.8888888888888888,
              "#fdca26"
             ],
             [
              1,
              "#f0f921"
             ]
            ],
            "type": "histogram2d"
           }
          ],
          "histogram2dcontour": [
           {
            "colorbar": {
             "outlinewidth": 0,
             "ticks": ""
            },
            "colorscale": [
             [
              0,
              "#0d0887"
             ],
             [
              0.1111111111111111,
              "#46039f"
             ],
             [
              0.2222222222222222,
              "#7201a8"
             ],
             [
              0.3333333333333333,
              "#9c179e"
             ],
             [
              0.4444444444444444,
              "#bd3786"
             ],
             [
              0.5555555555555556,
              "#d8576b"
             ],
             [
              0.6666666666666666,
              "#ed7953"
             ],
             [
              0.7777777777777778,
              "#fb9f3a"
             ],
             [
              0.8888888888888888,
              "#fdca26"
             ],
             [
              1,
              "#f0f921"
             ]
            ],
            "type": "histogram2dcontour"
           }
          ],
          "mesh3d": [
           {
            "colorbar": {
             "outlinewidth": 0,
             "ticks": ""
            },
            "type": "mesh3d"
           }
          ],
          "parcoords": [
           {
            "line": {
             "colorbar": {
              "outlinewidth": 0,
              "ticks": ""
             }
            },
            "type": "parcoords"
           }
          ],
          "pie": [
           {
            "automargin": true,
            "type": "pie"
           }
          ],
          "scatter": [
           {
            "marker": {
             "colorbar": {
              "outlinewidth": 0,
              "ticks": ""
             }
            },
            "type": "scatter"
           }
          ],
          "scatter3d": [
           {
            "line": {
             "colorbar": {
              "outlinewidth": 0,
              "ticks": ""
             }
            },
            "marker": {
             "colorbar": {
              "outlinewidth": 0,
              "ticks": ""
             }
            },
            "type": "scatter3d"
           }
          ],
          "scattercarpet": [
           {
            "marker": {
             "colorbar": {
              "outlinewidth": 0,
              "ticks": ""
             }
            },
            "type": "scattercarpet"
           }
          ],
          "scattergeo": [
           {
            "marker": {
             "colorbar": {
              "outlinewidth": 0,
              "ticks": ""
             }
            },
            "type": "scattergeo"
           }
          ],
          "scattergl": [
           {
            "marker": {
             "colorbar": {
              "outlinewidth": 0,
              "ticks": ""
             }
            },
            "type": "scattergl"
           }
          ],
          "scattermapbox": [
           {
            "marker": {
             "colorbar": {
              "outlinewidth": 0,
              "ticks": ""
             }
            },
            "type": "scattermapbox"
           }
          ],
          "scatterpolar": [
           {
            "marker": {
             "colorbar": {
              "outlinewidth": 0,
              "ticks": ""
             }
            },
            "type": "scatterpolar"
           }
          ],
          "scatterpolargl": [
           {
            "marker": {
             "colorbar": {
              "outlinewidth": 0,
              "ticks": ""
             }
            },
            "type": "scatterpolargl"
           }
          ],
          "scatterternary": [
           {
            "marker": {
             "colorbar": {
              "outlinewidth": 0,
              "ticks": ""
             }
            },
            "type": "scatterternary"
           }
          ],
          "surface": [
           {
            "colorbar": {
             "outlinewidth": 0,
             "ticks": ""
            },
            "colorscale": [
             [
              0,
              "#0d0887"
             ],
             [
              0.1111111111111111,
              "#46039f"
             ],
             [
              0.2222222222222222,
              "#7201a8"
             ],
             [
              0.3333333333333333,
              "#9c179e"
             ],
             [
              0.4444444444444444,
              "#bd3786"
             ],
             [
              0.5555555555555556,
              "#d8576b"
             ],
             [
              0.6666666666666666,
              "#ed7953"
             ],
             [
              0.7777777777777778,
              "#fb9f3a"
             ],
             [
              0.8888888888888888,
              "#fdca26"
             ],
             [
              1,
              "#f0f921"
             ]
            ],
            "type": "surface"
           }
          ],
          "table": [
           {
            "cells": {
             "fill": {
              "color": "#EBF0F8"
             },
             "line": {
              "color": "white"
             }
            },
            "header": {
             "fill": {
              "color": "#C8D4E3"
             },
             "line": {
              "color": "white"
             }
            },
            "type": "table"
           }
          ]
         },
         "layout": {
          "annotationdefaults": {
           "arrowcolor": "#2a3f5f",
           "arrowhead": 0,
           "arrowwidth": 1
          },
          "autotypenumbers": "strict",
          "coloraxis": {
           "colorbar": {
            "outlinewidth": 0,
            "ticks": ""
           }
          },
          "colorscale": {
           "diverging": [
            [
             0,
             "#8e0152"
            ],
            [
             0.1,
             "#c51b7d"
            ],
            [
             0.2,
             "#de77ae"
            ],
            [
             0.3,
             "#f1b6da"
            ],
            [
             0.4,
             "#fde0ef"
            ],
            [
             0.5,
             "#f7f7f7"
            ],
            [
             0.6,
             "#e6f5d0"
            ],
            [
             0.7,
             "#b8e186"
            ],
            [
             0.8,
             "#7fbc41"
            ],
            [
             0.9,
             "#4d9221"
            ],
            [
             1,
             "#276419"
            ]
           ],
           "sequential": [
            [
             0,
             "#0d0887"
            ],
            [
             0.1111111111111111,
             "#46039f"
            ],
            [
             0.2222222222222222,
             "#7201a8"
            ],
            [
             0.3333333333333333,
             "#9c179e"
            ],
            [
             0.4444444444444444,
             "#bd3786"
            ],
            [
             0.5555555555555556,
             "#d8576b"
            ],
            [
             0.6666666666666666,
             "#ed7953"
            ],
            [
             0.7777777777777778,
             "#fb9f3a"
            ],
            [
             0.8888888888888888,
             "#fdca26"
            ],
            [
             1,
             "#f0f921"
            ]
           ],
           "sequentialminus": [
            [
             0,
             "#0d0887"
            ],
            [
             0.1111111111111111,
             "#46039f"
            ],
            [
             0.2222222222222222,
             "#7201a8"
            ],
            [
             0.3333333333333333,
             "#9c179e"
            ],
            [
             0.4444444444444444,
             "#bd3786"
            ],
            [
             0.5555555555555556,
             "#d8576b"
            ],
            [
             0.6666666666666666,
             "#ed7953"
            ],
            [
             0.7777777777777778,
             "#fb9f3a"
            ],
            [
             0.8888888888888888,
             "#fdca26"
            ],
            [
             1,
             "#f0f921"
            ]
           ]
          },
          "colorway": [
           "#636efa",
           "#EF553B",
           "#00cc96",
           "#ab63fa",
           "#FFA15A",
           "#19d3f3",
           "#FF6692",
           "#B6E880",
           "#FF97FF",
           "#FECB52"
          ],
          "font": {
           "color": "#2a3f5f"
          },
          "geo": {
           "bgcolor": "white",
           "lakecolor": "white",
           "landcolor": "#E5ECF6",
           "showlakes": true,
           "showland": true,
           "subunitcolor": "white"
          },
          "hoverlabel": {
           "align": "left"
          },
          "hovermode": "closest",
          "mapbox": {
           "style": "light"
          },
          "paper_bgcolor": "white",
          "plot_bgcolor": "#E5ECF6",
          "polar": {
           "angularaxis": {
            "gridcolor": "white",
            "linecolor": "white",
            "ticks": ""
           },
           "bgcolor": "#E5ECF6",
           "radialaxis": {
            "gridcolor": "white",
            "linecolor": "white",
            "ticks": ""
           }
          },
          "scene": {
           "xaxis": {
            "backgroundcolor": "#E5ECF6",
            "gridcolor": "white",
            "gridwidth": 2,
            "linecolor": "white",
            "showbackground": true,
            "ticks": "",
            "zerolinecolor": "white"
           },
           "yaxis": {
            "backgroundcolor": "#E5ECF6",
            "gridcolor": "white",
            "gridwidth": 2,
            "linecolor": "white",
            "showbackground": true,
            "ticks": "",
            "zerolinecolor": "white"
           },
           "zaxis": {
            "backgroundcolor": "#E5ECF6",
            "gridcolor": "white",
            "gridwidth": 2,
            "linecolor": "white",
            "showbackground": true,
            "ticks": "",
            "zerolinecolor": "white"
           }
          },
          "shapedefaults": {
           "line": {
            "color": "#2a3f5f"
           }
          },
          "ternary": {
           "aaxis": {
            "gridcolor": "white",
            "linecolor": "white",
            "ticks": ""
           },
           "baxis": {
            "gridcolor": "white",
            "linecolor": "white",
            "ticks": ""
           },
           "bgcolor": "#E5ECF6",
           "caxis": {
            "gridcolor": "white",
            "linecolor": "white",
            "ticks": ""
           }
          },
          "title": {
           "x": 0.05
          },
          "xaxis": {
           "automargin": true,
           "gridcolor": "white",
           "linecolor": "white",
           "ticks": "",
           "title": {
            "standoff": 15
           },
           "zerolinecolor": "white",
           "zerolinewidth": 2
          },
          "yaxis": {
           "automargin": true,
           "gridcolor": "white",
           "linecolor": "white",
           "ticks": "",
           "title": {
            "standoff": 15
           },
           "zerolinecolor": "white",
           "zerolinewidth": 2
          }
         }
        },
        "title": {
         "font": {
          "size": 30
         },
         "text": "Shear Force Plot"
        },
        "xaxis": {
         "title": {
          "text": "Foundation length"
         }
        },
        "yaxis": {
         "title": {
          "text": "Shear Force (N)"
         }
        }
       }
      }
     },
     "metadata": {},
     "output_type": "display_data"
    }
   ],
   "source": [
    "comb_footing_design.plot_shear_force_X()\n"
   ]
  },
  {
   "cell_type": "markdown",
   "metadata": {},
   "source": [
    "#### Show the shear force diagram in Y direction showing the design shear forces"
   ]
  },
  {
   "cell_type": "code",
   "execution_count": 49,
   "metadata": {},
   "outputs": [
    {
     "data": {
      "application/vnd.plotly.v1+json": {
       "config": {
        "plotlyServerURL": "https://plot.ly"
       },
       "data": [
        {
         "fill": "tozeroy",
         "hovertemplate": "x: %{x:.3f} %{meta[0]}<br>f(x): %{y:.3f} %{meta[1]}",
         "line": {
          "color": "aqua",
          "width": 1
         },
         "meta": [
          "m",
          "N"
         ],
         "mode": "lines",
         "name": "Shear Force",
         "type": "scatter",
         "x": [
          0,
          1e-7,
          0.011557788944723616,
          0.023115577889447233,
          0.03467336683417085,
          0.046231155778894466,
          0.057788944723618084,
          0.0693467336683417,
          0.08090452261306531,
          0.09246231155778893,
          0.10402010050251255,
          0.11557788944723617,
          0.12713567839195977,
          0.1386934673366834,
          0.150251256281407,
          0.16180904522613063,
          0.17336683417085424,
          0.18492462311557786,
          0.19648241206030148,
          0.2080402010050251,
          0.21959798994974872,
          0.23115577889447234,
          0.24271356783919595,
          0.25427135678391954,
          0.2658291457286432,
          0.2773869346733668,
          0.2889447236180904,
          0.300502512562814,
          0.31206030150753766,
          0.32361809045226125,
          0.3351758793969849,
          0.3467336683417085,
          0.35829145728643214,
          0.3698492462311557,
          0.3814070351758793,
          0.39296482412060296,
          0.40452261306532655,
          0.4160804020100502,
          0.4276381909547738,
          0.43919597989949744,
          0.450753768844221,
          0.46231155778894467,
          0.47386934673366826,
          0.4854271356783919,
          0.4969849246231155,
          0.5085427135678391,
          0.5201005025125628,
          0.5316582914572864,
          0.54321608040201,
          0.5547738693467336,
          0.5663316582914572,
          0.5778894472361809,
          0.5894472361809044,
          0.601005025125628,
          0.6125628140703516,
          0.6241206030150753,
          0.6356783919597989,
          0.6472361809045225,
          0.6587939698492461,
          0.6703517587939698,
          0.6819095477386934,
          0.693467336683417,
          0.7050251256281406,
          0.7165829145728643,
          0.7281407035175879,
          0.7396984924623115,
          0.751256281407035,
          0.7628140703517586,
          0.7743718592964823,
          0.7859296482412059,
          0.7974874371859295,
          0.8090452261306531,
          0.8206030150753768,
          0.8321608040201004,
          0.843718592964824,
          0.8552763819095476,
          0.8668341708542713,
          0.8783919597989949,
          0.8899497487437185,
          0.901507537688442,
          0.9130653266331658,
          0.9246231155778893,
          0.9361809045226129,
          0.9477386934673365,
          0.9592964824120601,
          0.9708542713567838,
          0.9824120603015074,
          0.993969849246231,
          1.0055276381909546,
          1.0170854271356782,
          1.0286432160804018,
          1.0402010050251256,
          1.0517587939698492,
          1.0633165829145728,
          1.0748743718592964,
          1.08643216080402,
          1.0979899497487435,
          1.1095477386934671,
          1.1211055276381907,
          1.1326633165829143,
          1.1442211055276381,
          1.1449999,
          1.1450001,
          1.1499998999999999,
          1.1500001,
          1.1557788944723617,
          1.1673366834170853,
          1.1788944723618089,
          1.1904522613065325,
          1.202010050251256,
          1.2135678391959797,
          1.2251256281407032,
          1.236683417085427,
          1.2482412060301507,
          1.2597989949748742,
          1.2713567839195978,
          1.2829145728643214,
          1.294472361809045,
          1.3060301507537686,
          1.3175879396984922,
          1.3291457286432158,
          1.3407035175879396,
          1.3522613065326632,
          1.3638190954773868,
          1.3753768844221104,
          1.386934673366834,
          1.3984924623115575,
          1.4100502512562811,
          1.4216080402010047,
          1.4331658291457285,
          1.4447236180904521,
          1.4562814070351757,
          1.4678391959798993,
          1.479396984924623,
          1.4909547738693465,
          1.50251256281407,
          1.5140703517587937,
          1.5256281407035173,
          1.537185929648241,
          1.5487437185929647,
          1.5603015075376883,
          1.5718592964824118,
          1.5834170854271354,
          1.594974874371859,
          1.6065326633165826,
          1.6180904522613062,
          1.62964824120603,
          1.6412060301507536,
          1.6527638190954772,
          1.6643216080402008,
          1.6758793969849244,
          1.687437185929648,
          1.6989949748743716,
          1.7105527638190952,
          1.7221105527638187,
          1.7336683417085426,
          1.7452261306532662,
          1.7567839195979897,
          1.7683417085427133,
          1.779899497487437,
          1.7914572864321605,
          1.803015075376884,
          1.8145728643216077,
          1.8261306532663315,
          1.837688442211055,
          1.8492462311557787,
          1.8608040201005023,
          1.8723618090452259,
          1.8839195979899495,
          1.895477386934673,
          1.9070351758793966,
          1.9185929648241202,
          1.930150753768844,
          1.9417085427135676,
          1.9532663316582912,
          1.9648241206030148,
          1.9763819095477384,
          1.987939698492462,
          1.9994974874371856,
          2.011055276381909,
          2.0226130653266328,
          2.0341708542713564,
          2.04572864321608,
          2.0572864321608035,
          2.068844221105527,
          2.080402010050251,
          2.0919597989949748,
          2.1035175879396983,
          2.115075376884422,
          2.1266331658291455,
          2.138190954773869,
          2.1497487437185927,
          2.1613065326633163,
          2.17286432160804,
          2.1844221105527635,
          2.195979899497487,
          2.2075376884422107,
          2.2190954773869342,
          2.230653266331658,
          2.2422110552763814,
          2.253768844221105,
          2.2653266331658286,
          2.2768844221105526,
          2.2884422110552762,
          2.2999999,
          2.3
         ],
         "y": [
          0,
          0.17480549994229566,
          20202.879924749373,
          40404.218191459804,
          60604.01480013131,
          80802.26975076385,
          100998.98304335748,
          121194.15467791216,
          141387.7846544279,
          161579.8729729047,
          181770.4196333426,
          201959.4246357415,
          222146.88798010146,
          242332.80966642254,
          262517.18969470466,
          282700.0280649478,
          302881.32477715204,
          323061.07983131736,
          343239.29322744365,
          363415.96496553114,
          383591.09504557966,
          403764.68346758914,
          423936.7302315598,
          444107.2353374913,
          464276.1987853841,
          484443.62057523796,
          504609.50070705276,
          524773.8391808287,
          544936.6359965657,
          565097.8911542636,
          585257.6046539228,
          605415.776495543,
          625572.4066791242,
          645727.4952046664,
          665881.0420721698,
          686033.0472816341,
          706183.5108330596,
          726332.4327264463,
          746479.8129617937,
          766625.6515391025,
          786769.948458372,
          806912.7037196029,
          827053.9173227947,
          847193.5892679477,
          867331.7195550617,
          887468.3081841365,
          907603.3551551729,
          927736.8604681699,
          947868.8241231281,
          967999.2461200474,
          988128.1264589275,
          1008255.465139769,
          1028381.2621625717,
          1048505.5175273351,
          1068628.2312340594,
          1088749.4032827453,
          1108869.033673392,
          1128987.1224059998,
          1149103.6694805683,
          1169218.6748970984,
          1189332.1386555894,
          1209444.0607560412,
          1229554.4411984542,
          1249663.2799828288,
          1269770.5771091636,
          1289876.33257746,
          1309980.5463877174,
          1330083.2185399358,
          1350184.3490341152,
          1370283.9378702554,
          1390381.9850483572,
          1410478.4905684197,
          1430573.4544304437,
          1450666.8766344283,
          1470758.7571803739,
          1490849.0960682807,
          1510937.8932981489,
          1531025.148869978,
          1551110.8627837677,
          1571195.0350395187,
          1591277.6656372314,
          1611358.7545769045,
          1631438.3018585388,
          1651516.3074821339,
          1671592.7714476904,
          1691667.693755208,
          1711741.0744046865,
          1731812.9133961264,
          1751883.2107295268,
          1771951.9664048883,
          1792019.1804222113,
          1812084.8527814953,
          1832148.9834827404,
          1852211.5725259462,
          1872272.619911113,
          1892332.1256382412,
          1912390.08970733,
          1932446.5121183807,
          1952501.3928713915,
          1972554.7319663642,
          1992606.529403298,
          1993957.61725506,
          -4336.887339299254,
          4336.824959199876,
          -1987368.8749592002,
          -1977344.113255308,
          -1957295.3991344522,
          -1937248.2266716356,
          -1917202.5958668583,
          -1897158.5067201194,
          -1877115.9592314197,
          -1857074.953400759,
          -1837035.4892281366,
          -1816997.566713554,
          -1796961.1858570098,
          -1776926.3466585048,
          -1756893.0491180387,
          -1736861.2932356116,
          -1716831.0790112233,
          -1696802.4064448741,
          -1676775.2755365637,
          -1656749.6862862916,
          -1636725.6386940596,
          -1616703.1327598658,
          -1596682.168483711,
          -1576662.7458655958,
          -1556644.8649055187,
          -1536628.5256034813,
          -1516613.7279594825,
          -1496600.4719735219,
          -1476588.7576456012,
          -1456578.584975719,
          -1436569.9539638758,
          -1416562.8646100718,
          -1396557.3169143065,
          -1376553.3108765802,
          -1356550.846496893,
          -1336549.9237752445,
          -1316550.5427116351,
          -1296552.7033060642,
          -1276556.4055585326,
          -1256561.64946904,
          -1236568.4350375864,
          -1216576.7622641714,
          -1196586.6311487958,
          -1176598.0416914588,
          -1156610.9938921602,
          -1136625.4877509016,
          -1116641.5232676812,
          -1096659.1004425,
          -1076678.2192753581,
          -1056698.8797662547,
          -1036721.0819151903,
          -1016744.8257221652,
          -996770.1111871785,
          -976796.9383102308,
          -956825.3070913223,
          -936855.2175304524,
          -916886.669627622,
          -896919.6633828301,
          -876954.1987960772,
          -856990.2758673637,
          -837027.8945966886,
          -817067.0549840519,
          -797107.7570294552,
          -777150.0007328968,
          -757193.7860943775,
          -737239.1131138976,
          -717285.9817914562,
          -697334.392127054,
          -677384.3441206905,
          -657435.8377723659,
          -637488.8730820802,
          -617543.4500498334,
          -597599.5686756256,
          -577657.2289594571,
          -557716.4309013272,
          -537777.1745012362,
          -517839.45975918457,
          -497903.28667517134,
          -477968.65524919715,
          -458035.5654812624,
          -438104.01737136603,
          -418174.01091950864,
          -398245.5461256907,
          -378318.6229899103,
          -358393.2415121702,
          -338469.40169246856,
          -318547.10353080585,
          -298626.3470271826,
          -278707.13218159776,
          -258789.45899405188,
          -238873.32746454538,
          -218958.7375930774,
          -199045.6893796483,
          -179134.18282425863,
          -159224.21792690747,
          -139315.79468759522,
          -119408.91310632235,
          -99503.57318308848,
          -79599.77491789302,
          -59697.518310736516,
          -39796.803361618135,
          -19897.630070539482,
          -0.1705886005074717,
          0.0015624992665834725
         ]
        }
       ],
       "layout": {
        "annotations": [
         {
          "arrowhead": 1,
          "ax": 0,
          "ay": -40,
          "showarrow": true,
          "text": "0.214 m<br>373819.682 N",
          "x": 0.21399999999999986,
          "xref": "x",
          "y": 373819.6817272207,
          "yref": "y"
         },
         {
          "arrowhead": 1,
          "ax": 0,
          "ay": 40,
          "showarrow": true,
          "text": "2.086 m<br>-368667.788 N",
          "x": 2.086,
          "xref": "x",
          "y": -368667.7876668792,
          "yref": "y"
         },
         {
          "arrowhead": 1,
          "ax": 0,
          "ay": -40,
          "showarrow": true,
          "text": "0.159 m<br>277795.037 N",
          "x": 0.15900000000000003,
          "xref": "x",
          "y": 277795.0372602611,
          "yref": "y"
         },
         {
          "arrowhead": 1,
          "ax": 0,
          "ay": 40,
          "showarrow": true,
          "text": "2.131 m<br>-291100.339 N",
          "x": 2.1310000000000002,
          "xref": "x",
          "y": -291100.3391714662,
          "yref": "y"
         }
        ],
        "template": {
         "data": {
          "bar": [
           {
            "error_x": {
             "color": "#2a3f5f"
            },
            "error_y": {
             "color": "#2a3f5f"
            },
            "marker": {
             "line": {
              "color": "#E5ECF6",
              "width": 0.5
             },
             "pattern": {
              "fillmode": "overlay",
              "size": 10,
              "solidity": 0.2
             }
            },
            "type": "bar"
           }
          ],
          "barpolar": [
           {
            "marker": {
             "line": {
              "color": "#E5ECF6",
              "width": 0.5
             },
             "pattern": {
              "fillmode": "overlay",
              "size": 10,
              "solidity": 0.2
             }
            },
            "type": "barpolar"
           }
          ],
          "carpet": [
           {
            "aaxis": {
             "endlinecolor": "#2a3f5f",
             "gridcolor": "white",
             "linecolor": "white",
             "minorgridcolor": "white",
             "startlinecolor": "#2a3f5f"
            },
            "baxis": {
             "endlinecolor": "#2a3f5f",
             "gridcolor": "white",
             "linecolor": "white",
             "minorgridcolor": "white",
             "startlinecolor": "#2a3f5f"
            },
            "type": "carpet"
           }
          ],
          "choropleth": [
           {
            "colorbar": {
             "outlinewidth": 0,
             "ticks": ""
            },
            "type": "choropleth"
           }
          ],
          "contour": [
           {
            "colorbar": {
             "outlinewidth": 0,
             "ticks": ""
            },
            "colorscale": [
             [
              0,
              "#0d0887"
             ],
             [
              0.1111111111111111,
              "#46039f"
             ],
             [
              0.2222222222222222,
              "#7201a8"
             ],
             [
              0.3333333333333333,
              "#9c179e"
             ],
             [
              0.4444444444444444,
              "#bd3786"
             ],
             [
              0.5555555555555556,
              "#d8576b"
             ],
             [
              0.6666666666666666,
              "#ed7953"
             ],
             [
              0.7777777777777778,
              "#fb9f3a"
             ],
             [
              0.8888888888888888,
              "#fdca26"
             ],
             [
              1,
              "#f0f921"
             ]
            ],
            "type": "contour"
           }
          ],
          "contourcarpet": [
           {
            "colorbar": {
             "outlinewidth": 0,
             "ticks": ""
            },
            "type": "contourcarpet"
           }
          ],
          "heatmap": [
           {
            "colorbar": {
             "outlinewidth": 0,
             "ticks": ""
            },
            "colorscale": [
             [
              0,
              "#0d0887"
             ],
             [
              0.1111111111111111,
              "#46039f"
             ],
             [
              0.2222222222222222,
              "#7201a8"
             ],
             [
              0.3333333333333333,
              "#9c179e"
             ],
             [
              0.4444444444444444,
              "#bd3786"
             ],
             [
              0.5555555555555556,
              "#d8576b"
             ],
             [
              0.6666666666666666,
              "#ed7953"
             ],
             [
              0.7777777777777778,
              "#fb9f3a"
             ],
             [
              0.8888888888888888,
              "#fdca26"
             ],
             [
              1,
              "#f0f921"
             ]
            ],
            "type": "heatmap"
           }
          ],
          "heatmapgl": [
           {
            "colorbar": {
             "outlinewidth": 0,
             "ticks": ""
            },
            "colorscale": [
             [
              0,
              "#0d0887"
             ],
             [
              0.1111111111111111,
              "#46039f"
             ],
             [
              0.2222222222222222,
              "#7201a8"
             ],
             [
              0.3333333333333333,
              "#9c179e"
             ],
             [
              0.4444444444444444,
              "#bd3786"
             ],
             [
              0.5555555555555556,
              "#d8576b"
             ],
             [
              0.6666666666666666,
              "#ed7953"
             ],
             [
              0.7777777777777778,
              "#fb9f3a"
             ],
             [
              0.8888888888888888,
              "#fdca26"
             ],
             [
              1,
              "#f0f921"
             ]
            ],
            "type": "heatmapgl"
           }
          ],
          "histogram": [
           {
            "marker": {
             "pattern": {
              "fillmode": "overlay",
              "size": 10,
              "solidity": 0.2
             }
            },
            "type": "histogram"
           }
          ],
          "histogram2d": [
           {
            "colorbar": {
             "outlinewidth": 0,
             "ticks": ""
            },
            "colorscale": [
             [
              0,
              "#0d0887"
             ],
             [
              0.1111111111111111,
              "#46039f"
             ],
             [
              0.2222222222222222,
              "#7201a8"
             ],
             [
              0.3333333333333333,
              "#9c179e"
             ],
             [
              0.4444444444444444,
              "#bd3786"
             ],
             [
              0.5555555555555556,
              "#d8576b"
             ],
             [
              0.6666666666666666,
              "#ed7953"
             ],
             [
              0.7777777777777778,
              "#fb9f3a"
             ],
             [
              0.8888888888888888,
              "#fdca26"
             ],
             [
              1,
              "#f0f921"
             ]
            ],
            "type": "histogram2d"
           }
          ],
          "histogram2dcontour": [
           {
            "colorbar": {
             "outlinewidth": 0,
             "ticks": ""
            },
            "colorscale": [
             [
              0,
              "#0d0887"
             ],
             [
              0.1111111111111111,
              "#46039f"
             ],
             [
              0.2222222222222222,
              "#7201a8"
             ],
             [
              0.3333333333333333,
              "#9c179e"
             ],
             [
              0.4444444444444444,
              "#bd3786"
             ],
             [
              0.5555555555555556,
              "#d8576b"
             ],
             [
              0.6666666666666666,
              "#ed7953"
             ],
             [
              0.7777777777777778,
              "#fb9f3a"
             ],
             [
              0.8888888888888888,
              "#fdca26"
             ],
             [
              1,
              "#f0f921"
             ]
            ],
            "type": "histogram2dcontour"
           }
          ],
          "mesh3d": [
           {
            "colorbar": {
             "outlinewidth": 0,
             "ticks": ""
            },
            "type": "mesh3d"
           }
          ],
          "parcoords": [
           {
            "line": {
             "colorbar": {
              "outlinewidth": 0,
              "ticks": ""
             }
            },
            "type": "parcoords"
           }
          ],
          "pie": [
           {
            "automargin": true,
            "type": "pie"
           }
          ],
          "scatter": [
           {
            "marker": {
             "colorbar": {
              "outlinewidth": 0,
              "ticks": ""
             }
            },
            "type": "scatter"
           }
          ],
          "scatter3d": [
           {
            "line": {
             "colorbar": {
              "outlinewidth": 0,
              "ticks": ""
             }
            },
            "marker": {
             "colorbar": {
              "outlinewidth": 0,
              "ticks": ""
             }
            },
            "type": "scatter3d"
           }
          ],
          "scattercarpet": [
           {
            "marker": {
             "colorbar": {
              "outlinewidth": 0,
              "ticks": ""
             }
            },
            "type": "scattercarpet"
           }
          ],
          "scattergeo": [
           {
            "marker": {
             "colorbar": {
              "outlinewidth": 0,
              "ticks": ""
             }
            },
            "type": "scattergeo"
           }
          ],
          "scattergl": [
           {
            "marker": {
             "colorbar": {
              "outlinewidth": 0,
              "ticks": ""
             }
            },
            "type": "scattergl"
           }
          ],
          "scattermapbox": [
           {
            "marker": {
             "colorbar": {
              "outlinewidth": 0,
              "ticks": ""
             }
            },
            "type": "scattermapbox"
           }
          ],
          "scatterpolar": [
           {
            "marker": {
             "colorbar": {
              "outlinewidth": 0,
              "ticks": ""
             }
            },
            "type": "scatterpolar"
           }
          ],
          "scatterpolargl": [
           {
            "marker": {
             "colorbar": {
              "outlinewidth": 0,
              "ticks": ""
             }
            },
            "type": "scatterpolargl"
           }
          ],
          "scatterternary": [
           {
            "marker": {
             "colorbar": {
              "outlinewidth": 0,
              "ticks": ""
             }
            },
            "type": "scatterternary"
           }
          ],
          "surface": [
           {
            "colorbar": {
             "outlinewidth": 0,
             "ticks": ""
            },
            "colorscale": [
             [
              0,
              "#0d0887"
             ],
             [
              0.1111111111111111,
              "#46039f"
             ],
             [
              0.2222222222222222,
              "#7201a8"
             ],
             [
              0.3333333333333333,
              "#9c179e"
             ],
             [
              0.4444444444444444,
              "#bd3786"
             ],
             [
              0.5555555555555556,
              "#d8576b"
             ],
             [
              0.6666666666666666,
              "#ed7953"
             ],
             [
              0.7777777777777778,
              "#fb9f3a"
             ],
             [
              0.8888888888888888,
              "#fdca26"
             ],
             [
              1,
              "#f0f921"
             ]
            ],
            "type": "surface"
           }
          ],
          "table": [
           {
            "cells": {
             "fill": {
              "color": "#EBF0F8"
             },
             "line": {
              "color": "white"
             }
            },
            "header": {
             "fill": {
              "color": "#C8D4E3"
             },
             "line": {
              "color": "white"
             }
            },
            "type": "table"
           }
          ]
         },
         "layout": {
          "annotationdefaults": {
           "arrowcolor": "#2a3f5f",
           "arrowhead": 0,
           "arrowwidth": 1
          },
          "autotypenumbers": "strict",
          "coloraxis": {
           "colorbar": {
            "outlinewidth": 0,
            "ticks": ""
           }
          },
          "colorscale": {
           "diverging": [
            [
             0,
             "#8e0152"
            ],
            [
             0.1,
             "#c51b7d"
            ],
            [
             0.2,
             "#de77ae"
            ],
            [
             0.3,
             "#f1b6da"
            ],
            [
             0.4,
             "#fde0ef"
            ],
            [
             0.5,
             "#f7f7f7"
            ],
            [
             0.6,
             "#e6f5d0"
            ],
            [
             0.7,
             "#b8e186"
            ],
            [
             0.8,
             "#7fbc41"
            ],
            [
             0.9,
             "#4d9221"
            ],
            [
             1,
             "#276419"
            ]
           ],
           "sequential": [
            [
             0,
             "#0d0887"
            ],
            [
             0.1111111111111111,
             "#46039f"
            ],
            [
             0.2222222222222222,
             "#7201a8"
            ],
            [
             0.3333333333333333,
             "#9c179e"
            ],
            [
             0.4444444444444444,
             "#bd3786"
            ],
            [
             0.5555555555555556,
             "#d8576b"
            ],
            [
             0.6666666666666666,
             "#ed7953"
            ],
            [
             0.7777777777777778,
             "#fb9f3a"
            ],
            [
             0.8888888888888888,
             "#fdca26"
            ],
            [
             1,
             "#f0f921"
            ]
           ],
           "sequentialminus": [
            [
             0,
             "#0d0887"
            ],
            [
             0.1111111111111111,
             "#46039f"
            ],
            [
             0.2222222222222222,
             "#7201a8"
            ],
            [
             0.3333333333333333,
             "#9c179e"
            ],
            [
             0.4444444444444444,
             "#bd3786"
            ],
            [
             0.5555555555555556,
             "#d8576b"
            ],
            [
             0.6666666666666666,
             "#ed7953"
            ],
            [
             0.7777777777777778,
             "#fb9f3a"
            ],
            [
             0.8888888888888888,
             "#fdca26"
            ],
            [
             1,
             "#f0f921"
            ]
           ]
          },
          "colorway": [
           "#636efa",
           "#EF553B",
           "#00cc96",
           "#ab63fa",
           "#FFA15A",
           "#19d3f3",
           "#FF6692",
           "#B6E880",
           "#FF97FF",
           "#FECB52"
          ],
          "font": {
           "color": "#2a3f5f"
          },
          "geo": {
           "bgcolor": "white",
           "lakecolor": "white",
           "landcolor": "#E5ECF6",
           "showlakes": true,
           "showland": true,
           "subunitcolor": "white"
          },
          "hoverlabel": {
           "align": "left"
          },
          "hovermode": "closest",
          "mapbox": {
           "style": "light"
          },
          "paper_bgcolor": "white",
          "plot_bgcolor": "#E5ECF6",
          "polar": {
           "angularaxis": {
            "gridcolor": "white",
            "linecolor": "white",
            "ticks": ""
           },
           "bgcolor": "#E5ECF6",
           "radialaxis": {
            "gridcolor": "white",
            "linecolor": "white",
            "ticks": ""
           }
          },
          "scene": {
           "xaxis": {
            "backgroundcolor": "#E5ECF6",
            "gridcolor": "white",
            "gridwidth": 2,
            "linecolor": "white",
            "showbackground": true,
            "ticks": "",
            "zerolinecolor": "white"
           },
           "yaxis": {
            "backgroundcolor": "#E5ECF6",
            "gridcolor": "white",
            "gridwidth": 2,
            "linecolor": "white",
            "showbackground": true,
            "ticks": "",
            "zerolinecolor": "white"
           },
           "zaxis": {
            "backgroundcolor": "#E5ECF6",
            "gridcolor": "white",
            "gridwidth": 2,
            "linecolor": "white",
            "showbackground": true,
            "ticks": "",
            "zerolinecolor": "white"
           }
          },
          "shapedefaults": {
           "line": {
            "color": "#2a3f5f"
           }
          },
          "ternary": {
           "aaxis": {
            "gridcolor": "white",
            "linecolor": "white",
            "ticks": ""
           },
           "baxis": {
            "gridcolor": "white",
            "linecolor": "white",
            "ticks": ""
           },
           "bgcolor": "#E5ECF6",
           "caxis": {
            "gridcolor": "white",
            "linecolor": "white",
            "ticks": ""
           }
          },
          "title": {
           "x": 0.05
          },
          "xaxis": {
           "automargin": true,
           "gridcolor": "white",
           "linecolor": "white",
           "ticks": "",
           "title": {
            "standoff": 15
           },
           "zerolinecolor": "white",
           "zerolinewidth": 2
          },
          "yaxis": {
           "automargin": true,
           "gridcolor": "white",
           "linecolor": "white",
           "ticks": "",
           "title": {
            "standoff": 15
           },
           "zerolinecolor": "white",
           "zerolinewidth": 2
          }
         }
        },
        "title": {
         "font": {
          "size": 30
         },
         "text": "Shear Force Plot"
        },
        "xaxis": {
         "title": {
          "text": "Foundation Width"
         }
        },
        "yaxis": {
         "title": {
          "text": "Shear Force (N)"
         }
        }
       }
      }
     },
     "metadata": {},
     "output_type": "display_data"
    }
   ],
   "source": [
    "comb_footing_design.plot_shear_force_Y()\n"
   ]
  },
  {
   "cell_type": "code",
   "execution_count": 50,
   "metadata": {},
   "outputs": [
    {
     "data": {
      "text/plain": [
       "[325.286, 465.212]"
      ]
     },
     "execution_count": 50,
     "metadata": {},
     "output_type": "execute_result"
    }
   ],
   "source": [
    "comb_footing_design.get_design_moment_X()\n"
   ]
  },
  {
   "cell_type": "code",
   "execution_count": 51,
   "metadata": {},
   "outputs": [
    {
     "data": {
      "text/plain": [
       "[0.0, 872.104]"
      ]
     },
     "execution_count": 51,
     "metadata": {},
     "output_type": "execute_result"
    }
   ],
   "source": [
    "comb_footing_design.get_design_moment_Y()\n"
   ]
  },
  {
   "cell_type": "code",
   "execution_count": 52,
   "metadata": {},
   "outputs": [
    {
     "data": {
      "text/plain": [
       "475.351"
      ]
     },
     "execution_count": 52,
     "metadata": {},
     "output_type": "execute_result"
    }
   ],
   "source": [
    "comb_footing_design.get_design_shear_force_X()\n"
   ]
  },
  {
   "cell_type": "code",
   "execution_count": 53,
   "metadata": {},
   "outputs": [
    {
     "data": {
      "text/plain": [
       "373.82"
      ]
     },
     "execution_count": 53,
     "metadata": {},
     "output_type": "execute_result"
    }
   ],
   "source": [
    "comb_footing_design.get_design_shear_force_Y()\n"
   ]
  },
  {
   "cell_type": "markdown",
   "metadata": {},
   "source": [
    "#### Show the Top reinforcement area required along the x  "
   ]
  },
  {
   "cell_type": "code",
   "execution_count": 55,
   "metadata": {},
   "outputs": [
    {
     "data": {
      "text/plain": [
       "'Provide H16mm bars spaced at 150.0mm c/c TOP. The area provided is 1340mm²/m parallel to the 4.6m side'"
      ]
     },
     "execution_count": 55,
     "metadata": {},
     "output_type": "execute_result"
    }
   ],
   "source": [
    "comb_footing_design.reinforcement_prov_flexure_X_dir_TOP()"
   ]
  },
  {
   "cell_type": "code",
   "execution_count": 54,
   "metadata": {},
   "outputs": [
    {
     "name": "stdout",
     "output_type": "stream",
     "text": [
      "The area of top steel required in the x direction is 1207.83mm²/m and \n",
      "         1207.83mm²/m bottom steel is required along x direction\n"
     ]
    }
   ],
   "source": [
    "z = comb_footing_design.area_of_steel_reqd_X_dir()\n",
    "print(\n",
    "    f\"The area of top steel required in the x direction is {z[0]}mm\\u00b2/m and \\n \\\n",
    "        {z[1]}mm\\u00b2/m bottom steel is required along x direction\"\n",
    ")"
   ]
  },
  {
   "cell_type": "code",
   "execution_count": 56,
   "metadata": {},
   "outputs": [
    {
     "data": {
      "text/plain": [
       "'Provide H16mm bars spaced at 150.0mm c/c BOTTOM .            The area provided is 1340mm²/m parallel to the                 4.6m side'"
      ]
     },
     "execution_count": 56,
     "metadata": {},
     "output_type": "execute_result"
    }
   ],
   "source": [
    "comb_footing_design.reinforcement_prov_flexure_X_dir_Bottom()"
   ]
  },
  {
   "cell_type": "markdown",
   "metadata": {},
   "source": [
    "#### Show the Top reinforcement area required along the Y directipn"
   ]
  },
  {
   "cell_type": "code",
   "execution_count": 60,
   "metadata": {},
   "outputs": [
    {
     "name": "stdout",
     "output_type": "stream",
     "text": [
      "The area of top steel required in the x direction is 1208.0434782608697mm²/m and \n",
      "         1208.0434782608697mm²/m bottom steel is required along x direction\n"
     ]
    }
   ],
   "source": [
    "z = comb_footing_design.area_of_steel_reqd_Y_dir()\n",
    "print(\n",
    "    f\"The area of top steel required in the Y direction is {z[0]}mm\\u00b2/m and \\n \\\n",
    "        {z[1]}mm\\u00b2/m bottom steel is required along y direction\"\n",
    ")"
   ]
  },
  {
   "cell_type": "code",
   "execution_count": 58,
   "metadata": {},
   "outputs": [
    {
     "data": {
      "text/plain": [
       "'Provide H16mm bars spaced at 150.0mm c/c TOP.             The area provided is 1340mm²/m parallel to the                 2.3m side'"
      ]
     },
     "execution_count": 58,
     "metadata": {},
     "output_type": "execute_result"
    }
   ],
   "source": [
    "comb_footing_design.reinforcement_prov_flexure_Y_dir_Top()"
   ]
  },
  {
   "cell_type": "code",
   "execution_count": 59,
   "metadata": {},
   "outputs": [
    {
     "data": {
      "text/plain": [
       "'Provide H16mm bars spaced at 150.0mm c/c TOP.            The area provided is 1340mm²/m parallel to the                 2.3m side'"
      ]
     },
     "execution_count": 59,
     "metadata": {},
     "output_type": "execute_result"
    }
   ],
   "source": [
    "comb_footing_design.reinforcement_prov_flexure_Y_dir_Bottom()"
   ]
  },
  {
   "cell_type": "code",
   "execution_count": null,
   "metadata": {},
   "outputs": [],
   "source": []
  },
  {
   "cell_type": "code",
   "execution_count": null,
   "metadata": {},
   "outputs": [],
   "source": []
  }
 ],
 "metadata": {
  "kernelspec": {
   "display_name": "Python 3.9.7 64-bit",
   "language": "python",
   "name": "python3"
  },
  "language_info": {
   "codemirror_mode": {
    "name": "ipython",
    "version": 3
   },
   "file_extension": ".py",
   "mimetype": "text/x-python",
   "name": "python",
   "nbconvert_exporter": "python",
   "pygments_lexer": "ipython3",
   "version": "3.9.7"
  },
  "orig_nbformat": 4,
  "vscode": {
   "interpreter": {
    "hash": "f6246b25e200e4c5124e3e61789ac81350562f0761bbcf92ad9e48654207659c"
   }
  }
 },
 "nbformat": 4,
 "nbformat_minor": 2
}
