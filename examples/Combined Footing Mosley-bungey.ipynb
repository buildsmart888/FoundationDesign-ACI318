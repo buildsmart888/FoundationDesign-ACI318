{
 "cells": [
  {
   "cell_type": "markdown",
   "metadata": {},
   "source": [
    "## Combined footing analysis and design in accordance to Eurocode 2"
   ]
  },
  {
   "cell_type": "markdown",
   "metadata": {},
   "source": [
    "### This example is contained in Reinforced concrete design to eurocodes 2 BY Bill Mosley,John Bungey,Ray Hulse page 304"
   ]
  },
  {
   "cell_type": "markdown",
   "metadata": {},
   "source": [
    "### Problem Statement"
   ]
  },
  {
   "cell_type": "markdown",
   "metadata": {},
   "source": [
    "![title](https://github.com/CodedKunz/FoundationDesign/blob/main/examples/Mosley%20bungey%20example%20combined%20footing.png?raw=true)"
   ]
  },
  {
   "cell_type": "markdown",
   "metadata": {},
   "source": [
    "We start by importing the CombinedFootingAnalysis class from the FoundationDesign module"
   ]
  },
  {
   "cell_type": "code",
   "execution_count": 1,
   "metadata": {},
   "outputs": [],
   "source": [
    "from FoundationDesign import CombinedFootingAnalysis, CombinedFootingDesign"
   ]
  },
  {
   "cell_type": "code",
   "execution_count": 2,
   "metadata": {},
   "outputs": [],
   "source": [
    "# Create the combined footing foundation object\n",
    "# For now we create a combined footing analysis object using a default foundation length and foundation width\n",
    "# which will be updated when we are sure about the minimum area required for the foundation.\n",
    "comb_footing = CombinedFootingAnalysis(\n",
    "    foundation_length=4600,\n",
    "    foundation_width=2300,\n",
    "    soil_bearing_capacity=300,\n",
    "    spacing_btwn_columns=3000,\n",
    ")"
   ]
  },
  {
   "cell_type": "markdown",
   "metadata": {},
   "source": [
    "#### Update the column geometry including the column dimensions and positions"
   ]
  },
  {
   "cell_type": "code",
   "execution_count": 3,
   "metadata": {},
   "outputs": [],
   "source": [
    "# Column 1 dimension is 300mm by 300mmm\n",
    "# Column 1 is 300m from the edge of the base along x direction\n",
    "# Column 1 is 725mm from the edge of the base along y direction\n",
    "comb_footing.update_column_1_geometry(\n",
    "    column_length=300, column_width=300, col_pos_xdir=540, col_pos_ydir=1150\n",
    ")"
   ]
  },
  {
   "cell_type": "code",
   "execution_count": 4,
   "metadata": {},
   "outputs": [],
   "source": [
    "# Column 2 dimension is 300mm by 300mmm\n",
    "# Column 2 is 3300m from the edge of the base along x direction\n",
    "# Column 2 is 725mm from the edge of the base along y direction\n",
    "comb_footing.update_column_2_geometry(\n",
    "    column_length=400, column_width=400, col_pos_xdir=3540, col_pos_ydir=1145\n",
    ")"
   ]
  },
  {
   "cell_type": "markdown",
   "metadata": {},
   "source": [
    "#### Assign column loads"
   ]
  },
  {
   "cell_type": "code",
   "execution_count": 5,
   "metadata": {},
   "outputs": [
    {
     "data": {
      "text/plain": [
       "[0.0, 0.0]"
      ]
     },
     "execution_count": 5,
     "metadata": {},
     "output_type": "execute_result"
    }
   ],
   "source": [
    "# Updating column 1 loads\n",
    "comb_footing.update_column_1_axial_loads(\n",
    "    permanent_axial_load=1000, imposed_axial_load=200\n",
    ")\n",
    "# Updating column 2 loads\n",
    "comb_footing.update_column_2_axial_loads(\n",
    "    permanent_axial_load=1400, imposed_axial_load=300\n",
    ")\n",
    "# Update foundation loads\n",
    "comb_footing.foundation_loads(\n",
    "    foundation_thickness=850,\n",
    "    soil_depth_abv_foundation=0,\n",
    "    soil_unit_weight=18,\n",
    "    concrete_unit_weight=24,\n",
    "    consider_self_weight=False\n",
    ")"
   ]
  },
  {
   "cell_type": "markdown",
   "metadata": {},
   "source": [
    "#### Check Minimum area required"
   ]
  },
  {
   "cell_type": "code",
   "execution_count": 6,
   "metadata": {},
   "outputs": [
    {
     "name": "stdout",
     "output_type": "stream",
     "text": [
      "The minimum area of foundation required is 9.667m²\n"
     ]
    }
   ],
   "source": [
    "min_area = comb_footing.minimum_area_required()\n",
    "print(f\"The minimum area of foundation required is {min_area}m\\u00b2\")"
   ]
  },
  {
   "cell_type": "code",
   "execution_count": 7,
   "metadata": {},
   "outputs": [
    {
     "name": "stdout",
     "output_type": "stream",
     "text": [
      "Column 1 should be placed at 0.54m and column 2 should be placed at 3.54m along x direction\n",
      "    while the two columns should be placed at 1.145m along y axis\n"
     ]
    }
   ],
   "source": [
    "# Since the minimum area is 20.13kN/m2 the\n",
    "# The length of the foundation can be updated to fulfill this area\n",
    "# with a new length of 4.6m and width of 2.3m\n",
    "# Check optimized foundation layout this shows us the best position for the combined footing\n",
    "# in order to achieve reduced based pressure\n",
    "# at this locations the centre of the foundation will coincide with the centre of the loads\n",
    "z = comb_footing.foundation_geometry_optimizer()\n",
    "# This would tell us the best position for the columns along the foundation geometry\n",
    "print(\n",
    "    f\"Column 1 should be placed at {z[0]}m and column 2 should be placed at {z[1]}m along x direction\\n\\\n",
    "    while the two columns should be placed at {z[2]}m along y axis\"\n",
    ")\n",
    "# After this suggestions the position of the columns should be updated in the column_1_geometry method"
   ]
  },
  {
   "cell_type": "code",
   "execution_count": 8,
   "metadata": {},
   "outputs": [
    {
     "data": {
      "application/vnd.plotly.v1+json": {
       "config": {
        "plotlyServerURL": "https://plot.ly"
       },
       "data": [
        {
         "line": {
          "color": "red",
          "width": 3
         },
         "mode": "lines",
         "name": "FOOTING",
         "type": "scatter",
         "x": [
          0,
          4.6,
          4.6,
          0,
          0
         ],
         "y": [
          0,
          0,
          2.3,
          2.3,
          0
         ]
        },
        {
         "line": {
          "color": "purple",
          "width": 2
         },
         "mode": "lines",
         "name": "COLUMN 1",
         "type": "scatter",
         "x": [
          0.39,
          0.6900000000000001,
          0.6900000000000001,
          0.39,
          0.39
         ],
         "y": [
          0.9999999999999999,
          0.9999999999999999,
          1.2999999999999998,
          1.2999999999999998,
          0.9999999999999999
         ]
        },
        {
         "line": {
          "color": "black",
          "width": 2
         },
         "mode": "lines",
         "name": "COLUMN 2",
         "type": "scatter",
         "x": [
          3.34,
          3.74,
          3.74,
          3.34,
          3.34
         ],
         "y": [
          0.9450000000000001,
          0.9450000000000001,
          1.345,
          1.345,
          0.9450000000000001
         ]
        }
       ],
       "layout": {
        "height": 500,
        "showlegend": true,
        "template": {
         "data": {
          "bar": [
           {
            "error_x": {
             "color": "#2a3f5f"
            },
            "error_y": {
             "color": "#2a3f5f"
            },
            "marker": {
             "line": {
              "color": "#E5ECF6",
              "width": 0.5
             },
             "pattern": {
              "fillmode": "overlay",
              "size": 10,
              "solidity": 0.2
             }
            },
            "type": "bar"
           }
          ],
          "barpolar": [
           {
            "marker": {
             "line": {
              "color": "#E5ECF6",
              "width": 0.5
             },
             "pattern": {
              "fillmode": "overlay",
              "size": 10,
              "solidity": 0.2
             }
            },
            "type": "barpolar"
           }
          ],
          "carpet": [
           {
            "aaxis": {
             "endlinecolor": "#2a3f5f",
             "gridcolor": "white",
             "linecolor": "white",
             "minorgridcolor": "white",
             "startlinecolor": "#2a3f5f"
            },
            "baxis": {
             "endlinecolor": "#2a3f5f",
             "gridcolor": "white",
             "linecolor": "white",
             "minorgridcolor": "white",
             "startlinecolor": "#2a3f5f"
            },
            "type": "carpet"
           }
          ],
          "choropleth": [
           {
            "colorbar": {
             "outlinewidth": 0,
             "ticks": ""
            },
            "type": "choropleth"
           }
          ],
          "contour": [
           {
            "colorbar": {
             "outlinewidth": 0,
             "ticks": ""
            },
            "colorscale": [
             [
              0,
              "#0d0887"
             ],
             [
              0.1111111111111111,
              "#46039f"
             ],
             [
              0.2222222222222222,
              "#7201a8"
             ],
             [
              0.3333333333333333,
              "#9c179e"
             ],
             [
              0.4444444444444444,
              "#bd3786"
             ],
             [
              0.5555555555555556,
              "#d8576b"
             ],
             [
              0.6666666666666666,
              "#ed7953"
             ],
             [
              0.7777777777777778,
              "#fb9f3a"
             ],
             [
              0.8888888888888888,
              "#fdca26"
             ],
             [
              1,
              "#f0f921"
             ]
            ],
            "type": "contour"
           }
          ],
          "contourcarpet": [
           {
            "colorbar": {
             "outlinewidth": 0,
             "ticks": ""
            },
            "type": "contourcarpet"
           }
          ],
          "heatmap": [
           {
            "colorbar": {
             "outlinewidth": 0,
             "ticks": ""
            },
            "colorscale": [
             [
              0,
              "#0d0887"
             ],
             [
              0.1111111111111111,
              "#46039f"
             ],
             [
              0.2222222222222222,
              "#7201a8"
             ],
             [
              0.3333333333333333,
              "#9c179e"
             ],
             [
              0.4444444444444444,
              "#bd3786"
             ],
             [
              0.5555555555555556,
              "#d8576b"
             ],
             [
              0.6666666666666666,
              "#ed7953"
             ],
             [
              0.7777777777777778,
              "#fb9f3a"
             ],
             [
              0.8888888888888888,
              "#fdca26"
             ],
             [
              1,
              "#f0f921"
             ]
            ],
            "type": "heatmap"
           }
          ],
          "heatmapgl": [
           {
            "colorbar": {
             "outlinewidth": 0,
             "ticks": ""
            },
            "colorscale": [
             [
              0,
              "#0d0887"
             ],
             [
              0.1111111111111111,
              "#46039f"
             ],
             [
              0.2222222222222222,
              "#7201a8"
             ],
             [
              0.3333333333333333,
              "#9c179e"
             ],
             [
              0.4444444444444444,
              "#bd3786"
             ],
             [
              0.5555555555555556,
              "#d8576b"
             ],
             [
              0.6666666666666666,
              "#ed7953"
             ],
             [
              0.7777777777777778,
              "#fb9f3a"
             ],
             [
              0.8888888888888888,
              "#fdca26"
             ],
             [
              1,
              "#f0f921"
             ]
            ],
            "type": "heatmapgl"
           }
          ],
          "histogram": [
           {
            "marker": {
             "pattern": {
              "fillmode": "overlay",
              "size": 10,
              "solidity": 0.2
             }
            },
            "type": "histogram"
           }
          ],
          "histogram2d": [
           {
            "colorbar": {
             "outlinewidth": 0,
             "ticks": ""
            },
            "colorscale": [
             [
              0,
              "#0d0887"
             ],
             [
              0.1111111111111111,
              "#46039f"
             ],
             [
              0.2222222222222222,
              "#7201a8"
             ],
             [
              0.3333333333333333,
              "#9c179e"
             ],
             [
              0.4444444444444444,
              "#bd3786"
             ],
             [
              0.5555555555555556,
              "#d8576b"
             ],
             [
              0.6666666666666666,
              "#ed7953"
             ],
             [
              0.7777777777777778,
              "#fb9f3a"
             ],
             [
              0.8888888888888888,
              "#fdca26"
             ],
             [
              1,
              "#f0f921"
             ]
            ],
            "type": "histogram2d"
           }
          ],
          "histogram2dcontour": [
           {
            "colorbar": {
             "outlinewidth": 0,
             "ticks": ""
            },
            "colorscale": [
             [
              0,
              "#0d0887"
             ],
             [
              0.1111111111111111,
              "#46039f"
             ],
             [
              0.2222222222222222,
              "#7201a8"
             ],
             [
              0.3333333333333333,
              "#9c179e"
             ],
             [
              0.4444444444444444,
              "#bd3786"
             ],
             [
              0.5555555555555556,
              "#d8576b"
             ],
             [
              0.6666666666666666,
              "#ed7953"
             ],
             [
              0.7777777777777778,
              "#fb9f3a"
             ],
             [
              0.8888888888888888,
              "#fdca26"
             ],
             [
              1,
              "#f0f921"
             ]
            ],
            "type": "histogram2dcontour"
           }
          ],
          "mesh3d": [
           {
            "colorbar": {
             "outlinewidth": 0,
             "ticks": ""
            },
            "type": "mesh3d"
           }
          ],
          "parcoords": [
           {
            "line": {
             "colorbar": {
              "outlinewidth": 0,
              "ticks": ""
             }
            },
            "type": "parcoords"
           }
          ],
          "pie": [
           {
            "automargin": true,
            "type": "pie"
           }
          ],
          "scatter": [
           {
            "marker": {
             "colorbar": {
              "outlinewidth": 0,
              "ticks": ""
             }
            },
            "type": "scatter"
           }
          ],
          "scatter3d": [
           {
            "line": {
             "colorbar": {
              "outlinewidth": 0,
              "ticks": ""
             }
            },
            "marker": {
             "colorbar": {
              "outlinewidth": 0,
              "ticks": ""
             }
            },
            "type": "scatter3d"
           }
          ],
          "scattercarpet": [
           {
            "marker": {
             "colorbar": {
              "outlinewidth": 0,
              "ticks": ""
             }
            },
            "type": "scattercarpet"
           }
          ],
          "scattergeo": [
           {
            "marker": {
             "colorbar": {
              "outlinewidth": 0,
              "ticks": ""
             }
            },
            "type": "scattergeo"
           }
          ],
          "scattergl": [
           {
            "marker": {
             "colorbar": {
              "outlinewidth": 0,
              "ticks": ""
             }
            },
            "type": "scattergl"
           }
          ],
          "scattermapbox": [
           {
            "marker": {
             "colorbar": {
              "outlinewidth": 0,
              "ticks": ""
             }
            },
            "type": "scattermapbox"
           }
          ],
          "scatterpolar": [
           {
            "marker": {
             "colorbar": {
              "outlinewidth": 0,
              "ticks": ""
             }
            },
            "type": "scatterpolar"
           }
          ],
          "scatterpolargl": [
           {
            "marker": {
             "colorbar": {
              "outlinewidth": 0,
              "ticks": ""
             }
            },
            "type": "scatterpolargl"
           }
          ],
          "scatterternary": [
           {
            "marker": {
             "colorbar": {
              "outlinewidth": 0,
              "ticks": ""
             }
            },
            "type": "scatterternary"
           }
          ],
          "surface": [
           {
            "colorbar": {
             "outlinewidth": 0,
             "ticks": ""
            },
            "colorscale": [
             [
              0,
              "#0d0887"
             ],
             [
              0.1111111111111111,
              "#46039f"
             ],
             [
              0.2222222222222222,
              "#7201a8"
             ],
             [
              0.3333333333333333,
              "#9c179e"
             ],
             [
              0.4444444444444444,
              "#bd3786"
             ],
             [
              0.5555555555555556,
              "#d8576b"
             ],
             [
              0.6666666666666666,
              "#ed7953"
             ],
             [
              0.7777777777777778,
              "#fb9f3a"
             ],
             [
              0.8888888888888888,
              "#fdca26"
             ],
             [
              1,
              "#f0f921"
             ]
            ],
            "type": "surface"
           }
          ],
          "table": [
           {
            "cells": {
             "fill": {
              "color": "#EBF0F8"
             },
             "line": {
              "color": "white"
             }
            },
            "header": {
             "fill": {
              "color": "#C8D4E3"
             },
             "line": {
              "color": "white"
             }
            },
            "type": "table"
           }
          ]
         },
         "layout": {
          "annotationdefaults": {
           "arrowcolor": "#2a3f5f",
           "arrowhead": 0,
           "arrowwidth": 1
          },
          "autotypenumbers": "strict",
          "coloraxis": {
           "colorbar": {
            "outlinewidth": 0,
            "ticks": ""
           }
          },
          "colorscale": {
           "diverging": [
            [
             0,
             "#8e0152"
            ],
            [
             0.1,
             "#c51b7d"
            ],
            [
             0.2,
             "#de77ae"
            ],
            [
             0.3,
             "#f1b6da"
            ],
            [
             0.4,
             "#fde0ef"
            ],
            [
             0.5,
             "#f7f7f7"
            ],
            [
             0.6,
             "#e6f5d0"
            ],
            [
             0.7,
             "#b8e186"
            ],
            [
             0.8,
             "#7fbc41"
            ],
            [
             0.9,
             "#4d9221"
            ],
            [
             1,
             "#276419"
            ]
           ],
           "sequential": [
            [
             0,
             "#0d0887"
            ],
            [
             0.1111111111111111,
             "#46039f"
            ],
            [
             0.2222222222222222,
             "#7201a8"
            ],
            [
             0.3333333333333333,
             "#9c179e"
            ],
            [
             0.4444444444444444,
             "#bd3786"
            ],
            [
             0.5555555555555556,
             "#d8576b"
            ],
            [
             0.6666666666666666,
             "#ed7953"
            ],
            [
             0.7777777777777778,
             "#fb9f3a"
            ],
            [
             0.8888888888888888,
             "#fdca26"
            ],
            [
             1,
             "#f0f921"
            ]
           ],
           "sequentialminus": [
            [
             0,
             "#0d0887"
            ],
            [
             0.1111111111111111,
             "#46039f"
            ],
            [
             0.2222222222222222,
             "#7201a8"
            ],
            [
             0.3333333333333333,
             "#9c179e"
            ],
            [
             0.4444444444444444,
             "#bd3786"
            ],
            [
             0.5555555555555556,
             "#d8576b"
            ],
            [
             0.6666666666666666,
             "#ed7953"
            ],
            [
             0.7777777777777778,
             "#fb9f3a"
            ],
            [
             0.8888888888888888,
             "#fdca26"
            ],
            [
             1,
             "#f0f921"
            ]
           ]
          },
          "colorway": [
           "#636efa",
           "#EF553B",
           "#00cc96",
           "#ab63fa",
           "#FFA15A",
           "#19d3f3",
           "#FF6692",
           "#B6E880",
           "#FF97FF",
           "#FECB52"
          ],
          "font": {
           "color": "#2a3f5f"
          },
          "geo": {
           "bgcolor": "white",
           "lakecolor": "white",
           "landcolor": "#E5ECF6",
           "showlakes": true,
           "showland": true,
           "subunitcolor": "white"
          },
          "hoverlabel": {
           "align": "left"
          },
          "hovermode": "closest",
          "mapbox": {
           "style": "light"
          },
          "paper_bgcolor": "white",
          "plot_bgcolor": "#E5ECF6",
          "polar": {
           "angularaxis": {
            "gridcolor": "white",
            "linecolor": "white",
            "ticks": ""
           },
           "bgcolor": "#E5ECF6",
           "radialaxis": {
            "gridcolor": "white",
            "linecolor": "white",
            "ticks": ""
           }
          },
          "scene": {
           "xaxis": {
            "backgroundcolor": "#E5ECF6",
            "gridcolor": "white",
            "gridwidth": 2,
            "linecolor": "white",
            "showbackground": true,
            "ticks": "",
            "zerolinecolor": "white"
           },
           "yaxis": {
            "backgroundcolor": "#E5ECF6",
            "gridcolor": "white",
            "gridwidth": 2,
            "linecolor": "white",
            "showbackground": true,
            "ticks": "",
            "zerolinecolor": "white"
           },
           "zaxis": {
            "backgroundcolor": "#E5ECF6",
            "gridcolor": "white",
            "gridwidth": 2,
            "linecolor": "white",
            "showbackground": true,
            "ticks": "",
            "zerolinecolor": "white"
           }
          },
          "shapedefaults": {
           "line": {
            "color": "#2a3f5f"
           }
          },
          "ternary": {
           "aaxis": {
            "gridcolor": "white",
            "linecolor": "white",
            "ticks": ""
           },
           "baxis": {
            "gridcolor": "white",
            "linecolor": "white",
            "ticks": ""
           },
           "bgcolor": "#E5ECF6",
           "caxis": {
            "gridcolor": "white",
            "linecolor": "white",
            "ticks": ""
           }
          },
          "title": {
           "x": 0.05
          },
          "xaxis": {
           "automargin": true,
           "gridcolor": "white",
           "linecolor": "white",
           "ticks": "",
           "title": {
            "standoff": 15
           },
           "zerolinecolor": "white",
           "zerolinewidth": 2
          },
          "yaxis": {
           "automargin": true,
           "gridcolor": "white",
           "linecolor": "white",
           "ticks": "",
           "title": {
            "standoff": 15
           },
           "zerolinecolor": "white",
           "zerolinewidth": 2
          }
         }
        },
        "title": {
         "text": "FOOTING PLAN"
        },
        "width": 500
       }
      }
     },
     "metadata": {},
     "output_type": "display_data"
    }
   ],
   "source": [
    "# show plots\n",
    "comb_footing.plot_geometry()"
   ]
  },
  {
   "cell_type": "markdown",
   "metadata": {},
   "source": [
    "#### Check the base pressure at the foundation four corners"
   ]
  },
  {
   "cell_type": "code",
   "execution_count": 9,
   "metadata": {},
   "outputs": [
    {
     "name": "stdout",
     "output_type": "stream",
     "text": [
      "(276.605, 272.314, 275.89, 271.599)\n"
     ]
    }
   ],
   "source": [
    "# Check the base pressure at all corners\n",
    "pres = comb_footing.pad_base_pressures_sls()\n",
    "print(pres)"
   ]
  },
  {
   "cell_type": "code",
   "execution_count": 10,
   "metadata": {},
   "outputs": [
    {
     "name": "stdout",
     "output_type": "stream",
     "text": [
      "(380.307, 374.538, 379.715, 373.946)\n"
     ]
    }
   ],
   "source": [
    "# Check the base pressure at all corners\n",
    "pres = comb_footing.pad_base_pressures_uls()\n",
    "print(pres)"
   ]
  },
  {
   "cell_type": "markdown",
   "metadata": {},
   "source": [
    "#### Check the foundation soil pressure at serviceability limit state to ensure the foundation sizing is adequate\n"
   ]
  },
  {
   "cell_type": "code",
   "execution_count": 11,
   "metadata": {},
   "outputs": [
    {
     "name": "stdout",
     "output_type": "stream",
     "text": [
      "PASS - Presumed bearing capacity exceeds design base pressure\n"
     ]
    }
   ],
   "source": [
    "comb_footing.bearing_pressure_check_sls()\n",
    "# This shows the combined footing is okay"
   ]
  },
  {
   "cell_type": "markdown",
   "metadata": {},
   "source": [
    "#### Show the base pressures"
   ]
  },
  {
   "cell_type": "code",
   "execution_count": 12,
   "metadata": {},
   "outputs": [],
   "source": [
    "# comb_footing.plot_\n",
    "# Method to be added"
   ]
  },
  {
   "cell_type": "markdown",
   "metadata": {},
   "source": [
    "#### Since analysis of the pad foundation is satisfactory design can be done by calling the padfoundation design class"
   ]
  },
  {
   "cell_type": "markdown",
   "metadata": {},
   "source": [
    "#### Design the combined footing"
   ]
  },
  {
   "cell_type": "code",
   "execution_count": 13,
   "metadata": {},
   "outputs": [],
   "source": [
    "comb_footing_design = CombinedFootingDesign(\n",
    "    comb_footing, fck=30, fyk=500, concrete_cover=40, bar_diameterX=16, bar_diameterY=16\n",
    ")"
   ]
  },
  {
   "cell_type": "markdown",
   "metadata": {},
   "source": [
    "#### Plot the foundation loading diagram in x direction"
   ]
  },
  {
   "cell_type": "code",
   "execution_count": 14,
   "metadata": {},
   "outputs": [
    {
     "data": {
      "application/vnd.plotly.v1+json": {
       "config": {
        "plotlyServerURL": "https://plot.ly"
       },
       "data": [
        {
         "hoverinfo": "skip",
         "hovertemplate": "%{x} %{meta[0]}",
         "line": {
          "color": "purple",
          "width": 2
         },
         "meta": [
          "m"
         ],
         "mode": "lines",
         "name": "Beam_",
         "type": "scatter",
         "x": [
          0,
          4.6
         ],
         "y": [
          0,
          0
         ]
        },
        {
         "hoverinfo": "skip",
         "hovertemplate": "x: %{x:.3f} %{meta[1]}<br>Fixed: %{meta[0]}",
         "marker": {
          "color": "blue",
          "size": 10,
          "symbol": "triangle-up"
         },
         "meta": [
          "[1, 1, 1]",
          "m"
         ],
         "mode": "markers",
         "name": "Support",
         "opacity": 0,
         "showlegend": false,
         "type": "scatter",
         "x": [
          0.54
         ],
         "y": [
          0
         ]
        },
        {
         "hoverinfo": "skip",
         "hovertemplate": "x: %{x:.3f} %{meta[1]}<br>Fixed: %{meta[0]}",
         "marker": {
          "color": "blue",
          "size": 10,
          "symbol": "triangle-up"
         },
         "meta": [
          "[1, 1, 1]",
          "m"
         ],
         "mode": "markers",
         "name": "Support",
         "opacity": 0,
         "showlegend": false,
         "type": "scatter",
         "x": [
          3.54
         ],
         "y": [
          0
         ]
        },
        {
         "fill": "tozeroy",
         "hoverinfo": "skip",
         "hovertemplate": "",
         "line": {
          "color": "mediumpurple",
          "width": 1
         },
         "mode": "lines",
         "name": "Trapezoidal<br>Load",
         "type": "scatter",
         "x": [
          0,
          4.6
         ],
         "y": [
          -1,
          -0.9984310057230276
         ]
        },
        {
         "hoverinfo": "skip",
         "hovertemplate": "x: %{meta[0]:.3f} %{meta[3]}<br>Force: %{meta[1]:.3f} %{meta[4]}        <br>Angle: %{meta[2]:.3f} deg",
         "marker": {
          "color": "mediumpurple",
          "size": 10,
          "symbol": "triangle-up"
         },
         "meta": [
          0,
          868072,
          90,
          "m",
          "N/m"
         ],
         "mode": "markers",
         "name": "Distributed<br>Load",
         "opacity": 0,
         "showlegend": false,
         "type": "scatter",
         "x": [
          0
         ],
         "y": [
          0
         ]
        },
        {
         "hoverinfo": "skip",
         "hovertemplate": "x: %{meta[0]:.3f} %{meta[3]}<br>Force: %{meta[1]:.3f} %{meta[4]}        <br>Angle: %{meta[2]:.3f} deg",
         "marker": {
          "color": "mediumpurple",
          "size": 10,
          "symbol": "triangle-up"
         },
         "meta": [
          4.6,
          866710,
          90,
          "m",
          "N/m"
         ],
         "mode": "markers",
         "name": "Distributed<br>Load",
         "opacity": 0,
         "showlegend": false,
         "type": "scatter",
         "x": [
          4.6
         ],
         "y": [
          0
         ]
        }
       ],
       "layout": {
        "annotations": [
         {
          "font": {
           "color": "mediumpurple"
          },
          "showarrow": false,
          "text": "868072.000 N/m",
          "x": 0,
          "xref": "x",
          "xshift": 0,
          "y": 0,
          "yref": "y",
          "yshift": -39
         },
         {
          "font": {
           "color": "mediumpurple"
          },
          "showarrow": false,
          "text": "866710.000 N/m",
          "x": 4.6,
          "xref": "x",
          "xshift": 0,
          "y": 0,
          "yref": "y",
          "yshift": -37.7
         }
        ],
        "height": 350,
        "hovermode": "x",
        "shapes": [
         {
          "fillcolor": "blue",
          "line": {
           "color": "blue",
           "width": 4
          },
          "type": "rect",
          "x0": -2,
          "x1": -2,
          "xanchor": 0.54,
          "xref": "x",
          "xsizemode": "pixel",
          "y0": -5,
          "y1": 5,
          "yanchor": 0,
          "yref": "y",
          "ysizemode": "pixel"
         },
         {
          "fillcolor": "blue",
          "line": {
           "color": "blue",
           "width": 4
          },
          "type": "rect",
          "x0": -2,
          "x1": -2,
          "xanchor": 3.54,
          "xref": "x",
          "xsizemode": "pixel",
          "y0": -5,
          "y1": 5,
          "yanchor": 0,
          "yref": "y",
          "ysizemode": "pixel"
         },
         {
          "line": {
           "color": "mediumpurple",
           "width": 2
          },
          "type": "line",
          "x0": 0,
          "x1": 3,
          "xanchor": 0,
          "xref": "x",
          "xsizemode": "pixel",
          "y0": 0,
          "y1": -3,
          "yanchor": 0,
          "yref": "y",
          "ysizemode": "pixel"
         },
         {
          "line": {
           "color": "mediumpurple",
           "width": 2
          },
          "type": "line",
          "x0": 0,
          "x1": -3,
          "xanchor": 0,
          "xref": "x",
          "xsizemode": "pixel",
          "y0": 0,
          "y1": -3,
          "yanchor": 0,
          "yref": "y",
          "ysizemode": "pixel"
         },
         {
          "line": {
           "color": "mediumpurple",
           "width": 2
          },
          "type": "line",
          "x0": 0,
          "x1": 0,
          "xanchor": 0,
          "xref": "x",
          "xsizemode": "pixel",
          "y0": 0,
          "y1": -30,
          "yanchor": 0,
          "yref": "y",
          "ysizemode": "pixel"
         },
         {
          "line": {
           "color": "mediumpurple",
           "width": 2
          },
          "type": "line",
          "x0": 0,
          "x1": 3,
          "xanchor": 4.6,
          "xref": "x",
          "xsizemode": "pixel",
          "y0": 0,
          "y1": -3,
          "yanchor": 0,
          "yref": "y",
          "ysizemode": "pixel"
         },
         {
          "line": {
           "color": "mediumpurple",
           "width": 2
          },
          "type": "line",
          "x0": 0,
          "x1": -3,
          "xanchor": 4.6,
          "xref": "x",
          "xsizemode": "pixel",
          "y0": 0,
          "y1": -3,
          "yanchor": 0,
          "yref": "y",
          "ysizemode": "pixel"
         },
         {
          "line": {
           "color": "mediumpurple",
           "width": 2
          },
          "type": "line",
          "x0": 0,
          "x1": 0,
          "xanchor": 4.6,
          "xref": "x",
          "xsizemode": "pixel",
          "y0": 0,
          "y1": -29,
          "yanchor": 0,
          "yref": "y",
          "ysizemode": "pixel"
         }
        ],
        "showlegend": false,
        "template": {
         "data": {
          "bar": [
           {
            "error_x": {
             "color": "#2a3f5f"
            },
            "error_y": {
             "color": "#2a3f5f"
            },
            "marker": {
             "line": {
              "color": "#E5ECF6",
              "width": 0.5
             },
             "pattern": {
              "fillmode": "overlay",
              "size": 10,
              "solidity": 0.2
             }
            },
            "type": "bar"
           }
          ],
          "barpolar": [
           {
            "marker": {
             "line": {
              "color": "#E5ECF6",
              "width": 0.5
             },
             "pattern": {
              "fillmode": "overlay",
              "size": 10,
              "solidity": 0.2
             }
            },
            "type": "barpolar"
           }
          ],
          "carpet": [
           {
            "aaxis": {
             "endlinecolor": "#2a3f5f",
             "gridcolor": "white",
             "linecolor": "white",
             "minorgridcolor": "white",
             "startlinecolor": "#2a3f5f"
            },
            "baxis": {
             "endlinecolor": "#2a3f5f",
             "gridcolor": "white",
             "linecolor": "white",
             "minorgridcolor": "white",
             "startlinecolor": "#2a3f5f"
            },
            "type": "carpet"
           }
          ],
          "choropleth": [
           {
            "colorbar": {
             "outlinewidth": 0,
             "ticks": ""
            },
            "type": "choropleth"
           }
          ],
          "contour": [
           {
            "colorbar": {
             "outlinewidth": 0,
             "ticks": ""
            },
            "colorscale": [
             [
              0,
              "#0d0887"
             ],
             [
              0.1111111111111111,
              "#46039f"
             ],
             [
              0.2222222222222222,
              "#7201a8"
             ],
             [
              0.3333333333333333,
              "#9c179e"
             ],
             [
              0.4444444444444444,
              "#bd3786"
             ],
             [
              0.5555555555555556,
              "#d8576b"
             ],
             [
              0.6666666666666666,
              "#ed7953"
             ],
             [
              0.7777777777777778,
              "#fb9f3a"
             ],
             [
              0.8888888888888888,
              "#fdca26"
             ],
             [
              1,
              "#f0f921"
             ]
            ],
            "type": "contour"
           }
          ],
          "contourcarpet": [
           {
            "colorbar": {
             "outlinewidth": 0,
             "ticks": ""
            },
            "type": "contourcarpet"
           }
          ],
          "heatmap": [
           {
            "colorbar": {
             "outlinewidth": 0,
             "ticks": ""
            },
            "colorscale": [
             [
              0,
              "#0d0887"
             ],
             [
              0.1111111111111111,
              "#46039f"
             ],
             [
              0.2222222222222222,
              "#7201a8"
             ],
             [
              0.3333333333333333,
              "#9c179e"
             ],
             [
              0.4444444444444444,
              "#bd3786"
             ],
             [
              0.5555555555555556,
              "#d8576b"
             ],
             [
              0.6666666666666666,
              "#ed7953"
             ],
             [
              0.7777777777777778,
              "#fb9f3a"
             ],
             [
              0.8888888888888888,
              "#fdca26"
             ],
             [
              1,
              "#f0f921"
             ]
            ],
            "type": "heatmap"
           }
          ],
          "heatmapgl": [
           {
            "colorbar": {
             "outlinewidth": 0,
             "ticks": ""
            },
            "colorscale": [
             [
              0,
              "#0d0887"
             ],
             [
              0.1111111111111111,
              "#46039f"
             ],
             [
              0.2222222222222222,
              "#7201a8"
             ],
             [
              0.3333333333333333,
              "#9c179e"
             ],
             [
              0.4444444444444444,
              "#bd3786"
             ],
             [
              0.5555555555555556,
              "#d8576b"
             ],
             [
              0.6666666666666666,
              "#ed7953"
             ],
             [
              0.7777777777777778,
              "#fb9f3a"
             ],
             [
              0.8888888888888888,
              "#fdca26"
             ],
             [
              1,
              "#f0f921"
             ]
            ],
            "type": "heatmapgl"
           }
          ],
          "histogram": [
           {
            "marker": {
             "pattern": {
              "fillmode": "overlay",
              "size": 10,
              "solidity": 0.2
             }
            },
            "type": "histogram"
           }
          ],
          "histogram2d": [
           {
            "colorbar": {
             "outlinewidth": 0,
             "ticks": ""
            },
            "colorscale": [
             [
              0,
              "#0d0887"
             ],
             [
              0.1111111111111111,
              "#46039f"
             ],
             [
              0.2222222222222222,
              "#7201a8"
             ],
             [
              0.3333333333333333,
              "#9c179e"
             ],
             [
              0.4444444444444444,
              "#bd3786"
             ],
             [
              0.5555555555555556,
              "#d8576b"
             ],
             [
              0.6666666666666666,
              "#ed7953"
             ],
             [
              0.7777777777777778,
              "#fb9f3a"
             ],
             [
              0.8888888888888888,
              "#fdca26"
             ],
             [
              1,
              "#f0f921"
             ]
            ],
            "type": "histogram2d"
           }
          ],
          "histogram2dcontour": [
           {
            "colorbar": {
             "outlinewidth": 0,
             "ticks": ""
            },
            "colorscale": [
             [
              0,
              "#0d0887"
             ],
             [
              0.1111111111111111,
              "#46039f"
             ],
             [
              0.2222222222222222,
              "#7201a8"
             ],
             [
              0.3333333333333333,
              "#9c179e"
             ],
             [
              0.4444444444444444,
              "#bd3786"
             ],
             [
              0.5555555555555556,
              "#d8576b"
             ],
             [
              0.6666666666666666,
              "#ed7953"
             ],
             [
              0.7777777777777778,
              "#fb9f3a"
             ],
             [
              0.8888888888888888,
              "#fdca26"
             ],
             [
              1,
              "#f0f921"
             ]
            ],
            "type": "histogram2dcontour"
           }
          ],
          "mesh3d": [
           {
            "colorbar": {
             "outlinewidth": 0,
             "ticks": ""
            },
            "type": "mesh3d"
           }
          ],
          "parcoords": [
           {
            "line": {
             "colorbar": {
              "outlinewidth": 0,
              "ticks": ""
             }
            },
            "type": "parcoords"
           }
          ],
          "pie": [
           {
            "automargin": true,
            "type": "pie"
           }
          ],
          "scatter": [
           {
            "marker": {
             "colorbar": {
              "outlinewidth": 0,
              "ticks": ""
             }
            },
            "type": "scatter"
           }
          ],
          "scatter3d": [
           {
            "line": {
             "colorbar": {
              "outlinewidth": 0,
              "ticks": ""
             }
            },
            "marker": {
             "colorbar": {
              "outlinewidth": 0,
              "ticks": ""
             }
            },
            "type": "scatter3d"
           }
          ],
          "scattercarpet": [
           {
            "marker": {
             "colorbar": {
              "outlinewidth": 0,
              "ticks": ""
             }
            },
            "type": "scattercarpet"
           }
          ],
          "scattergeo": [
           {
            "marker": {
             "colorbar": {
              "outlinewidth": 0,
              "ticks": ""
             }
            },
            "type": "scattergeo"
           }
          ],
          "scattergl": [
           {
            "marker": {
             "colorbar": {
              "outlinewidth": 0,
              "ticks": ""
             }
            },
            "type": "scattergl"
           }
          ],
          "scattermapbox": [
           {
            "marker": {
             "colorbar": {
              "outlinewidth": 0,
              "ticks": ""
             }
            },
            "type": "scattermapbox"
           }
          ],
          "scatterpolar": [
           {
            "marker": {
             "colorbar": {
              "outlinewidth": 0,
              "ticks": ""
             }
            },
            "type": "scatterpolar"
           }
          ],
          "scatterpolargl": [
           {
            "marker": {
             "colorbar": {
              "outlinewidth": 0,
              "ticks": ""
             }
            },
            "type": "scatterpolargl"
           }
          ],
          "scatterternary": [
           {
            "marker": {
             "colorbar": {
              "outlinewidth": 0,
              "ticks": ""
             }
            },
            "type": "scatterternary"
           }
          ],
          "surface": [
           {
            "colorbar": {
             "outlinewidth": 0,
             "ticks": ""
            },
            "colorscale": [
             [
              0,
              "#0d0887"
             ],
             [
              0.1111111111111111,
              "#46039f"
             ],
             [
              0.2222222222222222,
              "#7201a8"
             ],
             [
              0.3333333333333333,
              "#9c179e"
             ],
             [
              0.4444444444444444,
              "#bd3786"
             ],
             [
              0.5555555555555556,
              "#d8576b"
             ],
             [
              0.6666666666666666,
              "#ed7953"
             ],
             [
              0.7777777777777778,
              "#fb9f3a"
             ],
             [
              0.8888888888888888,
              "#fdca26"
             ],
             [
              1,
              "#f0f921"
             ]
            ],
            "type": "surface"
           }
          ],
          "table": [
           {
            "cells": {
             "fill": {
              "color": "#EBF0F8"
             },
             "line": {
              "color": "white"
             }
            },
            "header": {
             "fill": {
              "color": "#C8D4E3"
             },
             "line": {
              "color": "white"
             }
            },
            "type": "table"
           }
          ]
         },
         "layout": {
          "annotationdefaults": {
           "arrowcolor": "#2a3f5f",
           "arrowhead": 0,
           "arrowwidth": 1
          },
          "autotypenumbers": "strict",
          "coloraxis": {
           "colorbar": {
            "outlinewidth": 0,
            "ticks": ""
           }
          },
          "colorscale": {
           "diverging": [
            [
             0,
             "#8e0152"
            ],
            [
             0.1,
             "#c51b7d"
            ],
            [
             0.2,
             "#de77ae"
            ],
            [
             0.3,
             "#f1b6da"
            ],
            [
             0.4,
             "#fde0ef"
            ],
            [
             0.5,
             "#f7f7f7"
            ],
            [
             0.6,
             "#e6f5d0"
            ],
            [
             0.7,
             "#b8e186"
            ],
            [
             0.8,
             "#7fbc41"
            ],
            [
             0.9,
             "#4d9221"
            ],
            [
             1,
             "#276419"
            ]
           ],
           "sequential": [
            [
             0,
             "#0d0887"
            ],
            [
             0.1111111111111111,
             "#46039f"
            ],
            [
             0.2222222222222222,
             "#7201a8"
            ],
            [
             0.3333333333333333,
             "#9c179e"
            ],
            [
             0.4444444444444444,
             "#bd3786"
            ],
            [
             0.5555555555555556,
             "#d8576b"
            ],
            [
             0.6666666666666666,
             "#ed7953"
            ],
            [
             0.7777777777777778,
             "#fb9f3a"
            ],
            [
             0.8888888888888888,
             "#fdca26"
            ],
            [
             1,
             "#f0f921"
            ]
           ],
           "sequentialminus": [
            [
             0,
             "#0d0887"
            ],
            [
             0.1111111111111111,
             "#46039f"
            ],
            [
             0.2222222222222222,
             "#7201a8"
            ],
            [
             0.3333333333333333,
             "#9c179e"
            ],
            [
             0.4444444444444444,
             "#bd3786"
            ],
            [
             0.5555555555555556,
             "#d8576b"
            ],
            [
             0.6666666666666666,
             "#ed7953"
            ],
            [
             0.7777777777777778,
             "#fb9f3a"
            ],
            [
             0.8888888888888888,
             "#fdca26"
            ],
            [
             1,
             "#f0f921"
            ]
           ]
          },
          "colorway": [
           "#636efa",
           "#EF553B",
           "#00cc96",
           "#ab63fa",
           "#FFA15A",
           "#19d3f3",
           "#FF6692",
           "#B6E880",
           "#FF97FF",
           "#FECB52"
          ],
          "font": {
           "color": "#2a3f5f"
          },
          "geo": {
           "bgcolor": "white",
           "lakecolor": "white",
           "landcolor": "#E5ECF6",
           "showlakes": true,
           "showland": true,
           "subunitcolor": "white"
          },
          "hoverlabel": {
           "align": "left"
          },
          "hovermode": "closest",
          "mapbox": {
           "style": "light"
          },
          "paper_bgcolor": "white",
          "plot_bgcolor": "#E5ECF6",
          "polar": {
           "angularaxis": {
            "gridcolor": "white",
            "linecolor": "white",
            "ticks": ""
           },
           "bgcolor": "#E5ECF6",
           "radialaxis": {
            "gridcolor": "white",
            "linecolor": "white",
            "ticks": ""
           }
          },
          "scene": {
           "xaxis": {
            "backgroundcolor": "#E5ECF6",
            "gridcolor": "white",
            "gridwidth": 2,
            "linecolor": "white",
            "showbackground": true,
            "ticks": "",
            "zerolinecolor": "white"
           },
           "yaxis": {
            "backgroundcolor": "#E5ECF6",
            "gridcolor": "white",
            "gridwidth": 2,
            "linecolor": "white",
            "showbackground": true,
            "ticks": "",
            "zerolinecolor": "white"
           },
           "zaxis": {
            "backgroundcolor": "#E5ECF6",
            "gridcolor": "white",
            "gridwidth": 2,
            "linecolor": "white",
            "showbackground": true,
            "ticks": "",
            "zerolinecolor": "white"
           }
          },
          "shapedefaults": {
           "line": {
            "color": "#2a3f5f"
           }
          },
          "ternary": {
           "aaxis": {
            "gridcolor": "white",
            "linecolor": "white",
            "ticks": ""
           },
           "baxis": {
            "gridcolor": "white",
            "linecolor": "white",
            "ticks": ""
           },
           "bgcolor": "#E5ECF6",
           "caxis": {
            "gridcolor": "white",
            "linecolor": "white",
            "ticks": ""
           }
          },
          "title": {
           "x": 0.05
          },
          "xaxis": {
           "automargin": true,
           "gridcolor": "white",
           "linecolor": "white",
           "ticks": "",
           "title": {
            "standoff": 15
           },
           "zerolinecolor": "white",
           "zerolinewidth": 2
          },
          "yaxis": {
           "automargin": true,
           "gridcolor": "white",
           "linecolor": "white",
           "ticks": "",
           "title": {
            "standoff": 15
           },
           "zerolinecolor": "white",
           "zerolinewidth": 2
          }
         }
        },
        "title": {
         "font": {
          "size": 24
         },
         "text": "Foundation schematic (length)",
         "x": 0.5
        },
        "xaxis": {
         "title": {
          "text": "Foundation length"
         }
        },
        "yaxis": {
         "fixedrange": true,
         "range": [
          -3,
          3
         ],
         "visible": false
        }
       }
      }
     },
     "metadata": {},
     "output_type": "display_data"
    }
   ],
   "source": [
    "comb_footing_design.plot_foundation_loading_X()\n",
    "# This shows the loadings that the foundation is subjected to"
   ]
  },
  {
   "cell_type": "markdown",
   "metadata": {},
   "source": [
    "#### Plot the foundation loading diagram in y direction"
   ]
  },
  {
   "cell_type": "code",
   "execution_count": 15,
   "metadata": {},
   "outputs": [
    {
     "data": {
      "application/vnd.plotly.v1+json": {
       "config": {
        "plotlyServerURL": "https://plot.ly"
       },
       "data": [
        {
         "hoverinfo": "skip",
         "hovertemplate": "%{x} %{meta[0]}",
         "line": {
          "color": "purple",
          "width": 2
         },
         "meta": [
          "m"
         ],
         "mode": "lines",
         "name": "Beam_",
         "type": "scatter",
         "x": [
          0,
          2.3
         ],
         "y": [
          0,
          0
         ]
        },
        {
         "hoverinfo": "skip",
         "hovertemplate": "x: %{x:.3f} %{meta[1]}<br>Fixed: %{meta[0]}",
         "marker": {
          "color": "blue",
          "size": 10,
          "symbol": "triangle-up"
         },
         "meta": [
          "[1, 1, 1]",
          "m"
         ],
         "mode": "markers",
         "name": "Support",
         "opacity": 0,
         "showlegend": false,
         "type": "scatter",
         "x": [
          1.15
         ],
         "y": [
          0
         ]
        },
        {
         "hoverinfo": "skip",
         "hovertemplate": "x: %{x:.3f} %{meta[1]}<br>Fixed: %{meta[0]}",
         "marker": {
          "color": "blue",
          "size": 10,
          "symbol": "triangle-up"
         },
         "meta": [
          "[1, 1, 1]",
          "m"
         ],
         "mode": "markers",
         "name": "Support",
         "opacity": 0,
         "showlegend": false,
         "type": "scatter",
         "x": [
          1.145
         ],
         "y": [
          0
         ]
        },
        {
         "fill": "tozeroy",
         "hoverinfo": "skip",
         "hovertemplate": "",
         "line": {
          "color": "mediumpurple",
          "width": 1
         },
         "mode": "lines",
         "name": "Trapezoidal<br>Load",
         "type": "scatter",
         "x": [
          0,
          2.3
         ],
         "y": [
          -1,
          -0.9848185207410997
         ]
        },
        {
         "hoverinfo": "skip",
         "hovertemplate": "x: %{meta[0]:.3f} %{meta[3]}<br>Force: %{meta[1]:.3f} %{meta[4]}        <br>Angle: %{meta[2]:.3f} deg",
         "marker": {
          "color": "mediumpurple",
          "size": 10,
          "symbol": "triangle-up"
         },
         "meta": [
          0,
          1748051,
          90,
          "m",
          "N/m"
         ],
         "mode": "markers",
         "name": "Distributed<br>Load",
         "opacity": 0,
         "showlegend": false,
         "type": "scatter",
         "x": [
          0
         ],
         "y": [
          0
         ]
        },
        {
         "hoverinfo": "skip",
         "hovertemplate": "x: %{meta[0]:.3f} %{meta[3]}<br>Force: %{meta[1]:.3f} %{meta[4]}        <br>Angle: %{meta[2]:.3f} deg",
         "marker": {
          "color": "mediumpurple",
          "size": 10,
          "symbol": "triangle-up"
         },
         "meta": [
          2.3,
          1721513,
          90,
          "m",
          "N/m"
         ],
         "mode": "markers",
         "name": "Distributed<br>Load",
         "opacity": 0,
         "showlegend": false,
         "type": "scatter",
         "x": [
          2.3
         ],
         "y": [
          0
         ]
        }
       ],
       "layout": {
        "annotations": [
         {
          "font": {
           "color": "mediumpurple"
          },
          "showarrow": false,
          "text": "1748051.000 N/m",
          "x": 0,
          "xref": "x",
          "xshift": 0,
          "y": 0,
          "yref": "y",
          "yshift": -39
         },
         {
          "font": {
           "color": "mediumpurple"
          },
          "showarrow": false,
          "text": "1721513.000 N/m",
          "x": 2.3,
          "xref": "x",
          "xshift": 0,
          "y": 0,
          "yref": "y",
          "yshift": -37.7
         }
        ],
        "height": 350,
        "hovermode": "x",
        "shapes": [
         {
          "fillcolor": "blue",
          "line": {
           "color": "blue",
           "width": 4
          },
          "type": "rect",
          "x0": -2,
          "x1": -2,
          "xanchor": 1.15,
          "xref": "x",
          "xsizemode": "pixel",
          "y0": -5,
          "y1": 5,
          "yanchor": 0,
          "yref": "y",
          "ysizemode": "pixel"
         },
         {
          "fillcolor": "blue",
          "line": {
           "color": "blue",
           "width": 4
          },
          "type": "rect",
          "x0": -2,
          "x1": -2,
          "xanchor": 1.145,
          "xref": "x",
          "xsizemode": "pixel",
          "y0": -5,
          "y1": 5,
          "yanchor": 0,
          "yref": "y",
          "ysizemode": "pixel"
         },
         {
          "line": {
           "color": "mediumpurple",
           "width": 2
          },
          "type": "line",
          "x0": 0,
          "x1": 3,
          "xanchor": 0,
          "xref": "x",
          "xsizemode": "pixel",
          "y0": 0,
          "y1": -3,
          "yanchor": 0,
          "yref": "y",
          "ysizemode": "pixel"
         },
         {
          "line": {
           "color": "mediumpurple",
           "width": 2
          },
          "type": "line",
          "x0": 0,
          "x1": -3,
          "xanchor": 0,
          "xref": "x",
          "xsizemode": "pixel",
          "y0": 0,
          "y1": -3,
          "yanchor": 0,
          "yref": "y",
          "ysizemode": "pixel"
         },
         {
          "line": {
           "color": "mediumpurple",
           "width": 2
          },
          "type": "line",
          "x0": 0,
          "x1": 0,
          "xanchor": 0,
          "xref": "x",
          "xsizemode": "pixel",
          "y0": 0,
          "y1": -30,
          "yanchor": 0,
          "yref": "y",
          "ysizemode": "pixel"
         },
         {
          "line": {
           "color": "mediumpurple",
           "width": 2
          },
          "type": "line",
          "x0": 0,
          "x1": 3,
          "xanchor": 2.3,
          "xref": "x",
          "xsizemode": "pixel",
          "y0": 0,
          "y1": -3,
          "yanchor": 0,
          "yref": "y",
          "ysizemode": "pixel"
         },
         {
          "line": {
           "color": "mediumpurple",
           "width": 2
          },
          "type": "line",
          "x0": 0,
          "x1": -3,
          "xanchor": 2.3,
          "xref": "x",
          "xsizemode": "pixel",
          "y0": 0,
          "y1": -3,
          "yanchor": 0,
          "yref": "y",
          "ysizemode": "pixel"
         },
         {
          "line": {
           "color": "mediumpurple",
           "width": 2
          },
          "type": "line",
          "x0": 0,
          "x1": 0,
          "xanchor": 2.3,
          "xref": "x",
          "xsizemode": "pixel",
          "y0": 0,
          "y1": -29,
          "yanchor": 0,
          "yref": "y",
          "ysizemode": "pixel"
         }
        ],
        "showlegend": false,
        "template": {
         "data": {
          "bar": [
           {
            "error_x": {
             "color": "#2a3f5f"
            },
            "error_y": {
             "color": "#2a3f5f"
            },
            "marker": {
             "line": {
              "color": "#E5ECF6",
              "width": 0.5
             },
             "pattern": {
              "fillmode": "overlay",
              "size": 10,
              "solidity": 0.2
             }
            },
            "type": "bar"
           }
          ],
          "barpolar": [
           {
            "marker": {
             "line": {
              "color": "#E5ECF6",
              "width": 0.5
             },
             "pattern": {
              "fillmode": "overlay",
              "size": 10,
              "solidity": 0.2
             }
            },
            "type": "barpolar"
           }
          ],
          "carpet": [
           {
            "aaxis": {
             "endlinecolor": "#2a3f5f",
             "gridcolor": "white",
             "linecolor": "white",
             "minorgridcolor": "white",
             "startlinecolor": "#2a3f5f"
            },
            "baxis": {
             "endlinecolor": "#2a3f5f",
             "gridcolor": "white",
             "linecolor": "white",
             "minorgridcolor": "white",
             "startlinecolor": "#2a3f5f"
            },
            "type": "carpet"
           }
          ],
          "choropleth": [
           {
            "colorbar": {
             "outlinewidth": 0,
             "ticks": ""
            },
            "type": "choropleth"
           }
          ],
          "contour": [
           {
            "colorbar": {
             "outlinewidth": 0,
             "ticks": ""
            },
            "colorscale": [
             [
              0,
              "#0d0887"
             ],
             [
              0.1111111111111111,
              "#46039f"
             ],
             [
              0.2222222222222222,
              "#7201a8"
             ],
             [
              0.3333333333333333,
              "#9c179e"
             ],
             [
              0.4444444444444444,
              "#bd3786"
             ],
             [
              0.5555555555555556,
              "#d8576b"
             ],
             [
              0.6666666666666666,
              "#ed7953"
             ],
             [
              0.7777777777777778,
              "#fb9f3a"
             ],
             [
              0.8888888888888888,
              "#fdca26"
             ],
             [
              1,
              "#f0f921"
             ]
            ],
            "type": "contour"
           }
          ],
          "contourcarpet": [
           {
            "colorbar": {
             "outlinewidth": 0,
             "ticks": ""
            },
            "type": "contourcarpet"
           }
          ],
          "heatmap": [
           {
            "colorbar": {
             "outlinewidth": 0,
             "ticks": ""
            },
            "colorscale": [
             [
              0,
              "#0d0887"
             ],
             [
              0.1111111111111111,
              "#46039f"
             ],
             [
              0.2222222222222222,
              "#7201a8"
             ],
             [
              0.3333333333333333,
              "#9c179e"
             ],
             [
              0.4444444444444444,
              "#bd3786"
             ],
             [
              0.5555555555555556,
              "#d8576b"
             ],
             [
              0.6666666666666666,
              "#ed7953"
             ],
             [
              0.7777777777777778,
              "#fb9f3a"
             ],
             [
              0.8888888888888888,
              "#fdca26"
             ],
             [
              1,
              "#f0f921"
             ]
            ],
            "type": "heatmap"
           }
          ],
          "heatmapgl": [
           {
            "colorbar": {
             "outlinewidth": 0,
             "ticks": ""
            },
            "colorscale": [
             [
              0,
              "#0d0887"
             ],
             [
              0.1111111111111111,
              "#46039f"
             ],
             [
              0.2222222222222222,
              "#7201a8"
             ],
             [
              0.3333333333333333,
              "#9c179e"
             ],
             [
              0.4444444444444444,
              "#bd3786"
             ],
             [
              0.5555555555555556,
              "#d8576b"
             ],
             [
              0.6666666666666666,
              "#ed7953"
             ],
             [
              0.7777777777777778,
              "#fb9f3a"
             ],
             [
              0.8888888888888888,
              "#fdca26"
             ],
             [
              1,
              "#f0f921"
             ]
            ],
            "type": "heatmapgl"
           }
          ],
          "histogram": [
           {
            "marker": {
             "pattern": {
              "fillmode": "overlay",
              "size": 10,
              "solidity": 0.2
             }
            },
            "type": "histogram"
           }
          ],
          "histogram2d": [
           {
            "colorbar": {
             "outlinewidth": 0,
             "ticks": ""
            },
            "colorscale": [
             [
              0,
              "#0d0887"
             ],
             [
              0.1111111111111111,
              "#46039f"
             ],
             [
              0.2222222222222222,
              "#7201a8"
             ],
             [
              0.3333333333333333,
              "#9c179e"
             ],
             [
              0.4444444444444444,
              "#bd3786"
             ],
             [
              0.5555555555555556,
              "#d8576b"
             ],
             [
              0.6666666666666666,
              "#ed7953"
             ],
             [
              0.7777777777777778,
              "#fb9f3a"
             ],
             [
              0.8888888888888888,
              "#fdca26"
             ],
             [
              1,
              "#f0f921"
             ]
            ],
            "type": "histogram2d"
           }
          ],
          "histogram2dcontour": [
           {
            "colorbar": {
             "outlinewidth": 0,
             "ticks": ""
            },
            "colorscale": [
             [
              0,
              "#0d0887"
             ],
             [
              0.1111111111111111,
              "#46039f"
             ],
             [
              0.2222222222222222,
              "#7201a8"
             ],
             [
              0.3333333333333333,
              "#9c179e"
             ],
             [
              0.4444444444444444,
              "#bd3786"
             ],
             [
              0.5555555555555556,
              "#d8576b"
             ],
             [
              0.6666666666666666,
              "#ed7953"
             ],
             [
              0.7777777777777778,
              "#fb9f3a"
             ],
             [
              0.8888888888888888,
              "#fdca26"
             ],
             [
              1,
              "#f0f921"
             ]
            ],
            "type": "histogram2dcontour"
           }
          ],
          "mesh3d": [
           {
            "colorbar": {
             "outlinewidth": 0,
             "ticks": ""
            },
            "type": "mesh3d"
           }
          ],
          "parcoords": [
           {
            "line": {
             "colorbar": {
              "outlinewidth": 0,
              "ticks": ""
             }
            },
            "type": "parcoords"
           }
          ],
          "pie": [
           {
            "automargin": true,
            "type": "pie"
           }
          ],
          "scatter": [
           {
            "marker": {
             "colorbar": {
              "outlinewidth": 0,
              "ticks": ""
             }
            },
            "type": "scatter"
           }
          ],
          "scatter3d": [
           {
            "line": {
             "colorbar": {
              "outlinewidth": 0,
              "ticks": ""
             }
            },
            "marker": {
             "colorbar": {
              "outlinewidth": 0,
              "ticks": ""
             }
            },
            "type": "scatter3d"
           }
          ],
          "scattercarpet": [
           {
            "marker": {
             "colorbar": {
              "outlinewidth": 0,
              "ticks": ""
             }
            },
            "type": "scattercarpet"
           }
          ],
          "scattergeo": [
           {
            "marker": {
             "colorbar": {
              "outlinewidth": 0,
              "ticks": ""
             }
            },
            "type": "scattergeo"
           }
          ],
          "scattergl": [
           {
            "marker": {
             "colorbar": {
              "outlinewidth": 0,
              "ticks": ""
             }
            },
            "type": "scattergl"
           }
          ],
          "scattermapbox": [
           {
            "marker": {
             "colorbar": {
              "outlinewidth": 0,
              "ticks": ""
             }
            },
            "type": "scattermapbox"
           }
          ],
          "scatterpolar": [
           {
            "marker": {
             "colorbar": {
              "outlinewidth": 0,
              "ticks": ""
             }
            },
            "type": "scatterpolar"
           }
          ],
          "scatterpolargl": [
           {
            "marker": {
             "colorbar": {
              "outlinewidth": 0,
              "ticks": ""
             }
            },
            "type": "scatterpolargl"
           }
          ],
          "scatterternary": [
           {
            "marker": {
             "colorbar": {
              "outlinewidth": 0,
              "ticks": ""
             }
            },
            "type": "scatterternary"
           }
          ],
          "surface": [
           {
            "colorbar": {
             "outlinewidth": 0,
             "ticks": ""
            },
            "colorscale": [
             [
              0,
              "#0d0887"
             ],
             [
              0.1111111111111111,
              "#46039f"
             ],
             [
              0.2222222222222222,
              "#7201a8"
             ],
             [
              0.3333333333333333,
              "#9c179e"
             ],
             [
              0.4444444444444444,
              "#bd3786"
             ],
             [
              0.5555555555555556,
              "#d8576b"
             ],
             [
              0.6666666666666666,
              "#ed7953"
             ],
             [
              0.7777777777777778,
              "#fb9f3a"
             ],
             [
              0.8888888888888888,
              "#fdca26"
             ],
             [
              1,
              "#f0f921"
             ]
            ],
            "type": "surface"
           }
          ],
          "table": [
           {
            "cells": {
             "fill": {
              "color": "#EBF0F8"
             },
             "line": {
              "color": "white"
             }
            },
            "header": {
             "fill": {
              "color": "#C8D4E3"
             },
             "line": {
              "color": "white"
             }
            },
            "type": "table"
           }
          ]
         },
         "layout": {
          "annotationdefaults": {
           "arrowcolor": "#2a3f5f",
           "arrowhead": 0,
           "arrowwidth": 1
          },
          "autotypenumbers": "strict",
          "coloraxis": {
           "colorbar": {
            "outlinewidth": 0,
            "ticks": ""
           }
          },
          "colorscale": {
           "diverging": [
            [
             0,
             "#8e0152"
            ],
            [
             0.1,
             "#c51b7d"
            ],
            [
             0.2,
             "#de77ae"
            ],
            [
             0.3,
             "#f1b6da"
            ],
            [
             0.4,
             "#fde0ef"
            ],
            [
             0.5,
             "#f7f7f7"
            ],
            [
             0.6,
             "#e6f5d0"
            ],
            [
             0.7,
             "#b8e186"
            ],
            [
             0.8,
             "#7fbc41"
            ],
            [
             0.9,
             "#4d9221"
            ],
            [
             1,
             "#276419"
            ]
           ],
           "sequential": [
            [
             0,
             "#0d0887"
            ],
            [
             0.1111111111111111,
             "#46039f"
            ],
            [
             0.2222222222222222,
             "#7201a8"
            ],
            [
             0.3333333333333333,
             "#9c179e"
            ],
            [
             0.4444444444444444,
             "#bd3786"
            ],
            [
             0.5555555555555556,
             "#d8576b"
            ],
            [
             0.6666666666666666,
             "#ed7953"
            ],
            [
             0.7777777777777778,
             "#fb9f3a"
            ],
            [
             0.8888888888888888,
             "#fdca26"
            ],
            [
             1,
             "#f0f921"
            ]
           ],
           "sequentialminus": [
            [
             0,
             "#0d0887"
            ],
            [
             0.1111111111111111,
             "#46039f"
            ],
            [
             0.2222222222222222,
             "#7201a8"
            ],
            [
             0.3333333333333333,
             "#9c179e"
            ],
            [
             0.4444444444444444,
             "#bd3786"
            ],
            [
             0.5555555555555556,
             "#d8576b"
            ],
            [
             0.6666666666666666,
             "#ed7953"
            ],
            [
             0.7777777777777778,
             "#fb9f3a"
            ],
            [
             0.8888888888888888,
             "#fdca26"
            ],
            [
             1,
             "#f0f921"
            ]
           ]
          },
          "colorway": [
           "#636efa",
           "#EF553B",
           "#00cc96",
           "#ab63fa",
           "#FFA15A",
           "#19d3f3",
           "#FF6692",
           "#B6E880",
           "#FF97FF",
           "#FECB52"
          ],
          "font": {
           "color": "#2a3f5f"
          },
          "geo": {
           "bgcolor": "white",
           "lakecolor": "white",
           "landcolor": "#E5ECF6",
           "showlakes": true,
           "showland": true,
           "subunitcolor": "white"
          },
          "hoverlabel": {
           "align": "left"
          },
          "hovermode": "closest",
          "mapbox": {
           "style": "light"
          },
          "paper_bgcolor": "white",
          "plot_bgcolor": "#E5ECF6",
          "polar": {
           "angularaxis": {
            "gridcolor": "white",
            "linecolor": "white",
            "ticks": ""
           },
           "bgcolor": "#E5ECF6",
           "radialaxis": {
            "gridcolor": "white",
            "linecolor": "white",
            "ticks": ""
           }
          },
          "scene": {
           "xaxis": {
            "backgroundcolor": "#E5ECF6",
            "gridcolor": "white",
            "gridwidth": 2,
            "linecolor": "white",
            "showbackground": true,
            "ticks": "",
            "zerolinecolor": "white"
           },
           "yaxis": {
            "backgroundcolor": "#E5ECF6",
            "gridcolor": "white",
            "gridwidth": 2,
            "linecolor": "white",
            "showbackground": true,
            "ticks": "",
            "zerolinecolor": "white"
           },
           "zaxis": {
            "backgroundcolor": "#E5ECF6",
            "gridcolor": "white",
            "gridwidth": 2,
            "linecolor": "white",
            "showbackground": true,
            "ticks": "",
            "zerolinecolor": "white"
           }
          },
          "shapedefaults": {
           "line": {
            "color": "#2a3f5f"
           }
          },
          "ternary": {
           "aaxis": {
            "gridcolor": "white",
            "linecolor": "white",
            "ticks": ""
           },
           "baxis": {
            "gridcolor": "white",
            "linecolor": "white",
            "ticks": ""
           },
           "bgcolor": "#E5ECF6",
           "caxis": {
            "gridcolor": "white",
            "linecolor": "white",
            "ticks": ""
           }
          },
          "title": {
           "x": 0.05
          },
          "xaxis": {
           "automargin": true,
           "gridcolor": "white",
           "linecolor": "white",
           "ticks": "",
           "title": {
            "standoff": 15
           },
           "zerolinecolor": "white",
           "zerolinewidth": 2
          },
          "yaxis": {
           "automargin": true,
           "gridcolor": "white",
           "linecolor": "white",
           "ticks": "",
           "title": {
            "standoff": 15
           },
           "zerolinecolor": "white",
           "zerolinewidth": 2
          }
         }
        },
        "title": {
         "font": {
          "size": 24
         },
         "text": "Foundation schematic (width)",
         "x": 0.5
        },
        "xaxis": {
         "title": {
          "text": "Foundation width"
         }
        },
        "yaxis": {
         "fixedrange": true,
         "range": [
          -3,
          3
         ],
         "visible": false
        }
       }
      }
     },
     "metadata": {},
     "output_type": "display_data"
    }
   ],
   "source": [
    "comb_footing_design.plot_foundation_loading_Y()\n",
    "# This shows the loadings that the foundation is subjected to"
   ]
  },
  {
   "cell_type": "markdown",
   "metadata": {},
   "source": [
    "#### Show the bending moment diagram in x direction showing the design bending moment"
   ]
  },
  {
   "cell_type": "code",
   "execution_count": 16,
   "metadata": {},
   "outputs": [
    {
     "data": {
      "application/vnd.plotly.v1+json": {
       "config": {
        "plotlyServerURL": "https://plot.ly"
       },
       "data": [
        {
         "fill": "tozeroy",
         "hovertemplate": "x: %{x:.3f} %{meta[0]}<br>f(x): %{y:.3f} %{meta[1]}",
         "line": {
          "color": "lightgreen",
          "width": 1
         },
         "meta": [
          "m",
          "N.m"
         ],
         "mode": "lines",
         "name": "Bending Moment",
         "type": "scatter",
         "x": [
          0,
          1e-7,
          0.023115577889447233,
          0.046231155778894466,
          0.0693467336683417,
          0.09246231155778893,
          0.11557788944723617,
          0.1386934673366834,
          0.16180904522613063,
          0.18492462311557786,
          0.2080402010050251,
          0.23115577889447234,
          0.25427135678391954,
          0.2773869346733668,
          0.300502512562814,
          0.32361809045226125,
          0.3467336683417085,
          0.3698492462311557,
          0.39296482412060296,
          0.4160804020100502,
          0.43919597989949744,
          0.46231155778894467,
          0.4854271356783919,
          0.5085427135678391,
          0.5316582914572864,
          0.5399999000000001,
          0.5400001,
          0.5547738693467336,
          0.5778894472361809,
          0.601005025125628,
          0.6241206030150753,
          0.6472361809045225,
          0.6703517587939698,
          0.693467336683417,
          0.7165829145728643,
          0.7396984924623115,
          0.7628140703517586,
          0.7859296482412059,
          0.8090452261306531,
          0.8321608040201004,
          0.8552763819095476,
          0.8783919597989949,
          0.901507537688442,
          0.9246231155778893,
          0.9477386934673365,
          0.9708542713567838,
          0.993969849246231,
          1.0170854271356782,
          1.0402010050251256,
          1.0633165829145728,
          1.08643216080402,
          1.1095477386934671,
          1.1326633165829143,
          1.1557788944723617,
          1.1788944723618089,
          1.202010050251256,
          1.2251256281407032,
          1.2482412060301507,
          1.2713567839195978,
          1.294472361809045,
          1.3175879396984922,
          1.3407035175879396,
          1.3638190954773868,
          1.386934673366834,
          1.4100502512562811,
          1.4331658291457285,
          1.4562814070351757,
          1.479396984924623,
          1.50251256281407,
          1.5256281407035173,
          1.5487437185929647,
          1.5718592964824118,
          1.594974874371859,
          1.6180904522613062,
          1.6412060301507536,
          1.6643216080402008,
          1.687437185929648,
          1.7105527638190952,
          1.7336683417085426,
          1.7567839195979897,
          1.779899497487437,
          1.803015075376884,
          1.8261306532663315,
          1.8492462311557787,
          1.8723618090452259,
          1.895477386934673,
          1.9185929648241202,
          1.9417085427135676,
          1.9648241206030148,
          1.987939698492462,
          2.011055276381909,
          2.0341708542713564,
          2.0572864321608035,
          2.080402010050251,
          2.1035175879396983,
          2.1266331658291455,
          2.1497487437185927,
          2.17286432160804,
          2.195979899497487,
          2.2190954773869342,
          2.2422110552763814,
          2.2653266331658286,
          2.2884422110552762,
          2.3115577889447234,
          2.3346733668341706,
          2.3577889447236178,
          2.380904522613065,
          2.404020100502512,
          2.4271356783919593,
          2.4502512562814065,
          2.473366834170854,
          2.4964824120603013,
          2.5195979899497485,
          2.5427135678391957,
          2.565829145728643,
          2.58894472361809,
          2.612060301507537,
          2.6351758793969844,
          2.6582914572864316,
          2.681407035175879,
          2.7045226130653264,
          2.7276381909547736,
          2.7507537688442207,
          2.773869346733668,
          2.796984924623115,
          2.8201005025125623,
          2.8432160804020095,
          2.866331658291457,
          2.8894472361809043,
          2.9125628140703514,
          2.9356783919597986,
          2.958793969849246,
          2.981909547738693,
          3.00502512562814,
          3.0281407035175874,
          3.0512562814070345,
          3.074371859296482,
          3.0974874371859293,
          3.1206030150753765,
          3.1437185929648237,
          3.166834170854271,
          3.189949748743718,
          3.2130653266331652,
          3.2361809045226124,
          3.25929648241206,
          3.2824120603015072,
          3.3055276381909544,
          3.3286432160804016,
          3.3517587939698488,
          3.374874371859296,
          3.397989949748743,
          3.4211055276381903,
          3.4442211055276375,
          3.467336683417085,
          3.4904522613065323,
          3.5135678391959795,
          3.5366834170854267,
          3.5399999,
          3.5400001,
          3.559798994974874,
          3.582914572864321,
          3.606030150753768,
          3.6291457286432154,
          3.652261306532663,
          3.67537688442211,
          3.6984924623115574,
          3.7216080402010046,
          3.7447236180904517,
          3.767839195979899,
          3.790954773869346,
          3.8140703517587933,
          3.8371859296482405,
          3.860301507537688,
          3.8834170854271353,
          3.9065326633165824,
          3.9296482412060296,
          3.952763819095477,
          3.975879396984924,
          3.998994974874371,
          4.022110552763818,
          4.0452261306532655,
          4.068341708542713,
          4.09145728643216,
          4.114572864321607,
          4.137688442211054,
          4.160804020100502,
          4.1839195979899495,
          4.207035175879397,
          4.230150753768844,
          4.253266331658291,
          4.276381909547738,
          4.299497487437185,
          4.322613065326633,
          4.34572864321608,
          4.368844221105527,
          4.391959798994974,
          4.415075376884421,
          4.4381909547738685,
          4.461306532663316,
          4.484422110552763,
          4.50753768844221,
          4.530653266331657,
          4.553768844221105,
          4.5768844221105525,
          4.599999899999999,
          4.6
         ],
         "y": [
          0,
          4.340359999950651e-9,
          231.91782083062463,
          927.6688452743248,
          2087.249416258839,
          3710.655876711909,
          5797.884569561272,
          8348.931837734666,
          11363.794024159837,
          14842.467471764518,
          18784.948523476447,
          23191.23352222337,
          28061.318810933015,
          33395.200732533136,
          39192.875629951464,
          45454.33984611575,
          52179.58972395371,
          59368.621606393106,
          67021.43183636165,
          75138.01675678712,
          83718.37271059724,
          92762.49604071974,
          102270.38309008234,
          112242.0302016128,
          122677.4337182389,
          126557.08022234637,
          650667.4763748972,
          631534.5998713908,
          601978.675335534,
          572886.4962335563,
          544258.0589083849,
          516093.35970294796,
          488392.39496017277,
          461155.1610229876,
          434381.65423431987,
          408071.87093709747,
          382225.807474248,
          356843.4601886992,
          331924.825423379,
          307469.89952121495,
          283478.6788251349,
          259951.15967806638,
          236887.33842293755,
          214287.21140267584,
          192150.77496020892,
          170478.0254384646,
          149268.9591803708,
          128523.57252885506,
          108241.86182684533,
          88423.82341726893,
          69069.45364305424,
          50178.748847128474,
          31751.70537241944,
          13788.319561854936,
          -3711.412241637241,
          -20747.493695129175,
          -37319.92845569318,
          -53428.72018040228,
          -69073.87252632738,
          -84255.38915054197,
          -98973.27371011791,
          -113227.52986212727,
          -127018.16126364237,
          -140345.1715717353,
          -153208.5644434786,
          -165608.34353594435,
          -177544.51250620536,
          -189017.07501133322,
          -200026.03470840002,
          -210571.39525447926,
          -220653.16030664183,
          -230271.33352196077,
          -239425.91855750768,
          -248116.9190703556,
          -256344.33871757635,
          -264108.18115624227,
          -271408.4500434259,
          -278245.1490361986,
          -284618.28179163346,
          -290527.85196680273,
          -295973.8632187783,
          -300956.3192046329,
          -305475.22358143795,
          -309530.5800062667,
          -313122.3921361908,
          -316250.66362828296,
          -318915.3981396146,
          -321116.59932725877,
          -322854.27084828727,
          -324128.4163597734,
          -324939.039518788,
          -325286.1439824039,
          -325169.7334076939,
          -324589.8114517289,
          -323546.3817715831,
          -322039.44802432694,
          -320069.0138670332,
          -317635.0829567746,
          -314737.6589506236,
          -311376.7455056519,
          -307552.34627893195,
          -303264.4649275355,
          -298513.1051085349,
          -293298.2704790039,
          -287619.9646960129,
          -281478.1914166352,
          -274872.9542979421,
          -267804.25699700695,
          -260272.103170902,
          -252276.49647669867,
          -243817.44057146925,
          -234894.93911228701,
          -225508.99575622287,
          -215659.614160351,
          -205346.79798174184,
          -194570.55087746726,
          -183330.8765046019,
          -171627.77852021623,
          -159461.26058138302,
          -146831.3263451741,
          -133737.9794686623,
          -120181.22360891989,
          -106161.06242301827,
          -91677.49956803117,
          -76730.5387010295,
          -61320.183479086496,
          -45446.437559273094,
          -29109.304598663002,
          -12308.788254327606,
          4955.107816659845,
          22682.379957227968,
          40873.024510306306,
          59527.03781881835,
          78644.41622569505,
          98225.15607386269,
          118269.25370624941,
          138776.70546578337,
          159747.50769539177,
          181181.65673800278,
          203079.1489365436,
          225439.98063394427,
          248264.14817312825,
          271551.6478970265,
          295302.4761485653,
          319516.62927067373,
          344194.1036062781,
          369334.8954983074,
          394939.00128968805,
          421006.41732334904,
          447537.1399422167,
          474531.1654892219,
          501988.49030728824,
          529909.1107393447,
          558293.0231283223,
          587140.2238171436,
          616450.7091487404,
          646224.4754660372,
          650534.237297765,
          486976.360162545,
          468953.5088817496,
          448341.5326736057,
          428192.8264799472,
          408507.38664370216,
          389285.2095077969,
          370526.2914151577,
          352230.6287087174,
          334398.21773139946,
          317029.05482613295,
          300123.1363358442,
          283680.458603465,
          267701.0179719189,
          252184.81078413595,
          237131.83338304237,
          222542.08211156633,
          208415.55331263598,
          194752.24332917947,
          181552.1485041231,
          168815.26518039592,
          156541.58970092423,
          144731.11840863898,
          133383.84764646553,
          122499.773757332,
          112078.89308416378,
          102121.20196989179,
          92626.69675744325,
          83595.37378974352,
          75027.22940972447,
          66922.25996031053,
          59280.46178443078,
          52101.83122501243,
          45386.36462498456,
          39134.058327273466,
          33344.908674805425,
          28018.912010511383,
          23156.064677316695,
          18756.36301814951,
          14819.803375939839,
          11346.382093613036,
          8336.095514099114,
          5788.939980323426,
          3704.911835214123,
          2084.0074216993526,
          926.2230827063322,
          231.5551611641422,
          4.6566128730773926e-9,
          -1.862645149230957e-9
         ]
        }
       ],
       "layout": {
        "annotations": [
         {
          "arrowhead": 1,
          "ax": 0,
          "ay": -40,
          "showarrow": true,
          "text": "0.390 m<br>66013.982 N.m",
          "x": 0.39,
          "xref": "x",
          "y": 66013.982188865,
          "yref": "y"
         },
         {
          "arrowhead": 1,
          "ax": 0,
          "ay": -40,
          "showarrow": true,
          "text": "0.690 m<br>465211.301 N.m",
          "x": 0.6900000000000001,
          "xref": "x",
          "y": 465211.3005469784,
          "yref": "y"
         },
         {
          "arrowhead": 1,
          "ax": 0,
          "ay": -40,
          "showarrow": true,
          "text": "3.340 m<br>407688.253 N.m",
          "x": 3.34,
          "xref": "x",
          "y": 407688.2528394451,
          "yref": "y"
         },
         {
          "arrowhead": 1,
          "ax": 0,
          "ay": -40,
          "showarrow": true,
          "text": "3.740 m<br>320540.821 N.m",
          "x": 3.74,
          "xref": "x",
          "y": 320540.8205288835,
          "yref": "y"
         }
        ],
        "template": {
         "data": {
          "bar": [
           {
            "error_x": {
             "color": "#2a3f5f"
            },
            "error_y": {
             "color": "#2a3f5f"
            },
            "marker": {
             "line": {
              "color": "#E5ECF6",
              "width": 0.5
             },
             "pattern": {
              "fillmode": "overlay",
              "size": 10,
              "solidity": 0.2
             }
            },
            "type": "bar"
           }
          ],
          "barpolar": [
           {
            "marker": {
             "line": {
              "color": "#E5ECF6",
              "width": 0.5
             },
             "pattern": {
              "fillmode": "overlay",
              "size": 10,
              "solidity": 0.2
             }
            },
            "type": "barpolar"
           }
          ],
          "carpet": [
           {
            "aaxis": {
             "endlinecolor": "#2a3f5f",
             "gridcolor": "white",
             "linecolor": "white",
             "minorgridcolor": "white",
             "startlinecolor": "#2a3f5f"
            },
            "baxis": {
             "endlinecolor": "#2a3f5f",
             "gridcolor": "white",
             "linecolor": "white",
             "minorgridcolor": "white",
             "startlinecolor": "#2a3f5f"
            },
            "type": "carpet"
           }
          ],
          "choropleth": [
           {
            "colorbar": {
             "outlinewidth": 0,
             "ticks": ""
            },
            "type": "choropleth"
           }
          ],
          "contour": [
           {
            "colorbar": {
             "outlinewidth": 0,
             "ticks": ""
            },
            "colorscale": [
             [
              0,
              "#0d0887"
             ],
             [
              0.1111111111111111,
              "#46039f"
             ],
             [
              0.2222222222222222,
              "#7201a8"
             ],
             [
              0.3333333333333333,
              "#9c179e"
             ],
             [
              0.4444444444444444,
              "#bd3786"
             ],
             [
              0.5555555555555556,
              "#d8576b"
             ],
             [
              0.6666666666666666,
              "#ed7953"
             ],
             [
              0.7777777777777778,
              "#fb9f3a"
             ],
             [
              0.8888888888888888,
              "#fdca26"
             ],
             [
              1,
              "#f0f921"
             ]
            ],
            "type": "contour"
           }
          ],
          "contourcarpet": [
           {
            "colorbar": {
             "outlinewidth": 0,
             "ticks": ""
            },
            "type": "contourcarpet"
           }
          ],
          "heatmap": [
           {
            "colorbar": {
             "outlinewidth": 0,
             "ticks": ""
            },
            "colorscale": [
             [
              0,
              "#0d0887"
             ],
             [
              0.1111111111111111,
              "#46039f"
             ],
             [
              0.2222222222222222,
              "#7201a8"
             ],
             [
              0.3333333333333333,
              "#9c179e"
             ],
             [
              0.4444444444444444,
              "#bd3786"
             ],
             [
              0.5555555555555556,
              "#d8576b"
             ],
             [
              0.6666666666666666,
              "#ed7953"
             ],
             [
              0.7777777777777778,
              "#fb9f3a"
             ],
             [
              0.8888888888888888,
              "#fdca26"
             ],
             [
              1,
              "#f0f921"
             ]
            ],
            "type": "heatmap"
           }
          ],
          "heatmapgl": [
           {
            "colorbar": {
             "outlinewidth": 0,
             "ticks": ""
            },
            "colorscale": [
             [
              0,
              "#0d0887"
             ],
             [
              0.1111111111111111,
              "#46039f"
             ],
             [
              0.2222222222222222,
              "#7201a8"
             ],
             [
              0.3333333333333333,
              "#9c179e"
             ],
             [
              0.4444444444444444,
              "#bd3786"
             ],
             [
              0.5555555555555556,
              "#d8576b"
             ],
             [
              0.6666666666666666,
              "#ed7953"
             ],
             [
              0.7777777777777778,
              "#fb9f3a"
             ],
             [
              0.8888888888888888,
              "#fdca26"
             ],
             [
              1,
              "#f0f921"
             ]
            ],
            "type": "heatmapgl"
           }
          ],
          "histogram": [
           {
            "marker": {
             "pattern": {
              "fillmode": "overlay",
              "size": 10,
              "solidity": 0.2
             }
            },
            "type": "histogram"
           }
          ],
          "histogram2d": [
           {
            "colorbar": {
             "outlinewidth": 0,
             "ticks": ""
            },
            "colorscale": [
             [
              0,
              "#0d0887"
             ],
             [
              0.1111111111111111,
              "#46039f"
             ],
             [
              0.2222222222222222,
              "#7201a8"
             ],
             [
              0.3333333333333333,
              "#9c179e"
             ],
             [
              0.4444444444444444,
              "#bd3786"
             ],
             [
              0.5555555555555556,
              "#d8576b"
             ],
             [
              0.6666666666666666,
              "#ed7953"
             ],
             [
              0.7777777777777778,
              "#fb9f3a"
             ],
             [
              0.8888888888888888,
              "#fdca26"
             ],
             [
              1,
              "#f0f921"
             ]
            ],
            "type": "histogram2d"
           }
          ],
          "histogram2dcontour": [
           {
            "colorbar": {
             "outlinewidth": 0,
             "ticks": ""
            },
            "colorscale": [
             [
              0,
              "#0d0887"
             ],
             [
              0.1111111111111111,
              "#46039f"
             ],
             [
              0.2222222222222222,
              "#7201a8"
             ],
             [
              0.3333333333333333,
              "#9c179e"
             ],
             [
              0.4444444444444444,
              "#bd3786"
             ],
             [
              0.5555555555555556,
              "#d8576b"
             ],
             [
              0.6666666666666666,
              "#ed7953"
             ],
             [
              0.7777777777777778,
              "#fb9f3a"
             ],
             [
              0.8888888888888888,
              "#fdca26"
             ],
             [
              1,
              "#f0f921"
             ]
            ],
            "type": "histogram2dcontour"
           }
          ],
          "mesh3d": [
           {
            "colorbar": {
             "outlinewidth": 0,
             "ticks": ""
            },
            "type": "mesh3d"
           }
          ],
          "parcoords": [
           {
            "line": {
             "colorbar": {
              "outlinewidth": 0,
              "ticks": ""
             }
            },
            "type": "parcoords"
           }
          ],
          "pie": [
           {
            "automargin": true,
            "type": "pie"
           }
          ],
          "scatter": [
           {
            "marker": {
             "colorbar": {
              "outlinewidth": 0,
              "ticks": ""
             }
            },
            "type": "scatter"
           }
          ],
          "scatter3d": [
           {
            "line": {
             "colorbar": {
              "outlinewidth": 0,
              "ticks": ""
             }
            },
            "marker": {
             "colorbar": {
              "outlinewidth": 0,
              "ticks": ""
             }
            },
            "type": "scatter3d"
           }
          ],
          "scattercarpet": [
           {
            "marker": {
             "colorbar": {
              "outlinewidth": 0,
              "ticks": ""
             }
            },
            "type": "scattercarpet"
           }
          ],
          "scattergeo": [
           {
            "marker": {
             "colorbar": {
              "outlinewidth": 0,
              "ticks": ""
             }
            },
            "type": "scattergeo"
           }
          ],
          "scattergl": [
           {
            "marker": {
             "colorbar": {
              "outlinewidth": 0,
              "ticks": ""
             }
            },
            "type": "scattergl"
           }
          ],
          "scattermapbox": [
           {
            "marker": {
             "colorbar": {
              "outlinewidth": 0,
              "ticks": ""
             }
            },
            "type": "scattermapbox"
           }
          ],
          "scatterpolar": [
           {
            "marker": {
             "colorbar": {
              "outlinewidth": 0,
              "ticks": ""
             }
            },
            "type": "scatterpolar"
           }
          ],
          "scatterpolargl": [
           {
            "marker": {
             "colorbar": {
              "outlinewidth": 0,
              "ticks": ""
             }
            },
            "type": "scatterpolargl"
           }
          ],
          "scatterternary": [
           {
            "marker": {
             "colorbar": {
              "outlinewidth": 0,
              "ticks": ""
             }
            },
            "type": "scatterternary"
           }
          ],
          "surface": [
           {
            "colorbar": {
             "outlinewidth": 0,
             "ticks": ""
            },
            "colorscale": [
             [
              0,
              "#0d0887"
             ],
             [
              0.1111111111111111,
              "#46039f"
             ],
             [
              0.2222222222222222,
              "#7201a8"
             ],
             [
              0.3333333333333333,
              "#9c179e"
             ],
             [
              0.4444444444444444,
              "#bd3786"
             ],
             [
              0.5555555555555556,
              "#d8576b"
             ],
             [
              0.6666666666666666,
              "#ed7953"
             ],
             [
              0.7777777777777778,
              "#fb9f3a"
             ],
             [
              0.8888888888888888,
              "#fdca26"
             ],
             [
              1,
              "#f0f921"
             ]
            ],
            "type": "surface"
           }
          ],
          "table": [
           {
            "cells": {
             "fill": {
              "color": "#EBF0F8"
             },
             "line": {
              "color": "white"
             }
            },
            "header": {
             "fill": {
              "color": "#C8D4E3"
             },
             "line": {
              "color": "white"
             }
            },
            "type": "table"
           }
          ]
         },
         "layout": {
          "annotationdefaults": {
           "arrowcolor": "#2a3f5f",
           "arrowhead": 0,
           "arrowwidth": 1
          },
          "autotypenumbers": "strict",
          "coloraxis": {
           "colorbar": {
            "outlinewidth": 0,
            "ticks": ""
           }
          },
          "colorscale": {
           "diverging": [
            [
             0,
             "#8e0152"
            ],
            [
             0.1,
             "#c51b7d"
            ],
            [
             0.2,
             "#de77ae"
            ],
            [
             0.3,
             "#f1b6da"
            ],
            [
             0.4,
             "#fde0ef"
            ],
            [
             0.5,
             "#f7f7f7"
            ],
            [
             0.6,
             "#e6f5d0"
            ],
            [
             0.7,
             "#b8e186"
            ],
            [
             0.8,
             "#7fbc41"
            ],
            [
             0.9,
             "#4d9221"
            ],
            [
             1,
             "#276419"
            ]
           ],
           "sequential": [
            [
             0,
             "#0d0887"
            ],
            [
             0.1111111111111111,
             "#46039f"
            ],
            [
             0.2222222222222222,
             "#7201a8"
            ],
            [
             0.3333333333333333,
             "#9c179e"
            ],
            [
             0.4444444444444444,
             "#bd3786"
            ],
            [
             0.5555555555555556,
             "#d8576b"
            ],
            [
             0.6666666666666666,
             "#ed7953"
            ],
            [
             0.7777777777777778,
             "#fb9f3a"
            ],
            [
             0.8888888888888888,
             "#fdca26"
            ],
            [
             1,
             "#f0f921"
            ]
           ],
           "sequentialminus": [
            [
             0,
             "#0d0887"
            ],
            [
             0.1111111111111111,
             "#46039f"
            ],
            [
             0.2222222222222222,
             "#7201a8"
            ],
            [
             0.3333333333333333,
             "#9c179e"
            ],
            [
             0.4444444444444444,
             "#bd3786"
            ],
            [
             0.5555555555555556,
             "#d8576b"
            ],
            [
             0.6666666666666666,
             "#ed7953"
            ],
            [
             0.7777777777777778,
             "#fb9f3a"
            ],
            [
             0.8888888888888888,
             "#fdca26"
            ],
            [
             1,
             "#f0f921"
            ]
           ]
          },
          "colorway": [
           "#636efa",
           "#EF553B",
           "#00cc96",
           "#ab63fa",
           "#FFA15A",
           "#19d3f3",
           "#FF6692",
           "#B6E880",
           "#FF97FF",
           "#FECB52"
          ],
          "font": {
           "color": "#2a3f5f"
          },
          "geo": {
           "bgcolor": "white",
           "lakecolor": "white",
           "landcolor": "#E5ECF6",
           "showlakes": true,
           "showland": true,
           "subunitcolor": "white"
          },
          "hoverlabel": {
           "align": "left"
          },
          "hovermode": "closest",
          "mapbox": {
           "style": "light"
          },
          "paper_bgcolor": "white",
          "plot_bgcolor": "#E5ECF6",
          "polar": {
           "angularaxis": {
            "gridcolor": "white",
            "linecolor": "white",
            "ticks": ""
           },
           "bgcolor": "#E5ECF6",
           "radialaxis": {
            "gridcolor": "white",
            "linecolor": "white",
            "ticks": ""
           }
          },
          "scene": {
           "xaxis": {
            "backgroundcolor": "#E5ECF6",
            "gridcolor": "white",
            "gridwidth": 2,
            "linecolor": "white",
            "showbackground": true,
            "ticks": "",
            "zerolinecolor": "white"
           },
           "yaxis": {
            "backgroundcolor": "#E5ECF6",
            "gridcolor": "white",
            "gridwidth": 2,
            "linecolor": "white",
            "showbackground": true,
            "ticks": "",
            "zerolinecolor": "white"
           },
           "zaxis": {
            "backgroundcolor": "#E5ECF6",
            "gridcolor": "white",
            "gridwidth": 2,
            "linecolor": "white",
            "showbackground": true,
            "ticks": "",
            "zerolinecolor": "white"
           }
          },
          "shapedefaults": {
           "line": {
            "color": "#2a3f5f"
           }
          },
          "ternary": {
           "aaxis": {
            "gridcolor": "white",
            "linecolor": "white",
            "ticks": ""
           },
           "baxis": {
            "gridcolor": "white",
            "linecolor": "white",
            "ticks": ""
           },
           "bgcolor": "#E5ECF6",
           "caxis": {
            "gridcolor": "white",
            "linecolor": "white",
            "ticks": ""
           }
          },
          "title": {
           "x": 0.05
          },
          "xaxis": {
           "automargin": true,
           "gridcolor": "white",
           "linecolor": "white",
           "ticks": "",
           "title": {
            "standoff": 15
           },
           "zerolinecolor": "white",
           "zerolinewidth": 2
          },
          "yaxis": {
           "automargin": true,
           "gridcolor": "white",
           "linecolor": "white",
           "ticks": "",
           "title": {
            "standoff": 15
           },
           "zerolinecolor": "white",
           "zerolinewidth": 2
          }
         }
        },
        "title": {
         "font": {
          "size": 30
         },
         "text": "Bending Moment Plot"
        },
        "xaxis": {
         "title": {
          "text": "Foundation length"
         }
        },
        "yaxis": {
         "autorange": "reversed",
         "title": {
          "text": "Bending Moment (N.m)"
         }
        }
       }
      }
     },
     "metadata": {},
     "output_type": "display_data"
    }
   ],
   "source": [
    "comb_footing_design.plot_bending_moment_X()"
   ]
  },
  {
   "cell_type": "markdown",
   "metadata": {},
   "source": [
    "#### Show the bending moment diagram in y direction showing the design bending moment"
   ]
  },
  {
   "cell_type": "code",
   "execution_count": 17,
   "metadata": {},
   "outputs": [
    {
     "data": {
      "application/vnd.plotly.v1+json": {
       "config": {
        "plotlyServerURL": "https://plot.ly"
       },
       "data": [
        {
         "fill": "tozeroy",
         "hovertemplate": "x: %{x:.3f} %{meta[0]}<br>f(x): %{y:.3f} %{meta[1]}",
         "line": {
          "color": "lightgreen",
          "width": 1
         },
         "meta": [
          "m",
          "N.m"
         ],
         "mode": "lines",
         "name": "Bending Moment",
         "type": "scatter",
         "x": [
          0,
          1e-7,
          0.011557788944723616,
          0.023115577889447233,
          0.03467336683417085,
          0.046231155778894466,
          0.057788944723618084,
          0.0693467336683417,
          0.08090452261306531,
          0.09246231155778893,
          0.10402010050251255,
          0.11557788944723617,
          0.12713567839195977,
          0.1386934673366834,
          0.150251256281407,
          0.16180904522613063,
          0.17336683417085424,
          0.18492462311557786,
          0.19648241206030148,
          0.2080402010050251,
          0.21959798994974872,
          0.23115577889447234,
          0.24271356783919595,
          0.25427135678391954,
          0.2658291457286432,
          0.2773869346733668,
          0.2889447236180904,
          0.300502512562814,
          0.31206030150753766,
          0.32361809045226125,
          0.3351758793969849,
          0.3467336683417085,
          0.35829145728643214,
          0.3698492462311557,
          0.3814070351758793,
          0.39296482412060296,
          0.40452261306532655,
          0.4160804020100502,
          0.4276381909547738,
          0.43919597989949744,
          0.450753768844221,
          0.46231155778894467,
          0.47386934673366826,
          0.4854271356783919,
          0.4969849246231155,
          0.5085427135678391,
          0.5201005025125628,
          0.5316582914572864,
          0.54321608040201,
          0.5547738693467336,
          0.5663316582914572,
          0.5778894472361809,
          0.5894472361809044,
          0.601005025125628,
          0.6125628140703516,
          0.6241206030150753,
          0.6356783919597989,
          0.6472361809045225,
          0.6587939698492461,
          0.6703517587939698,
          0.6819095477386934,
          0.693467336683417,
          0.7050251256281406,
          0.7165829145728643,
          0.7281407035175879,
          0.7396984924623115,
          0.751256281407035,
          0.7628140703517586,
          0.7743718592964823,
          0.7859296482412059,
          0.7974874371859295,
          0.8090452261306531,
          0.8206030150753768,
          0.8321608040201004,
          0.843718592964824,
          0.8552763819095476,
          0.8668341708542713,
          0.8783919597989949,
          0.8899497487437185,
          0.901507537688442,
          0.9130653266331658,
          0.9246231155778893,
          0.9361809045226129,
          0.9477386934673365,
          0.9592964824120601,
          0.9708542713567838,
          0.9824120603015074,
          0.993969849246231,
          1.0055276381909546,
          1.0170854271356782,
          1.0286432160804018,
          1.0402010050251256,
          1.0517587939698492,
          1.0633165829145728,
          1.0748743718592964,
          1.08643216080402,
          1.0979899497487435,
          1.1095477386934671,
          1.1211055276381907,
          1.1326633165829143,
          1.1442211055276381,
          1.1449999,
          1.1450001,
          1.1499998999999999,
          1.1500001,
          1.1557788944723617,
          1.1673366834170853,
          1.1788944723618089,
          1.1904522613065325,
          1.202010050251256,
          1.2135678391959797,
          1.2251256281407032,
          1.236683417085427,
          1.2482412060301507,
          1.2597989949748742,
          1.2713567839195978,
          1.2829145728643214,
          1.294472361809045,
          1.3060301507537686,
          1.3175879396984922,
          1.3291457286432158,
          1.3407035175879396,
          1.3522613065326632,
          1.3638190954773868,
          1.3753768844221104,
          1.386934673366834,
          1.3984924623115575,
          1.4100502512562811,
          1.4216080402010047,
          1.4331658291457285,
          1.4447236180904521,
          1.4562814070351757,
          1.4678391959798993,
          1.479396984924623,
          1.4909547738693465,
          1.50251256281407,
          1.5140703517587937,
          1.5256281407035173,
          1.537185929648241,
          1.5487437185929647,
          1.5603015075376883,
          1.5718592964824118,
          1.5834170854271354,
          1.594974874371859,
          1.6065326633165826,
          1.6180904522613062,
          1.62964824120603,
          1.6412060301507536,
          1.6527638190954772,
          1.6643216080402008,
          1.6758793969849244,
          1.687437185929648,
          1.6989949748743716,
          1.7105527638190952,
          1.7221105527638187,
          1.7336683417085426,
          1.7452261306532662,
          1.7567839195979897,
          1.7683417085427133,
          1.779899497487437,
          1.7914572864321605,
          1.803015075376884,
          1.8145728643216077,
          1.8261306532663315,
          1.837688442211055,
          1.8492462311557787,
          1.8608040201005023,
          1.8723618090452259,
          1.8839195979899495,
          1.895477386934673,
          1.9070351758793966,
          1.9185929648241202,
          1.930150753768844,
          1.9417085427135676,
          1.9532663316582912,
          1.9648241206030148,
          1.9763819095477384,
          1.987939698492462,
          1.9994974874371856,
          2.011055276381909,
          2.0226130653266328,
          2.0341708542713564,
          2.04572864321608,
          2.0572864321608035,
          2.068844221105527,
          2.080402010050251,
          2.0919597989949748,
          2.1035175879396983,
          2.115075376884422,
          2.1266331658291455,
          2.138190954773869,
          2.1497487437185927,
          2.1613065326633163,
          2.17286432160804,
          2.1844221105527635,
          2.195979899497487,
          2.2075376884422107,
          2.2190954773869342,
          2.230653266331658,
          2.2422110552763814,
          2.253768844221105,
          2.2653266331658286,
          2.2768844221105526,
          2.2884422110552762,
          2.2999999,
          2.3
         ],
         "y": [
          0,
          8.740254998076957e-9,
          116.75152947574159,
          466.99424181588216,
          1050.7103228897952,
          1867.8819585668546,
          2918.4913347164343,
          4202.520637207906,
          5719.952051910646,
          7470.7677646940265,
          9454.949961427423,
          11672.480827980206,
          14123.342550221747,
          16807.51731402143,
          19724.98730524862,
          22875.734709772692,
          26259.741713463016,
          29876.990502188975,
          33727.46326181993,
          37811.14217822527,
          42128.00943727436,
          46678.047224836584,
          51461.23772678129,
          56477.56312897786,
          61727.0056172957,
          67209.54737760413,
          72925.17059577258,
          78873.85745767038,
          85055.59014916695,
          91470.3508561316,
          98118.12176443376,
          104998.88505994275,
          112112.62292852801,
          119459.31755605884,
          127038.95112840466,
          134851.50583143486,
          142896.96385101875,
          151175.3073730258,
          159686.51858332526,
          168430.57966778663,
          177407.4728122792,
          186617.18020267237,
          196059.68402483547,
          205734.966464638,
          215643.00970794915,
          225783.7959406384,
          236157.3073485753,
          246763.52611762882,
          257602.43443366862,
          268674.01448256394,
          279978.24845018424,
          291515.11852239905,
          303284.60688507743,
          315286.6957240889,
          327521.3672253028,
          339988.6035745886,
          352688.38695781556,
          365620.69956085307,
          378785.5235695705,
          392182.8411698374,
          405812.63454752293,
          419674.8858884964,
          433769.5773786274,
          448096.69120378536,
          462656.2095498393,
          477448.1146026589,
          492472.3885481134,
          507729.0135720722,
          523217.97186040477,
          538939.2455989803,
          554892.8169736683,
          571078.6681703381,
          587496.7813748593,
          604147.1387731007,
          621029.7225509322,
          638144.514894223,
          655491.4979888424,
          673070.6540206599,
          690881.9651755448,
          708925.4136393665,
          727200.9815979945,
          745708.6512372979,
          764448.4047431462,
          783420.2243014087,
          802624.092097955,
          822059.9903186546,
          841727.9011493762,
          861627.8067759897,
          881759.6893843643,
          902123.5311603695,
          922719.3142898747,
          943547.0209587495,
          964606.6333528623,
          985898.1336580834,
          1007421.5040602819,
          1029176.7267453271,
          1051163.7838990884,
          1073382.6577074353,
          1095833.330356237,
          1118515.784031363,
          1141430.0009186831,
          1142982.355744897,
          3.613742935059697,
          3.6137978698134248,
          1141274.9813057685,
          1129819.3473834877,
          1107081.4755262015,
          1084575.3134387163,
          1062300.8433069028,
          1040258.0473166297,
          1018446.9076537665,
          996867.4065041823,
          975519.5260537467,
          954403.248488329,
          933518.555993799,
          912865.4307560258,
          892443.8549608787,
          872253.8107942272,
          852295.2804419402,
          832568.2460898873,
          813072.6899239388,
          793808.5941299624,
          774775.9408938289,
          755974.7124014073,
          737404.8908385667,
          719066.4583911763,
          700959.397245106,
          683083.6895862247,
          665439.3176004027,
          648026.2634735075,
          630844.50939141,
          613894.0375399799,
          597174.8301050856,
          580686.8692725966,
          564430.1372283826,
          548404.616158313,
          532610.2882482569,
          517047.13568408357,
          501715.1406516625,
          486614.28533686313,
          471744.55192555545,
          457105.9226036075,
          442698.3795568902,
          428521.9049712713,
          414576.48103262135,
          400862.0899268098,
          387378.71383970417,
          374126.33495717705,
          361104.93546509463,
          348314.49754932825,
          335755.00339574623,
          323426.43519021897,
          311328.7751186155,
          299462.0053668048,
          287826.1081206561,
          276421.06556603895,
          265246.859888823,
          254303.4732748773,
          243590.887910072,
          233109.08598027588,
          222858.04967135866,
          212837.7611691882,
          203048.20265963534,
          193489.3563285696,
          184161.2043618597,
          175063.72894537565,
          166196.91226498666,
          157560.73650656082,
          149155.1838559697,
          140980.2364990802,
          133035.8766217637,
          125322.0864098894,
          117838.84804932564,
          110586.14372594142,
          103563.95562560833,
          96772.26593419397,
          90211.0568375676,
          83880.3105215996,
          77780.00917215925,
          71910.13497511437,
          66270.67011633678,
          60861.59678169363,
          55682.89715705649,
          50734.55342829274,
          46016.547781273024,
          41528.86240186589,
          37271.47947594011,
          33244.38118936657,
          29447.549728014972,
          25880.967277753167,
          22544.616024451097,
          19438.47815397801,
          16562.535852204077,
          13916.771304996917,
          11501.166698228102,
          9315.704217765015,
          7360.3660494792275,
          5635.134379236959,
          4139.991392910946,
          2874.91927636927,
          1839.9002154804766,
          1034.916396114044,
          459.9500041413121,
          114.98322542896494,
          -0.0017541437409818172,
          -0.0017541521228849888
         ]
        }
       ],
       "layout": {
        "annotations": [
         {
          "arrowhead": 1,
          "ax": 0,
          "ay": -40,
          "showarrow": true,
          "text": "1.000 m<br>872102.631 N.m",
          "x": 0.9999999999999999,
          "xref": "x",
          "y": 872102.6307499345,
          "yref": "y"
         },
         {
          "arrowhead": 1,
          "ax": 0,
          "ay": -40,
          "showarrow": true,
          "text": "1.300 m<br>862679.716 N.m",
          "x": 1.2999999999999998,
          "xref": "x",
          "y": 862679.7160148304,
          "yref": "y"
         },
         {
          "arrowhead": 1,
          "ax": 0,
          "ay": -40,
          "showarrow": true,
          "text": "0.945 m<br>778903.914 N.m",
          "x": 0.9450000000000001,
          "xref": "x",
          "y": 778903.913835576,
          "yref": "y"
         },
         {
          "arrowhead": 1,
          "ax": 0,
          "ay": -40,
          "showarrow": true,
          "text": "1.345 m<br>786706.551 N.m",
          "x": 1.345,
          "xref": "x",
          "y": 786706.5514416836,
          "yref": "y"
         }
        ],
        "template": {
         "data": {
          "bar": [
           {
            "error_x": {
             "color": "#2a3f5f"
            },
            "error_y": {
             "color": "#2a3f5f"
            },
            "marker": {
             "line": {
              "color": "#E5ECF6",
              "width": 0.5
             },
             "pattern": {
              "fillmode": "overlay",
              "size": 10,
              "solidity": 0.2
             }
            },
            "type": "bar"
           }
          ],
          "barpolar": [
           {
            "marker": {
             "line": {
              "color": "#E5ECF6",
              "width": 0.5
             },
             "pattern": {
              "fillmode": "overlay",
              "size": 10,
              "solidity": 0.2
             }
            },
            "type": "barpolar"
           }
          ],
          "carpet": [
           {
            "aaxis": {
             "endlinecolor": "#2a3f5f",
             "gridcolor": "white",
             "linecolor": "white",
             "minorgridcolor": "white",
             "startlinecolor": "#2a3f5f"
            },
            "baxis": {
             "endlinecolor": "#2a3f5f",
             "gridcolor": "white",
             "linecolor": "white",
             "minorgridcolor": "white",
             "startlinecolor": "#2a3f5f"
            },
            "type": "carpet"
           }
          ],
          "choropleth": [
           {
            "colorbar": {
             "outlinewidth": 0,
             "ticks": ""
            },
            "type": "choropleth"
           }
          ],
          "contour": [
           {
            "colorbar": {
             "outlinewidth": 0,
             "ticks": ""
            },
            "colorscale": [
             [
              0,
              "#0d0887"
             ],
             [
              0.1111111111111111,
              "#46039f"
             ],
             [
              0.2222222222222222,
              "#7201a8"
             ],
             [
              0.3333333333333333,
              "#9c179e"
             ],
             [
              0.4444444444444444,
              "#bd3786"
             ],
             [
              0.5555555555555556,
              "#d8576b"
             ],
             [
              0.6666666666666666,
              "#ed7953"
             ],
             [
              0.7777777777777778,
              "#fb9f3a"
             ],
             [
              0.8888888888888888,
              "#fdca26"
             ],
             [
              1,
              "#f0f921"
             ]
            ],
            "type": "contour"
           }
          ],
          "contourcarpet": [
           {
            "colorbar": {
             "outlinewidth": 0,
             "ticks": ""
            },
            "type": "contourcarpet"
           }
          ],
          "heatmap": [
           {
            "colorbar": {
             "outlinewidth": 0,
             "ticks": ""
            },
            "colorscale": [
             [
              0,
              "#0d0887"
             ],
             [
              0.1111111111111111,
              "#46039f"
             ],
             [
              0.2222222222222222,
              "#7201a8"
             ],
             [
              0.3333333333333333,
              "#9c179e"
             ],
             [
              0.4444444444444444,
              "#bd3786"
             ],
             [
              0.5555555555555556,
              "#d8576b"
             ],
             [
              0.6666666666666666,
              "#ed7953"
             ],
             [
              0.7777777777777778,
              "#fb9f3a"
             ],
             [
              0.8888888888888888,
              "#fdca26"
             ],
             [
              1,
              "#f0f921"
             ]
            ],
            "type": "heatmap"
           }
          ],
          "heatmapgl": [
           {
            "colorbar": {
             "outlinewidth": 0,
             "ticks": ""
            },
            "colorscale": [
             [
              0,
              "#0d0887"
             ],
             [
              0.1111111111111111,
              "#46039f"
             ],
             [
              0.2222222222222222,
              "#7201a8"
             ],
             [
              0.3333333333333333,
              "#9c179e"
             ],
             [
              0.4444444444444444,
              "#bd3786"
             ],
             [
              0.5555555555555556,
              "#d8576b"
             ],
             [
              0.6666666666666666,
              "#ed7953"
             ],
             [
              0.7777777777777778,
              "#fb9f3a"
             ],
             [
              0.8888888888888888,
              "#fdca26"
             ],
             [
              1,
              "#f0f921"
             ]
            ],
            "type": "heatmapgl"
           }
          ],
          "histogram": [
           {
            "marker": {
             "pattern": {
              "fillmode": "overlay",
              "size": 10,
              "solidity": 0.2
             }
            },
            "type": "histogram"
           }
          ],
          "histogram2d": [
           {
            "colorbar": {
             "outlinewidth": 0,
             "ticks": ""
            },
            "colorscale": [
             [
              0,
              "#0d0887"
             ],
             [
              0.1111111111111111,
              "#46039f"
             ],
             [
              0.2222222222222222,
              "#7201a8"
             ],
             [
              0.3333333333333333,
              "#9c179e"
             ],
             [
              0.4444444444444444,
              "#bd3786"
             ],
             [
              0.5555555555555556,
              "#d8576b"
             ],
             [
              0.6666666666666666,
              "#ed7953"
             ],
             [
              0.7777777777777778,
              "#fb9f3a"
             ],
             [
              0.8888888888888888,
              "#fdca26"
             ],
             [
              1,
              "#f0f921"
             ]
            ],
            "type": "histogram2d"
           }
          ],
          "histogram2dcontour": [
           {
            "colorbar": {
             "outlinewidth": 0,
             "ticks": ""
            },
            "colorscale": [
             [
              0,
              "#0d0887"
             ],
             [
              0.1111111111111111,
              "#46039f"
             ],
             [
              0.2222222222222222,
              "#7201a8"
             ],
             [
              0.3333333333333333,
              "#9c179e"
             ],
             [
              0.4444444444444444,
              "#bd3786"
             ],
             [
              0.5555555555555556,
              "#d8576b"
             ],
             [
              0.6666666666666666,
              "#ed7953"
             ],
             [
              0.7777777777777778,
              "#fb9f3a"
             ],
             [
              0.8888888888888888,
              "#fdca26"
             ],
             [
              1,
              "#f0f921"
             ]
            ],
            "type": "histogram2dcontour"
           }
          ],
          "mesh3d": [
           {
            "colorbar": {
             "outlinewidth": 0,
             "ticks": ""
            },
            "type": "mesh3d"
           }
          ],
          "parcoords": [
           {
            "line": {
             "colorbar": {
              "outlinewidth": 0,
              "ticks": ""
             }
            },
            "type": "parcoords"
           }
          ],
          "pie": [
           {
            "automargin": true,
            "type": "pie"
           }
          ],
          "scatter": [
           {
            "marker": {
             "colorbar": {
              "outlinewidth": 0,
              "ticks": ""
             }
            },
            "type": "scatter"
           }
          ],
          "scatter3d": [
           {
            "line": {
             "colorbar": {
              "outlinewidth": 0,
              "ticks": ""
             }
            },
            "marker": {
             "colorbar": {
              "outlinewidth": 0,
              "ticks": ""
             }
            },
            "type": "scatter3d"
           }
          ],
          "scattercarpet": [
           {
            "marker": {
             "colorbar": {
              "outlinewidth": 0,
              "ticks": ""
             }
            },
            "type": "scattercarpet"
           }
          ],
          "scattergeo": [
           {
            "marker": {
             "colorbar": {
              "outlinewidth": 0,
              "ticks": ""
             }
            },
            "type": "scattergeo"
           }
          ],
          "scattergl": [
           {
            "marker": {
             "colorbar": {
              "outlinewidth": 0,
              "ticks": ""
             }
            },
            "type": "scattergl"
           }
          ],
          "scattermapbox": [
           {
            "marker": {
             "colorbar": {
              "outlinewidth": 0,
              "ticks": ""
             }
            },
            "type": "scattermapbox"
           }
          ],
          "scatterpolar": [
           {
            "marker": {
             "colorbar": {
              "outlinewidth": 0,
              "ticks": ""
             }
            },
            "type": "scatterpolar"
           }
          ],
          "scatterpolargl": [
           {
            "marker": {
             "colorbar": {
              "outlinewidth": 0,
              "ticks": ""
             }
            },
            "type": "scatterpolargl"
           }
          ],
          "scatterternary": [
           {
            "marker": {
             "colorbar": {
              "outlinewidth": 0,
              "ticks": ""
             }
            },
            "type": "scatterternary"
           }
          ],
          "surface": [
           {
            "colorbar": {
             "outlinewidth": 0,
             "ticks": ""
            },
            "colorscale": [
             [
              0,
              "#0d0887"
             ],
             [
              0.1111111111111111,
              "#46039f"
             ],
             [
              0.2222222222222222,
              "#7201a8"
             ],
             [
              0.3333333333333333,
              "#9c179e"
             ],
             [
              0.4444444444444444,
              "#bd3786"
             ],
             [
              0.5555555555555556,
              "#d8576b"
             ],
             [
              0.6666666666666666,
              "#ed7953"
             ],
             [
              0.7777777777777778,
              "#fb9f3a"
             ],
             [
              0.8888888888888888,
              "#fdca26"
             ],
             [
              1,
              "#f0f921"
             ]
            ],
            "type": "surface"
           }
          ],
          "table": [
           {
            "cells": {
             "fill": {
              "color": "#EBF0F8"
             },
             "line": {
              "color": "white"
             }
            },
            "header": {
             "fill": {
              "color": "#C8D4E3"
             },
             "line": {
              "color": "white"
             }
            },
            "type": "table"
           }
          ]
         },
         "layout": {
          "annotationdefaults": {
           "arrowcolor": "#2a3f5f",
           "arrowhead": 0,
           "arrowwidth": 1
          },
          "autotypenumbers": "strict",
          "coloraxis": {
           "colorbar": {
            "outlinewidth": 0,
            "ticks": ""
           }
          },
          "colorscale": {
           "diverging": [
            [
             0,
             "#8e0152"
            ],
            [
             0.1,
             "#c51b7d"
            ],
            [
             0.2,
             "#de77ae"
            ],
            [
             0.3,
             "#f1b6da"
            ],
            [
             0.4,
             "#fde0ef"
            ],
            [
             0.5,
             "#f7f7f7"
            ],
            [
             0.6,
             "#e6f5d0"
            ],
            [
             0.7,
             "#b8e186"
            ],
            [
             0.8,
             "#7fbc41"
            ],
            [
             0.9,
             "#4d9221"
            ],
            [
             1,
             "#276419"
            ]
           ],
           "sequential": [
            [
             0,
             "#0d0887"
            ],
            [
             0.1111111111111111,
             "#46039f"
            ],
            [
             0.2222222222222222,
             "#7201a8"
            ],
            [
             0.3333333333333333,
             "#9c179e"
            ],
            [
             0.4444444444444444,
             "#bd3786"
            ],
            [
             0.5555555555555556,
             "#d8576b"
            ],
            [
             0.6666666666666666,
             "#ed7953"
            ],
            [
             0.7777777777777778,
             "#fb9f3a"
            ],
            [
             0.8888888888888888,
             "#fdca26"
            ],
            [
             1,
             "#f0f921"
            ]
           ],
           "sequentialminus": [
            [
             0,
             "#0d0887"
            ],
            [
             0.1111111111111111,
             "#46039f"
            ],
            [
             0.2222222222222222,
             "#7201a8"
            ],
            [
             0.3333333333333333,
             "#9c179e"
            ],
            [
             0.4444444444444444,
             "#bd3786"
            ],
            [
             0.5555555555555556,
             "#d8576b"
            ],
            [
             0.6666666666666666,
             "#ed7953"
            ],
            [
             0.7777777777777778,
             "#fb9f3a"
            ],
            [
             0.8888888888888888,
             "#fdca26"
            ],
            [
             1,
             "#f0f921"
            ]
           ]
          },
          "colorway": [
           "#636efa",
           "#EF553B",
           "#00cc96",
           "#ab63fa",
           "#FFA15A",
           "#19d3f3",
           "#FF6692",
           "#B6E880",
           "#FF97FF",
           "#FECB52"
          ],
          "font": {
           "color": "#2a3f5f"
          },
          "geo": {
           "bgcolor": "white",
           "lakecolor": "white",
           "landcolor": "#E5ECF6",
           "showlakes": true,
           "showland": true,
           "subunitcolor": "white"
          },
          "hoverlabel": {
           "align": "left"
          },
          "hovermode": "closest",
          "mapbox": {
           "style": "light"
          },
          "paper_bgcolor": "white",
          "plot_bgcolor": "#E5ECF6",
          "polar": {
           "angularaxis": {
            "gridcolor": "white",
            "linecolor": "white",
            "ticks": ""
           },
           "bgcolor": "#E5ECF6",
           "radialaxis": {
            "gridcolor": "white",
            "linecolor": "white",
            "ticks": ""
           }
          },
          "scene": {
           "xaxis": {
            "backgroundcolor": "#E5ECF6",
            "gridcolor": "white",
            "gridwidth": 2,
            "linecolor": "white",
            "showbackground": true,
            "ticks": "",
            "zerolinecolor": "white"
           },
           "yaxis": {
            "backgroundcolor": "#E5ECF6",
            "gridcolor": "white",
            "gridwidth": 2,
            "linecolor": "white",
            "showbackground": true,
            "ticks": "",
            "zerolinecolor": "white"
           },
           "zaxis": {
            "backgroundcolor": "#E5ECF6",
            "gridcolor": "white",
            "gridwidth": 2,
            "linecolor": "white",
            "showbackground": true,
            "ticks": "",
            "zerolinecolor": "white"
           }
          },
          "shapedefaults": {
           "line": {
            "color": "#2a3f5f"
           }
          },
          "ternary": {
           "aaxis": {
            "gridcolor": "white",
            "linecolor": "white",
            "ticks": ""
           },
           "baxis": {
            "gridcolor": "white",
            "linecolor": "white",
            "ticks": ""
           },
           "bgcolor": "#E5ECF6",
           "caxis": {
            "gridcolor": "white",
            "linecolor": "white",
            "ticks": ""
           }
          },
          "title": {
           "x": 0.05
          },
          "xaxis": {
           "automargin": true,
           "gridcolor": "white",
           "linecolor": "white",
           "ticks": "",
           "title": {
            "standoff": 15
           },
           "zerolinecolor": "white",
           "zerolinewidth": 2
          },
          "yaxis": {
           "automargin": true,
           "gridcolor": "white",
           "linecolor": "white",
           "ticks": "",
           "title": {
            "standoff": 15
           },
           "zerolinecolor": "white",
           "zerolinewidth": 2
          }
         }
        },
        "title": {
         "font": {
          "size": 30
         },
         "text": "Bending Moment Plot"
        },
        "xaxis": {
         "title": {
          "text": "Foundation width"
         }
        },
        "yaxis": {
         "autorange": "reversed",
         "title": {
          "text": "Bending Moment (N.m)"
         }
        }
       }
      }
     },
     "metadata": {},
     "output_type": "display_data"
    }
   ],
   "source": [
    "comb_footing_design.plot_bending_moment_Y()\n"
   ]
  },
  {
   "cell_type": "markdown",
   "metadata": {},
   "source": [
    "#### Show the shear force diagram in x direction showing the design shear forces"
   ]
  },
  {
   "cell_type": "code",
   "execution_count": 18,
   "metadata": {},
   "outputs": [
    {
     "data": {
      "application/vnd.plotly.v1+json": {
       "config": {
        "plotlyServerURL": "https://plot.ly"
       },
       "data": [
        {
         "fill": "tozeroy",
         "hovertemplate": "x: %{x:.3f} %{meta[0]}<br>f(x): %{y:.3f} %{meta[1]}",
         "line": {
          "color": "aqua",
          "width": 1
         },
         "meta": [
          "m",
          "N"
         ],
         "mode": "lines",
         "name": "Shear Force",
         "type": "scatter",
         "x": [
          0,
          1e-7,
          0.023115577889447233,
          0.046231155778894466,
          0.0693467336683417,
          0.09246231155778893,
          0.11557788944723617,
          0.1386934673366834,
          0.16180904522613063,
          0.18492462311557786,
          0.2080402010050251,
          0.23115577889447234,
          0.25427135678391954,
          0.2773869346733668,
          0.300502512562814,
          0.32361809045226125,
          0.3467336683417085,
          0.3698492462311557,
          0.39296482412060296,
          0.4160804020100502,
          0.43919597989949744,
          0.46231155778894467,
          0.4854271356783919,
          0.5085427135678391,
          0.5316582914572864,
          0.5399999000000001,
          0.5400001,
          0.5547738693467336,
          0.5778894472361809,
          0.601005025125628,
          0.6241206030150753,
          0.6472361809045225,
          0.6703517587939698,
          0.693467336683417,
          0.7165829145728643,
          0.7396984924623115,
          0.7628140703517586,
          0.7859296482412059,
          0.8090452261306531,
          0.8321608040201004,
          0.8552763819095476,
          0.8783919597989949,
          0.901507537688442,
          0.9246231155778893,
          0.9477386934673365,
          0.9708542713567838,
          0.993969849246231,
          1.0170854271356782,
          1.0402010050251256,
          1.0633165829145728,
          1.08643216080402,
          1.1095477386934671,
          1.1326633165829143,
          1.1557788944723617,
          1.1788944723618089,
          1.202010050251256,
          1.2251256281407032,
          1.2482412060301507,
          1.2713567839195978,
          1.294472361809045,
          1.3175879396984922,
          1.3407035175879396,
          1.3638190954773868,
          1.386934673366834,
          1.4100502512562811,
          1.4331658291457285,
          1.4562814070351757,
          1.479396984924623,
          1.50251256281407,
          1.5256281407035173,
          1.5487437185929647,
          1.5718592964824118,
          1.594974874371859,
          1.6180904522613062,
          1.6412060301507536,
          1.6643216080402008,
          1.687437185929648,
          1.7105527638190952,
          1.7336683417085426,
          1.7567839195979897,
          1.779899497487437,
          1.803015075376884,
          1.8261306532663315,
          1.8492462311557787,
          1.8723618090452259,
          1.895477386934673,
          1.9185929648241202,
          1.9417085427135676,
          1.9648241206030148,
          1.987939698492462,
          2.011055276381909,
          2.0341708542713564,
          2.0572864321608035,
          2.080402010050251,
          2.1035175879396983,
          2.1266331658291455,
          2.1497487437185927,
          2.17286432160804,
          2.195979899497487,
          2.2190954773869342,
          2.2422110552763814,
          2.2653266331658286,
          2.2884422110552762,
          2.3115577889447234,
          2.3346733668341706,
          2.3577889447236178,
          2.380904522613065,
          2.404020100502512,
          2.4271356783919593,
          2.4502512562814065,
          2.473366834170854,
          2.4964824120603013,
          2.5195979899497485,
          2.5427135678391957,
          2.565829145728643,
          2.58894472361809,
          2.612060301507537,
          2.6351758793969844,
          2.6582914572864316,
          2.681407035175879,
          2.7045226130653264,
          2.7276381909547736,
          2.7507537688442207,
          2.773869346733668,
          2.796984924623115,
          2.8201005025125623,
          2.8432160804020095,
          2.866331658291457,
          2.8894472361809043,
          2.9125628140703514,
          2.9356783919597986,
          2.958793969849246,
          2.981909547738693,
          3.00502512562814,
          3.0281407035175874,
          3.0512562814070345,
          3.074371859296482,
          3.0974874371859293,
          3.1206030150753765,
          3.1437185929648237,
          3.166834170854271,
          3.189949748743718,
          3.2130653266331652,
          3.2361809045226124,
          3.25929648241206,
          3.2824120603015072,
          3.3055276381909544,
          3.3286432160804016,
          3.3517587939698488,
          3.374874371859296,
          3.397989949748743,
          3.4211055276381903,
          3.4442211055276375,
          3.467336683417085,
          3.4904522613065323,
          3.5135678391959795,
          3.5366834170854267,
          3.5399999,
          3.5400001,
          3.559798994974874,
          3.582914572864321,
          3.606030150753768,
          3.6291457286432154,
          3.652261306532663,
          3.67537688442211,
          3.6984924623115574,
          3.7216080402010046,
          3.7447236180904517,
          3.767839195979899,
          3.790954773869346,
          3.8140703517587933,
          3.8371859296482405,
          3.860301507537688,
          3.8834170854271353,
          3.9065326633165824,
          3.9296482412060296,
          3.952763819095477,
          3.975879396984924,
          3.998994974874371,
          4.022110552763818,
          4.0452261306532655,
          4.068341708542713,
          4.09145728643216,
          4.114572864321607,
          4.137688442211054,
          4.160804020100502,
          4.1839195979899495,
          4.207035175879397,
          4.230150753768844,
          4.253266331658291,
          4.276381909547738,
          4.299497487437185,
          4.322613065326633,
          4.34572864321608,
          4.368844221105527,
          4.391959798994974,
          4.415075376884421,
          4.4381909547738685,
          4.461306532663316,
          4.484422110552763,
          4.50753768844221,
          4.530653266331657,
          4.553768844221105,
          4.5768844221105525,
          4.599999899999999,
          4.6
         ],
         "y": [
          0,
          0.08680719999851956,
          20065.90682558521,
          40131.655443044365,
          60197.245852377455,
          80262.6780535845,
          100327.95204666546,
          120393.06783162038,
          140458.02540844926,
          160522.82477715207,
          180587.46593772885,
          200651.9488901795,
          220716.27363450412,
          240780.4401707027,
          260844.44849877522,
          280908.2986187217,
          300971.9905305421,
          321035.52423423645,
          341098.8997298047,
          361162.117017247,
          381225.17609656317,
          401288.0769677533,
          421350.8196308174,
          441413.4040857553,
          461475.83033256733,
          468715.6237305279,
          -1301468.3653826995,
          -1288646.064324397,
          -1268583.954493837,
          -1248522.0028714032,
          -1228460.2094570955,
          -1208398.5742509137,
          -1188337.097252858,
          -1168275.7784629287,
          -1148214.617881125,
          -1128153.6155074479,
          -1108092.7713418964,
          -1088032.085384471,
          -1067971.557635172,
          -1047911.1880939986,
          -1027850.9767609516,
          -1007790.9236360304,
          -987731.0287192354,
          -967671.2920105665,
          -947611.7135100235,
          -927552.2932176066,
          -907493.0311333159,
          -887433.9272571512,
          -867374.9815891124,
          -847316.1941291997,
          -827257.5648774132,
          -807199.0938337528,
          -787140.7809982183,
          -767082.6263708097,
          -747024.6299515275,
          -726966.7917403713,
          -706909.111737341,
          -686851.5899424367,
          -666794.2263556587,
          -646737.0209770068,
          -626679.9738064808,
          -606623.0848440807,
          -586566.3540898069,
          -566509.7815436592,
          -546453.3672056373,
          -526397.1110757416,
          -506341.0131539718,
          -486285.0734403283,
          -466229.29193481087,
          -446173.66863741947,
          -426118.20354815386,
          -406062.8966670146,
          -386007.7479940014,
          -365952.7575291142,
          -345897.9252723529,
          -325843.2512237176,
          -305788.7353832086,
          -285734.37775082566,
          -265680.1783265685,
          -245626.1371104377,
          -225572.25410243293,
          -205518.52930255423,
          -185464.96271080134,
          -165411.55432717476,
          -145358.30415167398,
          -125305.21218429951,
          -105252.27842505109,
          -85199.50287392849,
          -65146.88553093218,
          -45094.42639606193,
          -25042.12546931774,
          -4989.9827506996035,
          15062.001759792707,
          35113.82806215896,
          55165.49615639915,
          75217.00604251307,
          95268.3577205009,
          115319.55119036269,
          135370.58645209842,
          155421.46350570812,
          175472.18235119173,
          195522.74298854952,
          215573.14541778126,
          235623.38963888693,
          255673.47565186632,
          275723.40345671965,
          295773.1730534469,
          315822.7844420481,
          335872.2376225233,
          355921.53259487264,
          375970.6693590959,
          396019.6479151931,
          416068.4682631638,
          436117.13040300895,
          456165.6343347275,
          476213.9800583205,
          496262.16757378745,
          516310.19688112783,
          536358.0679803427,
          556405.7808714315,
          576453.335554394,
          596500.7320292303,
          616547.9702959409,
          636595.050354525,
          656641.9722049835,
          676688.7358473159,
          696735.3412815217,
          716781.7885076021,
          736828.0775255563,
          756874.2083353845,
          776920.1809370861,
          796965.9953306622,
          817011.6515161117,
          837057.1494934356,
          857102.4892626336,
          877147.6708237049,
          897192.6941766507,
          917237.5593214704,
          937282.2662581642,
          957326.8149867313,
          977371.2055071729,
          997415.4378194879,
          1017459.5119236773,
          1037503.4278197403,
          1057547.185507678,
          1077590.7849874888,
          1097634.226259174,
          1117677.5093227332,
          1137720.6341781658,
          1157763.6008254727,
          1177806.4092646535,
          1197849.0594957082,
          1217891.5515186368,
          1237933.88533344,
          1257976.0609401162,
          1278018.0783386668,
          1298059.9375290915,
          1300935.408949791,
          -918878.8549497887,
          -901712.7987929604,
          -881671.2560187879,
          -861629.8714527419,
          -841588.6450948215,
          -821547.5769450271,
          -801506.6670033588,
          -781465.9152698171,
          -761425.3217444009,
          -741384.8864271108,
          -721344.6093179472,
          -701304.4904169092,
          -681264.5297239977,
          -661224.7272392118,
          -641185.082962552,
          -621145.5968940182,
          -601106.2690336109,
          -581067.0993813293,
          -561028.0879371737,
          -540989.2347011446,
          -520950.53967324115,
          -500912.00285346416,
          -480873.6242418128,
          -460835.403838288,
          -440797.3416428887,
          -420759.4376556155,
          -400721.69187646883,
          -380684.10430544725,
          -360646.6749425522,
          -340609.4037877833,
          -320572.29084114084,
          -300535.33610262396,
          -280498.5395722336,
          -260461.9012499689,
          -240425.4211358307,
          -220389.09922981806,
          -200352.9355319315,
          -180316.93004217144,
          -160281.082760537,
          -140245.39368702908,
          -120209.86282164673,
          -100174.49016439093,
          -80139.2757152607,
          -60104.21947425653,
          -40069.32144137796,
          -20034.581616626376,
          -0.08667100060165467,
          -3.8107828004285693e-10
         ]
        }
       ],
       "layout": {
        "annotations": [
         {
          "arrowhead": 1,
          "ax": 0,
          "ay": 40,
          "showarrow": true,
          "text": "1.492 m<br>-475350.380 N",
          "x": 1.492,
          "xref": "x",
          "y": -475350.3797160652,
          "yref": "y"
         },
         {
          "arrowhead": 1,
          "ax": 0,
          "ay": -40,
          "showarrow": true,
          "text": "2.538 m<br>432029.046 N",
          "x": 2.5380000000000003,
          "xref": "x",
          "y": 432029.0462616208,
          "yref": "y"
         },
         {
          "arrowhead": 1,
          "ax": 0,
          "ay": 40,
          "showarrow": true,
          "text": "4.542 m<br>-50269.765 N",
          "x": 4.542,
          "xref": "x",
          "y": -50269.7646909788,
          "yref": "y"
         }
        ],
        "template": {
         "data": {
          "bar": [
           {
            "error_x": {
             "color": "#2a3f5f"
            },
            "error_y": {
             "color": "#2a3f5f"
            },
            "marker": {
             "line": {
              "color": "#E5ECF6",
              "width": 0.5
             },
             "pattern": {
              "fillmode": "overlay",
              "size": 10,
              "solidity": 0.2
             }
            },
            "type": "bar"
           }
          ],
          "barpolar": [
           {
            "marker": {
             "line": {
              "color": "#E5ECF6",
              "width": 0.5
             },
             "pattern": {
              "fillmode": "overlay",
              "size": 10,
              "solidity": 0.2
             }
            },
            "type": "barpolar"
           }
          ],
          "carpet": [
           {
            "aaxis": {
             "endlinecolor": "#2a3f5f",
             "gridcolor": "white",
             "linecolor": "white",
             "minorgridcolor": "white",
             "startlinecolor": "#2a3f5f"
            },
            "baxis": {
             "endlinecolor": "#2a3f5f",
             "gridcolor": "white",
             "linecolor": "white",
             "minorgridcolor": "white",
             "startlinecolor": "#2a3f5f"
            },
            "type": "carpet"
           }
          ],
          "choropleth": [
           {
            "colorbar": {
             "outlinewidth": 0,
             "ticks": ""
            },
            "type": "choropleth"
           }
          ],
          "contour": [
           {
            "colorbar": {
             "outlinewidth": 0,
             "ticks": ""
            },
            "colorscale": [
             [
              0,
              "#0d0887"
             ],
             [
              0.1111111111111111,
              "#46039f"
             ],
             [
              0.2222222222222222,
              "#7201a8"
             ],
             [
              0.3333333333333333,
              "#9c179e"
             ],
             [
              0.4444444444444444,
              "#bd3786"
             ],
             [
              0.5555555555555556,
              "#d8576b"
             ],
             [
              0.6666666666666666,
              "#ed7953"
             ],
             [
              0.7777777777777778,
              "#fb9f3a"
             ],
             [
              0.8888888888888888,
              "#fdca26"
             ],
             [
              1,
              "#f0f921"
             ]
            ],
            "type": "contour"
           }
          ],
          "contourcarpet": [
           {
            "colorbar": {
             "outlinewidth": 0,
             "ticks": ""
            },
            "type": "contourcarpet"
           }
          ],
          "heatmap": [
           {
            "colorbar": {
             "outlinewidth": 0,
             "ticks": ""
            },
            "colorscale": [
             [
              0,
              "#0d0887"
             ],
             [
              0.1111111111111111,
              "#46039f"
             ],
             [
              0.2222222222222222,
              "#7201a8"
             ],
             [
              0.3333333333333333,
              "#9c179e"
             ],
             [
              0.4444444444444444,
              "#bd3786"
             ],
             [
              0.5555555555555556,
              "#d8576b"
             ],
             [
              0.6666666666666666,
              "#ed7953"
             ],
             [
              0.7777777777777778,
              "#fb9f3a"
             ],
             [
              0.8888888888888888,
              "#fdca26"
             ],
             [
              1,
              "#f0f921"
             ]
            ],
            "type": "heatmap"
           }
          ],
          "heatmapgl": [
           {
            "colorbar": {
             "outlinewidth": 0,
             "ticks": ""
            },
            "colorscale": [
             [
              0,
              "#0d0887"
             ],
             [
              0.1111111111111111,
              "#46039f"
             ],
             [
              0.2222222222222222,
              "#7201a8"
             ],
             [
              0.3333333333333333,
              "#9c179e"
             ],
             [
              0.4444444444444444,
              "#bd3786"
             ],
             [
              0.5555555555555556,
              "#d8576b"
             ],
             [
              0.6666666666666666,
              "#ed7953"
             ],
             [
              0.7777777777777778,
              "#fb9f3a"
             ],
             [
              0.8888888888888888,
              "#fdca26"
             ],
             [
              1,
              "#f0f921"
             ]
            ],
            "type": "heatmapgl"
           }
          ],
          "histogram": [
           {
            "marker": {
             "pattern": {
              "fillmode": "overlay",
              "size": 10,
              "solidity": 0.2
             }
            },
            "type": "histogram"
           }
          ],
          "histogram2d": [
           {
            "colorbar": {
             "outlinewidth": 0,
             "ticks": ""
            },
            "colorscale": [
             [
              0,
              "#0d0887"
             ],
             [
              0.1111111111111111,
              "#46039f"
             ],
             [
              0.2222222222222222,
              "#7201a8"
             ],
             [
              0.3333333333333333,
              "#9c179e"
             ],
             [
              0.4444444444444444,
              "#bd3786"
             ],
             [
              0.5555555555555556,
              "#d8576b"
             ],
             [
              0.6666666666666666,
              "#ed7953"
             ],
             [
              0.7777777777777778,
              "#fb9f3a"
             ],
             [
              0.8888888888888888,
              "#fdca26"
             ],
             [
              1,
              "#f0f921"
             ]
            ],
            "type": "histogram2d"
           }
          ],
          "histogram2dcontour": [
           {
            "colorbar": {
             "outlinewidth": 0,
             "ticks": ""
            },
            "colorscale": [
             [
              0,
              "#0d0887"
             ],
             [
              0.1111111111111111,
              "#46039f"
             ],
             [
              0.2222222222222222,
              "#7201a8"
             ],
             [
              0.3333333333333333,
              "#9c179e"
             ],
             [
              0.4444444444444444,
              "#bd3786"
             ],
             [
              0.5555555555555556,
              "#d8576b"
             ],
             [
              0.6666666666666666,
              "#ed7953"
             ],
             [
              0.7777777777777778,
              "#fb9f3a"
             ],
             [
              0.8888888888888888,
              "#fdca26"
             ],
             [
              1,
              "#f0f921"
             ]
            ],
            "type": "histogram2dcontour"
           }
          ],
          "mesh3d": [
           {
            "colorbar": {
             "outlinewidth": 0,
             "ticks": ""
            },
            "type": "mesh3d"
           }
          ],
          "parcoords": [
           {
            "line": {
             "colorbar": {
              "outlinewidth": 0,
              "ticks": ""
             }
            },
            "type": "parcoords"
           }
          ],
          "pie": [
           {
            "automargin": true,
            "type": "pie"
           }
          ],
          "scatter": [
           {
            "marker": {
             "colorbar": {
              "outlinewidth": 0,
              "ticks": ""
             }
            },
            "type": "scatter"
           }
          ],
          "scatter3d": [
           {
            "line": {
             "colorbar": {
              "outlinewidth": 0,
              "ticks": ""
             }
            },
            "marker": {
             "colorbar": {
              "outlinewidth": 0,
              "ticks": ""
             }
            },
            "type": "scatter3d"
           }
          ],
          "scattercarpet": [
           {
            "marker": {
             "colorbar": {
              "outlinewidth": 0,
              "ticks": ""
             }
            },
            "type": "scattercarpet"
           }
          ],
          "scattergeo": [
           {
            "marker": {
             "colorbar": {
              "outlinewidth": 0,
              "ticks": ""
             }
            },
            "type": "scattergeo"
           }
          ],
          "scattergl": [
           {
            "marker": {
             "colorbar": {
              "outlinewidth": 0,
              "ticks": ""
             }
            },
            "type": "scattergl"
           }
          ],
          "scattermapbox": [
           {
            "marker": {
             "colorbar": {
              "outlinewidth": 0,
              "ticks": ""
             }
            },
            "type": "scattermapbox"
           }
          ],
          "scatterpolar": [
           {
            "marker": {
             "colorbar": {
              "outlinewidth": 0,
              "ticks": ""
             }
            },
            "type": "scatterpolar"
           }
          ],
          "scatterpolargl": [
           {
            "marker": {
             "colorbar": {
              "outlinewidth": 0,
              "ticks": ""
             }
            },
            "type": "scatterpolargl"
           }
          ],
          "scatterternary": [
           {
            "marker": {
             "colorbar": {
              "outlinewidth": 0,
              "ticks": ""
             }
            },
            "type": "scatterternary"
           }
          ],
          "surface": [
           {
            "colorbar": {
             "outlinewidth": 0,
             "ticks": ""
            },
            "colorscale": [
             [
              0,
              "#0d0887"
             ],
             [
              0.1111111111111111,
              "#46039f"
             ],
             [
              0.2222222222222222,
              "#7201a8"
             ],
             [
              0.3333333333333333,
              "#9c179e"
             ],
             [
              0.4444444444444444,
              "#bd3786"
             ],
             [
              0.5555555555555556,
              "#d8576b"
             ],
             [
              0.6666666666666666,
              "#ed7953"
             ],
             [
              0.7777777777777778,
              "#fb9f3a"
             ],
             [
              0.8888888888888888,
              "#fdca26"
             ],
             [
              1,
              "#f0f921"
             ]
            ],
            "type": "surface"
           }
          ],
          "table": [
           {
            "cells": {
             "fill": {
              "color": "#EBF0F8"
             },
             "line": {
              "color": "white"
             }
            },
            "header": {
             "fill": {
              "color": "#C8D4E3"
             },
             "line": {
              "color": "white"
             }
            },
            "type": "table"
           }
          ]
         },
         "layout": {
          "annotationdefaults": {
           "arrowcolor": "#2a3f5f",
           "arrowhead": 0,
           "arrowwidth": 1
          },
          "autotypenumbers": "strict",
          "coloraxis": {
           "colorbar": {
            "outlinewidth": 0,
            "ticks": ""
           }
          },
          "colorscale": {
           "diverging": [
            [
             0,
             "#8e0152"
            ],
            [
             0.1,
             "#c51b7d"
            ],
            [
             0.2,
             "#de77ae"
            ],
            [
             0.3,
             "#f1b6da"
            ],
            [
             0.4,
             "#fde0ef"
            ],
            [
             0.5,
             "#f7f7f7"
            ],
            [
             0.6,
             "#e6f5d0"
            ],
            [
             0.7,
             "#b8e186"
            ],
            [
             0.8,
             "#7fbc41"
            ],
            [
             0.9,
             "#4d9221"
            ],
            [
             1,
             "#276419"
            ]
           ],
           "sequential": [
            [
             0,
             "#0d0887"
            ],
            [
             0.1111111111111111,
             "#46039f"
            ],
            [
             0.2222222222222222,
             "#7201a8"
            ],
            [
             0.3333333333333333,
             "#9c179e"
            ],
            [
             0.4444444444444444,
             "#bd3786"
            ],
            [
             0.5555555555555556,
             "#d8576b"
            ],
            [
             0.6666666666666666,
             "#ed7953"
            ],
            [
             0.7777777777777778,
             "#fb9f3a"
            ],
            [
             0.8888888888888888,
             "#fdca26"
            ],
            [
             1,
             "#f0f921"
            ]
           ],
           "sequentialminus": [
            [
             0,
             "#0d0887"
            ],
            [
             0.1111111111111111,
             "#46039f"
            ],
            [
             0.2222222222222222,
             "#7201a8"
            ],
            [
             0.3333333333333333,
             "#9c179e"
            ],
            [
             0.4444444444444444,
             "#bd3786"
            ],
            [
             0.5555555555555556,
             "#d8576b"
            ],
            [
             0.6666666666666666,
             "#ed7953"
            ],
            [
             0.7777777777777778,
             "#fb9f3a"
            ],
            [
             0.8888888888888888,
             "#fdca26"
            ],
            [
             1,
             "#f0f921"
            ]
           ]
          },
          "colorway": [
           "#636efa",
           "#EF553B",
           "#00cc96",
           "#ab63fa",
           "#FFA15A",
           "#19d3f3",
           "#FF6692",
           "#B6E880",
           "#FF97FF",
           "#FECB52"
          ],
          "font": {
           "color": "#2a3f5f"
          },
          "geo": {
           "bgcolor": "white",
           "lakecolor": "white",
           "landcolor": "#E5ECF6",
           "showlakes": true,
           "showland": true,
           "subunitcolor": "white"
          },
          "hoverlabel": {
           "align": "left"
          },
          "hovermode": "closest",
          "mapbox": {
           "style": "light"
          },
          "paper_bgcolor": "white",
          "plot_bgcolor": "#E5ECF6",
          "polar": {
           "angularaxis": {
            "gridcolor": "white",
            "linecolor": "white",
            "ticks": ""
           },
           "bgcolor": "#E5ECF6",
           "radialaxis": {
            "gridcolor": "white",
            "linecolor": "white",
            "ticks": ""
           }
          },
          "scene": {
           "xaxis": {
            "backgroundcolor": "#E5ECF6",
            "gridcolor": "white",
            "gridwidth": 2,
            "linecolor": "white",
            "showbackground": true,
            "ticks": "",
            "zerolinecolor": "white"
           },
           "yaxis": {
            "backgroundcolor": "#E5ECF6",
            "gridcolor": "white",
            "gridwidth": 2,
            "linecolor": "white",
            "showbackground": true,
            "ticks": "",
            "zerolinecolor": "white"
           },
           "zaxis": {
            "backgroundcolor": "#E5ECF6",
            "gridcolor": "white",
            "gridwidth": 2,
            "linecolor": "white",
            "showbackground": true,
            "ticks": "",
            "zerolinecolor": "white"
           }
          },
          "shapedefaults": {
           "line": {
            "color": "#2a3f5f"
           }
          },
          "ternary": {
           "aaxis": {
            "gridcolor": "white",
            "linecolor": "white",
            "ticks": ""
           },
           "baxis": {
            "gridcolor": "white",
            "linecolor": "white",
            "ticks": ""
           },
           "bgcolor": "#E5ECF6",
           "caxis": {
            "gridcolor": "white",
            "linecolor": "white",
            "ticks": ""
           }
          },
          "title": {
           "x": 0.05
          },
          "xaxis": {
           "automargin": true,
           "gridcolor": "white",
           "linecolor": "white",
           "ticks": "",
           "title": {
            "standoff": 15
           },
           "zerolinecolor": "white",
           "zerolinewidth": 2
          },
          "yaxis": {
           "automargin": true,
           "gridcolor": "white",
           "linecolor": "white",
           "ticks": "",
           "title": {
            "standoff": 15
           },
           "zerolinecolor": "white",
           "zerolinewidth": 2
          }
         }
        },
        "title": {
         "font": {
          "size": 30
         },
         "text": "Shear Force Plot"
        },
        "xaxis": {
         "title": {
          "text": "Foundation length"
         }
        },
        "yaxis": {
         "title": {
          "text": "Shear Force (N)"
         }
        }
       }
      }
     },
     "metadata": {},
     "output_type": "display_data"
    }
   ],
   "source": [
    "comb_footing_design.plot_shear_force_X()\n"
   ]
  },
  {
   "cell_type": "markdown",
   "metadata": {},
   "source": [
    "#### Show the shear force diagram in Y direction showing the design shear forces"
   ]
  },
  {
   "cell_type": "code",
   "execution_count": 19,
   "metadata": {},
   "outputs": [
    {
     "data": {
      "application/vnd.plotly.v1+json": {
       "config": {
        "plotlyServerURL": "https://plot.ly"
       },
       "data": [
        {
         "fill": "tozeroy",
         "hovertemplate": "x: %{x:.3f} %{meta[0]}<br>f(x): %{y:.3f} %{meta[1]}",
         "line": {
          "color": "aqua",
          "width": 1
         },
         "meta": [
          "m",
          "N"
         ],
         "mode": "lines",
         "name": "Shear Force",
         "type": "scatter",
         "x": [
          0,
          1e-7,
          0.011557788944723616,
          0.023115577889447233,
          0.03467336683417085,
          0.046231155778894466,
          0.057788944723618084,
          0.0693467336683417,
          0.08090452261306531,
          0.09246231155778893,
          0.10402010050251255,
          0.11557788944723617,
          0.12713567839195977,
          0.1386934673366834,
          0.150251256281407,
          0.16180904522613063,
          0.17336683417085424,
          0.18492462311557786,
          0.19648241206030148,
          0.2080402010050251,
          0.21959798994974872,
          0.23115577889447234,
          0.24271356783919595,
          0.25427135678391954,
          0.2658291457286432,
          0.2773869346733668,
          0.2889447236180904,
          0.300502512562814,
          0.31206030150753766,
          0.32361809045226125,
          0.3351758793969849,
          0.3467336683417085,
          0.35829145728643214,
          0.3698492462311557,
          0.3814070351758793,
          0.39296482412060296,
          0.40452261306532655,
          0.4160804020100502,
          0.4276381909547738,
          0.43919597989949744,
          0.450753768844221,
          0.46231155778894467,
          0.47386934673366826,
          0.4854271356783919,
          0.4969849246231155,
          0.5085427135678391,
          0.5201005025125628,
          0.5316582914572864,
          0.54321608040201,
          0.5547738693467336,
          0.5663316582914572,
          0.5778894472361809,
          0.5894472361809044,
          0.601005025125628,
          0.6125628140703516,
          0.6241206030150753,
          0.6356783919597989,
          0.6472361809045225,
          0.6587939698492461,
          0.6703517587939698,
          0.6819095477386934,
          0.693467336683417,
          0.7050251256281406,
          0.7165829145728643,
          0.7281407035175879,
          0.7396984924623115,
          0.751256281407035,
          0.7628140703517586,
          0.7743718592964823,
          0.7859296482412059,
          0.7974874371859295,
          0.8090452261306531,
          0.8206030150753768,
          0.8321608040201004,
          0.843718592964824,
          0.8552763819095476,
          0.8668341708542713,
          0.8783919597989949,
          0.8899497487437185,
          0.901507537688442,
          0.9130653266331658,
          0.9246231155778893,
          0.9361809045226129,
          0.9477386934673365,
          0.9592964824120601,
          0.9708542713567838,
          0.9824120603015074,
          0.993969849246231,
          1.0055276381909546,
          1.0170854271356782,
          1.0286432160804018,
          1.0402010050251256,
          1.0517587939698492,
          1.0633165829145728,
          1.0748743718592964,
          1.08643216080402,
          1.0979899497487435,
          1.1095477386934671,
          1.1211055276381907,
          1.1326633165829143,
          1.1442211055276381,
          1.1449999,
          1.1450001,
          1.1499998999999999,
          1.1500001,
          1.1557788944723617,
          1.1673366834170853,
          1.1788944723618089,
          1.1904522613065325,
          1.202010050251256,
          1.2135678391959797,
          1.2251256281407032,
          1.236683417085427,
          1.2482412060301507,
          1.2597989949748742,
          1.2713567839195978,
          1.2829145728643214,
          1.294472361809045,
          1.3060301507537686,
          1.3175879396984922,
          1.3291457286432158,
          1.3407035175879396,
          1.3522613065326632,
          1.3638190954773868,
          1.3753768844221104,
          1.386934673366834,
          1.3984924623115575,
          1.4100502512562811,
          1.4216080402010047,
          1.4331658291457285,
          1.4447236180904521,
          1.4562814070351757,
          1.4678391959798993,
          1.479396984924623,
          1.4909547738693465,
          1.50251256281407,
          1.5140703517587937,
          1.5256281407035173,
          1.537185929648241,
          1.5487437185929647,
          1.5603015075376883,
          1.5718592964824118,
          1.5834170854271354,
          1.594974874371859,
          1.6065326633165826,
          1.6180904522613062,
          1.62964824120603,
          1.6412060301507536,
          1.6527638190954772,
          1.6643216080402008,
          1.6758793969849244,
          1.687437185929648,
          1.6989949748743716,
          1.7105527638190952,
          1.7221105527638187,
          1.7336683417085426,
          1.7452261306532662,
          1.7567839195979897,
          1.7683417085427133,
          1.779899497487437,
          1.7914572864321605,
          1.803015075376884,
          1.8145728643216077,
          1.8261306532663315,
          1.837688442211055,
          1.8492462311557787,
          1.8608040201005023,
          1.8723618090452259,
          1.8839195979899495,
          1.895477386934673,
          1.9070351758793966,
          1.9185929648241202,
          1.930150753768844,
          1.9417085427135676,
          1.9532663316582912,
          1.9648241206030148,
          1.9763819095477384,
          1.987939698492462,
          1.9994974874371856,
          2.011055276381909,
          2.0226130653266328,
          2.0341708542713564,
          2.04572864321608,
          2.0572864321608035,
          2.068844221105527,
          2.080402010050251,
          2.0919597989949748,
          2.1035175879396983,
          2.115075376884422,
          2.1266331658291455,
          2.138190954773869,
          2.1497487437185927,
          2.1613065326633163,
          2.17286432160804,
          2.1844221105527635,
          2.195979899497487,
          2.2075376884422107,
          2.2190954773869342,
          2.230653266331658,
          2.2422110552763814,
          2.253768844221105,
          2.2653266331658286,
          2.2768844221105526,
          2.2884422110552762,
          2.2999999,
          2.3
         ],
         "y": [
          0,
          0.1748050999423087,
          20202.833867831618,
          40404.126426100345,
          60603.87767480618,
          80802.08761394913,
          100998.75624352919,
          121193.88356354635,
          141387.46957400063,
          161579.51427489202,
          181770.01766622052,
          201958.97974798613,
          222146.40052018882,
          242332.27998282868,
          262516.6181359056,
          282699.4149794196,
          302880.67051337083,
          323060.38473775913,
          343238.55765258445,
          363415.18925784697,
          383590.2795535466,
          403763.8285396833,
          423935.8362162571,
          444106.30258326797,
          464275.2276407161,
          484442.6113886012,
          504608.4538269235,
          524772.7549556828,
          544935.5147748793,
          565096.7332845129,
          585256.4104845836,
          605414.5463750915,
          625571.1409560364,
          645726.1942274184,
          665879.7061892375,
          686031.6768414938,
          706182.1061841871,
          726330.9942173176,
          746478.3409408852,
          766624.14635489,
          786768.4104593317,
          806911.1332542107,
          827052.3147395266,
          847191.9549152799,
          867330.0537814699,
          887466.6113380973,
          907601.627585162,
          927735.1025226635,
          947867.0361506022,
          967997.4284689779,
          988126.2794777907,
          1008253.5891770408,
          1028379.3575667279,
          1048503.5846468521,
          1068626.2704174134,
          1088747.414878412,
          1108867.0180298476,
          1128985.0798717202,
          1149101.60040403,
          1169216.579626777,
          1189330.017539961,
          1209441.914143582,
          1229552.2694376402,
          1249661.0834221358,
          1269768.356097068,
          1289874.0874624376,
          1309978.2775182445,
          1330080.926264488,
          1350182.033701169,
          1370281.599828287,
          1390379.624645842,
          1410476.1081538342,
          1430571.0503522637,
          1450664.45124113,
          1470756.3108204335,
          1490846.6290901743,
          1510935.4060503521,
          1531022.641700967,
          1551108.3360420188,
          1571192.489073508,
          1591275.1007954343,
          1611356.1712077977,
          1631435.700310598,
          1651513.6881038356,
          1671590.1345875103,
          1691665.039761622,
          1711738.403626171,
          1731810.2261811567,
          1751880.50742658,
          1771949.2473624398,
          1792016.4459887373,
          1812082.1033054718,
          1832146.2193126434,
          1852208.7940102522,
          1872269.8273982978,
          1892329.3194767807,
          1912387.2702457004,
          1932443.6797050575,
          1952498.547854852,
          1972551.874695083,
          1992603.6602257516,
          1993954.7472877698,
          -4336.866681791705,
          4336.840584299774,
          -1987369.4530843,
          -1977344.6971156427,
          -1957295.9942041,
          -1937248.8326021205,
          -1917203.2123097037,
          -1897159.13332685,
          -1877116.5956535586,
          -1857075.5992898305,
          -1837036.144235665,
          -1816998.2304910626,
          -1796961.858056023,
          -1776927.0269305464,
          -1756893.737114633,
          -1736861.9886082823,
          -1716831.7814114941,
          -1696803.1155242692,
          -1676775.9909466072,
          -1656750.4076785075,
          -1636726.3657199708,
          -1616703.8650709975,
          -1596682.9057315872,
          -1576663.4877017392,
          -1556645.6109814544,
          -1536629.2755707328,
          -1516614.4814695735,
          -1496601.2286779769,
          -1476589.5171959437,
          -1456579.3470234736,
          -1436570.718160566,
          -1416563.6306072215,
          -1396558.0843634398,
          -1376554.0794292209,
          -1356551.6158045651,
          -1336550.6934894721,
          -1316551.3124839417,
          -1296553.4727879742,
          -1276557.1744015699,
          -1256562.4173247286,
          -1236569.2015574502,
          -1216577.5270997342,
          -1196587.3939515816,
          -1176598.802112992,
          -1156611.7515839646,
          -1136626.2423645002,
          -1116642.274454599,
          -1096659.8478542608,
          -1076678.9625634851,
          -1056699.6185822727,
          -1036721.8159106232,
          -1016745.5545485361,
          -996770.8344960123,
          -976797.655753051,
          -956826.0183196531,
          -936855.9221958176,
          -916887.3673815454,
          -896920.353876836,
          -876954.8816816892,
          -856990.9507961057,
          -837028.561220085,
          -817067.7129536269,
          -797108.4059967316,
          -777150.6403493996,
          -757194.4160116306,
          -737239.7329834244,
          -717286.5912647806,
          -697334.9908557002,
          -677384.9317561828,
          -657436.4139662277,
          -637489.4374858355,
          -617544.0023150067,
          -597600.1084537407,
          -577657.7559020373,
          -557716.944659897,
          -537777.6747273197,
          -517839.9461043049,
          -497903.75879085343,
          -477969.1127869648,
          -458036.0080926391,
          -438104.44470787584,
          -418174.4226326759,
          -398245.94186703884,
          -378319.00241096376,
          -358393.604264452,
          -338469.74742750364,
          -318547.4319001182,
          -298626.65768229513,
          -278707.4247740354,
          -258789.7331753386,
          -238873.58288620468,
          -218958.97390663315,
          -199045.90623662501,
          -179134.37987617977,
          -159224.39482529694,
          -139315.95108397744,
          -119409.04865222087,
          -99503.68753002671,
          -79599.8677173959,
          -59697.589214327985,
          -39796.85202082204,
          -19897.6561368799,
          -0.17371379986070679,
          -0.0015625001869921107
         ]
        }
       ],
       "layout": {
        "annotations": [
         {
          "arrowhead": 1,
          "ax": 0,
          "ay": -40,
          "showarrow": true,
          "text": "0.214 m<br>373818.885 N",
          "x": 0.21399999999999986,
          "xref": "x",
          "y": 373818.8854607896,
          "yref": "y"
         },
         {
          "arrowhead": 1,
          "ax": 0,
          "ay": 40,
          "showarrow": true,
          "text": "2.086 m<br>-368668.159 N",
          "x": 2.086,
          "xref": "x",
          "y": -368668.1590581103,
          "yref": "y"
         },
         {
          "arrowhead": 1,
          "ax": 0,
          "ay": -40,
          "showarrow": true,
          "text": "0.159 m<br>277794.434 N",
          "x": 0.15900000000000003,
          "xref": "x",
          "y": 277794.4342351199,
          "yref": "y"
         },
         {
          "arrowhead": 1,
          "ax": 0,
          "ay": 40,
          "showarrow": true,
          "text": "2.131 m<br>-291100.643 N",
          "x": 2.1310000000000002,
          "xref": "x",
          "y": -291100.6430431438,
          "yref": "y"
         }
        ],
        "template": {
         "data": {
          "bar": [
           {
            "error_x": {
             "color": "#2a3f5f"
            },
            "error_y": {
             "color": "#2a3f5f"
            },
            "marker": {
             "line": {
              "color": "#E5ECF6",
              "width": 0.5
             },
             "pattern": {
              "fillmode": "overlay",
              "size": 10,
              "solidity": 0.2
             }
            },
            "type": "bar"
           }
          ],
          "barpolar": [
           {
            "marker": {
             "line": {
              "color": "#E5ECF6",
              "width": 0.5
             },
             "pattern": {
              "fillmode": "overlay",
              "size": 10,
              "solidity": 0.2
             }
            },
            "type": "barpolar"
           }
          ],
          "carpet": [
           {
            "aaxis": {
             "endlinecolor": "#2a3f5f",
             "gridcolor": "white",
             "linecolor": "white",
             "minorgridcolor": "white",
             "startlinecolor": "#2a3f5f"
            },
            "baxis": {
             "endlinecolor": "#2a3f5f",
             "gridcolor": "white",
             "linecolor": "white",
             "minorgridcolor": "white",
             "startlinecolor": "#2a3f5f"
            },
            "type": "carpet"
           }
          ],
          "choropleth": [
           {
            "colorbar": {
             "outlinewidth": 0,
             "ticks": ""
            },
            "type": "choropleth"
           }
          ],
          "contour": [
           {
            "colorbar": {
             "outlinewidth": 0,
             "ticks": ""
            },
            "colorscale": [
             [
              0,
              "#0d0887"
             ],
             [
              0.1111111111111111,
              "#46039f"
             ],
             [
              0.2222222222222222,
              "#7201a8"
             ],
             [
              0.3333333333333333,
              "#9c179e"
             ],
             [
              0.4444444444444444,
              "#bd3786"
             ],
             [
              0.5555555555555556,
              "#d8576b"
             ],
             [
              0.6666666666666666,
              "#ed7953"
             ],
             [
              0.7777777777777778,
              "#fb9f3a"
             ],
             [
              0.8888888888888888,
              "#fdca26"
             ],
             [
              1,
              "#f0f921"
             ]
            ],
            "type": "contour"
           }
          ],
          "contourcarpet": [
           {
            "colorbar": {
             "outlinewidth": 0,
             "ticks": ""
            },
            "type": "contourcarpet"
           }
          ],
          "heatmap": [
           {
            "colorbar": {
             "outlinewidth": 0,
             "ticks": ""
            },
            "colorscale": [
             [
              0,
              "#0d0887"
             ],
             [
              0.1111111111111111,
              "#46039f"
             ],
             [
              0.2222222222222222,
              "#7201a8"
             ],
             [
              0.3333333333333333,
              "#9c179e"
             ],
             [
              0.4444444444444444,
              "#bd3786"
             ],
             [
              0.5555555555555556,
              "#d8576b"
             ],
             [
              0.6666666666666666,
              "#ed7953"
             ],
             [
              0.7777777777777778,
              "#fb9f3a"
             ],
             [
              0.8888888888888888,
              "#fdca26"
             ],
             [
              1,
              "#f0f921"
             ]
            ],
            "type": "heatmap"
           }
          ],
          "heatmapgl": [
           {
            "colorbar": {
             "outlinewidth": 0,
             "ticks": ""
            },
            "colorscale": [
             [
              0,
              "#0d0887"
             ],
             [
              0.1111111111111111,
              "#46039f"
             ],
             [
              0.2222222222222222,
              "#7201a8"
             ],
             [
              0.3333333333333333,
              "#9c179e"
             ],
             [
              0.4444444444444444,
              "#bd3786"
             ],
             [
              0.5555555555555556,
              "#d8576b"
             ],
             [
              0.6666666666666666,
              "#ed7953"
             ],
             [
              0.7777777777777778,
              "#fb9f3a"
             ],
             [
              0.8888888888888888,
              "#fdca26"
             ],
             [
              1,
              "#f0f921"
             ]
            ],
            "type": "heatmapgl"
           }
          ],
          "histogram": [
           {
            "marker": {
             "pattern": {
              "fillmode": "overlay",
              "size": 10,
              "solidity": 0.2
             }
            },
            "type": "histogram"
           }
          ],
          "histogram2d": [
           {
            "colorbar": {
             "outlinewidth": 0,
             "ticks": ""
            },
            "colorscale": [
             [
              0,
              "#0d0887"
             ],
             [
              0.1111111111111111,
              "#46039f"
             ],
             [
              0.2222222222222222,
              "#7201a8"
             ],
             [
              0.3333333333333333,
              "#9c179e"
             ],
             [
              0.4444444444444444,
              "#bd3786"
             ],
             [
              0.5555555555555556,
              "#d8576b"
             ],
             [
              0.6666666666666666,
              "#ed7953"
             ],
             [
              0.7777777777777778,
              "#fb9f3a"
             ],
             [
              0.8888888888888888,
              "#fdca26"
             ],
             [
              1,
              "#f0f921"
             ]
            ],
            "type": "histogram2d"
           }
          ],
          "histogram2dcontour": [
           {
            "colorbar": {
             "outlinewidth": 0,
             "ticks": ""
            },
            "colorscale": [
             [
              0,
              "#0d0887"
             ],
             [
              0.1111111111111111,
              "#46039f"
             ],
             [
              0.2222222222222222,
              "#7201a8"
             ],
             [
              0.3333333333333333,
              "#9c179e"
             ],
             [
              0.4444444444444444,
              "#bd3786"
             ],
             [
              0.5555555555555556,
              "#d8576b"
             ],
             [
              0.6666666666666666,
              "#ed7953"
             ],
             [
              0.7777777777777778,
              "#fb9f3a"
             ],
             [
              0.8888888888888888,
              "#fdca26"
             ],
             [
              1,
              "#f0f921"
             ]
            ],
            "type": "histogram2dcontour"
           }
          ],
          "mesh3d": [
           {
            "colorbar": {
             "outlinewidth": 0,
             "ticks": ""
            },
            "type": "mesh3d"
           }
          ],
          "parcoords": [
           {
            "line": {
             "colorbar": {
              "outlinewidth": 0,
              "ticks": ""
             }
            },
            "type": "parcoords"
           }
          ],
          "pie": [
           {
            "automargin": true,
            "type": "pie"
           }
          ],
          "scatter": [
           {
            "marker": {
             "colorbar": {
              "outlinewidth": 0,
              "ticks": ""
             }
            },
            "type": "scatter"
           }
          ],
          "scatter3d": [
           {
            "line": {
             "colorbar": {
              "outlinewidth": 0,
              "ticks": ""
             }
            },
            "marker": {
             "colorbar": {
              "outlinewidth": 0,
              "ticks": ""
             }
            },
            "type": "scatter3d"
           }
          ],
          "scattercarpet": [
           {
            "marker": {
             "colorbar": {
              "outlinewidth": 0,
              "ticks": ""
             }
            },
            "type": "scattercarpet"
           }
          ],
          "scattergeo": [
           {
            "marker": {
             "colorbar": {
              "outlinewidth": 0,
              "ticks": ""
             }
            },
            "type": "scattergeo"
           }
          ],
          "scattergl": [
           {
            "marker": {
             "colorbar": {
              "outlinewidth": 0,
              "ticks": ""
             }
            },
            "type": "scattergl"
           }
          ],
          "scattermapbox": [
           {
            "marker": {
             "colorbar": {
              "outlinewidth": 0,
              "ticks": ""
             }
            },
            "type": "scattermapbox"
           }
          ],
          "scatterpolar": [
           {
            "marker": {
             "colorbar": {
              "outlinewidth": 0,
              "ticks": ""
             }
            },
            "type": "scatterpolar"
           }
          ],
          "scatterpolargl": [
           {
            "marker": {
             "colorbar": {
              "outlinewidth": 0,
              "ticks": ""
             }
            },
            "type": "scatterpolargl"
           }
          ],
          "scatterternary": [
           {
            "marker": {
             "colorbar": {
              "outlinewidth": 0,
              "ticks": ""
             }
            },
            "type": "scatterternary"
           }
          ],
          "surface": [
           {
            "colorbar": {
             "outlinewidth": 0,
             "ticks": ""
            },
            "colorscale": [
             [
              0,
              "#0d0887"
             ],
             [
              0.1111111111111111,
              "#46039f"
             ],
             [
              0.2222222222222222,
              "#7201a8"
             ],
             [
              0.3333333333333333,
              "#9c179e"
             ],
             [
              0.4444444444444444,
              "#bd3786"
             ],
             [
              0.5555555555555556,
              "#d8576b"
             ],
             [
              0.6666666666666666,
              "#ed7953"
             ],
             [
              0.7777777777777778,
              "#fb9f3a"
             ],
             [
              0.8888888888888888,
              "#fdca26"
             ],
             [
              1,
              "#f0f921"
             ]
            ],
            "type": "surface"
           }
          ],
          "table": [
           {
            "cells": {
             "fill": {
              "color": "#EBF0F8"
             },
             "line": {
              "color": "white"
             }
            },
            "header": {
             "fill": {
              "color": "#C8D4E3"
             },
             "line": {
              "color": "white"
             }
            },
            "type": "table"
           }
          ]
         },
         "layout": {
          "annotationdefaults": {
           "arrowcolor": "#2a3f5f",
           "arrowhead": 0,
           "arrowwidth": 1
          },
          "autotypenumbers": "strict",
          "coloraxis": {
           "colorbar": {
            "outlinewidth": 0,
            "ticks": ""
           }
          },
          "colorscale": {
           "diverging": [
            [
             0,
             "#8e0152"
            ],
            [
             0.1,
             "#c51b7d"
            ],
            [
             0.2,
             "#de77ae"
            ],
            [
             0.3,
             "#f1b6da"
            ],
            [
             0.4,
             "#fde0ef"
            ],
            [
             0.5,
             "#f7f7f7"
            ],
            [
             0.6,
             "#e6f5d0"
            ],
            [
             0.7,
             "#b8e186"
            ],
            [
             0.8,
             "#7fbc41"
            ],
            [
             0.9,
             "#4d9221"
            ],
            [
             1,
             "#276419"
            ]
           ],
           "sequential": [
            [
             0,
             "#0d0887"
            ],
            [
             0.1111111111111111,
             "#46039f"
            ],
            [
             0.2222222222222222,
             "#7201a8"
            ],
            [
             0.3333333333333333,
             "#9c179e"
            ],
            [
             0.4444444444444444,
             "#bd3786"
            ],
            [
             0.5555555555555556,
             "#d8576b"
            ],
            [
             0.6666666666666666,
             "#ed7953"
            ],
            [
             0.7777777777777778,
             "#fb9f3a"
            ],
            [
             0.8888888888888888,
             "#fdca26"
            ],
            [
             1,
             "#f0f921"
            ]
           ],
           "sequentialminus": [
            [
             0,
             "#0d0887"
            ],
            [
             0.1111111111111111,
             "#46039f"
            ],
            [
             0.2222222222222222,
             "#7201a8"
            ],
            [
             0.3333333333333333,
             "#9c179e"
            ],
            [
             0.4444444444444444,
             "#bd3786"
            ],
            [
             0.5555555555555556,
             "#d8576b"
            ],
            [
             0.6666666666666666,
             "#ed7953"
            ],
            [
             0.7777777777777778,
             "#fb9f3a"
            ],
            [
             0.8888888888888888,
             "#fdca26"
            ],
            [
             1,
             "#f0f921"
            ]
           ]
          },
          "colorway": [
           "#636efa",
           "#EF553B",
           "#00cc96",
           "#ab63fa",
           "#FFA15A",
           "#19d3f3",
           "#FF6692",
           "#B6E880",
           "#FF97FF",
           "#FECB52"
          ],
          "font": {
           "color": "#2a3f5f"
          },
          "geo": {
           "bgcolor": "white",
           "lakecolor": "white",
           "landcolor": "#E5ECF6",
           "showlakes": true,
           "showland": true,
           "subunitcolor": "white"
          },
          "hoverlabel": {
           "align": "left"
          },
          "hovermode": "closest",
          "mapbox": {
           "style": "light"
          },
          "paper_bgcolor": "white",
          "plot_bgcolor": "#E5ECF6",
          "polar": {
           "angularaxis": {
            "gridcolor": "white",
            "linecolor": "white",
            "ticks": ""
           },
           "bgcolor": "#E5ECF6",
           "radialaxis": {
            "gridcolor": "white",
            "linecolor": "white",
            "ticks": ""
           }
          },
          "scene": {
           "xaxis": {
            "backgroundcolor": "#E5ECF6",
            "gridcolor": "white",
            "gridwidth": 2,
            "linecolor": "white",
            "showbackground": true,
            "ticks": "",
            "zerolinecolor": "white"
           },
           "yaxis": {
            "backgroundcolor": "#E5ECF6",
            "gridcolor": "white",
            "gridwidth": 2,
            "linecolor": "white",
            "showbackground": true,
            "ticks": "",
            "zerolinecolor": "white"
           },
           "zaxis": {
            "backgroundcolor": "#E5ECF6",
            "gridcolor": "white",
            "gridwidth": 2,
            "linecolor": "white",
            "showbackground": true,
            "ticks": "",
            "zerolinecolor": "white"
           }
          },
          "shapedefaults": {
           "line": {
            "color": "#2a3f5f"
           }
          },
          "ternary": {
           "aaxis": {
            "gridcolor": "white",
            "linecolor": "white",
            "ticks": ""
           },
           "baxis": {
            "gridcolor": "white",
            "linecolor": "white",
            "ticks": ""
           },
           "bgcolor": "#E5ECF6",
           "caxis": {
            "gridcolor": "white",
            "linecolor": "white",
            "ticks": ""
           }
          },
          "title": {
           "x": 0.05
          },
          "xaxis": {
           "automargin": true,
           "gridcolor": "white",
           "linecolor": "white",
           "ticks": "",
           "title": {
            "standoff": 15
           },
           "zerolinecolor": "white",
           "zerolinewidth": 2
          },
          "yaxis": {
           "automargin": true,
           "gridcolor": "white",
           "linecolor": "white",
           "ticks": "",
           "title": {
            "standoff": 15
           },
           "zerolinecolor": "white",
           "zerolinewidth": 2
          }
         }
        },
        "title": {
         "font": {
          "size": 30
         },
         "text": "Shear Force Plot"
        },
        "xaxis": {
         "title": {
          "text": "Foundation Width"
         }
        },
        "yaxis": {
         "title": {
          "text": "Shear Force (N)"
         }
        }
       }
      }
     },
     "metadata": {},
     "output_type": "display_data"
    }
   ],
   "source": [
    "comb_footing_design.plot_shear_force_Y()\n"
   ]
  },
  {
   "cell_type": "code",
   "execution_count": 20,
   "metadata": {},
   "outputs": [
    {
     "data": {
      "text/plain": [
       "[325.286, 465.211]"
      ]
     },
     "execution_count": 20,
     "metadata": {},
     "output_type": "execute_result"
    }
   ],
   "source": [
    "comb_footing_design.get_design_moment_X()"
   ]
  },
  {
   "cell_type": "code",
   "execution_count": 21,
   "metadata": {},
   "outputs": [
    {
     "data": {
      "text/plain": [
       "[0.0, 872.103]"
      ]
     },
     "execution_count": 21,
     "metadata": {},
     "output_type": "execute_result"
    }
   ],
   "source": [
    "comb_footing_design.get_design_moment_Y()"
   ]
  },
  {
   "cell_type": "code",
   "execution_count": 22,
   "metadata": {},
   "outputs": [
    {
     "data": {
      "text/plain": [
       "475.35"
      ]
     },
     "execution_count": 22,
     "metadata": {},
     "output_type": "execute_result"
    }
   ],
   "source": [
    "comb_footing_design.get_design_shear_force_X()"
   ]
  },
  {
   "cell_type": "code",
   "execution_count": 23,
   "metadata": {},
   "outputs": [
    {
     "data": {
      "text/plain": [
       "373.819"
      ]
     },
     "execution_count": 23,
     "metadata": {},
     "output_type": "execute_result"
    }
   ],
   "source": [
    "comb_footing_design.get_design_shear_force_Y()"
   ]
  },
  {
   "cell_type": "markdown",
   "metadata": {},
   "source": [
    "#### Show the Top reinforcement area required along the x  "
   ]
  },
  {
   "cell_type": "code",
   "execution_count": 24,
   "metadata": {},
   "outputs": [
    {
     "data": {
      "text/plain": [
       "'Provide H16mm bars spaced at 150.0mm c/c TOP. The area provided is 1340mm²/m parallel to the 4.6m side'"
      ]
     },
     "execution_count": 24,
     "metadata": {},
     "output_type": "execute_result"
    }
   ],
   "source": [
    "comb_footing_design.reinforcement_prov_flexure_X_dir_TOP()"
   ]
  },
  {
   "cell_type": "code",
   "execution_count": 25,
   "metadata": {},
   "outputs": [
    {
     "name": "stdout",
     "output_type": "stream",
     "text": [
      "The area of top steel required in the x direction is 1207.83mm²/m and \n",
      "         1207.83mm²/m bottom steel is required along x direction\n"
     ]
    }
   ],
   "source": [
    "z = comb_footing_design.area_of_steel_reqd_X_dir()\n",
    "print(\n",
    "    f\"The area of top steel required in the x direction is {z[0]}mm\\u00b2/m and \\n \\\n",
    "        {z[1]}mm\\u00b2/m bottom steel is required along x direction\"\n",
    ")"
   ]
  },
  {
   "cell_type": "code",
   "execution_count": 26,
   "metadata": {},
   "outputs": [
    {
     "data": {
      "text/plain": [
       "'Provide H16mm bars spaced at 150.0mm c/c BOTTOM .            The area provided is 1340mm²/m parallel to the                 4.6m side'"
      ]
     },
     "execution_count": 26,
     "metadata": {},
     "output_type": "execute_result"
    }
   ],
   "source": [
    "comb_footing_design.reinforcement_prov_flexure_X_dir_Bottom()"
   ]
  },
  {
   "cell_type": "markdown",
   "metadata": {},
   "source": [
    "#### Show the Top reinforcement area required along the Y directipn"
   ]
  },
  {
   "cell_type": "code",
   "execution_count": 27,
   "metadata": {},
   "outputs": [
    {
     "name": "stdout",
     "output_type": "stream",
     "text": [
      "The area of top steel required in the Y direction is 1208.04mm²/m and \n",
      "         1208.04mm²/m bottom steel is required along y direction\n"
     ]
    }
   ],
   "source": [
    "z = comb_footing_design.area_of_steel_reqd_Y_dir()\n",
    "print(\n",
    "    f\"The area of top steel required in the Y direction is {z[0]}mm\\u00b2/m and \\n \\\n",
    "        {z[1]}mm\\u00b2/m bottom steel is required along y direction\"\n",
    ")"
   ]
  },
  {
   "cell_type": "code",
   "execution_count": 28,
   "metadata": {},
   "outputs": [
    {
     "data": {
      "text/plain": [
       "'Provide H16mm bars spaced at 150.0mm c/c TOP.             The area provided is 1340mm²/m parallel to the                 2.3m side'"
      ]
     },
     "execution_count": 28,
     "metadata": {},
     "output_type": "execute_result"
    }
   ],
   "source": [
    "comb_footing_design.reinforcement_prov_flexure_Y_dir_Top()"
   ]
  },
  {
   "cell_type": "code",
   "execution_count": 29,
   "metadata": {},
   "outputs": [
    {
     "data": {
      "text/plain": [
       "'Provide H16mm bars spaced at 150.0mm c/c TOP.The area provided is 1340mm²/m parallel to the 2.3m side'"
      ]
     },
     "execution_count": 29,
     "metadata": {},
     "output_type": "execute_result"
    }
   ],
   "source": [
    "comb_footing_design.reinforcement_prov_flexure_Y_dir_Bottom()"
   ]
  },
  {
   "cell_type": "code",
   "execution_count": 30,
   "metadata": {},
   "outputs": [
    {
     "data": {
      "text/plain": [
       "3990.0"
      ]
     },
     "execution_count": 30,
     "metadata": {},
     "output_type": "execute_result"
    }
   ],
   "source": [
    "comb_footing.total_force_Z_dir_uls()"
   ]
  },
  {
   "cell_type": "code",
   "execution_count": null,
   "metadata": {},
   "outputs": [],
   "source": []
  }
 ],
 "metadata": {
  "kernelspec": {
   "display_name": "Python 3.9.7 64-bit",
   "language": "python",
   "name": "python3"
  },
  "language_info": {
   "codemirror_mode": {
    "name": "ipython",
    "version": 3
   },
   "file_extension": ".py",
   "mimetype": "text/x-python",
   "name": "python",
   "nbconvert_exporter": "python",
   "pygments_lexer": "ipython3",
   "version": "3.9.7"
  },
  "orig_nbformat": 4,
  "vscode": {
   "interpreter": {
    "hash": "f6246b25e200e4c5124e3e61789ac81350562f0761bbcf92ad9e48654207659c"
   }
  }
 },
 "nbformat": 4,
 "nbformat_minor": 2
}
